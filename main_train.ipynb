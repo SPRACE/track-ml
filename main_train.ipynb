{
 "cells": [
  {
   "cell_type": "code",
   "execution_count": null,
   "metadata": {},
   "outputs": [],
   "source": [
    "# some times Tensorflow has problems with memory growth, if that case happens run this cell.\n",
    "import tensorflow as tf\n",
    "\n",
    "gpus = tf.config.experimental.list_physical_devices('GPU')\n",
    "if gpus:\n",
    "  try:\n",
    "    # Currently, memory growth needs to be the same across GPUs\n",
    "    for gpu in gpus:\n",
    "        tf.config.experimental.set_memory_growth(gpu, True)\n",
    "        tf.config.experimental.set_virtual_device_configuration(gpu, \n",
    "        [tf.config.experimental.VirtualDeviceConfiguration(memory_limit=4096)])\n",
    "    logical_gpus = tf.config.experimental.list_logical_devices('GPU')\n",
    "    print(len(gpus), \"Physical GPUs,\", len(logical_gpus), \"Logical GPUs\")\n",
    "  except RuntimeError as e:\n",
    "    # Memory growth must be set before GPUs have been initialized\n",
    "    print(e)"
   ]
  },
  {
   "cell_type": "code",
   "execution_count": 1,
   "metadata": {},
   "outputs": [],
   "source": [
    "import sys\n",
    "import os\n",
    "import argparse\n",
    "import json\n",
    "\n",
    "from sklearn.model_selection import train_test_split\n",
    "import datetime as dt\n",
    "\n",
    "from core.data.data_loader import *\n",
    "from core.models.lstm import ModelLSTM, ModelLSTMParallel, GaussianLSTM\n",
    "from core.models.cnn import ModelCNN, ModelCNNParallel\n",
    "from core.models.mlp import ModelMLP, GaussianMLP\n",
    "from core.models.rnn import ModelRNN\n",
    "\n",
    "from core.utils.metrics import *\n",
    "from core.utils.utils import *\n",
    "\n",
    "import numpy as np\n"
   ]
  },
  {
   "cell_type": "code",
   "execution_count": 2,
   "metadata": {},
   "outputs": [],
   "source": [
    "def manage_models(config):\n",
    "    \n",
    "    type_model = config['model']['name']\n",
    "    model = None\n",
    "\n",
    "    if type_model == 'lstm': #simple LSTM\n",
    "        model = ModelLSTM(config)\n",
    "    elif type_model == 'gaussian-lstm':\n",
    "        model = GaussianLSTM(config)       \n",
    "    elif type_model == 'lstm-parallel':\n",
    "        model = ModelLSTMParallel(config)\n",
    "    elif type_model == 'cnn':\n",
    "        model = ModelCNN(config)\n",
    "    elif type_model == 'cnn-parallel':\n",
    "        model = ModelCNNParallel(config)        \n",
    "    elif type_model == 'mlp':\n",
    "        model = ModelMLP(config)\n",
    "    elif type_model == 'gaussian-mlp':\n",
    "        model = GaussianMLP(config)        \n",
    "    elif type_model == 'simple-rnn':\n",
    "        model = ModelRNN(config)        \n",
    "\n",
    "    return model\n"
   ]
  },
  {
   "cell_type": "code",
   "execution_count": 8,
   "metadata": {},
   "outputs": [
    {
     "name": "stdout",
     "output_type": "stream",
     "text": [
      "Readed\n"
     ]
    }
   ],
   "source": [
    "# reading config file\n",
    "# load configurations of model and others\n",
    "#configs = json.load(open('config_lstm_parallel_internal.json', 'r'))\n",
    "#configs = json.load(open('config_mlp_gaussian.json', 'r'))\n",
    "configs = json.load(open('config_lstm_gaussian.json', 'r'))\n",
    "\n",
    "\n",
    "# create defaults dirs\n",
    "output_bin = configs['paths']['bin_dir']\n",
    "output_path = configs['paths']['save_dir']\n",
    "output_logs = configs['paths']['log_dir']\n",
    "time_steps =  configs['model']['layers'][0]['input_timesteps']  # the number of points or hits\n",
    "t_features = configs['model']['layers'][0]['input_features']  # the number of features of a tensor\n",
    "n_features = configs['data']['features']  # the number of features of data input\n",
    "data_file = configs['data']['filename']\n",
    "split = configs['data']['train_split']  # the number of features of each hits\n",
    "cylindrical = configs['data']['cylindrical']  # set to polar or cartesian coordenates\n",
    "normalise = configs['data']['normalise'] \n",
    "num_hits = configs['data']['num_hits']\n",
    "type_norm = configs['data']['type_norm']\n",
    "points_3d = configs['data']['points_3d'] # what kind of points: (rho, eta, phi) or (eta, phi)    \n",
    "\n",
    "type_model = configs['model']['name']\n",
    "optim = configs['model']['optimizer']\n",
    "arch = configs['model']['layers']\n",
    "is_parallel = configs['model']['isparallel']\n",
    "over_write = configs['model']['overwrite']\n",
    "\n",
    "loadModel = configs['training']['load_model']\n",
    "validation_split = configs['training']['validation']\n",
    "epochs = configs['training']['epochs']\n",
    "batch = configs['training']['batch_size']\n",
    "shuffle_train = configs['training']['shuffle']\n",
    "\n",
    "#create a encryp name for dataset\n",
    "path_to, filename = os.path.split(data_file)\n",
    "\n",
    "orig_ds_name = filename\n",
    "\n",
    "encryp_ds_name = get_unique_name(orig_ds_name)\n",
    "decryp_ds_name = get_decryp_name(encryp_ds_name)\n",
    "\n",
    "output_encry = os.path.join(output_path, encryp_ds_name)  \n",
    "if os.path.isdir(output_bin) == False:\n",
    "    os.mkdir(output_bin)\n",
    "\n",
    "if os.path.isdir(output_path) == False: \n",
    "    os.mkdir(output_path)\n",
    "\n",
    "if os.path.isdir(output_encry) == False: \n",
    "    os.mkdir(output_encry)\n",
    "\n",
    "if os.path.isdir(output_logs) == False:\n",
    "    os.mkdir(output_logs)        \n",
    "print('Readed')"
   ]
  },
  {
   "cell_type": "code",
   "execution_count": 18,
   "metadata": {},
   "outputs": [
    {
     "name": "stdout",
     "output_type": "stream",
     "text": [
      "[Data] Data loaded from  ./dataset/eta_n0.5-0.5_phi_n0.5-0.5_internal_short1.csv\n",
      "[Data] Data set shape  (10000, 20)\n",
      "[Data] Data train shape  (8000, 20)\n",
      "[Data] Data test shape  (2000, 20)\n",
      "[Data] Data coordinates  cylin\n",
      "[Data] Shape supervised: X(48000, 8) y(48000, 2) :\n"
     ]
    },
    {
     "data": {
      "text/html": [
       "<div>\n",
       "<style scoped>\n",
       "    .dataframe tbody tr th:only-of-type {\n",
       "        vertical-align: middle;\n",
       "    }\n",
       "\n",
       "    .dataframe tbody tr th {\n",
       "        vertical-align: top;\n",
       "    }\n",
       "\n",
       "    .dataframe thead th {\n",
       "        text-align: right;\n",
       "    }\n",
       "</style>\n",
       "<table border=\"1\" class=\"dataframe\">\n",
       "  <thead>\n",
       "    <tr style=\"text-align: right;\">\n",
       "      <th></th>\n",
       "      <th>0</th>\n",
       "      <th>1</th>\n",
       "      <th>2</th>\n",
       "      <th>3</th>\n",
       "      <th>4</th>\n",
       "      <th>5</th>\n",
       "      <th>6</th>\n",
       "      <th>7</th>\n",
       "    </tr>\n",
       "  </thead>\n",
       "  <tbody>\n",
       "    <tr>\n",
       "      <th>0</th>\n",
       "      <td>-0.355554</td>\n",
       "      <td>0.490669</td>\n",
       "      <td>-0.210802</td>\n",
       "      <td>0.480547</td>\n",
       "      <td>-0.162189</td>\n",
       "      <td>0.465489</td>\n",
       "      <td>-0.137728</td>\n",
       "      <td>0.441293</td>\n",
       "    </tr>\n",
       "    <tr>\n",
       "      <th>1</th>\n",
       "      <td>-0.208280</td>\n",
       "      <td>0.459788</td>\n",
       "      <td>-0.162336</td>\n",
       "      <td>0.447526</td>\n",
       "      <td>-0.138150</td>\n",
       "      <td>0.424148</td>\n",
       "      <td>-0.120286</td>\n",
       "      <td>0.370414</td>\n",
       "    </tr>\n",
       "    <tr>\n",
       "      <th>2</th>\n",
       "      <td>-0.160891</td>\n",
       "      <td>0.428166</td>\n",
       "      <td>-0.138395</td>\n",
       "      <td>0.407776</td>\n",
       "      <td>-0.120723</td>\n",
       "      <td>0.355974</td>\n",
       "      <td>-0.110399</td>\n",
       "      <td>0.292228</td>\n",
       "    </tr>\n",
       "    <tr>\n",
       "      <th>3</th>\n",
       "      <td>-0.137483</td>\n",
       "      <td>0.390100</td>\n",
       "      <td>-0.121039</td>\n",
       "      <td>0.342224</td>\n",
       "      <td>-0.110845</td>\n",
       "      <td>0.280771</td>\n",
       "      <td>-0.105144</td>\n",
       "      <td>0.183435</td>\n",
       "    </tr>\n",
       "    <tr>\n",
       "      <th>4</th>\n",
       "      <td>-0.120512</td>\n",
       "      <td>0.327325</td>\n",
       "      <td>-0.111201</td>\n",
       "      <td>0.269915</td>\n",
       "      <td>-0.105594</td>\n",
       "      <td>0.176129</td>\n",
       "      <td>-0.099405</td>\n",
       "      <td>0.056909</td>\n",
       "    </tr>\n",
       "  </tbody>\n",
       "</table>\n",
       "</div>"
      ],
      "text/plain": [
       "          0         1         2         3         4         5         6  \\\n",
       "0 -0.355554  0.490669 -0.210802  0.480547 -0.162189  0.465489 -0.137728   \n",
       "1 -0.208280  0.459788 -0.162336  0.447526 -0.138150  0.424148 -0.120286   \n",
       "2 -0.160891  0.428166 -0.138395  0.407776 -0.120723  0.355974 -0.110399   \n",
       "3 -0.137483  0.390100 -0.121039  0.342224 -0.110845  0.280771 -0.105144   \n",
       "4 -0.120512  0.327325 -0.111201  0.269915 -0.105594  0.176129 -0.099405   \n",
       "\n",
       "          7  \n",
       "0  0.441293  \n",
       "1  0.370414  \n",
       "2  0.292228  \n",
       "3  0.183435  \n",
       "4  0.056909  "
      ]
     },
     "execution_count": 18,
     "metadata": {},
     "output_type": "execute_result"
    }
   ],
   "source": [
    "# prepare data set\n",
    "if type_norm == \"zscore\":\n",
    "    kind_norm = KindNormalization.Zscore\n",
    "elif type_norm == \"maxmin\":\n",
    "    kind_norm = KindNormalization.Scaling\n",
    "data = Dataset(data_file, split, cylindrical, num_hits, kind_norm, points_3d=points_3d)\n",
    "\n",
    "X_train, y_train = data.get_training_data(n_hit_in=time_steps, n_hit_out=1,\n",
    "                             n_features=2, normalise=normalise)\n",
    "\n",
    "print('[Data] Shape supervised: X%s y%s :' % (X_train.shape, y_train.shape))\n",
    "X_train.head()"
   ]
  },
  {
   "cell_type": "code",
   "execution_count": 19,
   "metadata": {},
   "outputs": [
    {
     "name": "stdout",
     "output_type": "stream",
     "text": [
      "[Data] Shape Tensor X_train.shape: (48000, 4, 2)\n",
      "[Data] Shape Tensor X_train.shape: (48000, 4, 2)\n",
      "[Data] Shape Tensor y_train.shape: (48000, 2)\n"
     ]
    }
   ],
   "source": [
    "if normalise:\n",
    "    data.save_scale_param(output_encry)\n",
    "if type_model == 'lstm' or type_model == 'cnn' or type_model == 'gaussian-lstm':\n",
    "    if not is_parallel:\n",
    "        X_train = data.reshape3d(X_train, time_steps, t_features)\n",
    "    print('[Data] Shape Tensor X_train.shape:', X_train.shape)\n",
    "elif type_model == 'lstm-parallel' or type_model == 'cnn-parallel':\n",
    "    if not is_parallel:\n",
    "        print('DEBUG')\n",
    "\n",
    "    X_train = np.reshape(X_train.values, (X_train.shape[0], time_steps, n_features))\n",
    "    #X_train = data.reshape3d(X_train, time_steps, n_features)\n",
    "    y_train = np.reshape(y_train.values, (y_train.shape[0], n_features))\n",
    "\n",
    "    X1 = X_train[:,:,0].reshape(X_train.shape[0], X_train.shape[1], t_features)\n",
    "    X2 = X_train[:,:,1].reshape(X_train.shape[0], X_train.shape[1], t_features)\n",
    "    X3 = X_train[:,:,2].reshape(X_train.shape[0], X_train.shape[1], t_features)\n",
    "\n",
    "    Y1 = y_train[:,0].reshape(y_train.shape[0],  t_features)\n",
    "    Y2 = y_train[:,1].reshape(y_train.shape[0],  t_features)\n",
    "    Y3 = y_train[:,2].reshape(y_train.shape[0],  t_features)\n",
    "\n",
    "    X_train = [X1, X2, X3]\n",
    "\n",
    "print('[Data] Shape Tensor X_train.shape:', X_train.shape)\n",
    "print('[Data] Shape Tensor y_train.shape:', y_train.shape)\n"
   ]
  },
  {
   "cell_type": "code",
   "execution_count": null,
   "metadata": {},
   "outputs": [],
   "source": []
  },
  {
   "cell_type": "code",
   "execution_count": 11,
   "metadata": {},
   "outputs": [],
   "source": [
    "#!pip install livelossplot --quiet\n",
    "import keras\n",
    "from keras.callbacks import EarlyStopping, ModelCheckpoint, TerminateOnNaN\n",
    "from livelossplot import PlotLossesKeras\n"
   ]
  },
  {
   "cell_type": "code",
   "execution_count": null,
   "metadata": {},
   "outputs": [],
   "source": [
    "import tensorflow as tf\n",
    "physical_devices = tf.config.list_physical_devices('GPU')\n",
    "#physical_devices\n",
    "tf.config.experimental.set_memory_growth(physical_devices[0], enable=True)\n",
    "#tf.test.is_gpu_available()\n"
   ]
  },
  {
   "cell_type": "code",
   "execution_count": 12,
   "metadata": {},
   "outputs": [],
   "source": [
    "# ejecutado\n",
    "from tensorflow.compat.v1 import ConfigProto\n",
    "from tensorflow.compat.v1 import InteractiveSession\n",
    "config = ConfigProto()\n",
    "config.gpu_options.allow_growth = True\n",
    "session = InteractiveSession(config=config)"
   ]
  },
  {
   "cell_type": "code",
   "execution_count": null,
   "metadata": {},
   "outputs": [],
   "source": [
    "session.close()"
   ]
  },
  {
   "cell_type": "code",
   "execution_count": null,
   "metadata": {},
   "outputs": [],
   "source": [
    "from keras.backend.tensorflow_backend import set_session\n",
    "import tensorflow as tf\n",
    "config = tf.ConfigProto()\n",
    "config.gpu_options.allow_growth = True\n",
    "sess = tf.Session(config=config)\n",
    "set_session(sess)"
   ]
  },
  {
   "cell_type": "code",
   "execution_count": 13,
   "metadata": {
    "scrolled": true
   },
   "outputs": [
    {
     "data": {
      "image/png": "[encoded data removed]",
      "text/plain": [
       "<Figure size 864x576 with 2 Axes>"
      ]
     },
     "metadata": {
      "needs_background": "light"
     },
     "output_type": "display_data"
    },
    {
     "name": "stdout",
     "output_type": "stream",
     "text": [
      "accuracy\n",
      "\ttraining         \t (min:    0.467, max:    0.517, cur:    0.517)\n",
      "\tvalidation       \t (min:    0.431, max:    0.515, cur:    0.512)\n",
      "Loss\n",
      "\ttraining         \t (min:    2.236, max:    2.319, cur:    2.236)\n",
      "\tvalidation       \t (min:    2.226, max:    2.299, cur:    2.230)\n",
      "[Model] Model for inference saved at compiled/model-gaussian-lstm-M8d4WFFi32cAqLf2X3fpNM-coord-cylin-normalise-true-epochs-50-batch-30.h5\n",
      "[Model] Model training stopped at 0 epoch\n",
      "[Model] Training Completed. Model h5 saved as compiled/model-gaussian-lstm-M8d4WFFi32cAqLf2X3fpNM-coord-cylin-normalise-true-epochs-50-batch-30.h5\n",
      "[Model] Model train with structure: [<tf.Tensor 'input_1:0' shape=(None, 4, 2) dtype=float32>]\n",
      "Time taken: 0:19:32.216546\n",
      "Time taken: 0:19:32.216803\n"
     ]
    }
   ],
   "source": [
    "# training model\n",
    "model = manage_models(configs)\n",
    "\n",
    "if model is None:\n",
    "    print('Please instance model')\n",
    "\n",
    "show_metrics = configs['training']['show_metrics']\n",
    "report = \"\"\n",
    "\n",
    "if cylindrical:\n",
    "    coord = 'cylin'\n",
    "else:\n",
    "    coord = 'xyz'\n",
    "\n",
    "ident_name = model.name + \"_\" + coord \n",
    "timer = Timer()\n",
    "\n",
    "# configure callbacks\n",
    "early_stop = EarlyStopping(monitor='val_loss', patience=50, verbose=1)\n",
    "terminate_nan = TerminateOnNaN()\n",
    "plotlosses = PlotLossesKeras()\n",
    "\n",
    "if not loadModel:\n",
    "    if not over_write:\n",
    "        # if exist, please used the compiled model!\n",
    "        if model.exist_model(model.save_fnameh5):\n",
    "            print(\"[Warning] Please there is a previous model compiled (%s) for %s file.\" \n",
    "                % (model.save_fnameh5, data_file))\n",
    "\n",
    "    model.build_model()\n",
    "    save_fname = os.path.join(output_encry, 'architecture_%s.png' % ident_name)\n",
    "    model.save_architecture(save_fname) \n",
    "\n",
    "    timer.start()\n",
    "    \n",
    "    check_point = ModelCheckpoint(filepath=model.save_fnameh5, monitor='val_loss', \n",
    "                    mode='min', save_best_only=True)\n",
    "    # live training\n",
    "    history = model.train(\n",
    "        x=X_train,\n",
    "        y=y_train,\n",
    "        validation=0.1,\n",
    "        epochs=70,\n",
    "        verbose=False,\n",
    "        batch_size=batch,\n",
    "        shuffle=shuffle_train,\n",
    "        callbacks=[early_stop, plotlosses, terminate_nan]\n",
    "    )\n",
    "    if show_metrics:\n",
    "        report = evaluate_training(history, output_encry, ident_name)\n",
    "    timer.stop()\n",
    "elif loadModel:       \n",
    "    if not model.load_model():\n",
    "        print ('[Error] please change the config file : load_model')\n",
    "session.close()"
   ]
  },
  {
   "cell_type": "code",
   "execution_count": 20,
   "metadata": {},
   "outputs": [
    {
     "name": "stdout",
     "output_type": "stream",
     "text": [
      "Final cost: 2.2360\n"
     ]
    }
   ],
   "source": [
    "#history.history\n",
    "#report = evaluate_training(history, output_encry, ident_name)\n",
    "print('Final cost: {0:.4f}'.format(history.history['loss'][-1]))\n",
    "# 0.002, 0.0011\n",
    "# gaussian 2.2359"
   ]
  },
  {
   "cell_type": "code",
   "execution_count": null,
   "metadata": {},
   "outputs": [],
   "source": []
  },
  {
   "cell_type": "code",
   "execution_count": null,
   "metadata": {},
   "outputs": [],
   "source": [
    "\n",
    "# save results in a file    \n",
    "orig_stdout = sys.stdout\n",
    "f = open(os.path.join(output_encry, 'results-train.txt'), 'a')\n",
    "sys.stdout = f\n",
    "\n",
    "now = dt.datetime.now()\n",
    "print(\"[Output] Train results \")\n",
    "print(\"---Parameters--- \")\n",
    "print(\"\\t Model Name        : \", model.name)\n",
    "print(\"\\t Dataset           : \", model.orig_ds_name)\n",
    "print(\"\\t Total tracks      : \", len(X_train))\n",
    "print(\"\\t Path saved        : \", model.save_fnameh5) \n",
    "print(\"\\t Coordenate type   : \", coord) \n",
    "print(\"\\t Compiled date     : %s taken %s\" % (timer.start_dt.strftime(\"%d/%m/%Y %H:%M:%S\"), timer.taken()))    \n",
    "print(\"\\t Model scaled      : \", model.normalise)\n",
    "print(\"\\t Model Optimizer   : \", optim)\n",
    "print(\"\\t Model batch_size  : \", batch)\n",
    "print(\"\\t Model epochs      : %s  stopped %s \" % (epochs, model.stopped_epoch))\n",
    "print(\"\\t Accuracy          : \", report)\n",
    "print(\"\\t Architecture      : \", arch)\n",
    "\n",
    "sys.stdout = orig_stdout\n",
    "f.close()    \n",
    "\n",
    "print('[Output] All results saved at %s directory it results-train.txt file. Please use notebooks/plot_prediction.ipynb' % output_encry)    \n"
   ]
  },
  {
   "cell_type": "code",
   "execution_count": null,
   "metadata": {},
   "outputs": [],
   "source": []
  }
 ],
 "metadata": {
  "kernelspec": {
   "display_name": "Python 3",
   "language": "python",
   "name": "python3"
  },
  "language_info": {
   "codemirror_mode": {
    "name": "ipython",
    "version": 3
   },
   "file_extension": ".py",
   "mimetype": "text/x-python",
   "name": "python",
   "nbconvert_exporter": "python",
   "pygments_lexer": "ipython3",
   "version": "3.8.2"
  }
 },
 "nbformat": 4,
 "nbformat_minor": 4
}
