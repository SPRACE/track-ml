{
 "cells": [
  {
   "cell_type": "markdown",
   "metadata": {
    "slideshow": {
     "slide_type": "slide"
    }
   },
   "source": [
    "# tracktop lib Usage"
   ]
  },
  {
   "cell_type": "code",
   "execution_count": 1,
   "metadata": {
    "slideshow": {
     "slide_type": "skip"
    }
   },
   "outputs": [],
   "source": [
    "import sys\n",
    "import numpy as np\n",
    "import pandas as pd\n",
    "\n",
    "sys.path.append('../utils')\n",
    "from tracktop import *"
   ]
  },
  {
   "cell_type": "markdown",
   "metadata": {
    "slideshow": {
     "slide_type": "slide"
    }
   },
   "source": [
    "## Open dataframes from csv"
   ]
  },
  {
   "cell_type": "code",
   "execution_count": 2,
   "metadata": {
    "slideshow": {
     "slide_type": "fragment"
    }
   },
   "outputs": [
    {
     "name": "stdout",
     "output_type": "stream",
     "text": [
      "shape of tracks_real: (9367, 114)\n",
      "shape of tracks_fake: (10000, 114)\n"
     ]
    }
   ],
   "source": [
    "# Open the input file as a DF\n",
    "tracks      = pd.read_csv('/data/track-ml/output/test_real.csv',header = None)\n",
    "\n",
    "# removing 6 fisrt columns information and de last column (real or fake)\n",
    "tracks_real = tracks.iloc[:,7:-1]\n",
    "\n",
    "tracks      = pd.read_csv('/data/track-ml/output/trtomei_fake.csv',header = None)\n",
    "\n",
    "# removing 6 fisrt columns information and de last column (real or fake)\n",
    "tracks_fake = tracks.iloc[:,7:-1]\n",
    "\n",
    "# Replacing 0.0 -> infinite representation\n",
    "# to move the hits with zeroes to the bottom of the dataframe\n",
    "tracks_real_sort = tracks_real.replace(0.0, np.PINF).copy()\n",
    "tracks_fake_sort = tracks_fake.replace(0.0, np.PINF).copy()\n",
    "\n",
    "print('shape of tracks_real: ' + str(tracks_real.shape))\n",
    "print('shape of tracks_fake: ' + str(tracks_fake.shape))"
   ]
  },
  {
   "cell_type": "code",
   "execution_count": 4,
   "metadata": {},
   "outputs": [],
   "source": [
    "def rho_from_xy(x, y):\n",
    "    return np.sqrt(x * x + y * y)\n",
    "\n",
    "\n",
    "def eta_from_theta(theta):\n",
    "    return -np.log(np.tan(theta / 2.0))\n",
    "\n",
    "\n",
    "def eta_from_xyz(x, y, z):\n",
    "    theta = np.arctan2(np.sqrt(x * x + y * y), z)\n",
    "    return eta_from_theta(theta)\n",
    "\n",
    "\n",
    "def phi_from_xy(x, y):\n",
    "    return np.arctan2(y, x)\n",
    "\n",
    "\n",
    "def convert_xyz_to_rhoetaphi(x, y, z):\n",
    "    return rho_from_xy(x, y), eta_from_xyz(x, y, z), phi_from_xy(x, y)\n",
    "\n",
    "\n",
    "def convert_rhoetaphi_to_xyz(rho, eta, phi):\n",
    "    x = rho * np.cos(phi)\n",
    "    y = rho * np.sin(phi)\n",
    "    z = rho * np.sinh(eta)\n",
    "    return x, y, z\n"
   ]
  },
  {
   "cell_type": "code",
   "execution_count": 10,
   "metadata": {},
   "outputs": [
    {
     "ename": "ValueError",
     "evalue": "not enough values to unpack (expected 4, got 3)",
     "output_type": "error",
     "traceback": [
      "\u001b[0;31m---------------------------------------------------------------------------\u001b[0m",
      "\u001b[0;31mValueError\u001b[0m                                Traceback (most recent call last)",
      "\u001b[0;32m<ipython-input-10-bbee266ea3c2>\u001b[0m in \u001b[0;36m<module>\u001b[0;34m\u001b[0m\n\u001b[1;32m      3\u001b[0m \u001b[0mz\u001b[0m \u001b[0;34m=\u001b[0m \u001b[0;36m30\u001b[0m\u001b[0;34m\u001b[0m\u001b[0;34m\u001b[0m\u001b[0m\n\u001b[1;32m      4\u001b[0m \u001b[0;34m\u001b[0m\u001b[0m\n\u001b[0;32m----> 5\u001b[0;31m \u001b[0mrho\u001b[0m\u001b[0;34m,\u001b[0m \u001b[0meta\u001b[0m\u001b[0;34m,\u001b[0m \u001b[0mphi\u001b[0m\u001b[0;34m,\u001b[0m \u001b[0mteste\u001b[0m \u001b[0;34m=\u001b[0m \u001b[0mconvert_xyz_to_rhoetaphi\u001b[0m\u001b[0;34m(\u001b[0m\u001b[0mx\u001b[0m\u001b[0;34m,\u001b[0m \u001b[0my\u001b[0m\u001b[0;34m,\u001b[0m \u001b[0mz\u001b[0m\u001b[0;34m)\u001b[0m\u001b[0;34m\u001b[0m\u001b[0;34m\u001b[0m\u001b[0m\n\u001b[0m\u001b[1;32m      6\u001b[0m \u001b[0;34m\u001b[0m\u001b[0m\n\u001b[1;32m      7\u001b[0m \u001b[0mphi\u001b[0m\u001b[0;34m\u001b[0m\u001b[0;34m\u001b[0m\u001b[0m\n",
      "\u001b[0;31mValueError\u001b[0m: not enough values to unpack (expected 4, got 3)"
     ]
    }
   ],
   "source": [
    "x = 10\n",
    "y = 20\n",
    "z = 30\n",
    "\n",
    "rho, eta, phi = convert_xyz_to_rhoetaphi(x, y, z)\n"
   ]
  },
  {
   "cell_type": "markdown",
   "metadata": {
    "slideshow": {
     "slide_type": "slide"
    }
   },
   "source": [
    "## Sorting the dataframe using xyz_bsort function"
   ]
  },
  {
   "cell_type": "markdown",
   "metadata": {
    "slideshow": {
     "slide_type": "-"
    }
   },
   "source": [
    "### REAL tracks"
   ]
  },
  {
   "cell_type": "code",
   "execution_count": null,
   "metadata": {
    "slideshow": {
     "slide_type": "-"
    }
   },
   "outputs": [],
   "source": [
    "#for i in range(int(tracks_real_sort.shape[0])):\n",
    "for i in range(10):\n",
    "    xyz_bsort(tracks_real_sort.iloc[i,:])\n",
    "\n",
    "# Replacing infinite representation -> 0.0    \n",
    "tracks_real_sort = tracks_real_sort.replace(np.PINF,0.0).copy()"
   ]
  },
  {
   "cell_type": "markdown",
   "metadata": {
    "slideshow": {
     "slide_type": "subslide"
    }
   },
   "source": [
    "### FAKE tracks"
   ]
  },
  {
   "cell_type": "code",
   "execution_count": null,
   "metadata": {
    "slideshow": {
     "slide_type": "-"
    }
   },
   "outputs": [],
   "source": [
    "#for i in range(int(tracks_fake_sort.shape[0])):\n",
    "for i in range(10):\n",
    "    xyz_bsort(tracks_fake_sort.iloc[i,:])\n",
    "\n",
    "    # Replacing infinite representation -> 0.0   \n",
    "tracks_fake_sort = tracks_fake_sort.replace(np.PINF,0.0).copy()"
   ]
  },
  {
   "cell_type": "markdown",
   "metadata": {
    "slideshow": {
     "slide_type": "slide"
    }
   },
   "source": [
    "### Ploting dataframe of tracks\n",
    "\n",
    "**Default data:** A dataframe with one track perline and just 6 hit information "
   ]
  },
  {
   "cell_type": "code",
   "execution_count": null,
   "metadata": {
    "slideshow": {
     "slide_type": "fragment"
    }
   },
   "outputs": [],
   "source": [
    "track_plot(tracks_real_sort)"
   ]
  },
  {
   "cell_type": "markdown",
   "metadata": {
    "slideshow": {
     "slide_type": "subslide"
    }
   },
   "source": [
    "### Ploting using parameters"
   ]
  },
  {
   "cell_type": "code",
   "execution_count": null,
   "metadata": {
    "slideshow": {
     "slide_type": "fragment"
    }
   },
   "outputs": [],
   "source": [
    "track_plot(tracks_fake_sort, track_color = 'blue', n_tracks = 10, title = 'Fake tracks sorted')"
   ]
  }
 ],
 "metadata": {
  "kernelspec": {
   "display_name": "Python [conda env:jeff-default]",
   "language": "python",
   "name": "conda-env-jeff-default-py"
  },
  "language_info": {
   "codemirror_mode": {
    "name": "ipython",
    "version": 3
   },
   "file_extension": ".py",
   "mimetype": "text/x-python",
   "name": "python",
   "nbconvert_exporter": "python",
   "pygments_lexer": "ipython3",
   "version": "3.6.8"
  }
 },
 "nbformat": 4,
 "nbformat_minor": 2
}
