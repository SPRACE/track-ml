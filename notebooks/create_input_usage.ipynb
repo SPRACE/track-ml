{
 "cells": [
  {
   "cell_type": "code",
   "execution_count": 1,
   "metadata": {},
   "outputs": [],
   "source": [
    "import sys\n",
    "#sys.path.append('../../last/track-ml/utils')\n",
    "sys.path.append('../utils')\n",
    "from tracktop import *"
   ]
  },
  {
   "cell_type": "code",
   "execution_count": 2,
   "metadata": {},
   "outputs": [],
   "source": [
    "create_input(\"/data/trackMLDB/train/train_1/\", \"event000002020\", n_tracks=100, \n",
    "             path='2020_100_unsorted.csv', sort = \"False\", silent = \"True\")"
   ]
  },
  {
   "cell_type": "code",
   "execution_count": 4,
   "metadata": {},
   "outputs": [
    {
     "name": "stdout",
     "output_type": "stream",
     "text": [
      "Getting tracks...\n",
      "10.0 % of  100  tracks.\n",
      "20.0 % of  100  tracks.\n",
      "30.0 % of  100  tracks.\n",
      "40.0 % of  100  tracks.\n",
      "50.0 % of  100  tracks.\n",
      "60.0 % of  100  tracks.\n",
      "70.0 % of  100  tracks.\n",
      "80.0 % of  100  tracks.\n",
      "90.0 % of  100  tracks.\n",
      "100.0 % of  100  tracks.\n",
      "\n",
      "Sorting tracks...\n",
      "10.0 % of  100  tracks.\n",
      "20.0 % of  100  tracks.\n",
      "30.0 % of  100  tracks.\n",
      "40.0 % of  100  tracks.\n",
      "50.0 % of  100  tracks.\n",
      "60.0 % of  100  tracks.\n",
      "70.0 % of  100  tracks.\n",
      "80.0 % of  100  tracks.\n",
      "90.0 % of  100  tracks.\n",
      "100.0 % of  100  tracks.\n",
      "\n",
      "Total_discarded_hits:  205\n",
      "Shape of dataset:  (100, 169)\n",
      "Sorted:  True\n",
      "Dataset saved at:  2020_100_sorted.csv\n"
     ]
    }
   ],
   "source": [
    "create_input(\"/data/trackMLDB/train/train_1/\", \"event000002020\", n_tracks=100, \n",
    "             path=\"2020_100_sorted.csv\")"
   ]
  },
  {
   "cell_type": "code",
   "execution_count": 5,
   "metadata": {},
   "outputs": [],
   "source": [
    "tracks      = pd.read_csv('2020_100_unsorted.csv')\n",
    "tracks_real_unsorted = tracks.iloc[:,9:]\n",
    "tracks_real_unsorted.name = 'unsorted'"
   ]
  },
  {
   "cell_type": "code",
   "execution_count": 6,
   "metadata": {},
   "outputs": [],
   "source": [
    "tracks_s     = pd.read_csv('2020_100_sorted.csv')\n",
    "tracks_real_sorted = tracks_s.iloc[:,9:]\n",
    "tracks_real_sorted.name = 'sorted'"
   ]
  },
  {
   "cell_type": "code",
   "execution_count": 7,
   "metadata": {},
   "outputs": [],
   "source": [
    "tracks_l = [tracks_real_unsorted, tracks_real_sorted]"
   ]
  },
  {
   "cell_type": "code",
   "execution_count": 8,
   "metadata": {},
   "outputs": [
    {
     "data": {
      "text/html": [
       "        <script type=\"text/javascript\">\n",
       "        window.PlotlyConfig = {MathJaxConfig: 'local'};\n",
       "        if (window.MathJax) {MathJax.Hub.Config({SVG: {font: \"STIX-Web\"}});}\n",
       "        if (typeof require !== 'undefined') {\n",
       "        require.undef(\"plotly\");\n",
       "        requirejs.config({\n",
       "            paths: {\n",
       "                'plotly': ['https://cdn.plot.ly/plotly-latest.min']\n",
       "            }\n",
       "        });\n",
       "        require(['plotly'], function(Plotly) {\n",
       "            window._Plotly = Plotly;\n",
       "        });\n",
       "        }\n",
       "        </script>\n",
       "        "
      ]
     },
     "metadata": {},
     "output_type": "display_data"
    },
    {
     "data": {
      "application/vnd.plotly.v1+json": {
       "config": {
        "linkText": "Export to plot.ly",
        "plotlyServerURL": "https://plot.ly",
        "showLink": false
       },
       "data": [
        {
         "line": {
          "color": "red",
          "width": 3
         },
         "marker": {
          "color": "red",
          "opacity": 0.4,
          "size": 3
         },
         "name": "unsorted 0",
         "opacity": 0.4,
         "type": "scatter3d",
         "x": [
          -18.54680061340332,
          -42.65999984741211,
          -67.77739715576172,
          -99.71430206298828,
          null,
          null,
          null,
          null,
          null,
          null,
          null,
          null,
          null,
          null,
          null,
          null,
          null,
          null,
          null,
          null
         ],
         "y": [
          25.58860015869141,
          59.30229949951172,
          94.86530303955078,
          140.76100158691406,
          null,
          null,
          null,
          null,
          null,
          null,
          null,
          null,
          null,
          null,
          null,
          null,
          null,
          null,
          null,
          null
         ],
         "z": [
          -73.47879791259766,
          -169.36599731445312,
          -270.0570068359375,
          -399.36700439453125,
          null,
          null,
          null,
          null,
          null,
          null,
          null,
          null,
          null,
          null,
          null,
          null,
          null,
          null,
          null,
          null
         ]
        },
        {
         "line": {
          "color": "red",
          "width": 3
         },
         "marker": {
          "color": "red",
          "opacity": 0.4,
          "size": 3
         },
         "name": "unsorted 1",
         "opacity": 0.4,
         "type": "scatter3d",
         "x": [
          -20.31999969482422,
          -45.8109016418457,
          -74.40039825439453,
          -111.50399780273438,
          -171.26499938964844,
          -237.052001953125,
          -336.1809997558594,
          -452.4830017089844,
          -594.5230102539062,
          null,
          null,
          null,
          null,
          null,
          null,
          null,
          null,
          null,
          null,
          null
         ],
         "y": [
          24.66860008239746,
          55.14469909667969,
          88.69740295410156,
          131.35699462890622,
          197.9530029296875,
          268.51199340820307,
          369.4949951171875,
          480.718994140625,
          607.5809936523438,
          null,
          null,
          null,
          null,
          null,
          null,
          null,
          null,
          null,
          null,
          null
         ],
         "z": [
          -45.91379928588867,
          -102.55599975585938,
          -165.36099243164062,
          -246.0760040283203,
          -373.6000061035156,
          -512,
          -714.4000244140625,
          -944.4000244140624,
          -1214.5,
          null,
          null,
          null,
          null,
          null,
          null,
          null,
          null,
          null,
          null,
          null
         ]
        },
        {
         "line": {
          "color": "red",
          "width": 3
         },
         "marker": {
          "color": "red",
          "opacity": 0.4,
          "size": 3
         },
         "name": "unsorted 2",
         "opacity": 0.4,
         "type": "scatter3d",
         "x": [
          -24.58539962768555,
          -56.5103988647461,
          -92.247802734375,
          -138.16700744628906,
          -216.29400634765625,
          -311.74700927734375,
          -448.1669921875,
          -605.947998046875,
          -773.5440063476562,
          -995.1599731445312,
          null,
          null,
          null,
          null,
          null,
          null,
          null,
          null,
          null,
          null
         ],
         "y": [
          -20.41320037841797,
          -45.22760009765625,
          -70.98359680175781,
          -101.0199966430664,
          -144.802001953125,
          -187.4010009765625,
          -231.2740020751953,
          -258.5050048828125,
          -262.88299560546875,
          -230.9340057373047,
          null,
          null,
          null,
          null,
          null,
          null,
          null,
          null,
          null,
          null
         ],
         "z": [
          -13.975500106811525,
          -31.276599884033203,
          -50.01620101928711,
          -73.40589904785156,
          -111.4000015258789,
          -155.60000610351562,
          -216.1999969482422,
          -284.3999938964844,
          -357.6000061035156,
          -449.7999877929688,
          null,
          null,
          null,
          null,
          null,
          null,
          null,
          null,
          null,
          null
         ]
        },
        {
         "line": {
          "color": "red",
          "width": 3
         },
         "marker": {
          "color": "red",
          "opacity": 0.4,
          "size": 3
         },
         "name": "unsorted 3",
         "opacity": 0.4,
         "type": "scatter3d",
         "x": [
          15.418999671936035,
          17.73150062561035,
          20.331499099731445,
          23.241300582885746,
          26.00069999694824,
          29.550500869750977,
          32.71390151977539,
          48.730201721191406,
          null,
          null,
          null,
          null,
          null,
          null,
          null,
          null,
          null,
          null,
          null,
          null
         ],
         "y": [
          -52.97999954223633,
          -61.96979904174805,
          -72.79949951171875,
          -85.34819793701172,
          -97.91280364990234,
          -115.9229965209961,
          -133.95899963378906,
          -262.84698486328125,
          null,
          null,
          null,
          null,
          null,
          null,
          null,
          null,
          null,
          null,
          null,
          null
         ],
         "z": [
          597.5,
          697.5,
          817.5,
          957.5,
          1097.5,
          1298,
          1498,
          2945.5,
          null,
          null,
          null,
          null,
          null,
          null,
          null,
          null,
          null,
          null,
          null,
          null
         ]
        },
        {
         "line": {
          "color": "red",
          "width": 3
         },
         "marker": {
          "color": "red",
          "opacity": 0.4,
          "size": 3
         },
         "name": "unsorted 4",
         "opacity": 0.4,
         "type": "scatter3d",
         "x": [
          null,
          null,
          null,
          null,
          null,
          null,
          null,
          null,
          null,
          null,
          null,
          null,
          null,
          null,
          null,
          null,
          null,
          null,
          null,
          null
         ],
         "y": [
          null,
          null,
          null,
          null,
          null,
          null,
          null,
          null,
          null,
          null,
          null,
          null,
          null,
          null,
          null,
          null,
          null,
          null,
          null,
          null
         ],
         "z": [
          null,
          null,
          null,
          null,
          null,
          null,
          null,
          null,
          null,
          null,
          null,
          null,
          null,
          null,
          null,
          null,
          null,
          null,
          null,
          null
         ]
        },
        {
         "line": {
          "color": "red",
          "width": 3
         },
         "marker": {
          "color": "red",
          "opacity": 0.4,
          "size": 3
         },
         "name": "unsorted 5",
         "opacity": 0.4,
         "type": "scatter3d",
         "x": [
          -14.055999755859375,
          -31.30410003662109,
          -49.91780090332031,
          -72.21420288085938,
          -107.08499908447266,
          -143.49200439453125,
          -189.5659942626953,
          -237.00799560546875,
          -275.9979858398437,
          -316.12799072265625,
          null,
          null,
          null,
          null,
          null,
          null,
          null,
          null,
          null,
          null
         ],
         "y": [
          -28.675500869750977,
          -64.72689819335939,
          -104.85099792480469,
          -154.7949981689453,
          -237.3650054931641,
          -330.875,
          -462.20599365234375,
          -617.947998046875,
          -770.0700073242188,
          -967.2680053710938,
          null,
          null,
          null,
          null,
          null,
          null,
          null,
          null,
          null,
          null
         ],
         "z": [
          -21.582599639892575,
          -48.19290161132813,
          -77.67420196533203,
          -114.22200012207031,
          -174.1999969482422,
          -240.6000061035156,
          -333.6000061035156,
          -442.6000061035156,
          -542,
          -683.2000122070312,
          null,
          null,
          null,
          null,
          null,
          null,
          null,
          null,
          null,
          null
         ]
        },
        {
         "line": {
          "color": "red",
          "width": 3
         },
         "marker": {
          "color": "red",
          "opacity": 0.4,
          "size": 3
         },
         "name": "unsorted 6",
         "opacity": 0.4,
         "type": "scatter3d",
         "x": [
          -27.42390060424805,
          -61.020301818847656,
          -98.83439636230469,
          -147.70199584960938,
          -547.9849853515625,
          -223.11300659179688,
          -313.59698486328125,
          -447.2539978027344,
          -823.2639770507812,
          -682.6790161132812,
          null,
          null,
          null,
          null,
          null,
          null,
          null,
          null,
          null,
          null
         ],
         "y": [
          -17.235300064086914,
          -37.75279998779297,
          -60.154701232910156,
          -88.006103515625,
          -274.7680053710937,
          -128.66400146484378,
          -173.8730010986328,
          -234.2989959716797,
          -365.18499755859375,
          -323.14599609375,
          null,
          null,
          null,
          null,
          null,
          null,
          null,
          null,
          null,
          null
         ],
         "z": [
          -64.55840301513672,
          -142.64300537109375,
          -229.8260040283203,
          -341.39801025390625,
          -1218.5,
          -511.3999938964844,
          -712,
          -1002.4000244140624,
          -1802.5,
          -1494.5,
          null,
          null,
          null,
          null,
          null,
          null,
          null,
          null,
          null,
          null
         ]
        },
        {
         "line": {
          "color": "red",
          "width": 3
         },
         "marker": {
          "color": "red",
          "opacity": 0.4,
          "size": 3
         },
         "name": "unsorted 7",
         "opacity": 0.4,
         "type": "scatter3d",
         "x": [
          -24.42169952392578,
          -55.571998596191406,
          -89.46630096435547,
          -134.43699645996094,
          -205.81700134277344,
          -289.1319885253906,
          -411.72198486328125,
          -551.0650024414061,
          -701.8330078125,
          -889.1160278320312,
          null,
          null,
          null,
          null,
          null,
          null,
          null,
          null,
          null,
          null
         ],
         "y": [
          -20.596399307250977,
          -46.090599060058594,
          -72.97329711914062,
          -107.33000183105469,
          -158.63299560546875,
          -213.89100646972656,
          -286.9419860839844,
          -359.135009765625,
          -425.9460144042969,
          -493.8370056152344,
          null,
          null,
          null,
          null,
          null,
          null,
          null,
          null,
          null,
          null
         ],
         "z": [
          -23.42329978942871,
          -52.55550003051758,
          -83.82240295410156,
          -124.80699920654295,
          -188.6000061035156,
          -261,
          -364.6000061035156,
          -478.3999938964844,
          -601.7999877929688,
          -748,
          null,
          null,
          null,
          null,
          null,
          null,
          null,
          null,
          null,
          null
         ]
        },
        {
         "line": {
          "color": "red",
          "width": 3
         },
         "marker": {
          "color": "red",
          "opacity": 0.4,
          "size": 3
         },
         "name": "unsorted 8",
         "opacity": 0.4,
         "type": "scatter3d",
         "x": [
          -26.76469993591309,
          -61.00299835205078,
          -95.48829650878906,
          -458.4880065917969,
          -394.2139892578125,
          -328.27301025390625,
          -205.6080017089844,
          -285.47900390625,
          -613.0960083007812,
          null,
          null,
          null,
          null,
          null,
          null,
          null,
          null,
          null,
          null,
          null
         ],
         "y": [
          -17.230100631713867,
          -40.42319869995117,
          -65.0447998046875,
          -423.697998046875,
          -344.35198974609375,
          -271.36898803710943,
          -153.35699462890625,
          -227.72300720214844,
          -645.1680297851562,
          null,
          null,
          null,
          null,
          null,
          null,
          null,
          null,
          null,
          null,
          null
         ],
         "z": [
          -91.40380096435548,
          -209.58599853515625,
          -330.91900634765625,
          -1795.5,
          -1504.5,
          -1224.5,
          -735.4000244140625,
          -1049.4000244140623,
          -2555.5,
          null,
          null,
          null,
          null,
          null,
          null,
          null,
          null,
          null,
          null,
          null
         ]
        },
        {
         "line": {
          "color": "red",
          "width": 3
         },
         "marker": {
          "color": "red",
          "opacity": 0.4,
          "size": 3
         },
         "name": "unsorted 9",
         "opacity": 0.4,
         "type": "scatter3d",
         "x": [
          -12.65530014038086,
          -26.61210060119629,
          -40.456199645996094,
          -55.553199768066406,
          -39.82229995727539,
          -71.43470001220703,
          -78.80439758300781,
          -69.97550201416016,
          94.27149963378906,
          13.31149959564209,
          null,
          null,
          null,
          null,
          null,
          null,
          null,
          null,
          null,
          null
         ],
         "y": [
          29.40539932250977,
          65.97599792480469,
          107.65899658203124,
          162.88400268554688,
          630.1799926757812,
          250.406005859375,
          353.0920104980469,
          492.156005859375,
          906.1300048828124,
          766.3699951171875,
          null,
          null,
          null,
          null,
          null,
          null,
          null,
          null,
          null,
          null
         ],
         "z": [
          -60.22100067138672,
          -133.42999267578122,
          -215.97999572753903,
          -323.4729919433594,
          -1215.5,
          -491,
          -684.7999877929688,
          -948,
          -1805.5,
          -1494.5,
          null,
          null,
          null,
          null,
          null,
          null,
          null,
          null,
          null,
          null
         ]
        },
        {
         "line": {
          "color": "red",
          "width": 3
         },
         "marker": {
          "color": "red",
          "opacity": 0.4,
          "size": 3
         },
         "name": "unsorted 10",
         "opacity": 0.4,
         "type": "scatter3d",
         "x": [
          -28.16819953918457,
          null,
          null,
          null,
          null,
          null,
          null,
          null,
          null,
          null,
          null,
          null,
          null,
          null,
          null,
          null,
          null,
          null,
          null,
          null
         ],
         "y": [
          15.108699798583984,
          null,
          null,
          null,
          null,
          null,
          null,
          null,
          null,
          null,
          null,
          null,
          null,
          null,
          null,
          null,
          null,
          null,
          null,
          null
         ],
         "z": [
          -281.64898681640625,
          null,
          null,
          null,
          null,
          null,
          null,
          null,
          null,
          null,
          null,
          null,
          null,
          null,
          null,
          null,
          null,
          null,
          null,
          null
         ]
        },
        {
         "line": {
          "color": "red",
          "width": 3
         },
         "marker": {
          "color": "red",
          "opacity": 0.4,
          "size": 3
         },
         "name": "unsorted 11",
         "opacity": 0.4,
         "type": "scatter3d",
         "x": [
          -3.5040500164031982,
          -2.543570041656494,
          5.885240077972412,
          27.63949966430664,
          87.4104995727539,
          190.81900024414062,
          429.5350036621094,
          null,
          null,
          null,
          null,
          null,
          null,
          null,
          null,
          null,
          null,
          null,
          null,
          null
         ],
         "y": [
          -31.29170036315918,
          -71.21659851074219,
          -116.26799774169922,
          -169.4980010986328,
          -244.72900390625,
          -300.76800537109375,
          -251.97999572753903,
          null,
          null,
          null,
          null,
          null,
          null,
          null,
          null,
          null,
          null,
          null,
          null,
          null
         ],
         "z": [
          26.018800735473636,
          59.39970016479492,
          97.55370330810548,
          143.74099731445312,
          219.3999938964844,
          311.3999938964844,
          504.5450134277344,
          null,
          null,
          null,
          null,
          null,
          null,
          null,
          null,
          null,
          null,
          null,
          null,
          null
         ]
        },
        {
         "line": {
          "color": "red",
          "width": 3
         },
         "marker": {
          "color": "red",
          "opacity": 0.4,
          "size": 3
         },
         "name": "unsorted 12",
         "opacity": 0.4,
         "type": "scatter3d",
         "x": [
          11.609800338745115,
          24.36249923706055,
          34.82320022583008,
          42.98630142211914,
          44.36989974975586,
          30.486900329589844,
          -50.92290115356445,
          -131.177001953125,
          -228.6519927978516,
          -357.6440124511719,
          null,
          null,
          null,
          null,
          null,
          null,
          null,
          null,
          null,
          null
         ],
         "y": [
          29.30470085144043,
          68.10990142822266,
          110.9469985961914,
          167.06500244140625,
          257.84298706054693,
          355.7650146484375,
          547.4849853515625,
          648.4630126953125,
          730.8909912109375,
          815.6179809570312,
          null,
          null,
          null,
          null,
          null,
          null,
          null,
          null,
          null,
          null
         ],
         "z": [
          66.26319885253906,
          152.99400329589844,
          246.5010070800781,
          366.8240051269531,
          559.52001953125,
          767.5,
          1215.5,
          1498.5,
          1797.5,
          2155.5,
          null,
          null,
          null,
          null,
          null,
          null,
          null,
          null,
          null,
          null
         ]
        },
        {
         "line": {
          "color": "red",
          "width": 3
         },
         "marker": {
          "color": "red",
          "opacity": 0.4,
          "size": 3
         },
         "name": "unsorted 13",
         "opacity": 0.4,
         "type": "scatter3d",
         "x": [
          27.47690010070801,
          32.111400604248054,
          37.50550079345703,
          42.86709976196289,
          50.38959884643555,
          57.8936996459961,
          null,
          null,
          null,
          null,
          null,
          null,
          null,
          null,
          null,
          null,
          null,
          null,
          null,
          null
         ],
         "y": [
          -18.56879997253418,
          -21.803800582885746,
          -25.621700286865234,
          -29.47760009765625,
          -35.04759979248047,
          -40.667701721191406,
          null,
          null,
          null,
          null,
          null,
          null,
          null,
          null,
          null,
          null,
          null,
          null,
          null,
          null
         ],
         "z": [
          697.5,
          817.5,
          957.5,
          1097.5,
          1297.5,
          1497.5,
          null,
          null,
          null,
          null,
          null,
          null,
          null,
          null,
          null,
          null,
          null,
          null,
          null,
          null
         ]
        },
        {
         "line": {
          "color": "red",
          "width": 3
         },
         "marker": {
          "color": "red",
          "opacity": 0.4,
          "size": 3
         },
         "name": "unsorted 14",
         "opacity": 0.4,
         "type": "scatter3d",
         "x": [
          165.56500244140625,
          31.440900802612305,
          71.25479888916016,
          116.12000274658205,
          651.3569946289062,
          559.2319946289061,
          477.5469970703125,
          404.4440002441406,
          330.4570007324219,
          254.3580017089844,
          740.114013671875,
          null,
          null,
          null,
          null,
          null,
          null,
          null,
          null,
          null
         ],
         "y": [
          -15.446999549865724,
          -0.8595119714736938,
          -3.4549400806427,
          -8.047080039978027,
          -214.5989990234375,
          -160.82000732421875,
          -118.18099975585938,
          -85.19059753417969,
          -57.375,
          -34.661300659179695,
          -266.18899536132807,
          null,
          null,
          null,
          null,
          null,
          null,
          null,
          null,
          null
         ],
         "z": [
          -602,
          -114.22599792480469,
          -258.56900024414057,
          -421.7829895019531,
          -2548.5,
          -2145.5,
          -1801.5,
          -1504.5,
          -1215.5,
          -929.2000122070312,
          -2944.5,
          null,
          null,
          null,
          null,
          null,
          null,
          null,
          null,
          null
         ]
        },
        {
         "line": {
          "color": "red",
          "width": 3
         },
         "marker": {
          "color": "red",
          "opacity": 0.4,
          "size": 3
         },
         "name": "unsorted 15",
         "opacity": 0.4,
         "type": "scatter3d",
         "x": [
          45.51139831542969,
          41.13330078125,
          36.40549850463867,
          31.98270034790039,
          28.06439971923828,
          11.47469997406006,
          75.88400268554688,
          70.57980346679688,
          66.21800231933594,
          61.45370101928711,
          null,
          null,
          null,
          null,
          null,
          null,
          null,
          null,
          null,
          null
         ],
         "y": [
          149.39700317382812,
          130.04100036621094,
          110.74299621582031,
          94.1331024169922,
          80.36180114746094,
          29.369800567626953,
          406.0260009765625,
          351.3949890136719,
          295.70001220703125,
          247.49899291992188,
          null,
          null,
          null,
          null,
          null,
          null,
          null,
          null,
          null,
          null
         ],
         "z": [
          -1098,
          -958,
          -818,
          -697.5,
          -597.5,
          -222.85299682617188,
          -2954.5,
          -2548.5,
          -2148.5,
          -1798.5,
          null,
          null,
          null,
          null,
          null,
          null,
          null,
          null,
          null,
          null
         ]
        },
        {
         "line": {
          "color": "red",
          "width": 3
         },
         "marker": {
          "color": "red",
          "opacity": 0.4,
          "size": 3
         },
         "name": "unsorted 16",
         "opacity": 0.4,
         "type": "scatter3d",
         "x": [
          133.00999450683594,
          113.40599822998048,
          97.09390258789062,
          26.377199172973636,
          58.44260025024414,
          486.0610046386719,
          420.0090026855469,
          353.76300048828125,
          293.4960021972656,
          244.4129943847656,
          null,
          null,
          null,
          null,
          null,
          null,
          null,
          null,
          null,
          null
         ],
         "y": [
          90.17440032958984,
          77.29070281982422,
          66.48059844970703,
          18.40719985961914,
          40.44219970703125,
          306.5419921875,
          266.9169921875,
          227.5639953613281,
          191.2510070800781,
          161.06500244140625,
          null,
          null,
          null,
          null,
          null,
          null,
          null,
          null,
          null,
          null
         ],
         "z": [
          -822,
          -702,
          -602,
          -164.93600463867188,
          -363.7869873046875,
          -2945.5,
          -2551.5,
          -2151.5,
          -1795.5,
          -1495.5,
          null,
          null,
          null,
          null,
          null,
          null,
          null,
          null,
          null,
          null
         ]
        },
        {
         "line": {
          "color": "red",
          "width": 3
         },
         "marker": {
          "color": "red",
          "opacity": 0.4,
          "size": 3
         },
         "name": "unsorted 17",
         "opacity": 0.4,
         "type": "scatter3d",
         "x": [
          18.186399459838867,
          39.2239990234375,
          62.38259887695313,
          89.07510375976562,
          227.9160003662109,
          126.93900299072266,
          164.09100341796875,
          201.0829925537109,
          227.8159942626953,
          null,
          null,
          null,
          null,
          null,
          null,
          null,
          null,
          null,
          null,
          null
         ],
         "y": [
          26.685100555419922,
          59.29819869995117,
          97.98829650878906,
          146.9320068359375,
          615.39599609375,
          227.24899291992188,
          324.6669921875,
          455.10101318359375,
          935.5360107421876,
          null,
          null,
          null,
          null,
          null,
          null,
          null,
          null,
          null,
          null,
          null
         ],
         "z": [
          -59.24639892578125,
          -130.23399353027344,
          -212.8979949951172,
          -315.1610107421875,
          -1215.5,
          -477.6000061035156,
          -668.2000122070312,
          -916.4000244140624,
          -1802.5,
          null,
          null,
          null,
          null,
          null,
          null,
          null,
          null,
          null,
          null,
          null
         ]
        },
        {
         "line": {
          "color": "red",
          "width": 3
         },
         "marker": {
          "color": "red",
          "opacity": 0.4,
          "size": 3
         },
         "name": "unsorted 18",
         "opacity": 0.4,
         "type": "scatter3d",
         "x": [
          77.26170349121094,
          69.88040161132811,
          62.38219833374024,
          20.736499786376953,
          43.437198638916016,
          4.0159101486206055,
          37.200599670410156,
          67.097900390625,
          85.51390075683594,
          92.69490051269531,
          null,
          null,
          null,
          null,
          null,
          null,
          null,
          null,
          null,
          null
         ],
         "y": [
          -132.69999694824222,
          -111.53600311279295,
          -93.58830261230469,
          -24.296600341796875,
          -57.72579956054688,
          -483.135009765625,
          -431.9939880371094,
          -369.4859924316406,
          -310.8580017089844,
          -256.78201293945307,
          null,
          null,
          null,
          null,
          null,
          null,
          null,
          null,
          null,
          null
         ],
         "z": [
          -822,
          -702,
          -598,
          -168.52499389648438,
          -382.30999755859375,
          -2954.5,
          -2554.5,
          -2145.5,
          -1795.5,
          -1498.5,
          null,
          null,
          null,
          null,
          null,
          null,
          null,
          null,
          null,
          null
         ]
        },
        {
         "line": {
          "color": "red",
          "width": 3
         },
         "marker": {
          "color": "red",
          "opacity": 0.4,
          "size": 3
         },
         "name": "unsorted 19",
         "opacity": 0.4,
         "type": "scatter3d",
         "x": [
          14.769700050354006,
          30.999799728393555,
          46.406700134277344,
          61.28319931030274,
          74.95140075683594,
          73.68119812011719,
          43.59400177001953,
          -37.00849914550781,
          -179.51499938964844,
          -452.56201171875,
          null,
          null,
          null,
          null,
          null,
          null,
          null,
          null,
          null,
          null
         ],
         "y": [
          -28.962299346923828,
          -65.33989715576172,
          -106.83100128173828,
          -160.0290069580078,
          -253.08099365234372,
          -356.1520080566406,
          -497.1260070800781,
          -658.0089721679688,
          -803.7789916992188,
          -919.031005859375,
          null,
          null,
          null,
          null,
          null,
          null,
          null,
          null,
          null,
          null
         ],
         "z": [
          22.5403995513916,
          50.36349868774414,
          80.95249938964844,
          118.58300018310548,
          181.8000030517578,
          251.6000061035156,
          349.20001220703125,
          472.3999938964844,
          612.5999755859375,
          828.0499877929688,
          null,
          null,
          null,
          null,
          null,
          null,
          null,
          null,
          null,
          null
         ]
        },
        {
         "line": {
          "color": "red",
          "width": 3
         },
         "marker": {
          "color": "red",
          "opacity": 0.4,
          "size": 3
         },
         "name": "unsorted 20",
         "opacity": 0.4,
         "type": "scatter3d",
         "x": [
          19.957000732421875,
          46.67100143432617,
          75.92900085449219,
          116.29900360107422,
          186.41000366210938,
          260.06900024414057,
          380.0710144042969,
          532.9869995117189,
          644.5540161132812,
          831.6439819335938,
          null,
          null,
          null,
          null,
          null,
          null,
          null,
          null,
          null,
          null
         ],
         "y": [
          -24.32900047302246,
          -54.94089889526367,
          -86.39510345458984,
          -126.49500274658205,
          -188.5240020751953,
          -244.8820037841797,
          -320.77301025390625,
          -393.65899658203125,
          -432.1199951171875,
          -476.6830139160156,
          null,
          null,
          null,
          null,
          null,
          null,
          null,
          null,
          null,
          null
         ],
         "z": [
          48.15599822998047,
          110.88400268554688,
          177.23599243164062,
          264.92300415039057,
          409.6000061035156,
          552.4000244140625,
          770.7999877929688,
          1030.5999755859377,
          1214.5,
          1505.5,
          null,
          null,
          null,
          null,
          null,
          null,
          null,
          null,
          null,
          null
         ]
        },
        {
         "line": {
          "color": "red",
          "width": 3
         },
         "marker": {
          "color": "red",
          "opacity": 0.4,
          "size": 3
         },
         "name": "unsorted 21",
         "opacity": 0.4,
         "type": "scatter3d",
         "x": [
          -22.468799591064453,
          null,
          null,
          null,
          null,
          null,
          null,
          null,
          null,
          null,
          null,
          null,
          null,
          null,
          null,
          null,
          null,
          null,
          null,
          null
         ],
         "y": [
          22.085500717163086,
          null,
          null,
          null,
          null,
          null,
          null,
          null,
          null,
          null,
          null,
          null,
          null,
          null,
          null,
          null,
          null,
          null,
          null,
          null
         ],
         "z": [
          54.69409942626953,
          null,
          null,
          null,
          null,
          null,
          null,
          null,
          null,
          null,
          null,
          null,
          null,
          null,
          null,
          null,
          null,
          null,
          null,
          null
         ]
        },
        {
         "line": {
          "color": "red",
          "width": 3
         },
         "marker": {
          "color": "red",
          "opacity": 0.4,
          "size": 3
         },
         "name": "unsorted 22",
         "opacity": 0.4,
         "type": "scatter3d",
         "x": [
          31.80719947814941,
          70.83270263671875,
          114.43499755859376,
          170.73699951171875,
          261.51699829101557,
          360.0220031738281,
          497.6780090332031,
          656.0419921875,
          819.8350219726562,
          1018.4299926757812,
          null,
          null,
          null,
          null,
          null,
          null,
          null,
          null,
          null,
          null
         ],
         "y": [
          4.285679817199707,
          9.38813018798828,
          14.911700248718262,
          21.726299285888672,
          32.017501831054695,
          42.25310134887695,
          54.78139877319336,
          66.8385009765625,
          76.57510375976562,
          84.54049682617188,
          null,
          null,
          null,
          null,
          null,
          null,
          null,
          null,
          null,
          null
         ],
         "z": [
          23.20719909667969,
          52.1259994506836,
          84.41110229492188,
          126.06099700927734,
          193.3999938964844,
          265.79998779296875,
          367,
          483.7999877929688,
          601.7999877929688,
          748,
          null,
          null,
          null,
          null,
          null,
          null,
          null,
          null,
          null,
          null
         ]
        },
        {
         "line": {
          "color": "red",
          "width": 3
         },
         "marker": {
          "color": "red",
          "opacity": 0.4,
          "size": 3
         },
         "name": "unsorted 23",
         "opacity": 0.4,
         "type": "scatter3d",
         "x": [
          30.910600662231445,
          70.847900390625,
          112.56900024414062,
          166.23300170898438,
          253.968994140625,
          345.38299560546875,
          481.8089904785156,
          634.2009887695312,
          774.5999755859375,
          957.2680053710938,
          null,
          null,
          null,
          null,
          null,
          null,
          null,
          null,
          null,
          null
         ],
         "y": [
          6.849909782409668,
          16.114799499511722,
          26.29280090332031,
          40.11280059814453,
          64.60269927978516,
          92.43379974365234,
          138.7030029296875,
          197.0279998779297,
          257.40399169921875,
          345.677001953125,
          null,
          null,
          null,
          null,
          null,
          null,
          null,
          null,
          null,
          null
         ],
         "z": [
          27.968000411987305,
          64.64209747314453,
          103.05599975585938,
          152.66099548339844,
          234.1999969482422,
          320.3999938964844,
          449.7999877929688,
          595.7999877929688,
          737.2000122070312,
          918,
          null,
          null,
          null,
          null,
          null,
          null,
          null,
          null,
          null,
          null
         ]
        },
        {
         "line": {
          "color": "red",
          "width": 3
         },
         "marker": {
          "color": "red",
          "opacity": 0.4,
          "size": 3
         },
         "name": "unsorted 24",
         "opacity": 0.4,
         "type": "scatter3d",
         "x": [
          0.6681060194969177,
          4.6611599922180185,
          17.864200592041016,
          24.645000457763672,
          76.7146987915039,
          113.6520004272461,
          null,
          null,
          null,
          null,
          null,
          null,
          null,
          null,
          null,
          null,
          null,
          null,
          null,
          null
         ],
         "y": [
          31.94750022888184,
          71.3052978515625,
          135.96000671386722,
          158.03599548339844,
          267.31399536132807,
          319.3900146484375,
          null,
          null,
          null,
          null,
          null,
          null,
          null,
          null,
          null,
          null,
          null,
          null,
          null,
          null
         ],
         "z": [
          139.54600524902344,
          311.5870056152344,
          598,
          698,
          1218.5,
          1495.5,
          null,
          null,
          null,
          null,
          null,
          null,
          null,
          null,
          null,
          null,
          null,
          null,
          null,
          null
         ]
        },
        {
         "line": {
          "color": "red",
          "width": 3
         },
         "marker": {
          "color": "red",
          "opacity": 0.4,
          "size": 3
         },
         "name": "unsorted 25",
         "opacity": 0.4,
         "type": "scatter3d",
         "x": [
          17.81369972229004,
          39.45299911499024,
          63.72560119628906,
          92.46189880371094,
          136.656005859375,
          182.08999633789062,
          240.49899291992188,
          299.3999938964844,
          346.4339904785156,
          390.5060119628906,
          null,
          null,
          null,
          null,
          null,
          null,
          null,
          null,
          null,
          null
         ],
         "y": [
          26.315099716186523,
          59.15869903564453,
          97.4145965576172,
          144.86000061035156,
          222.9459991455078,
          310.843994140625,
          438.593994140625,
          592.93798828125,
          746.3690185546875,
          940.5230102539062,
          null,
          null,
          null,
          null,
          null,
          null,
          null,
          null,
          null,
          null
         ],
         "z": [
          1.6156200170516968,
          4.034369945526123,
          6.8274598121643075,
          10.22189998626709,
          16.200000762939453,
          22.200000762939453,
          30.60000038146973,
          41.400001525878906,
          48.599998474121094,
          65.19999694824219,
          null,
          null,
          null,
          null,
          null,
          null,
          null,
          null,
          null,
          null
         ]
        },
        {
         "line": {
          "color": "red",
          "width": 3
         },
         "marker": {
          "color": "red",
          "opacity": 0.4,
          "size": 3
         },
         "name": "unsorted 26",
         "opacity": 0.4,
         "type": "scatter3d",
         "x": [
          -28.12339973449707,
          -22.71999931335449,
          -3.8848700523376474,
          -10.402700424194336,
          -247.30099487304688,
          -200.41099548339844,
          -154.27499389648438,
          -116.41899871826172,
          -86.7291030883789,
          -62.73350143432617,
          null,
          null,
          null,
          null,
          null,
          null,
          null,
          null,
          null,
          null
         ],
         "y": [
          -150.69400024414062,
          -129.46699523925778,
          -31.76609992980957,
          -72.04109954833984,
          -575.8209838867188,
          -508.1900024414063,
          -437.6780090332031,
          -372.01800537109375,
          -313.0369873046875,
          -257.06201171875,
          null,
          null,
          null,
          null,
          null,
          null,
          null,
          null,
          null,
          null
         ],
         "z": [
          -702,
          -602,
          -147.0590057373047,
          -333.552001953125,
          -2945.5,
          -2554.5,
          -2154.5,
          -1798.5,
          -1495.5,
          -1215.5,
          null,
          null,
          null,
          null,
          null,
          null,
          null,
          null,
          null,
          null
         ]
        },
        {
         "line": {
          "color": "red",
          "width": 3
         },
         "marker": {
          "color": "red",
          "opacity": 0.4,
          "size": 3
         },
         "name": "unsorted 27",
         "opacity": 0.4,
         "type": "scatter3d",
         "x": [
          8.795009613037111,
          17.28420066833496,
          20.940500259399414,
          23.398799896240234,
          26.01180076599121,
          28.493000030517575,
          30.49209976196289,
          33.61999893188477,
          32.47869873046875,
          31.2992000579834,
          31.61160087585449,
          null,
          null,
          null,
          null,
          null,
          null,
          null,
          null,
          null
         ],
         "y": [
          31.48909950256348,
          69.21250152587889,
          89.04399871826172,
          103.96299743652344,
          122.06099700927734,
          143.31100463867188,
          164.6959991455078,
          269.72100830078125,
          320.59698486328125,
          378.72698974609375,
          435.9129943847656,
          null,
          null,
          null,
          null,
          null,
          null,
          null,
          null,
          null
         ],
         "z": [
          214.45700073242188,
          469.4249877929688,
          602.5,
          702,
          822,
          962,
          1102,
          1795.5,
          2145.5,
          2545.5,
          2951.5,
          null,
          null,
          null,
          null,
          null,
          null,
          null,
          null,
          null
         ]
        },
        {
         "line": {
          "color": "red",
          "width": 3
         },
         "marker": {
          "color": "red",
          "opacity": 0.4,
          "size": 3
         },
         "name": "unsorted 28",
         "opacity": 0.4,
         "type": "scatter3d",
         "x": [
          null,
          null,
          null,
          null,
          null,
          null,
          null,
          null,
          null,
          null,
          null,
          null,
          null,
          null,
          null,
          null,
          null,
          null,
          null,
          null
         ],
         "y": [
          null,
          null,
          null,
          null,
          null,
          null,
          null,
          null,
          null,
          null,
          null,
          null,
          null,
          null,
          null,
          null,
          null,
          null,
          null,
          null
         ],
         "z": [
          null,
          null,
          null,
          null,
          null,
          null,
          null,
          null,
          null,
          null,
          null,
          null,
          null,
          null,
          null,
          null,
          null,
          null,
          null,
          null
         ]
        },
        {
         "line": {
          "color": "red",
          "width": 3
         },
         "marker": {
          "color": "red",
          "opacity": 0.4,
          "size": 3
         },
         "name": "unsorted 29",
         "opacity": 0.4,
         "type": "scatter3d",
         "x": [
          -16.77239990234375,
          null,
          null,
          null,
          null,
          null,
          null,
          null,
          null,
          null,
          null,
          null,
          null,
          null,
          null,
          null,
          null,
          null,
          null,
          null
         ],
         "y": [
          27.17350006103516,
          null,
          null,
          null,
          null,
          null,
          null,
          null,
          null,
          null,
          null,
          null,
          null,
          null,
          null,
          null,
          null,
          null,
          null,
          null
         ],
         "z": [
          61.80820083618164,
          null,
          null,
          null,
          null,
          null,
          null,
          null,
          null,
          null,
          null,
          null,
          null,
          null,
          null,
          null,
          null,
          null,
          null,
          null
         ]
        },
        {
         "line": {
          "color": "blue",
          "width": 3
         },
         "marker": {
          "color": "blue",
          "opacity": 0.4,
          "size": 3
         },
         "name": "sorted 0",
         "opacity": 0.4,
         "type": "scatter3d",
         "x": [
          -18.54680061340332,
          -42.65999984741211,
          -67.77739715576172,
          -99.71430206298828,
          null,
          null,
          null,
          null,
          null,
          null,
          null,
          null,
          null,
          null,
          null,
          null,
          null,
          null,
          null,
          null
         ],
         "y": [
          25.58860015869141,
          59.30229949951172,
          94.86530303955078,
          140.76100158691406,
          null,
          null,
          null,
          null,
          null,
          null,
          null,
          null,
          null,
          null,
          null,
          null,
          null,
          null,
          null,
          null
         ],
         "z": [
          -73.47879791259766,
          -169.36599731445312,
          -270.0570068359375,
          -399.36700439453125,
          null,
          null,
          null,
          null,
          null,
          null,
          null,
          null,
          null,
          null,
          null,
          null,
          null,
          null,
          null,
          null
         ]
        },
        {
         "line": {
          "color": "blue",
          "width": 3
         },
         "marker": {
          "color": "blue",
          "opacity": 0.4,
          "size": 3
         },
         "name": "sorted 1",
         "opacity": 0.4,
         "type": "scatter3d",
         "x": [
          -20.31999969482422,
          -45.8109016418457,
          -74.40039825439453,
          -111.50399780273438,
          -171.26499938964844,
          -237.052001953125,
          -336.1809997558594,
          -452.4830017089844,
          -594.5230102539062,
          null,
          null,
          null,
          null,
          null,
          null,
          null,
          null,
          null,
          null,
          null
         ],
         "y": [
          24.66860008239746,
          55.14469909667969,
          88.69740295410156,
          131.35699462890622,
          197.9530029296875,
          268.51199340820307,
          369.4949951171875,
          480.718994140625,
          607.5809936523438,
          null,
          null,
          null,
          null,
          null,
          null,
          null,
          null,
          null,
          null,
          null
         ],
         "z": [
          -45.91379928588867,
          -102.55599975585938,
          -165.36099243164062,
          -246.0760040283203,
          -373.6000061035156,
          -512,
          -714.4000244140625,
          -944.4000244140624,
          -1214.5,
          null,
          null,
          null,
          null,
          null,
          null,
          null,
          null,
          null,
          null,
          null
         ]
        },
        {
         "line": {
          "color": "blue",
          "width": 3
         },
         "marker": {
          "color": "blue",
          "opacity": 0.4,
          "size": 3
         },
         "name": "sorted 2",
         "opacity": 0.4,
         "type": "scatter3d",
         "x": [
          -24.58539962768555,
          -56.5103988647461,
          -92.247802734375,
          -138.16700744628906,
          -216.29400634765625,
          -311.74700927734375,
          -448.1669921875,
          -605.947998046875,
          -773.5440063476562,
          -995.1599731445312,
          null,
          null,
          null,
          null,
          null,
          null,
          null,
          null,
          null,
          null
         ],
         "y": [
          -20.41320037841797,
          -45.22760009765625,
          -70.98359680175781,
          -101.0199966430664,
          -144.802001953125,
          -187.4010009765625,
          -231.2740020751953,
          -258.5050048828125,
          -262.88299560546875,
          -230.9340057373047,
          null,
          null,
          null,
          null,
          null,
          null,
          null,
          null,
          null,
          null
         ],
         "z": [
          -13.975500106811525,
          -31.276599884033203,
          -50.01620101928711,
          -73.40589904785156,
          -111.4000015258789,
          -155.60000610351562,
          -216.1999969482422,
          -284.3999938964844,
          -357.6000061035156,
          -449.7999877929688,
          null,
          null,
          null,
          null,
          null,
          null,
          null,
          null,
          null,
          null
         ]
        },
        {
         "line": {
          "color": "blue",
          "width": 3
         },
         "marker": {
          "color": "blue",
          "opacity": 0.4,
          "size": 3
         },
         "name": "sorted 3",
         "opacity": 0.4,
         "type": "scatter3d",
         "x": [
          15.418999671936035,
          17.73150062561035,
          20.331499099731445,
          23.241300582885746,
          26.00069999694824,
          29.550500869750977,
          32.71390151977539,
          48.730201721191406,
          null,
          null,
          null,
          null,
          null,
          null,
          null,
          null,
          null,
          null,
          null,
          null
         ],
         "y": [
          -52.97999954223633,
          -61.96979904174805,
          -72.79949951171875,
          -85.34819793701172,
          -97.91280364990234,
          -115.9229965209961,
          -133.95899963378906,
          -262.84698486328125,
          null,
          null,
          null,
          null,
          null,
          null,
          null,
          null,
          null,
          null,
          null,
          null
         ],
         "z": [
          597.5,
          697.5,
          817.5,
          957.5,
          1097.5,
          1298,
          1498,
          2945.5,
          null,
          null,
          null,
          null,
          null,
          null,
          null,
          null,
          null,
          null,
          null,
          null
         ]
        },
        {
         "line": {
          "color": "blue",
          "width": 3
         },
         "marker": {
          "color": "blue",
          "opacity": 0.4,
          "size": 3
         },
         "name": "sorted 4",
         "opacity": 0.4,
         "type": "scatter3d",
         "x": [
          null,
          null,
          null,
          null,
          null,
          null,
          null,
          null,
          null,
          null,
          null,
          null,
          null,
          null,
          null,
          null,
          null,
          null,
          null,
          null
         ],
         "y": [
          null,
          null,
          null,
          null,
          null,
          null,
          null,
          null,
          null,
          null,
          null,
          null,
          null,
          null,
          null,
          null,
          null,
          null,
          null,
          null
         ],
         "z": [
          null,
          null,
          null,
          null,
          null,
          null,
          null,
          null,
          null,
          null,
          null,
          null,
          null,
          null,
          null,
          null,
          null,
          null,
          null,
          null
         ]
        },
        {
         "line": {
          "color": "blue",
          "width": 3
         },
         "marker": {
          "color": "blue",
          "opacity": 0.4,
          "size": 3
         },
         "name": "sorted 5",
         "opacity": 0.4,
         "type": "scatter3d",
         "x": [
          -14.055999755859375,
          -31.30410003662109,
          -49.91780090332031,
          -72.21420288085938,
          -107.08499908447266,
          -143.49200439453125,
          -189.5659942626953,
          -237.00799560546875,
          -275.9979858398437,
          -316.12799072265625,
          null,
          null,
          null,
          null,
          null,
          null,
          null,
          null,
          null,
          null
         ],
         "y": [
          -28.675500869750977,
          -64.72689819335939,
          -104.85099792480469,
          -154.7949981689453,
          -237.3650054931641,
          -330.875,
          -462.20599365234375,
          -617.947998046875,
          -770.0700073242188,
          -967.2680053710938,
          null,
          null,
          null,
          null,
          null,
          null,
          null,
          null,
          null,
          null
         ],
         "z": [
          -21.582599639892575,
          -48.19290161132813,
          -77.67420196533203,
          -114.22200012207031,
          -174.1999969482422,
          -240.6000061035156,
          -333.6000061035156,
          -442.6000061035156,
          -542,
          -683.2000122070312,
          null,
          null,
          null,
          null,
          null,
          null,
          null,
          null,
          null,
          null
         ]
        },
        {
         "line": {
          "color": "blue",
          "width": 3
         },
         "marker": {
          "color": "blue",
          "opacity": 0.4,
          "size": 3
         },
         "name": "sorted 6",
         "opacity": 0.4,
         "type": "scatter3d",
         "x": [
          -27.42390060424805,
          -61.020301818847656,
          -98.83439636230469,
          -147.70199584960938,
          -223.11300659179688,
          -313.59698486328125,
          -447.2539978027344,
          -547.9849853515625,
          -682.6790161132812,
          -823.2639770507812,
          null,
          null,
          null,
          null,
          null,
          null,
          null,
          null,
          null,
          null
         ],
         "y": [
          -17.235300064086914,
          -37.75279998779297,
          -60.154701232910156,
          -88.006103515625,
          -128.66400146484378,
          -173.8730010986328,
          -234.2989959716797,
          -274.7680053710937,
          -323.14599609375,
          -365.18499755859375,
          null,
          null,
          null,
          null,
          null,
          null,
          null,
          null,
          null,
          null
         ],
         "z": [
          -64.55840301513672,
          -142.64300537109375,
          -229.8260040283203,
          -341.39801025390625,
          -511.3999938964844,
          -712,
          -1002.4000244140624,
          -1218.5,
          -1494.5,
          -1802.5,
          null,
          null,
          null,
          null,
          null,
          null,
          null,
          null,
          null,
          null
         ]
        },
        {
         "line": {
          "color": "blue",
          "width": 3
         },
         "marker": {
          "color": "blue",
          "opacity": 0.4,
          "size": 3
         },
         "name": "sorted 7",
         "opacity": 0.4,
         "type": "scatter3d",
         "x": [
          -24.42169952392578,
          -55.571998596191406,
          -89.46630096435547,
          -134.43699645996094,
          -205.81700134277344,
          -289.1319885253906,
          -411.72198486328125,
          -551.0650024414061,
          -701.8330078125,
          -889.1160278320312,
          null,
          null,
          null,
          null,
          null,
          null,
          null,
          null,
          null,
          null
         ],
         "y": [
          -20.596399307250977,
          -46.090599060058594,
          -72.97329711914062,
          -107.33000183105469,
          -158.63299560546875,
          -213.89100646972656,
          -286.9419860839844,
          -359.135009765625,
          -425.9460144042969,
          -493.8370056152344,
          null,
          null,
          null,
          null,
          null,
          null,
          null,
          null,
          null,
          null
         ],
         "z": [
          -23.42329978942871,
          -52.55550003051758,
          -83.82240295410156,
          -124.80699920654295,
          -188.6000061035156,
          -261,
          -364.6000061035156,
          -478.3999938964844,
          -601.7999877929688,
          -748,
          null,
          null,
          null,
          null,
          null,
          null,
          null,
          null,
          null,
          null
         ]
        },
        {
         "line": {
          "color": "blue",
          "width": 3
         },
         "marker": {
          "color": "blue",
          "opacity": 0.4,
          "size": 3
         },
         "name": "sorted 8",
         "opacity": 0.4,
         "type": "scatter3d",
         "x": [
          -26.76469993591309,
          -61.00299835205078,
          -95.48829650878906,
          -205.6080017089844,
          -285.47900390625,
          -328.27301025390625,
          -394.2139892578125,
          -458.4880065917969,
          -613.0960083007812,
          null,
          null,
          null,
          null,
          null,
          null,
          null,
          null,
          null,
          null,
          null
         ],
         "y": [
          -17.230100631713867,
          -40.42319869995117,
          -65.0447998046875,
          -153.35699462890625,
          -227.72300720214844,
          -271.36898803710943,
          -344.35198974609375,
          -423.697998046875,
          -645.1680297851562,
          null,
          null,
          null,
          null,
          null,
          null,
          null,
          null,
          null,
          null,
          null
         ],
         "z": [
          -91.40380096435548,
          -209.58599853515625,
          -330.91900634765625,
          -735.4000244140625,
          -1049.4000244140623,
          -1224.5,
          -1504.5,
          -1795.5,
          -2555.5,
          null,
          null,
          null,
          null,
          null,
          null,
          null,
          null,
          null,
          null,
          null
         ]
        },
        {
         "line": {
          "color": "blue",
          "width": 3
         },
         "marker": {
          "color": "blue",
          "opacity": 0.4,
          "size": 3
         },
         "name": "sorted 9",
         "opacity": 0.4,
         "type": "scatter3d",
         "x": [
          -12.65530014038086,
          -26.61210060119629,
          -40.456199645996094,
          -55.553199768066406,
          -71.43470001220703,
          -78.80439758300781,
          -69.97550201416016,
          -39.82229995727539,
          13.31149959564209,
          94.27149963378906,
          null,
          null,
          null,
          null,
          null,
          null,
          null,
          null,
          null,
          null
         ],
         "y": [
          29.40539932250977,
          65.97599792480469,
          107.65899658203124,
          162.88400268554688,
          250.406005859375,
          353.0920104980469,
          492.156005859375,
          630.1799926757812,
          766.3699951171875,
          906.1300048828124,
          null,
          null,
          null,
          null,
          null,
          null,
          null,
          null,
          null,
          null
         ],
         "z": [
          -60.22100067138672,
          -133.42999267578122,
          -215.97999572753903,
          -323.4729919433594,
          -491,
          -684.7999877929688,
          -948,
          -1215.5,
          -1494.5,
          -1805.5,
          null,
          null,
          null,
          null,
          null,
          null,
          null,
          null,
          null,
          null
         ]
        },
        {
         "line": {
          "color": "blue",
          "width": 3
         },
         "marker": {
          "color": "blue",
          "opacity": 0.4,
          "size": 3
         },
         "name": "sorted 10",
         "opacity": 0.4,
         "type": "scatter3d",
         "x": [
          -28.16819953918457,
          null,
          null,
          null,
          null,
          null,
          null,
          null,
          null,
          null,
          null,
          null,
          null,
          null,
          null,
          null,
          null,
          null,
          null,
          null
         ],
         "y": [
          15.108699798583984,
          null,
          null,
          null,
          null,
          null,
          null,
          null,
          null,
          null,
          null,
          null,
          null,
          null,
          null,
          null,
          null,
          null,
          null,
          null
         ],
         "z": [
          -281.64898681640625,
          null,
          null,
          null,
          null,
          null,
          null,
          null,
          null,
          null,
          null,
          null,
          null,
          null,
          null,
          null,
          null,
          null,
          null,
          null
         ]
        },
        {
         "line": {
          "color": "blue",
          "width": 3
         },
         "marker": {
          "color": "blue",
          "opacity": 0.4,
          "size": 3
         },
         "name": "sorted 11",
         "opacity": 0.4,
         "type": "scatter3d",
         "x": [
          -3.5040500164031982,
          -2.543570041656494,
          5.885240077972412,
          27.63949966430664,
          87.4104995727539,
          190.81900024414062,
          429.5350036621094,
          null,
          null,
          null,
          null,
          null,
          null,
          null,
          null,
          null,
          null,
          null,
          null,
          null
         ],
         "y": [
          -31.29170036315918,
          -71.21659851074219,
          -116.26799774169922,
          -169.4980010986328,
          -244.72900390625,
          -300.76800537109375,
          -251.97999572753903,
          null,
          null,
          null,
          null,
          null,
          null,
          null,
          null,
          null,
          null,
          null,
          null,
          null
         ],
         "z": [
          26.018800735473636,
          59.39970016479492,
          97.55370330810548,
          143.74099731445312,
          219.3999938964844,
          311.3999938964844,
          504.5450134277344,
          null,
          null,
          null,
          null,
          null,
          null,
          null,
          null,
          null,
          null,
          null,
          null,
          null
         ]
        },
        {
         "line": {
          "color": "blue",
          "width": 3
         },
         "marker": {
          "color": "blue",
          "opacity": 0.4,
          "size": 3
         },
         "name": "sorted 12",
         "opacity": 0.4,
         "type": "scatter3d",
         "x": [
          11.609800338745115,
          24.36249923706055,
          34.82320022583008,
          42.98630142211914,
          44.36989974975586,
          30.486900329589844,
          -50.92290115356445,
          -131.177001953125,
          -228.6519927978516,
          -357.6440124511719,
          null,
          null,
          null,
          null,
          null,
          null,
          null,
          null,
          null,
          null
         ],
         "y": [
          29.30470085144043,
          68.10990142822266,
          110.9469985961914,
          167.06500244140625,
          257.84298706054693,
          355.7650146484375,
          547.4849853515625,
          648.4630126953125,
          730.8909912109375,
          815.6179809570312,
          null,
          null,
          null,
          null,
          null,
          null,
          null,
          null,
          null,
          null
         ],
         "z": [
          66.26319885253906,
          152.99400329589844,
          246.5010070800781,
          366.8240051269531,
          559.52001953125,
          767.5,
          1215.5,
          1498.5,
          1797.5,
          2155.5,
          null,
          null,
          null,
          null,
          null,
          null,
          null,
          null,
          null,
          null
         ]
        },
        {
         "line": {
          "color": "blue",
          "width": 3
         },
         "marker": {
          "color": "blue",
          "opacity": 0.4,
          "size": 3
         },
         "name": "sorted 13",
         "opacity": 0.4,
         "type": "scatter3d",
         "x": [
          27.47690010070801,
          32.111400604248054,
          37.50550079345703,
          42.86709976196289,
          50.38959884643555,
          57.8936996459961,
          null,
          null,
          null,
          null,
          null,
          null,
          null,
          null,
          null,
          null,
          null,
          null,
          null,
          null
         ],
         "y": [
          -18.56879997253418,
          -21.803800582885746,
          -25.621700286865234,
          -29.47760009765625,
          -35.04759979248047,
          -40.667701721191406,
          null,
          null,
          null,
          null,
          null,
          null,
          null,
          null,
          null,
          null,
          null,
          null,
          null,
          null
         ],
         "z": [
          697.5,
          817.5,
          957.5,
          1097.5,
          1297.5,
          1497.5,
          null,
          null,
          null,
          null,
          null,
          null,
          null,
          null,
          null,
          null,
          null,
          null,
          null,
          null
         ]
        },
        {
         "line": {
          "color": "blue",
          "width": 3
         },
         "marker": {
          "color": "blue",
          "opacity": 0.4,
          "size": 3
         },
         "name": "sorted 14",
         "opacity": 0.4,
         "type": "scatter3d",
         "x": [
          31.440900802612305,
          71.25479888916016,
          116.12000274658205,
          165.56500244140625,
          254.3580017089844,
          330.4570007324219,
          404.4440002441406,
          477.5469970703125,
          559.2319946289061,
          651.3569946289062,
          740.114013671875,
          null,
          null,
          null,
          null,
          null,
          null,
          null,
          null,
          null
         ],
         "y": [
          -0.8595119714736938,
          -3.4549400806427,
          -8.047080039978027,
          -15.446999549865724,
          -34.661300659179695,
          -57.375,
          -85.19059753417969,
          -118.18099975585938,
          -160.82000732421875,
          -214.5989990234375,
          -266.18899536132807,
          null,
          null,
          null,
          null,
          null,
          null,
          null,
          null,
          null
         ],
         "z": [
          -114.22599792480469,
          -258.56900024414057,
          -421.7829895019531,
          -602,
          -929.2000122070312,
          -1215.5,
          -1504.5,
          -1801.5,
          -2145.5,
          -2548.5,
          -2944.5,
          null,
          null,
          null,
          null,
          null,
          null,
          null,
          null,
          null
         ]
        },
        {
         "line": {
          "color": "blue",
          "width": 3
         },
         "marker": {
          "color": "blue",
          "opacity": 0.4,
          "size": 3
         },
         "name": "sorted 15",
         "opacity": 0.4,
         "type": "scatter3d",
         "x": [
          11.47469997406006,
          28.06439971923828,
          31.98270034790039,
          36.40549850463867,
          41.13330078125,
          45.51139831542969,
          61.45370101928711,
          66.21800231933594,
          70.57980346679688,
          75.88400268554688,
          null,
          null,
          null,
          null,
          null,
          null,
          null,
          null,
          null,
          null
         ],
         "y": [
          29.369800567626953,
          80.36180114746094,
          94.1331024169922,
          110.74299621582031,
          130.04100036621094,
          149.39700317382812,
          247.49899291992188,
          295.70001220703125,
          351.3949890136719,
          406.0260009765625,
          null,
          null,
          null,
          null,
          null,
          null,
          null,
          null,
          null,
          null
         ],
         "z": [
          -222.85299682617188,
          -597.5,
          -697.5,
          -818,
          -958,
          -1098,
          -1798.5,
          -2148.5,
          -2548.5,
          -2954.5,
          null,
          null,
          null,
          null,
          null,
          null,
          null,
          null,
          null,
          null
         ]
        },
        {
         "line": {
          "color": "blue",
          "width": 3
         },
         "marker": {
          "color": "blue",
          "opacity": 0.4,
          "size": 3
         },
         "name": "sorted 16",
         "opacity": 0.4,
         "type": "scatter3d",
         "x": [
          26.377199172973636,
          58.44260025024414,
          97.09390258789062,
          113.40599822998048,
          133.00999450683594,
          244.4129943847656,
          293.4960021972656,
          353.76300048828125,
          420.0090026855469,
          486.0610046386719,
          null,
          null,
          null,
          null,
          null,
          null,
          null,
          null,
          null,
          null
         ],
         "y": [
          18.40719985961914,
          40.44219970703125,
          66.48059844970703,
          77.29070281982422,
          90.17440032958984,
          161.06500244140625,
          191.2510070800781,
          227.5639953613281,
          266.9169921875,
          306.5419921875,
          null,
          null,
          null,
          null,
          null,
          null,
          null,
          null,
          null,
          null
         ],
         "z": [
          -164.93600463867188,
          -363.7869873046875,
          -602,
          -702,
          -822,
          -1495.5,
          -1795.5,
          -2151.5,
          -2551.5,
          -2945.5,
          null,
          null,
          null,
          null,
          null,
          null,
          null,
          null,
          null,
          null
         ]
        },
        {
         "line": {
          "color": "blue",
          "width": 3
         },
         "marker": {
          "color": "blue",
          "opacity": 0.4,
          "size": 3
         },
         "name": "sorted 17",
         "opacity": 0.4,
         "type": "scatter3d",
         "x": [
          18.186399459838867,
          39.2239990234375,
          62.38259887695313,
          89.07510375976562,
          126.93900299072266,
          164.09100341796875,
          201.0829925537109,
          227.9160003662109,
          227.8159942626953,
          null,
          null,
          null,
          null,
          null,
          null,
          null,
          null,
          null,
          null,
          null
         ],
         "y": [
          26.685100555419922,
          59.29819869995117,
          97.98829650878906,
          146.9320068359375,
          227.24899291992188,
          324.6669921875,
          455.10101318359375,
          615.39599609375,
          935.5360107421876,
          null,
          null,
          null,
          null,
          null,
          null,
          null,
          null,
          null,
          null,
          null
         ],
         "z": [
          -59.24639892578125,
          -130.23399353027344,
          -212.8979949951172,
          -315.1610107421875,
          -477.6000061035156,
          -668.2000122070312,
          -916.4000244140624,
          -1215.5,
          -1802.5,
          null,
          null,
          null,
          null,
          null,
          null,
          null,
          null,
          null,
          null,
          null
         ]
        },
        {
         "line": {
          "color": "blue",
          "width": 3
         },
         "marker": {
          "color": "blue",
          "opacity": 0.4,
          "size": 3
         },
         "name": "sorted 18",
         "opacity": 0.4,
         "type": "scatter3d",
         "x": [
          20.736499786376953,
          43.437198638916016,
          62.38219833374024,
          69.88040161132811,
          77.26170349121094,
          92.69490051269531,
          85.51390075683594,
          67.097900390625,
          37.200599670410156,
          4.0159101486206055,
          null,
          null,
          null,
          null,
          null,
          null,
          null,
          null,
          null,
          null
         ],
         "y": [
          -24.296600341796875,
          -57.72579956054688,
          -93.58830261230469,
          -111.53600311279295,
          -132.69999694824222,
          -256.78201293945307,
          -310.8580017089844,
          -369.4859924316406,
          -431.9939880371094,
          -483.135009765625,
          null,
          null,
          null,
          null,
          null,
          null,
          null,
          null,
          null,
          null
         ],
         "z": [
          -168.52499389648438,
          -382.30999755859375,
          -598,
          -702,
          -822,
          -1498.5,
          -1795.5,
          -2145.5,
          -2554.5,
          -2954.5,
          null,
          null,
          null,
          null,
          null,
          null,
          null,
          null,
          null,
          null
         ]
        },
        {
         "line": {
          "color": "blue",
          "width": 3
         },
         "marker": {
          "color": "blue",
          "opacity": 0.4,
          "size": 3
         },
         "name": "sorted 19",
         "opacity": 0.4,
         "type": "scatter3d",
         "x": [
          14.769700050354006,
          30.999799728393555,
          46.406700134277344,
          61.28319931030274,
          74.95140075683594,
          73.68119812011719,
          43.59400177001953,
          -37.00849914550781,
          -179.51499938964844,
          -452.56201171875,
          null,
          null,
          null,
          null,
          null,
          null,
          null,
          null,
          null,
          null
         ],
         "y": [
          -28.962299346923828,
          -65.33989715576172,
          -106.83100128173828,
          -160.0290069580078,
          -253.08099365234372,
          -356.1520080566406,
          -497.1260070800781,
          -658.0089721679688,
          -803.7789916992188,
          -919.031005859375,
          null,
          null,
          null,
          null,
          null,
          null,
          null,
          null,
          null,
          null
         ],
         "z": [
          22.5403995513916,
          50.36349868774414,
          80.95249938964844,
          118.58300018310548,
          181.8000030517578,
          251.6000061035156,
          349.20001220703125,
          472.3999938964844,
          612.5999755859375,
          828.0499877929688,
          null,
          null,
          null,
          null,
          null,
          null,
          null,
          null,
          null,
          null
         ]
        },
        {
         "line": {
          "color": "blue",
          "width": 3
         },
         "marker": {
          "color": "blue",
          "opacity": 0.4,
          "size": 3
         },
         "name": "sorted 20",
         "opacity": 0.4,
         "type": "scatter3d",
         "x": [
          19.957000732421875,
          46.67100143432617,
          75.92900085449219,
          116.29900360107422,
          186.41000366210938,
          260.06900024414057,
          380.0710144042969,
          532.9869995117189,
          644.5540161132812,
          831.6439819335938,
          null,
          null,
          null,
          null,
          null,
          null,
          null,
          null,
          null,
          null
         ],
         "y": [
          -24.32900047302246,
          -54.94089889526367,
          -86.39510345458984,
          -126.49500274658205,
          -188.5240020751953,
          -244.8820037841797,
          -320.77301025390625,
          -393.65899658203125,
          -432.1199951171875,
          -476.6830139160156,
          null,
          null,
          null,
          null,
          null,
          null,
          null,
          null,
          null,
          null
         ],
         "z": [
          48.15599822998047,
          110.88400268554688,
          177.23599243164062,
          264.92300415039057,
          409.6000061035156,
          552.4000244140625,
          770.7999877929688,
          1030.5999755859377,
          1214.5,
          1505.5,
          null,
          null,
          null,
          null,
          null,
          null,
          null,
          null,
          null,
          null
         ]
        },
        {
         "line": {
          "color": "blue",
          "width": 3
         },
         "marker": {
          "color": "blue",
          "opacity": 0.4,
          "size": 3
         },
         "name": "sorted 21",
         "opacity": 0.4,
         "type": "scatter3d",
         "x": [
          -22.468799591064453,
          null,
          null,
          null,
          null,
          null,
          null,
          null,
          null,
          null,
          null,
          null,
          null,
          null,
          null,
          null,
          null,
          null,
          null,
          null
         ],
         "y": [
          22.085500717163086,
          null,
          null,
          null,
          null,
          null,
          null,
          null,
          null,
          null,
          null,
          null,
          null,
          null,
          null,
          null,
          null,
          null,
          null,
          null
         ],
         "z": [
          54.69409942626953,
          null,
          null,
          null,
          null,
          null,
          null,
          null,
          null,
          null,
          null,
          null,
          null,
          null,
          null,
          null,
          null,
          null,
          null,
          null
         ]
        },
        {
         "line": {
          "color": "blue",
          "width": 3
         },
         "marker": {
          "color": "blue",
          "opacity": 0.4,
          "size": 3
         },
         "name": "sorted 22",
         "opacity": 0.4,
         "type": "scatter3d",
         "x": [
          31.80719947814941,
          70.83270263671875,
          114.43499755859376,
          170.73699951171875,
          261.51699829101557,
          360.0220031738281,
          497.6780090332031,
          656.0419921875,
          819.8350219726562,
          1018.4299926757812,
          null,
          null,
          null,
          null,
          null,
          null,
          null,
          null,
          null,
          null
         ],
         "y": [
          4.285679817199707,
          9.38813018798828,
          14.911700248718262,
          21.726299285888672,
          32.017501831054695,
          42.25310134887695,
          54.78139877319336,
          66.8385009765625,
          76.57510375976562,
          84.54049682617188,
          null,
          null,
          null,
          null,
          null,
          null,
          null,
          null,
          null,
          null
         ],
         "z": [
          23.20719909667969,
          52.1259994506836,
          84.41110229492188,
          126.06099700927734,
          193.3999938964844,
          265.79998779296875,
          367,
          483.7999877929688,
          601.7999877929688,
          748,
          null,
          null,
          null,
          null,
          null,
          null,
          null,
          null,
          null,
          null
         ]
        },
        {
         "line": {
          "color": "blue",
          "width": 3
         },
         "marker": {
          "color": "blue",
          "opacity": 0.4,
          "size": 3
         },
         "name": "sorted 23",
         "opacity": 0.4,
         "type": "scatter3d",
         "x": [
          30.910600662231445,
          70.847900390625,
          112.56900024414062,
          166.23300170898438,
          253.968994140625,
          345.38299560546875,
          481.8089904785156,
          634.2009887695312,
          774.5999755859375,
          957.2680053710938,
          null,
          null,
          null,
          null,
          null,
          null,
          null,
          null,
          null,
          null
         ],
         "y": [
          6.849909782409668,
          16.114799499511722,
          26.29280090332031,
          40.11280059814453,
          64.60269927978516,
          92.43379974365234,
          138.7030029296875,
          197.0279998779297,
          257.40399169921875,
          345.677001953125,
          null,
          null,
          null,
          null,
          null,
          null,
          null,
          null,
          null,
          null
         ],
         "z": [
          27.968000411987305,
          64.64209747314453,
          103.05599975585938,
          152.66099548339844,
          234.1999969482422,
          320.3999938964844,
          449.7999877929688,
          595.7999877929688,
          737.2000122070312,
          918,
          null,
          null,
          null,
          null,
          null,
          null,
          null,
          null,
          null,
          null
         ]
        },
        {
         "line": {
          "color": "blue",
          "width": 3
         },
         "marker": {
          "color": "blue",
          "opacity": 0.4,
          "size": 3
         },
         "name": "sorted 24",
         "opacity": 0.4,
         "type": "scatter3d",
         "x": [
          0.6681060194969177,
          4.6611599922180185,
          17.864200592041016,
          24.645000457763672,
          76.7146987915039,
          113.6520004272461,
          null,
          null,
          null,
          null,
          null,
          null,
          null,
          null,
          null,
          null,
          null,
          null,
          null,
          null
         ],
         "y": [
          31.94750022888184,
          71.3052978515625,
          135.96000671386722,
          158.03599548339844,
          267.31399536132807,
          319.3900146484375,
          null,
          null,
          null,
          null,
          null,
          null,
          null,
          null,
          null,
          null,
          null,
          null,
          null,
          null
         ],
         "z": [
          139.54600524902344,
          311.5870056152344,
          598,
          698,
          1218.5,
          1495.5,
          null,
          null,
          null,
          null,
          null,
          null,
          null,
          null,
          null,
          null,
          null,
          null,
          null,
          null
         ]
        },
        {
         "line": {
          "color": "blue",
          "width": 3
         },
         "marker": {
          "color": "blue",
          "opacity": 0.4,
          "size": 3
         },
         "name": "sorted 25",
         "opacity": 0.4,
         "type": "scatter3d",
         "x": [
          17.81369972229004,
          39.45299911499024,
          63.72560119628906,
          92.46189880371094,
          136.656005859375,
          182.08999633789062,
          240.49899291992188,
          299.3999938964844,
          346.4339904785156,
          390.5060119628906,
          null,
          null,
          null,
          null,
          null,
          null,
          null,
          null,
          null,
          null
         ],
         "y": [
          26.315099716186523,
          59.15869903564453,
          97.4145965576172,
          144.86000061035156,
          222.9459991455078,
          310.843994140625,
          438.593994140625,
          592.93798828125,
          746.3690185546875,
          940.5230102539062,
          null,
          null,
          null,
          null,
          null,
          null,
          null,
          null,
          null,
          null
         ],
         "z": [
          1.6156200170516968,
          4.034369945526123,
          6.8274598121643075,
          10.22189998626709,
          16.200000762939453,
          22.200000762939453,
          30.60000038146973,
          41.400001525878906,
          48.599998474121094,
          65.19999694824219,
          null,
          null,
          null,
          null,
          null,
          null,
          null,
          null,
          null,
          null
         ]
        },
        {
         "line": {
          "color": "blue",
          "width": 3
         },
         "marker": {
          "color": "blue",
          "opacity": 0.4,
          "size": 3
         },
         "name": "sorted 26",
         "opacity": 0.4,
         "type": "scatter3d",
         "x": [
          -3.8848700523376474,
          -10.402700424194336,
          -22.71999931335449,
          -28.12339973449707,
          -62.73350143432617,
          -86.7291030883789,
          -116.41899871826172,
          -154.27499389648438,
          -200.41099548339844,
          -247.30099487304688,
          null,
          null,
          null,
          null,
          null,
          null,
          null,
          null,
          null,
          null
         ],
         "y": [
          -31.76609992980957,
          -72.04109954833984,
          -129.46699523925778,
          -150.69400024414062,
          -257.06201171875,
          -313.0369873046875,
          -372.01800537109375,
          -437.6780090332031,
          -508.1900024414063,
          -575.8209838867188,
          null,
          null,
          null,
          null,
          null,
          null,
          null,
          null,
          null,
          null
         ],
         "z": [
          -147.0590057373047,
          -333.552001953125,
          -602,
          -702,
          -1215.5,
          -1495.5,
          -1798.5,
          -2154.5,
          -2554.5,
          -2945.5,
          null,
          null,
          null,
          null,
          null,
          null,
          null,
          null,
          null,
          null
         ]
        },
        {
         "line": {
          "color": "blue",
          "width": 3
         },
         "marker": {
          "color": "blue",
          "opacity": 0.4,
          "size": 3
         },
         "name": "sorted 27",
         "opacity": 0.4,
         "type": "scatter3d",
         "x": [
          8.795009613037111,
          17.28420066833496,
          20.940500259399414,
          23.398799896240234,
          26.01180076599121,
          28.493000030517575,
          30.49209976196289,
          33.61999893188477,
          32.47869873046875,
          31.2992000579834,
          31.61160087585449,
          null,
          null,
          null,
          null,
          null,
          null,
          null,
          null,
          null
         ],
         "y": [
          31.48909950256348,
          69.21250152587889,
          89.04399871826172,
          103.96299743652344,
          122.06099700927734,
          143.31100463867188,
          164.6959991455078,
          269.72100830078125,
          320.59698486328125,
          378.72698974609375,
          435.9129943847656,
          null,
          null,
          null,
          null,
          null,
          null,
          null,
          null,
          null
         ],
         "z": [
          214.45700073242188,
          469.4249877929688,
          602.5,
          702,
          822,
          962,
          1102,
          1795.5,
          2145.5,
          2545.5,
          2951.5,
          null,
          null,
          null,
          null,
          null,
          null,
          null,
          null,
          null
         ]
        },
        {
         "line": {
          "color": "blue",
          "width": 3
         },
         "marker": {
          "color": "blue",
          "opacity": 0.4,
          "size": 3
         },
         "name": "sorted 28",
         "opacity": 0.4,
         "type": "scatter3d",
         "x": [
          null,
          null,
          null,
          null,
          null,
          null,
          null,
          null,
          null,
          null,
          null,
          null,
          null,
          null,
          null,
          null,
          null,
          null,
          null,
          null
         ],
         "y": [
          null,
          null,
          null,
          null,
          null,
          null,
          null,
          null,
          null,
          null,
          null,
          null,
          null,
          null,
          null,
          null,
          null,
          null,
          null,
          null
         ],
         "z": [
          null,
          null,
          null,
          null,
          null,
          null,
          null,
          null,
          null,
          null,
          null,
          null,
          null,
          null,
          null,
          null,
          null,
          null,
          null,
          null
         ]
        },
        {
         "line": {
          "color": "blue",
          "width": 3
         },
         "marker": {
          "color": "blue",
          "opacity": 0.4,
          "size": 3
         },
         "name": "sorted 29",
         "opacity": 0.4,
         "type": "scatter3d",
         "x": [
          -16.77239990234375,
          null,
          null,
          null,
          null,
          null,
          null,
          null,
          null,
          null,
          null,
          null,
          null,
          null,
          null,
          null,
          null,
          null,
          null,
          null
         ],
         "y": [
          27.17350006103516,
          null,
          null,
          null,
          null,
          null,
          null,
          null,
          null,
          null,
          null,
          null,
          null,
          null,
          null,
          null,
          null,
          null,
          null,
          null
         ],
         "z": [
          61.80820083618164,
          null,
          null,
          null,
          null,
          null,
          null,
          null,
          null,
          null,
          null,
          null,
          null,
          null,
          null,
          null,
          null,
          null,
          null,
          null
         ]
        }
       ],
       "layout": {
        "autosize": true,
        "scene": {
         "aspectmode": "manual",
         "aspectratio": {
          "x": 1,
          "y": 1,
          "z": 1
         },
         "camera": {
          "eye": {
           "x": -1.7428,
           "y": 1.0707,
           "z": 0.71
          },
          "up": {
           "x": 1,
           "y": 1,
           "z": -0.5
          }
         },
         "xaxis": {
          "backgroundcolor": "rgb(230, 230,230)",
          "gridcolor": "rgb(255, 255, 255)",
          "showbackground": true,
          "title": {
           "text": "x (mm)"
          },
          "zerolinecolor": "rgb(255, 255, 255)"
         },
         "yaxis": {
          "backgroundcolor": "rgb(230, 230,230)",
          "gridcolor": "rgb(255, 255, 255)",
          "showbackground": true,
          "title": {
           "text": "y (mm)"
          },
          "zerolinecolor": "rgb(255, 255, 255)"
         },
         "zaxis": {
          "backgroundcolor": "rgb(230, 230,230)",
          "gridcolor": "rgb(255, 255, 255)",
          "showbackground": true,
          "title": {
           "text": "z (mm)"
          },
          "zerolinecolor": "rgb(255, 255, 255)"
         }
        },
        "template": {
         "data": {
          "bar": [
           {
            "error_x": {
             "color": "#2a3f5f"
            },
            "error_y": {
             "color": "#2a3f5f"
            },
            "marker": {
             "line": {
              "color": "#E5ECF6",
              "width": 0.5
             }
            },
            "type": "bar"
           }
          ],
          "barpolar": [
           {
            "marker": {
             "line": {
              "color": "#E5ECF6",
              "width": 0.5
             }
            },
            "type": "barpolar"
           }
          ],
          "carpet": [
           {
            "aaxis": {
             "endlinecolor": "#2a3f5f",
             "gridcolor": "white",
             "linecolor": "white",
             "minorgridcolor": "white",
             "startlinecolor": "#2a3f5f"
            },
            "baxis": {
             "endlinecolor": "#2a3f5f",
             "gridcolor": "white",
             "linecolor": "white",
             "minorgridcolor": "white",
             "startlinecolor": "#2a3f5f"
            },
            "type": "carpet"
           }
          ],
          "choropleth": [
           {
            "colorbar": {
             "outlinewidth": 0,
             "ticks": ""
            },
            "type": "choropleth"
           }
          ],
          "contour": [
           {
            "colorbar": {
             "outlinewidth": 0,
             "ticks": ""
            },
            "colorscale": [
             [
              0,
              "#0d0887"
             ],
             [
              0.1111111111111111,
              "#46039f"
             ],
             [
              0.2222222222222222,
              "#7201a8"
             ],
             [
              0.3333333333333333,
              "#9c179e"
             ],
             [
              0.4444444444444444,
              "#bd3786"
             ],
             [
              0.5555555555555556,
              "#d8576b"
             ],
             [
              0.6666666666666666,
              "#ed7953"
             ],
             [
              0.7777777777777778,
              "#fb9f3a"
             ],
             [
              0.8888888888888888,
              "#fdca26"
             ],
             [
              1,
              "#f0f921"
             ]
            ],
            "type": "contour"
           }
          ],
          "contourcarpet": [
           {
            "colorbar": {
             "outlinewidth": 0,
             "ticks": ""
            },
            "type": "contourcarpet"
           }
          ],
          "heatmap": [
           {
            "colorbar": {
             "outlinewidth": 0,
             "ticks": ""
            },
            "colorscale": [
             [
              0,
              "#0d0887"
             ],
             [
              0.1111111111111111,
              "#46039f"
             ],
             [
              0.2222222222222222,
              "#7201a8"
             ],
             [
              0.3333333333333333,
              "#9c179e"
             ],
             [
              0.4444444444444444,
              "#bd3786"
             ],
             [
              0.5555555555555556,
              "#d8576b"
             ],
             [
              0.6666666666666666,
              "#ed7953"
             ],
             [
              0.7777777777777778,
              "#fb9f3a"
             ],
             [
              0.8888888888888888,
              "#fdca26"
             ],
             [
              1,
              "#f0f921"
             ]
            ],
            "type": "heatmap"
           }
          ],
          "heatmapgl": [
           {
            "colorbar": {
             "outlinewidth": 0,
             "ticks": ""
            },
            "colorscale": [
             [
              0,
              "#0d0887"
             ],
             [
              0.1111111111111111,
              "#46039f"
             ],
             [
              0.2222222222222222,
              "#7201a8"
             ],
             [
              0.3333333333333333,
              "#9c179e"
             ],
             [
              0.4444444444444444,
              "#bd3786"
             ],
             [
              0.5555555555555556,
              "#d8576b"
             ],
             [
              0.6666666666666666,
              "#ed7953"
             ],
             [
              0.7777777777777778,
              "#fb9f3a"
             ],
             [
              0.8888888888888888,
              "#fdca26"
             ],
             [
              1,
              "#f0f921"
             ]
            ],
            "type": "heatmapgl"
           }
          ],
          "histogram": [
           {
            "marker": {
             "colorbar": {
              "outlinewidth": 0,
              "ticks": ""
             }
            },
            "type": "histogram"
           }
          ],
          "histogram2d": [
           {
            "colorbar": {
             "outlinewidth": 0,
             "ticks": ""
            },
            "colorscale": [
             [
              0,
              "#0d0887"
             ],
             [
              0.1111111111111111,
              "#46039f"
             ],
             [
              0.2222222222222222,
              "#7201a8"
             ],
             [
              0.3333333333333333,
              "#9c179e"
             ],
             [
              0.4444444444444444,
              "#bd3786"
             ],
             [
              0.5555555555555556,
              "#d8576b"
             ],
             [
              0.6666666666666666,
              "#ed7953"
             ],
             [
              0.7777777777777778,
              "#fb9f3a"
             ],
             [
              0.8888888888888888,
              "#fdca26"
             ],
             [
              1,
              "#f0f921"
             ]
            ],
            "type": "histogram2d"
           }
          ],
          "histogram2dcontour": [
           {
            "colorbar": {
             "outlinewidth": 0,
             "ticks": ""
            },
            "colorscale": [
             [
              0,
              "#0d0887"
             ],
             [
              0.1111111111111111,
              "#46039f"
             ],
             [
              0.2222222222222222,
              "#7201a8"
             ],
             [
              0.3333333333333333,
              "#9c179e"
             ],
             [
              0.4444444444444444,
              "#bd3786"
             ],
             [
              0.5555555555555556,
              "#d8576b"
             ],
             [
              0.6666666666666666,
              "#ed7953"
             ],
             [
              0.7777777777777778,
              "#fb9f3a"
             ],
             [
              0.8888888888888888,
              "#fdca26"
             ],
             [
              1,
              "#f0f921"
             ]
            ],
            "type": "histogram2dcontour"
           }
          ],
          "mesh3d": [
           {
            "colorbar": {
             "outlinewidth": 0,
             "ticks": ""
            },
            "type": "mesh3d"
           }
          ],
          "parcoords": [
           {
            "line": {
             "colorbar": {
              "outlinewidth": 0,
              "ticks": ""
             }
            },
            "type": "parcoords"
           }
          ],
          "scatter": [
           {
            "marker": {
             "colorbar": {
              "outlinewidth": 0,
              "ticks": ""
             }
            },
            "type": "scatter"
           }
          ],
          "scatter3d": [
           {
            "line": {
             "colorbar": {
              "outlinewidth": 0,
              "ticks": ""
             }
            },
            "marker": {
             "colorbar": {
              "outlinewidth": 0,
              "ticks": ""
             }
            },
            "type": "scatter3d"
           }
          ],
          "scattercarpet": [
           {
            "marker": {
             "colorbar": {
              "outlinewidth": 0,
              "ticks": ""
             }
            },
            "type": "scattercarpet"
           }
          ],
          "scattergeo": [
           {
            "marker": {
             "colorbar": {
              "outlinewidth": 0,
              "ticks": ""
             }
            },
            "type": "scattergeo"
           }
          ],
          "scattergl": [
           {
            "marker": {
             "colorbar": {
              "outlinewidth": 0,
              "ticks": ""
             }
            },
            "type": "scattergl"
           }
          ],
          "scattermapbox": [
           {
            "marker": {
             "colorbar": {
              "outlinewidth": 0,
              "ticks": ""
             }
            },
            "type": "scattermapbox"
           }
          ],
          "scatterpolar": [
           {
            "marker": {
             "colorbar": {
              "outlinewidth": 0,
              "ticks": ""
             }
            },
            "type": "scatterpolar"
           }
          ],
          "scatterpolargl": [
           {
            "marker": {
             "colorbar": {
              "outlinewidth": 0,
              "ticks": ""
             }
            },
            "type": "scatterpolargl"
           }
          ],
          "scatterternary": [
           {
            "marker": {
             "colorbar": {
              "outlinewidth": 0,
              "ticks": ""
             }
            },
            "type": "scatterternary"
           }
          ],
          "surface": [
           {
            "colorbar": {
             "outlinewidth": 0,
             "ticks": ""
            },
            "colorscale": [
             [
              0,
              "#0d0887"
             ],
             [
              0.1111111111111111,
              "#46039f"
             ],
             [
              0.2222222222222222,
              "#7201a8"
             ],
             [
              0.3333333333333333,
              "#9c179e"
             ],
             [
              0.4444444444444444,
              "#bd3786"
             ],
             [
              0.5555555555555556,
              "#d8576b"
             ],
             [
              0.6666666666666666,
              "#ed7953"
             ],
             [
              0.7777777777777778,
              "#fb9f3a"
             ],
             [
              0.8888888888888888,
              "#fdca26"
             ],
             [
              1,
              "#f0f921"
             ]
            ],
            "type": "surface"
           }
          ],
          "table": [
           {
            "cells": {
             "fill": {
              "color": "#EBF0F8"
             },
             "line": {
              "color": "white"
             }
            },
            "header": {
             "fill": {
              "color": "#C8D4E3"
             },
             "line": {
              "color": "white"
             }
            },
            "type": "table"
           }
          ]
         },
         "layout": {
          "annotationdefaults": {
           "arrowcolor": "#2a3f5f",
           "arrowhead": 0,
           "arrowwidth": 1
          },
          "colorscale": {
           "diverging": [
            [
             0,
             "#8e0152"
            ],
            [
             0.1,
             "#c51b7d"
            ],
            [
             0.2,
             "#de77ae"
            ],
            [
             0.3,
             "#f1b6da"
            ],
            [
             0.4,
             "#fde0ef"
            ],
            [
             0.5,
             "#f7f7f7"
            ],
            [
             0.6,
             "#e6f5d0"
            ],
            [
             0.7,
             "#b8e186"
            ],
            [
             0.8,
             "#7fbc41"
            ],
            [
             0.9,
             "#4d9221"
            ],
            [
             1,
             "#276419"
            ]
           ],
           "sequential": [
            [
             0,
             "#0d0887"
            ],
            [
             0.1111111111111111,
             "#46039f"
            ],
            [
             0.2222222222222222,
             "#7201a8"
            ],
            [
             0.3333333333333333,
             "#9c179e"
            ],
            [
             0.4444444444444444,
             "#bd3786"
            ],
            [
             0.5555555555555556,
             "#d8576b"
            ],
            [
             0.6666666666666666,
             "#ed7953"
            ],
            [
             0.7777777777777778,
             "#fb9f3a"
            ],
            [
             0.8888888888888888,
             "#fdca26"
            ],
            [
             1,
             "#f0f921"
            ]
           ],
           "sequentialminus": [
            [
             0,
             "#0d0887"
            ],
            [
             0.1111111111111111,
             "#46039f"
            ],
            [
             0.2222222222222222,
             "#7201a8"
            ],
            [
             0.3333333333333333,
             "#9c179e"
            ],
            [
             0.4444444444444444,
             "#bd3786"
            ],
            [
             0.5555555555555556,
             "#d8576b"
            ],
            [
             0.6666666666666666,
             "#ed7953"
            ],
            [
             0.7777777777777778,
             "#fb9f3a"
            ],
            [
             0.8888888888888888,
             "#fdca26"
            ],
            [
             1,
             "#f0f921"
            ]
           ]
          },
          "colorway": [
           "#636efa",
           "#EF553B",
           "#00cc96",
           "#ab63fa",
           "#FFA15A",
           "#19d3f3",
           "#FF6692",
           "#B6E880",
           "#FF97FF",
           "#FECB52"
          ],
          "font": {
           "color": "#2a3f5f"
          },
          "geo": {
           "bgcolor": "white",
           "lakecolor": "white",
           "landcolor": "#E5ECF6",
           "showlakes": true,
           "showland": true,
           "subunitcolor": "white"
          },
          "hoverlabel": {
           "align": "left"
          },
          "hovermode": "closest",
          "mapbox": {
           "style": "light"
          },
          "paper_bgcolor": "white",
          "plot_bgcolor": "#E5ECF6",
          "polar": {
           "angularaxis": {
            "gridcolor": "white",
            "linecolor": "white",
            "ticks": ""
           },
           "bgcolor": "#E5ECF6",
           "radialaxis": {
            "gridcolor": "white",
            "linecolor": "white",
            "ticks": ""
           }
          },
          "scene": {
           "xaxis": {
            "backgroundcolor": "#E5ECF6",
            "gridcolor": "white",
            "gridwidth": 2,
            "linecolor": "white",
            "showbackground": true,
            "ticks": "",
            "zerolinecolor": "white"
           },
           "yaxis": {
            "backgroundcolor": "#E5ECF6",
            "gridcolor": "white",
            "gridwidth": 2,
            "linecolor": "white",
            "showbackground": true,
            "ticks": "",
            "zerolinecolor": "white"
           },
           "zaxis": {
            "backgroundcolor": "#E5ECF6",
            "gridcolor": "white",
            "gridwidth": 2,
            "linecolor": "white",
            "showbackground": true,
            "ticks": "",
            "zerolinecolor": "white"
           }
          },
          "shapedefaults": {
           "line": {
            "color": "#2a3f5f"
           }
          },
          "ternary": {
           "aaxis": {
            "gridcolor": "white",
            "linecolor": "white",
            "ticks": ""
           },
           "baxis": {
            "gridcolor": "white",
            "linecolor": "white",
            "ticks": ""
           },
           "bgcolor": "#E5ECF6",
           "caxis": {
            "gridcolor": "white",
            "linecolor": "white",
            "ticks": ""
           }
          },
          "title": {
           "x": 0.05
          },
          "xaxis": {
           "automargin": true,
           "gridcolor": "white",
           "linecolor": "white",
           "ticks": "",
           "zerolinecolor": "white",
           "zerolinewidth": 2
          },
          "yaxis": {
           "automargin": true,
           "gridcolor": "white",
           "linecolor": "white",
           "ticks": "",
           "zerolinecolor": "white",
           "zerolinewidth": 2
          }
         }
        },
        "title": {
         "text": "Track plots"
        }
       }
      },
      "text/html": [
       "<div>\n",
       "        \n",
       "        \n",
       "            <div id=\"7b7f5e5f-cc92-4c5f-b59e-3594d0b85887\" class=\"plotly-graph-div\" style=\"height:525px; width:100%;\"></div>\n",
       "            <script type=\"text/javascript\">\n",
       "                require([\"plotly\"], function(Plotly) {\n",
       "                    window.PLOTLYENV=window.PLOTLYENV || {};\n",
       "                    \n",
       "                if (document.getElementById(\"7b7f5e5f-cc92-4c5f-b59e-3594d0b85887\")) {\n",
       "                    Plotly.newPlot(\n",
       "                        '7b7f5e5f-cc92-4c5f-b59e-3594d0b85887',\n",
       "                        [{\"line\": {\"color\": \"red\", \"width\": 3}, \"marker\": {\"color\": \"red\", \"opacity\": 0.4, \"size\": 3}, \"name\": \"unsorted 0\", \"opacity\": 0.4, \"type\": \"scatter3d\", \"x\": [-18.54680061340332, -42.65999984741211, -67.77739715576172, -99.71430206298828, null, null, null, null, null, null, null, null, null, null, null, null, null, null, null, null], \"y\": [25.58860015869141, 59.30229949951172, 94.86530303955078, 140.76100158691406, null, null, null, null, null, null, null, null, null, null, null, null, null, null, null, null], \"z\": [-73.47879791259766, -169.36599731445312, -270.0570068359375, -399.36700439453125, null, null, null, null, null, null, null, null, null, null, null, null, null, null, null, null]}, {\"line\": {\"color\": \"red\", \"width\": 3}, \"marker\": {\"color\": \"red\", \"opacity\": 0.4, \"size\": 3}, \"name\": \"unsorted 1\", \"opacity\": 0.4, \"type\": \"scatter3d\", \"x\": [-20.31999969482422, -45.8109016418457, -74.40039825439453, -111.50399780273438, -171.26499938964844, -237.052001953125, -336.1809997558594, -452.4830017089844, -594.5230102539062, null, null, null, null, null, null, null, null, null, null, null], \"y\": [24.66860008239746, 55.14469909667969, 88.69740295410156, 131.35699462890622, 197.9530029296875, 268.51199340820307, 369.4949951171875, 480.718994140625, 607.5809936523438, null, null, null, null, null, null, null, null, null, null, null], \"z\": [-45.91379928588867, -102.55599975585938, -165.36099243164062, -246.0760040283203, -373.6000061035156, -512.0, -714.4000244140625, -944.4000244140624, -1214.5, null, null, null, null, null, null, null, null, null, null, null]}, {\"line\": {\"color\": \"red\", \"width\": 3}, \"marker\": {\"color\": \"red\", \"opacity\": 0.4, \"size\": 3}, \"name\": \"unsorted 2\", \"opacity\": 0.4, \"type\": \"scatter3d\", \"x\": [-24.58539962768555, -56.5103988647461, -92.247802734375, -138.16700744628906, -216.29400634765625, -311.74700927734375, -448.1669921875, -605.947998046875, -773.5440063476562, -995.1599731445312, null, null, null, null, null, null, null, null, null, null], \"y\": [-20.41320037841797, -45.22760009765625, -70.98359680175781, -101.0199966430664, -144.802001953125, -187.4010009765625, -231.2740020751953, -258.5050048828125, -262.88299560546875, -230.9340057373047, null, null, null, null, null, null, null, null, null, null], \"z\": [-13.975500106811525, -31.276599884033203, -50.01620101928711, -73.40589904785156, -111.4000015258789, -155.60000610351562, -216.1999969482422, -284.3999938964844, -357.6000061035156, -449.7999877929688, null, null, null, null, null, null, null, null, null, null]}, {\"line\": {\"color\": \"red\", \"width\": 3}, \"marker\": {\"color\": \"red\", \"opacity\": 0.4, \"size\": 3}, \"name\": \"unsorted 3\", \"opacity\": 0.4, \"type\": \"scatter3d\", \"x\": [15.418999671936035, 17.73150062561035, 20.331499099731445, 23.241300582885746, 26.00069999694824, 29.550500869750977, 32.71390151977539, 48.730201721191406, null, null, null, null, null, null, null, null, null, null, null, null], \"y\": [-52.97999954223633, -61.96979904174805, -72.79949951171875, -85.34819793701172, -97.91280364990234, -115.9229965209961, -133.95899963378906, -262.84698486328125, null, null, null, null, null, null, null, null, null, null, null, null], \"z\": [597.5, 697.5, 817.5, 957.5, 1097.5, 1298.0, 1498.0, 2945.5, null, null, null, null, null, null, null, null, null, null, null, null]}, {\"line\": {\"color\": \"red\", \"width\": 3}, \"marker\": {\"color\": \"red\", \"opacity\": 0.4, \"size\": 3}, \"name\": \"unsorted 4\", \"opacity\": 0.4, \"type\": \"scatter3d\", \"x\": [null, null, null, null, null, null, null, null, null, null, null, null, null, null, null, null, null, null, null, null], \"y\": [null, null, null, null, null, null, null, null, null, null, null, null, null, null, null, null, null, null, null, null], \"z\": [null, null, null, null, null, null, null, null, null, null, null, null, null, null, null, null, null, null, null, null]}, {\"line\": {\"color\": \"red\", \"width\": 3}, \"marker\": {\"color\": \"red\", \"opacity\": 0.4, \"size\": 3}, \"name\": \"unsorted 5\", \"opacity\": 0.4, \"type\": \"scatter3d\", \"x\": [-14.055999755859375, -31.30410003662109, -49.91780090332031, -72.21420288085938, -107.08499908447266, -143.49200439453125, -189.5659942626953, -237.00799560546875, -275.9979858398437, -316.12799072265625, null, null, null, null, null, null, null, null, null, null], \"y\": [-28.675500869750977, -64.72689819335939, -104.85099792480469, -154.7949981689453, -237.3650054931641, -330.875, -462.20599365234375, -617.947998046875, -770.0700073242188, -967.2680053710938, null, null, null, null, null, null, null, null, null, null], \"z\": [-21.582599639892575, -48.19290161132813, -77.67420196533203, -114.22200012207031, -174.1999969482422, -240.6000061035156, -333.6000061035156, -442.6000061035156, -542.0, -683.2000122070312, null, null, null, null, null, null, null, null, null, null]}, {\"line\": {\"color\": \"red\", \"width\": 3}, \"marker\": {\"color\": \"red\", \"opacity\": 0.4, \"size\": 3}, \"name\": \"unsorted 6\", \"opacity\": 0.4, \"type\": \"scatter3d\", \"x\": [-27.42390060424805, -61.020301818847656, -98.83439636230469, -147.70199584960938, -547.9849853515625, -223.11300659179688, -313.59698486328125, -447.2539978027344, -823.2639770507812, -682.6790161132812, null, null, null, null, null, null, null, null, null, null], \"y\": [-17.235300064086914, -37.75279998779297, -60.154701232910156, -88.006103515625, -274.7680053710937, -128.66400146484378, -173.8730010986328, -234.2989959716797, -365.18499755859375, -323.14599609375, null, null, null, null, null, null, null, null, null, null], \"z\": [-64.55840301513672, -142.64300537109375, -229.8260040283203, -341.39801025390625, -1218.5, -511.3999938964844, -712.0, -1002.4000244140624, -1802.5, -1494.5, null, null, null, null, null, null, null, null, null, null]}, {\"line\": {\"color\": \"red\", \"width\": 3}, \"marker\": {\"color\": \"red\", \"opacity\": 0.4, \"size\": 3}, \"name\": \"unsorted 7\", \"opacity\": 0.4, \"type\": \"scatter3d\", \"x\": [-24.42169952392578, -55.571998596191406, -89.46630096435547, -134.43699645996094, -205.81700134277344, -289.1319885253906, -411.72198486328125, -551.0650024414061, -701.8330078125, -889.1160278320312, null, null, null, null, null, null, null, null, null, null], \"y\": [-20.596399307250977, -46.090599060058594, -72.97329711914062, -107.33000183105469, -158.63299560546875, -213.89100646972656, -286.9419860839844, -359.135009765625, -425.9460144042969, -493.8370056152344, null, null, null, null, null, null, null, null, null, null], \"z\": [-23.42329978942871, -52.55550003051758, -83.82240295410156, -124.80699920654295, -188.6000061035156, -261.0, -364.6000061035156, -478.3999938964844, -601.7999877929688, -748.0, null, null, null, null, null, null, null, null, null, null]}, {\"line\": {\"color\": \"red\", \"width\": 3}, \"marker\": {\"color\": \"red\", \"opacity\": 0.4, \"size\": 3}, \"name\": \"unsorted 8\", \"opacity\": 0.4, \"type\": \"scatter3d\", \"x\": [-26.76469993591309, -61.00299835205078, -95.48829650878906, -458.4880065917969, -394.2139892578125, -328.27301025390625, -205.6080017089844, -285.47900390625, -613.0960083007812, null, null, null, null, null, null, null, null, null, null, null], \"y\": [-17.230100631713867, -40.42319869995117, -65.0447998046875, -423.697998046875, -344.35198974609375, -271.36898803710943, -153.35699462890625, -227.72300720214844, -645.1680297851562, null, null, null, null, null, null, null, null, null, null, null], \"z\": [-91.40380096435548, -209.58599853515625, -330.91900634765625, -1795.5, -1504.5, -1224.5, -735.4000244140625, -1049.4000244140623, -2555.5, null, null, null, null, null, null, null, null, null, null, null]}, {\"line\": {\"color\": \"red\", \"width\": 3}, \"marker\": {\"color\": \"red\", \"opacity\": 0.4, \"size\": 3}, \"name\": \"unsorted 9\", \"opacity\": 0.4, \"type\": \"scatter3d\", \"x\": [-12.65530014038086, -26.61210060119629, -40.456199645996094, -55.553199768066406, -39.82229995727539, -71.43470001220703, -78.80439758300781, -69.97550201416016, 94.27149963378906, 13.31149959564209, null, null, null, null, null, null, null, null, null, null], \"y\": [29.40539932250977, 65.97599792480469, 107.65899658203124, 162.88400268554688, 630.1799926757812, 250.406005859375, 353.0920104980469, 492.156005859375, 906.1300048828124, 766.3699951171875, null, null, null, null, null, null, null, null, null, null], \"z\": [-60.22100067138672, -133.42999267578122, -215.97999572753903, -323.4729919433594, -1215.5, -491.0, -684.7999877929688, -948.0, -1805.5, -1494.5, null, null, null, null, null, null, null, null, null, null]}, {\"line\": {\"color\": \"red\", \"width\": 3}, \"marker\": {\"color\": \"red\", \"opacity\": 0.4, \"size\": 3}, \"name\": \"unsorted 10\", \"opacity\": 0.4, \"type\": \"scatter3d\", \"x\": [-28.16819953918457, null, null, null, null, null, null, null, null, null, null, null, null, null, null, null, null, null, null, null], \"y\": [15.108699798583984, null, null, null, null, null, null, null, null, null, null, null, null, null, null, null, null, null, null, null], \"z\": [-281.64898681640625, null, null, null, null, null, null, null, null, null, null, null, null, null, null, null, null, null, null, null]}, {\"line\": {\"color\": \"red\", \"width\": 3}, \"marker\": {\"color\": \"red\", \"opacity\": 0.4, \"size\": 3}, \"name\": \"unsorted 11\", \"opacity\": 0.4, \"type\": \"scatter3d\", \"x\": [-3.5040500164031982, -2.543570041656494, 5.885240077972412, 27.63949966430664, 87.4104995727539, 190.81900024414062, 429.5350036621094, null, null, null, null, null, null, null, null, null, null, null, null, null], \"y\": [-31.29170036315918, -71.21659851074219, -116.26799774169922, -169.4980010986328, -244.72900390625, -300.76800537109375, -251.97999572753903, null, null, null, null, null, null, null, null, null, null, null, null, null], \"z\": [26.018800735473636, 59.39970016479492, 97.55370330810548, 143.74099731445312, 219.3999938964844, 311.3999938964844, 504.5450134277344, null, null, null, null, null, null, null, null, null, null, null, null, null]}, {\"line\": {\"color\": \"red\", \"width\": 3}, \"marker\": {\"color\": \"red\", \"opacity\": 0.4, \"size\": 3}, \"name\": \"unsorted 12\", \"opacity\": 0.4, \"type\": \"scatter3d\", \"x\": [11.609800338745115, 24.36249923706055, 34.82320022583008, 42.98630142211914, 44.36989974975586, 30.486900329589844, -50.92290115356445, -131.177001953125, -228.6519927978516, -357.6440124511719, null, null, null, null, null, null, null, null, null, null], \"y\": [29.30470085144043, 68.10990142822266, 110.9469985961914, 167.06500244140625, 257.84298706054693, 355.7650146484375, 547.4849853515625, 648.4630126953125, 730.8909912109375, 815.6179809570312, null, null, null, null, null, null, null, null, null, null], \"z\": [66.26319885253906, 152.99400329589844, 246.5010070800781, 366.8240051269531, 559.52001953125, 767.5, 1215.5, 1498.5, 1797.5, 2155.5, null, null, null, null, null, null, null, null, null, null]}, {\"line\": {\"color\": \"red\", \"width\": 3}, \"marker\": {\"color\": \"red\", \"opacity\": 0.4, \"size\": 3}, \"name\": \"unsorted 13\", \"opacity\": 0.4, \"type\": \"scatter3d\", \"x\": [27.47690010070801, 32.111400604248054, 37.50550079345703, 42.86709976196289, 50.38959884643555, 57.8936996459961, null, null, null, null, null, null, null, null, null, null, null, null, null, null], \"y\": [-18.56879997253418, -21.803800582885746, -25.621700286865234, -29.47760009765625, -35.04759979248047, -40.667701721191406, null, null, null, null, null, null, null, null, null, null, null, null, null, null], \"z\": [697.5, 817.5, 957.5, 1097.5, 1297.5, 1497.5, null, null, null, null, null, null, null, null, null, null, null, null, null, null]}, {\"line\": {\"color\": \"red\", \"width\": 3}, \"marker\": {\"color\": \"red\", \"opacity\": 0.4, \"size\": 3}, \"name\": \"unsorted 14\", \"opacity\": 0.4, \"type\": \"scatter3d\", \"x\": [165.56500244140625, 31.440900802612305, 71.25479888916016, 116.12000274658205, 651.3569946289062, 559.2319946289061, 477.5469970703125, 404.4440002441406, 330.4570007324219, 254.3580017089844, 740.114013671875, null, null, null, null, null, null, null, null, null], \"y\": [-15.446999549865724, -0.8595119714736938, -3.4549400806427, -8.047080039978027, -214.5989990234375, -160.82000732421875, -118.18099975585938, -85.19059753417969, -57.375, -34.661300659179695, -266.18899536132807, null, null, null, null, null, null, null, null, null], \"z\": [-602.0, -114.22599792480469, -258.56900024414057, -421.7829895019531, -2548.5, -2145.5, -1801.5, -1504.5, -1215.5, -929.2000122070312, -2944.5, null, null, null, null, null, null, null, null, null]}, {\"line\": {\"color\": \"red\", \"width\": 3}, \"marker\": {\"color\": \"red\", \"opacity\": 0.4, \"size\": 3}, \"name\": \"unsorted 15\", \"opacity\": 0.4, \"type\": \"scatter3d\", \"x\": [45.51139831542969, 41.13330078125, 36.40549850463867, 31.98270034790039, 28.06439971923828, 11.47469997406006, 75.88400268554688, 70.57980346679688, 66.21800231933594, 61.45370101928711, null, null, null, null, null, null, null, null, null, null], \"y\": [149.39700317382812, 130.04100036621094, 110.74299621582031, 94.1331024169922, 80.36180114746094, 29.369800567626953, 406.0260009765625, 351.3949890136719, 295.70001220703125, 247.49899291992188, null, null, null, null, null, null, null, null, null, null], \"z\": [-1098.0, -958.0, -818.0, -697.5, -597.5, -222.85299682617188, -2954.5, -2548.5, -2148.5, -1798.5, null, null, null, null, null, null, null, null, null, null]}, {\"line\": {\"color\": \"red\", \"width\": 3}, \"marker\": {\"color\": \"red\", \"opacity\": 0.4, \"size\": 3}, \"name\": \"unsorted 16\", \"opacity\": 0.4, \"type\": \"scatter3d\", \"x\": [133.00999450683594, 113.40599822998048, 97.09390258789062, 26.377199172973636, 58.44260025024414, 486.0610046386719, 420.0090026855469, 353.76300048828125, 293.4960021972656, 244.4129943847656, null, null, null, null, null, null, null, null, null, null], \"y\": [90.17440032958984, 77.29070281982422, 66.48059844970703, 18.40719985961914, 40.44219970703125, 306.5419921875, 266.9169921875, 227.5639953613281, 191.2510070800781, 161.06500244140625, null, null, null, null, null, null, null, null, null, null], \"z\": [-822.0, -702.0, -602.0, -164.93600463867188, -363.7869873046875, -2945.5, -2551.5, -2151.5, -1795.5, -1495.5, null, null, null, null, null, null, null, null, null, null]}, {\"line\": {\"color\": \"red\", \"width\": 3}, \"marker\": {\"color\": \"red\", \"opacity\": 0.4, \"size\": 3}, \"name\": \"unsorted 17\", \"opacity\": 0.4, \"type\": \"scatter3d\", \"x\": [18.186399459838867, 39.2239990234375, 62.38259887695313, 89.07510375976562, 227.9160003662109, 126.93900299072266, 164.09100341796875, 201.0829925537109, 227.8159942626953, null, null, null, null, null, null, null, null, null, null, null], \"y\": [26.685100555419922, 59.29819869995117, 97.98829650878906, 146.9320068359375, 615.39599609375, 227.24899291992188, 324.6669921875, 455.10101318359375, 935.5360107421876, null, null, null, null, null, null, null, null, null, null, null], \"z\": [-59.24639892578125, -130.23399353027344, -212.8979949951172, -315.1610107421875, -1215.5, -477.6000061035156, -668.2000122070312, -916.4000244140624, -1802.5, null, null, null, null, null, null, null, null, null, null, null]}, {\"line\": {\"color\": \"red\", \"width\": 3}, \"marker\": {\"color\": \"red\", \"opacity\": 0.4, \"size\": 3}, \"name\": \"unsorted 18\", \"opacity\": 0.4, \"type\": \"scatter3d\", \"x\": [77.26170349121094, 69.88040161132811, 62.38219833374024, 20.736499786376953, 43.437198638916016, 4.0159101486206055, 37.200599670410156, 67.097900390625, 85.51390075683594, 92.69490051269531, null, null, null, null, null, null, null, null, null, null], \"y\": [-132.69999694824222, -111.53600311279295, -93.58830261230469, -24.296600341796875, -57.72579956054688, -483.135009765625, -431.9939880371094, -369.4859924316406, -310.8580017089844, -256.78201293945307, null, null, null, null, null, null, null, null, null, null], \"z\": [-822.0, -702.0, -598.0, -168.52499389648438, -382.30999755859375, -2954.5, -2554.5, -2145.5, -1795.5, -1498.5, null, null, null, null, null, null, null, null, null, null]}, {\"line\": {\"color\": \"red\", \"width\": 3}, \"marker\": {\"color\": \"red\", \"opacity\": 0.4, \"size\": 3}, \"name\": \"unsorted 19\", \"opacity\": 0.4, \"type\": \"scatter3d\", \"x\": [14.769700050354006, 30.999799728393555, 46.406700134277344, 61.28319931030274, 74.95140075683594, 73.68119812011719, 43.59400177001953, -37.00849914550781, -179.51499938964844, -452.56201171875, null, null, null, null, null, null, null, null, null, null], \"y\": [-28.962299346923828, -65.33989715576172, -106.83100128173828, -160.0290069580078, -253.08099365234372, -356.1520080566406, -497.1260070800781, -658.0089721679688, -803.7789916992188, -919.031005859375, null, null, null, null, null, null, null, null, null, null], \"z\": [22.5403995513916, 50.36349868774414, 80.95249938964844, 118.58300018310548, 181.8000030517578, 251.6000061035156, 349.20001220703125, 472.3999938964844, 612.5999755859375, 828.0499877929688, null, null, null, null, null, null, null, null, null, null]}, {\"line\": {\"color\": \"red\", \"width\": 3}, \"marker\": {\"color\": \"red\", \"opacity\": 0.4, \"size\": 3}, \"name\": \"unsorted 20\", \"opacity\": 0.4, \"type\": \"scatter3d\", \"x\": [19.957000732421875, 46.67100143432617, 75.92900085449219, 116.29900360107422, 186.41000366210938, 260.06900024414057, 380.0710144042969, 532.9869995117189, 644.5540161132812, 831.6439819335938, null, null, null, null, null, null, null, null, null, null], \"y\": [-24.32900047302246, -54.94089889526367, -86.39510345458984, -126.49500274658205, -188.5240020751953, -244.8820037841797, -320.77301025390625, -393.65899658203125, -432.1199951171875, -476.6830139160156, null, null, null, null, null, null, null, null, null, null], \"z\": [48.15599822998047, 110.88400268554688, 177.23599243164062, 264.92300415039057, 409.6000061035156, 552.4000244140625, 770.7999877929688, 1030.5999755859377, 1214.5, 1505.5, null, null, null, null, null, null, null, null, null, null]}, {\"line\": {\"color\": \"red\", \"width\": 3}, \"marker\": {\"color\": \"red\", \"opacity\": 0.4, \"size\": 3}, \"name\": \"unsorted 21\", \"opacity\": 0.4, \"type\": \"scatter3d\", \"x\": [-22.468799591064453, null, null, null, null, null, null, null, null, null, null, null, null, null, null, null, null, null, null, null], \"y\": [22.085500717163086, null, null, null, null, null, null, null, null, null, null, null, null, null, null, null, null, null, null, null], \"z\": [54.69409942626953, null, null, null, null, null, null, null, null, null, null, null, null, null, null, null, null, null, null, null]}, {\"line\": {\"color\": \"red\", \"width\": 3}, \"marker\": {\"color\": \"red\", \"opacity\": 0.4, \"size\": 3}, \"name\": \"unsorted 22\", \"opacity\": 0.4, \"type\": \"scatter3d\", \"x\": [31.80719947814941, 70.83270263671875, 114.43499755859376, 170.73699951171875, 261.51699829101557, 360.0220031738281, 497.6780090332031, 656.0419921875, 819.8350219726562, 1018.4299926757812, null, null, null, null, null, null, null, null, null, null], \"y\": [4.285679817199707, 9.38813018798828, 14.911700248718262, 21.726299285888672, 32.017501831054695, 42.25310134887695, 54.78139877319336, 66.8385009765625, 76.57510375976562, 84.54049682617188, null, null, null, null, null, null, null, null, null, null], \"z\": [23.20719909667969, 52.1259994506836, 84.41110229492188, 126.06099700927734, 193.3999938964844, 265.79998779296875, 367.0, 483.7999877929688, 601.7999877929688, 748.0, null, null, null, null, null, null, null, null, null, null]}, {\"line\": {\"color\": \"red\", \"width\": 3}, \"marker\": {\"color\": \"red\", \"opacity\": 0.4, \"size\": 3}, \"name\": \"unsorted 23\", \"opacity\": 0.4, \"type\": \"scatter3d\", \"x\": [30.910600662231445, 70.847900390625, 112.56900024414062, 166.23300170898438, 253.968994140625, 345.38299560546875, 481.8089904785156, 634.2009887695312, 774.5999755859375, 957.2680053710938, null, null, null, null, null, null, null, null, null, null], \"y\": [6.849909782409668, 16.114799499511722, 26.29280090332031, 40.11280059814453, 64.60269927978516, 92.43379974365234, 138.7030029296875, 197.0279998779297, 257.40399169921875, 345.677001953125, null, null, null, null, null, null, null, null, null, null], \"z\": [27.968000411987305, 64.64209747314453, 103.05599975585938, 152.66099548339844, 234.1999969482422, 320.3999938964844, 449.7999877929688, 595.7999877929688, 737.2000122070312, 918.0, null, null, null, null, null, null, null, null, null, null]}, {\"line\": {\"color\": \"red\", \"width\": 3}, \"marker\": {\"color\": \"red\", \"opacity\": 0.4, \"size\": 3}, \"name\": \"unsorted 24\", \"opacity\": 0.4, \"type\": \"scatter3d\", \"x\": [0.6681060194969177, 4.6611599922180185, 17.864200592041016, 24.645000457763672, 76.7146987915039, 113.6520004272461, null, null, null, null, null, null, null, null, null, null, null, null, null, null], \"y\": [31.94750022888184, 71.3052978515625, 135.96000671386722, 158.03599548339844, 267.31399536132807, 319.3900146484375, null, null, null, null, null, null, null, null, null, null, null, null, null, null], \"z\": [139.54600524902344, 311.5870056152344, 598.0, 698.0, 1218.5, 1495.5, null, null, null, null, null, null, null, null, null, null, null, null, null, null]}, {\"line\": {\"color\": \"red\", \"width\": 3}, \"marker\": {\"color\": \"red\", \"opacity\": 0.4, \"size\": 3}, \"name\": \"unsorted 25\", \"opacity\": 0.4, \"type\": \"scatter3d\", \"x\": [17.81369972229004, 39.45299911499024, 63.72560119628906, 92.46189880371094, 136.656005859375, 182.08999633789062, 240.49899291992188, 299.3999938964844, 346.4339904785156, 390.5060119628906, null, null, null, null, null, null, null, null, null, null], \"y\": [26.315099716186523, 59.15869903564453, 97.4145965576172, 144.86000061035156, 222.9459991455078, 310.843994140625, 438.593994140625, 592.93798828125, 746.3690185546875, 940.5230102539062, null, null, null, null, null, null, null, null, null, null], \"z\": [1.6156200170516968, 4.034369945526123, 6.8274598121643075, 10.22189998626709, 16.200000762939453, 22.200000762939453, 30.60000038146973, 41.400001525878906, 48.599998474121094, 65.19999694824219, null, null, null, null, null, null, null, null, null, null]}, {\"line\": {\"color\": \"red\", \"width\": 3}, \"marker\": {\"color\": \"red\", \"opacity\": 0.4, \"size\": 3}, \"name\": \"unsorted 26\", \"opacity\": 0.4, \"type\": \"scatter3d\", \"x\": [-28.12339973449707, -22.71999931335449, -3.8848700523376474, -10.402700424194336, -247.30099487304688, -200.41099548339844, -154.27499389648438, -116.41899871826172, -86.7291030883789, -62.73350143432617, null, null, null, null, null, null, null, null, null, null], \"y\": [-150.69400024414062, -129.46699523925778, -31.76609992980957, -72.04109954833984, -575.8209838867188, -508.1900024414063, -437.6780090332031, -372.01800537109375, -313.0369873046875, -257.06201171875, null, null, null, null, null, null, null, null, null, null], \"z\": [-702.0, -602.0, -147.0590057373047, -333.552001953125, -2945.5, -2554.5, -2154.5, -1798.5, -1495.5, -1215.5, null, null, null, null, null, null, null, null, null, null]}, {\"line\": {\"color\": \"red\", \"width\": 3}, \"marker\": {\"color\": \"red\", \"opacity\": 0.4, \"size\": 3}, \"name\": \"unsorted 27\", \"opacity\": 0.4, \"type\": \"scatter3d\", \"x\": [8.795009613037111, 17.28420066833496, 20.940500259399414, 23.398799896240234, 26.01180076599121, 28.493000030517575, 30.49209976196289, 33.61999893188477, 32.47869873046875, 31.2992000579834, 31.61160087585449, null, null, null, null, null, null, null, null, null], \"y\": [31.48909950256348, 69.21250152587889, 89.04399871826172, 103.96299743652344, 122.06099700927734, 143.31100463867188, 164.6959991455078, 269.72100830078125, 320.59698486328125, 378.72698974609375, 435.9129943847656, null, null, null, null, null, null, null, null, null], \"z\": [214.45700073242188, 469.4249877929688, 602.5, 702.0, 822.0, 962.0, 1102.0, 1795.5, 2145.5, 2545.5, 2951.5, null, null, null, null, null, null, null, null, null]}, {\"line\": {\"color\": \"red\", \"width\": 3}, \"marker\": {\"color\": \"red\", \"opacity\": 0.4, \"size\": 3}, \"name\": \"unsorted 28\", \"opacity\": 0.4, \"type\": \"scatter3d\", \"x\": [null, null, null, null, null, null, null, null, null, null, null, null, null, null, null, null, null, null, null, null], \"y\": [null, null, null, null, null, null, null, null, null, null, null, null, null, null, null, null, null, null, null, null], \"z\": [null, null, null, null, null, null, null, null, null, null, null, null, null, null, null, null, null, null, null, null]}, {\"line\": {\"color\": \"red\", \"width\": 3}, \"marker\": {\"color\": \"red\", \"opacity\": 0.4, \"size\": 3}, \"name\": \"unsorted 29\", \"opacity\": 0.4, \"type\": \"scatter3d\", \"x\": [-16.77239990234375, null, null, null, null, null, null, null, null, null, null, null, null, null, null, null, null, null, null, null], \"y\": [27.17350006103516, null, null, null, null, null, null, null, null, null, null, null, null, null, null, null, null, null, null, null], \"z\": [61.80820083618164, null, null, null, null, null, null, null, null, null, null, null, null, null, null, null, null, null, null, null]}, {\"line\": {\"color\": \"blue\", \"width\": 3}, \"marker\": {\"color\": \"blue\", \"opacity\": 0.4, \"size\": 3}, \"name\": \"sorted 0\", \"opacity\": 0.4, \"type\": \"scatter3d\", \"x\": [-18.54680061340332, -42.65999984741211, -67.77739715576172, -99.71430206298828, null, null, null, null, null, null, null, null, null, null, null, null, null, null, null, null], \"y\": [25.58860015869141, 59.30229949951172, 94.86530303955078, 140.76100158691406, null, null, null, null, null, null, null, null, null, null, null, null, null, null, null, null], \"z\": [-73.47879791259766, -169.36599731445312, -270.0570068359375, -399.36700439453125, null, null, null, null, null, null, null, null, null, null, null, null, null, null, null, null]}, {\"line\": {\"color\": \"blue\", \"width\": 3}, \"marker\": {\"color\": \"blue\", \"opacity\": 0.4, \"size\": 3}, \"name\": \"sorted 1\", \"opacity\": 0.4, \"type\": \"scatter3d\", \"x\": [-20.31999969482422, -45.8109016418457, -74.40039825439453, -111.50399780273438, -171.26499938964844, -237.052001953125, -336.1809997558594, -452.4830017089844, -594.5230102539062, null, null, null, null, null, null, null, null, null, null, null], \"y\": [24.66860008239746, 55.14469909667969, 88.69740295410156, 131.35699462890622, 197.9530029296875, 268.51199340820307, 369.4949951171875, 480.718994140625, 607.5809936523438, null, null, null, null, null, null, null, null, null, null, null], \"z\": [-45.91379928588867, -102.55599975585938, -165.36099243164062, -246.0760040283203, -373.6000061035156, -512.0, -714.4000244140625, -944.4000244140624, -1214.5, null, null, null, null, null, null, null, null, null, null, null]}, {\"line\": {\"color\": \"blue\", \"width\": 3}, \"marker\": {\"color\": \"blue\", \"opacity\": 0.4, \"size\": 3}, \"name\": \"sorted 2\", \"opacity\": 0.4, \"type\": \"scatter3d\", \"x\": [-24.58539962768555, -56.5103988647461, -92.247802734375, -138.16700744628906, -216.29400634765625, -311.74700927734375, -448.1669921875, -605.947998046875, -773.5440063476562, -995.1599731445312, null, null, null, null, null, null, null, null, null, null], \"y\": [-20.41320037841797, -45.22760009765625, -70.98359680175781, -101.0199966430664, -144.802001953125, -187.4010009765625, -231.2740020751953, -258.5050048828125, -262.88299560546875, -230.9340057373047, null, null, null, null, null, null, null, null, null, null], \"z\": [-13.975500106811525, -31.276599884033203, -50.01620101928711, -73.40589904785156, -111.4000015258789, -155.60000610351562, -216.1999969482422, -284.3999938964844, -357.6000061035156, -449.7999877929688, null, null, null, null, null, null, null, null, null, null]}, {\"line\": {\"color\": \"blue\", \"width\": 3}, \"marker\": {\"color\": \"blue\", \"opacity\": 0.4, \"size\": 3}, \"name\": \"sorted 3\", \"opacity\": 0.4, \"type\": \"scatter3d\", \"x\": [15.418999671936035, 17.73150062561035, 20.331499099731445, 23.241300582885746, 26.00069999694824, 29.550500869750977, 32.71390151977539, 48.730201721191406, null, null, null, null, null, null, null, null, null, null, null, null], \"y\": [-52.97999954223633, -61.96979904174805, -72.79949951171875, -85.34819793701172, -97.91280364990234, -115.9229965209961, -133.95899963378906, -262.84698486328125, null, null, null, null, null, null, null, null, null, null, null, null], \"z\": [597.5, 697.5, 817.5, 957.5, 1097.5, 1298.0, 1498.0, 2945.5, null, null, null, null, null, null, null, null, null, null, null, null]}, {\"line\": {\"color\": \"blue\", \"width\": 3}, \"marker\": {\"color\": \"blue\", \"opacity\": 0.4, \"size\": 3}, \"name\": \"sorted 4\", \"opacity\": 0.4, \"type\": \"scatter3d\", \"x\": [null, null, null, null, null, null, null, null, null, null, null, null, null, null, null, null, null, null, null, null], \"y\": [null, null, null, null, null, null, null, null, null, null, null, null, null, null, null, null, null, null, null, null], \"z\": [null, null, null, null, null, null, null, null, null, null, null, null, null, null, null, null, null, null, null, null]}, {\"line\": {\"color\": \"blue\", \"width\": 3}, \"marker\": {\"color\": \"blue\", \"opacity\": 0.4, \"size\": 3}, \"name\": \"sorted 5\", \"opacity\": 0.4, \"type\": \"scatter3d\", \"x\": [-14.055999755859375, -31.30410003662109, -49.91780090332031, -72.21420288085938, -107.08499908447266, -143.49200439453125, -189.5659942626953, -237.00799560546875, -275.9979858398437, -316.12799072265625, null, null, null, null, null, null, null, null, null, null], \"y\": [-28.675500869750977, -64.72689819335939, -104.85099792480469, -154.7949981689453, -237.3650054931641, -330.875, -462.20599365234375, -617.947998046875, -770.0700073242188, -967.2680053710938, null, null, null, null, null, null, null, null, null, null], \"z\": [-21.582599639892575, -48.19290161132813, -77.67420196533203, -114.22200012207031, -174.1999969482422, -240.6000061035156, -333.6000061035156, -442.6000061035156, -542.0, -683.2000122070312, null, null, null, null, null, null, null, null, null, null]}, {\"line\": {\"color\": \"blue\", \"width\": 3}, \"marker\": {\"color\": \"blue\", \"opacity\": 0.4, \"size\": 3}, \"name\": \"sorted 6\", \"opacity\": 0.4, \"type\": \"scatter3d\", \"x\": [-27.42390060424805, -61.020301818847656, -98.83439636230469, -147.70199584960938, -223.11300659179688, -313.59698486328125, -447.2539978027344, -547.9849853515625, -682.6790161132812, -823.2639770507812, null, null, null, null, null, null, null, null, null, null], \"y\": [-17.235300064086914, -37.75279998779297, -60.154701232910156, -88.006103515625, -128.66400146484378, -173.8730010986328, -234.2989959716797, -274.7680053710937, -323.14599609375, -365.18499755859375, null, null, null, null, null, null, null, null, null, null], \"z\": [-64.55840301513672, -142.64300537109375, -229.8260040283203, -341.39801025390625, -511.3999938964844, -712.0, -1002.4000244140624, -1218.5, -1494.5, -1802.5, null, null, null, null, null, null, null, null, null, null]}, {\"line\": {\"color\": \"blue\", \"width\": 3}, \"marker\": {\"color\": \"blue\", \"opacity\": 0.4, \"size\": 3}, \"name\": \"sorted 7\", \"opacity\": 0.4, \"type\": \"scatter3d\", \"x\": [-24.42169952392578, -55.571998596191406, -89.46630096435547, -134.43699645996094, -205.81700134277344, -289.1319885253906, -411.72198486328125, -551.0650024414061, -701.8330078125, -889.1160278320312, null, null, null, null, null, null, null, null, null, null], \"y\": [-20.596399307250977, -46.090599060058594, -72.97329711914062, -107.33000183105469, -158.63299560546875, -213.89100646972656, -286.9419860839844, -359.135009765625, -425.9460144042969, -493.8370056152344, null, null, null, null, null, null, null, null, null, null], \"z\": [-23.42329978942871, -52.55550003051758, -83.82240295410156, -124.80699920654295, -188.6000061035156, -261.0, -364.6000061035156, -478.3999938964844, -601.7999877929688, -748.0, null, null, null, null, null, null, null, null, null, null]}, {\"line\": {\"color\": \"blue\", \"width\": 3}, \"marker\": {\"color\": \"blue\", \"opacity\": 0.4, \"size\": 3}, \"name\": \"sorted 8\", \"opacity\": 0.4, \"type\": \"scatter3d\", \"x\": [-26.76469993591309, -61.00299835205078, -95.48829650878906, -205.6080017089844, -285.47900390625, -328.27301025390625, -394.2139892578125, -458.4880065917969, -613.0960083007812, null, null, null, null, null, null, null, null, null, null, null], \"y\": [-17.230100631713867, -40.42319869995117, -65.0447998046875, -153.35699462890625, -227.72300720214844, -271.36898803710943, -344.35198974609375, -423.697998046875, -645.1680297851562, null, null, null, null, null, null, null, null, null, null, null], \"z\": [-91.40380096435548, -209.58599853515625, -330.91900634765625, -735.4000244140625, -1049.4000244140623, -1224.5, -1504.5, -1795.5, -2555.5, null, null, null, null, null, null, null, null, null, null, null]}, {\"line\": {\"color\": \"blue\", \"width\": 3}, \"marker\": {\"color\": \"blue\", \"opacity\": 0.4, \"size\": 3}, \"name\": \"sorted 9\", \"opacity\": 0.4, \"type\": \"scatter3d\", \"x\": [-12.65530014038086, -26.61210060119629, -40.456199645996094, -55.553199768066406, -71.43470001220703, -78.80439758300781, -69.97550201416016, -39.82229995727539, 13.31149959564209, 94.27149963378906, null, null, null, null, null, null, null, null, null, null], \"y\": [29.40539932250977, 65.97599792480469, 107.65899658203124, 162.88400268554688, 250.406005859375, 353.0920104980469, 492.156005859375, 630.1799926757812, 766.3699951171875, 906.1300048828124, null, null, null, null, null, null, null, null, null, null], \"z\": [-60.22100067138672, -133.42999267578122, -215.97999572753903, -323.4729919433594, -491.0, -684.7999877929688, -948.0, -1215.5, -1494.5, -1805.5, null, null, null, null, null, null, null, null, null, null]}, {\"line\": {\"color\": \"blue\", \"width\": 3}, \"marker\": {\"color\": \"blue\", \"opacity\": 0.4, \"size\": 3}, \"name\": \"sorted 10\", \"opacity\": 0.4, \"type\": \"scatter3d\", \"x\": [-28.16819953918457, null, null, null, null, null, null, null, null, null, null, null, null, null, null, null, null, null, null, null], \"y\": [15.108699798583984, null, null, null, null, null, null, null, null, null, null, null, null, null, null, null, null, null, null, null], \"z\": [-281.64898681640625, null, null, null, null, null, null, null, null, null, null, null, null, null, null, null, null, null, null, null]}, {\"line\": {\"color\": \"blue\", \"width\": 3}, \"marker\": {\"color\": \"blue\", \"opacity\": 0.4, \"size\": 3}, \"name\": \"sorted 11\", \"opacity\": 0.4, \"type\": \"scatter3d\", \"x\": [-3.5040500164031982, -2.543570041656494, 5.885240077972412, 27.63949966430664, 87.4104995727539, 190.81900024414062, 429.5350036621094, null, null, null, null, null, null, null, null, null, null, null, null, null], \"y\": [-31.29170036315918, -71.21659851074219, -116.26799774169922, -169.4980010986328, -244.72900390625, -300.76800537109375, -251.97999572753903, null, null, null, null, null, null, null, null, null, null, null, null, null], \"z\": [26.018800735473636, 59.39970016479492, 97.55370330810548, 143.74099731445312, 219.3999938964844, 311.3999938964844, 504.5450134277344, null, null, null, null, null, null, null, null, null, null, null, null, null]}, {\"line\": {\"color\": \"blue\", \"width\": 3}, \"marker\": {\"color\": \"blue\", \"opacity\": 0.4, \"size\": 3}, \"name\": \"sorted 12\", \"opacity\": 0.4, \"type\": \"scatter3d\", \"x\": [11.609800338745115, 24.36249923706055, 34.82320022583008, 42.98630142211914, 44.36989974975586, 30.486900329589844, -50.92290115356445, -131.177001953125, -228.6519927978516, -357.6440124511719, null, null, null, null, null, null, null, null, null, null], \"y\": [29.30470085144043, 68.10990142822266, 110.9469985961914, 167.06500244140625, 257.84298706054693, 355.7650146484375, 547.4849853515625, 648.4630126953125, 730.8909912109375, 815.6179809570312, null, null, null, null, null, null, null, null, null, null], \"z\": [66.26319885253906, 152.99400329589844, 246.5010070800781, 366.8240051269531, 559.52001953125, 767.5, 1215.5, 1498.5, 1797.5, 2155.5, null, null, null, null, null, null, null, null, null, null]}, {\"line\": {\"color\": \"blue\", \"width\": 3}, \"marker\": {\"color\": \"blue\", \"opacity\": 0.4, \"size\": 3}, \"name\": \"sorted 13\", \"opacity\": 0.4, \"type\": \"scatter3d\", \"x\": [27.47690010070801, 32.111400604248054, 37.50550079345703, 42.86709976196289, 50.38959884643555, 57.8936996459961, null, null, null, null, null, null, null, null, null, null, null, null, null, null], \"y\": [-18.56879997253418, -21.803800582885746, -25.621700286865234, -29.47760009765625, -35.04759979248047, -40.667701721191406, null, null, null, null, null, null, null, null, null, null, null, null, null, null], \"z\": [697.5, 817.5, 957.5, 1097.5, 1297.5, 1497.5, null, null, null, null, null, null, null, null, null, null, null, null, null, null]}, {\"line\": {\"color\": \"blue\", \"width\": 3}, \"marker\": {\"color\": \"blue\", \"opacity\": 0.4, \"size\": 3}, \"name\": \"sorted 14\", \"opacity\": 0.4, \"type\": \"scatter3d\", \"x\": [31.440900802612305, 71.25479888916016, 116.12000274658205, 165.56500244140625, 254.3580017089844, 330.4570007324219, 404.4440002441406, 477.5469970703125, 559.2319946289061, 651.3569946289062, 740.114013671875, null, null, null, null, null, null, null, null, null], \"y\": [-0.8595119714736938, -3.4549400806427, -8.047080039978027, -15.446999549865724, -34.661300659179695, -57.375, -85.19059753417969, -118.18099975585938, -160.82000732421875, -214.5989990234375, -266.18899536132807, null, null, null, null, null, null, null, null, null], \"z\": [-114.22599792480469, -258.56900024414057, -421.7829895019531, -602.0, -929.2000122070312, -1215.5, -1504.5, -1801.5, -2145.5, -2548.5, -2944.5, null, null, null, null, null, null, null, null, null]}, {\"line\": {\"color\": \"blue\", \"width\": 3}, \"marker\": {\"color\": \"blue\", \"opacity\": 0.4, \"size\": 3}, \"name\": \"sorted 15\", \"opacity\": 0.4, \"type\": \"scatter3d\", \"x\": [11.47469997406006, 28.06439971923828, 31.98270034790039, 36.40549850463867, 41.13330078125, 45.51139831542969, 61.45370101928711, 66.21800231933594, 70.57980346679688, 75.88400268554688, null, null, null, null, null, null, null, null, null, null], \"y\": [29.369800567626953, 80.36180114746094, 94.1331024169922, 110.74299621582031, 130.04100036621094, 149.39700317382812, 247.49899291992188, 295.70001220703125, 351.3949890136719, 406.0260009765625, null, null, null, null, null, null, null, null, null, null], \"z\": [-222.85299682617188, -597.5, -697.5, -818.0, -958.0, -1098.0, -1798.5, -2148.5, -2548.5, -2954.5, null, null, null, null, null, null, null, null, null, null]}, {\"line\": {\"color\": \"blue\", \"width\": 3}, \"marker\": {\"color\": \"blue\", \"opacity\": 0.4, \"size\": 3}, \"name\": \"sorted 16\", \"opacity\": 0.4, \"type\": \"scatter3d\", \"x\": [26.377199172973636, 58.44260025024414, 97.09390258789062, 113.40599822998048, 133.00999450683594, 244.4129943847656, 293.4960021972656, 353.76300048828125, 420.0090026855469, 486.0610046386719, null, null, null, null, null, null, null, null, null, null], \"y\": [18.40719985961914, 40.44219970703125, 66.48059844970703, 77.29070281982422, 90.17440032958984, 161.06500244140625, 191.2510070800781, 227.5639953613281, 266.9169921875, 306.5419921875, null, null, null, null, null, null, null, null, null, null], \"z\": [-164.93600463867188, -363.7869873046875, -602.0, -702.0, -822.0, -1495.5, -1795.5, -2151.5, -2551.5, -2945.5, null, null, null, null, null, null, null, null, null, null]}, {\"line\": {\"color\": \"blue\", \"width\": 3}, \"marker\": {\"color\": \"blue\", \"opacity\": 0.4, \"size\": 3}, \"name\": \"sorted 17\", \"opacity\": 0.4, \"type\": \"scatter3d\", \"x\": [18.186399459838867, 39.2239990234375, 62.38259887695313, 89.07510375976562, 126.93900299072266, 164.09100341796875, 201.0829925537109, 227.9160003662109, 227.8159942626953, null, null, null, null, null, null, null, null, null, null, null], \"y\": [26.685100555419922, 59.29819869995117, 97.98829650878906, 146.9320068359375, 227.24899291992188, 324.6669921875, 455.10101318359375, 615.39599609375, 935.5360107421876, null, null, null, null, null, null, null, null, null, null, null], \"z\": [-59.24639892578125, -130.23399353027344, -212.8979949951172, -315.1610107421875, -477.6000061035156, -668.2000122070312, -916.4000244140624, -1215.5, -1802.5, null, null, null, null, null, null, null, null, null, null, null]}, {\"line\": {\"color\": \"blue\", \"width\": 3}, \"marker\": {\"color\": \"blue\", \"opacity\": 0.4, \"size\": 3}, \"name\": \"sorted 18\", \"opacity\": 0.4, \"type\": \"scatter3d\", \"x\": [20.736499786376953, 43.437198638916016, 62.38219833374024, 69.88040161132811, 77.26170349121094, 92.69490051269531, 85.51390075683594, 67.097900390625, 37.200599670410156, 4.0159101486206055, null, null, null, null, null, null, null, null, null, null], \"y\": [-24.296600341796875, -57.72579956054688, -93.58830261230469, -111.53600311279295, -132.69999694824222, -256.78201293945307, -310.8580017089844, -369.4859924316406, -431.9939880371094, -483.135009765625, null, null, null, null, null, null, null, null, null, null], \"z\": [-168.52499389648438, -382.30999755859375, -598.0, -702.0, -822.0, -1498.5, -1795.5, -2145.5, -2554.5, -2954.5, null, null, null, null, null, null, null, null, null, null]}, {\"line\": {\"color\": \"blue\", \"width\": 3}, \"marker\": {\"color\": \"blue\", \"opacity\": 0.4, \"size\": 3}, \"name\": \"sorted 19\", \"opacity\": 0.4, \"type\": \"scatter3d\", \"x\": [14.769700050354006, 30.999799728393555, 46.406700134277344, 61.28319931030274, 74.95140075683594, 73.68119812011719, 43.59400177001953, -37.00849914550781, -179.51499938964844, -452.56201171875, null, null, null, null, null, null, null, null, null, null], \"y\": [-28.962299346923828, -65.33989715576172, -106.83100128173828, -160.0290069580078, -253.08099365234372, -356.1520080566406, -497.1260070800781, -658.0089721679688, -803.7789916992188, -919.031005859375, null, null, null, null, null, null, null, null, null, null], \"z\": [22.5403995513916, 50.36349868774414, 80.95249938964844, 118.58300018310548, 181.8000030517578, 251.6000061035156, 349.20001220703125, 472.3999938964844, 612.5999755859375, 828.0499877929688, null, null, null, null, null, null, null, null, null, null]}, {\"line\": {\"color\": \"blue\", \"width\": 3}, \"marker\": {\"color\": \"blue\", \"opacity\": 0.4, \"size\": 3}, \"name\": \"sorted 20\", \"opacity\": 0.4, \"type\": \"scatter3d\", \"x\": [19.957000732421875, 46.67100143432617, 75.92900085449219, 116.29900360107422, 186.41000366210938, 260.06900024414057, 380.0710144042969, 532.9869995117189, 644.5540161132812, 831.6439819335938, null, null, null, null, null, null, null, null, null, null], \"y\": [-24.32900047302246, -54.94089889526367, -86.39510345458984, -126.49500274658205, -188.5240020751953, -244.8820037841797, -320.77301025390625, -393.65899658203125, -432.1199951171875, -476.6830139160156, null, null, null, null, null, null, null, null, null, null], \"z\": [48.15599822998047, 110.88400268554688, 177.23599243164062, 264.92300415039057, 409.6000061035156, 552.4000244140625, 770.7999877929688, 1030.5999755859377, 1214.5, 1505.5, null, null, null, null, null, null, null, null, null, null]}, {\"line\": {\"color\": \"blue\", \"width\": 3}, \"marker\": {\"color\": \"blue\", \"opacity\": 0.4, \"size\": 3}, \"name\": \"sorted 21\", \"opacity\": 0.4, \"type\": \"scatter3d\", \"x\": [-22.468799591064453, null, null, null, null, null, null, null, null, null, null, null, null, null, null, null, null, null, null, null], \"y\": [22.085500717163086, null, null, null, null, null, null, null, null, null, null, null, null, null, null, null, null, null, null, null], \"z\": [54.69409942626953, null, null, null, null, null, null, null, null, null, null, null, null, null, null, null, null, null, null, null]}, {\"line\": {\"color\": \"blue\", \"width\": 3}, \"marker\": {\"color\": \"blue\", \"opacity\": 0.4, \"size\": 3}, \"name\": \"sorted 22\", \"opacity\": 0.4, \"type\": \"scatter3d\", \"x\": [31.80719947814941, 70.83270263671875, 114.43499755859376, 170.73699951171875, 261.51699829101557, 360.0220031738281, 497.6780090332031, 656.0419921875, 819.8350219726562, 1018.4299926757812, null, null, null, null, null, null, null, null, null, null], \"y\": [4.285679817199707, 9.38813018798828, 14.911700248718262, 21.726299285888672, 32.017501831054695, 42.25310134887695, 54.78139877319336, 66.8385009765625, 76.57510375976562, 84.54049682617188, null, null, null, null, null, null, null, null, null, null], \"z\": [23.20719909667969, 52.1259994506836, 84.41110229492188, 126.06099700927734, 193.3999938964844, 265.79998779296875, 367.0, 483.7999877929688, 601.7999877929688, 748.0, null, null, null, null, null, null, null, null, null, null]}, {\"line\": {\"color\": \"blue\", \"width\": 3}, \"marker\": {\"color\": \"blue\", \"opacity\": 0.4, \"size\": 3}, \"name\": \"sorted 23\", \"opacity\": 0.4, \"type\": \"scatter3d\", \"x\": [30.910600662231445, 70.847900390625, 112.56900024414062, 166.23300170898438, 253.968994140625, 345.38299560546875, 481.8089904785156, 634.2009887695312, 774.5999755859375, 957.2680053710938, null, null, null, null, null, null, null, null, null, null], \"y\": [6.849909782409668, 16.114799499511722, 26.29280090332031, 40.11280059814453, 64.60269927978516, 92.43379974365234, 138.7030029296875, 197.0279998779297, 257.40399169921875, 345.677001953125, null, null, null, null, null, null, null, null, null, null], \"z\": [27.968000411987305, 64.64209747314453, 103.05599975585938, 152.66099548339844, 234.1999969482422, 320.3999938964844, 449.7999877929688, 595.7999877929688, 737.2000122070312, 918.0, null, null, null, null, null, null, null, null, null, null]}, {\"line\": {\"color\": \"blue\", \"width\": 3}, \"marker\": {\"color\": \"blue\", \"opacity\": 0.4, \"size\": 3}, \"name\": \"sorted 24\", \"opacity\": 0.4, \"type\": \"scatter3d\", \"x\": [0.6681060194969177, 4.6611599922180185, 17.864200592041016, 24.645000457763672, 76.7146987915039, 113.6520004272461, null, null, null, null, null, null, null, null, null, null, null, null, null, null], \"y\": [31.94750022888184, 71.3052978515625, 135.96000671386722, 158.03599548339844, 267.31399536132807, 319.3900146484375, null, null, null, null, null, null, null, null, null, null, null, null, null, null], \"z\": [139.54600524902344, 311.5870056152344, 598.0, 698.0, 1218.5, 1495.5, null, null, null, null, null, null, null, null, null, null, null, null, null, null]}, {\"line\": {\"color\": \"blue\", \"width\": 3}, \"marker\": {\"color\": \"blue\", \"opacity\": 0.4, \"size\": 3}, \"name\": \"sorted 25\", \"opacity\": 0.4, \"type\": \"scatter3d\", \"x\": [17.81369972229004, 39.45299911499024, 63.72560119628906, 92.46189880371094, 136.656005859375, 182.08999633789062, 240.49899291992188, 299.3999938964844, 346.4339904785156, 390.5060119628906, null, null, null, null, null, null, null, null, null, null], \"y\": [26.315099716186523, 59.15869903564453, 97.4145965576172, 144.86000061035156, 222.9459991455078, 310.843994140625, 438.593994140625, 592.93798828125, 746.3690185546875, 940.5230102539062, null, null, null, null, null, null, null, null, null, null], \"z\": [1.6156200170516968, 4.034369945526123, 6.8274598121643075, 10.22189998626709, 16.200000762939453, 22.200000762939453, 30.60000038146973, 41.400001525878906, 48.599998474121094, 65.19999694824219, null, null, null, null, null, null, null, null, null, null]}, {\"line\": {\"color\": \"blue\", \"width\": 3}, \"marker\": {\"color\": \"blue\", \"opacity\": 0.4, \"size\": 3}, \"name\": \"sorted 26\", \"opacity\": 0.4, \"type\": \"scatter3d\", \"x\": [-3.8848700523376474, -10.402700424194336, -22.71999931335449, -28.12339973449707, -62.73350143432617, -86.7291030883789, -116.41899871826172, -154.27499389648438, -200.41099548339844, -247.30099487304688, null, null, null, null, null, null, null, null, null, null], \"y\": [-31.76609992980957, -72.04109954833984, -129.46699523925778, -150.69400024414062, -257.06201171875, -313.0369873046875, -372.01800537109375, -437.6780090332031, -508.1900024414063, -575.8209838867188, null, null, null, null, null, null, null, null, null, null], \"z\": [-147.0590057373047, -333.552001953125, -602.0, -702.0, -1215.5, -1495.5, -1798.5, -2154.5, -2554.5, -2945.5, null, null, null, null, null, null, null, null, null, null]}, {\"line\": {\"color\": \"blue\", \"width\": 3}, \"marker\": {\"color\": \"blue\", \"opacity\": 0.4, \"size\": 3}, \"name\": \"sorted 27\", \"opacity\": 0.4, \"type\": \"scatter3d\", \"x\": [8.795009613037111, 17.28420066833496, 20.940500259399414, 23.398799896240234, 26.01180076599121, 28.493000030517575, 30.49209976196289, 33.61999893188477, 32.47869873046875, 31.2992000579834, 31.61160087585449, null, null, null, null, null, null, null, null, null], \"y\": [31.48909950256348, 69.21250152587889, 89.04399871826172, 103.96299743652344, 122.06099700927734, 143.31100463867188, 164.6959991455078, 269.72100830078125, 320.59698486328125, 378.72698974609375, 435.9129943847656, null, null, null, null, null, null, null, null, null], \"z\": [214.45700073242188, 469.4249877929688, 602.5, 702.0, 822.0, 962.0, 1102.0, 1795.5, 2145.5, 2545.5, 2951.5, null, null, null, null, null, null, null, null, null]}, {\"line\": {\"color\": \"blue\", \"width\": 3}, \"marker\": {\"color\": \"blue\", \"opacity\": 0.4, \"size\": 3}, \"name\": \"sorted 28\", \"opacity\": 0.4, \"type\": \"scatter3d\", \"x\": [null, null, null, null, null, null, null, null, null, null, null, null, null, null, null, null, null, null, null, null], \"y\": [null, null, null, null, null, null, null, null, null, null, null, null, null, null, null, null, null, null, null, null], \"z\": [null, null, null, null, null, null, null, null, null, null, null, null, null, null, null, null, null, null, null, null]}, {\"line\": {\"color\": \"blue\", \"width\": 3}, \"marker\": {\"color\": \"blue\", \"opacity\": 0.4, \"size\": 3}, \"name\": \"sorted 29\", \"opacity\": 0.4, \"type\": \"scatter3d\", \"x\": [-16.77239990234375, null, null, null, null, null, null, null, null, null, null, null, null, null, null, null, null, null, null, null], \"y\": [27.17350006103516, null, null, null, null, null, null, null, null, null, null, null, null, null, null, null, null, null, null, null], \"z\": [61.80820083618164, null, null, null, null, null, null, null, null, null, null, null, null, null, null, null, null, null, null, null]}],\n",
       "                        {\"autosize\": true, \"scene\": {\"aspectmode\": \"manual\", \"aspectratio\": {\"x\": 1, \"y\": 1, \"z\": 1}, \"camera\": {\"eye\": {\"x\": -1.7428, \"y\": 1.0707, \"z\": 0.71}, \"up\": {\"x\": 1, \"y\": 1, \"z\": -0.5}}, \"xaxis\": {\"backgroundcolor\": \"rgb(230, 230,230)\", \"gridcolor\": \"rgb(255, 255, 255)\", \"showbackground\": true, \"title\": {\"text\": \"x (mm)\"}, \"zerolinecolor\": \"rgb(255, 255, 255)\"}, \"yaxis\": {\"backgroundcolor\": \"rgb(230, 230,230)\", \"gridcolor\": \"rgb(255, 255, 255)\", \"showbackground\": true, \"title\": {\"text\": \"y (mm)\"}, \"zerolinecolor\": \"rgb(255, 255, 255)\"}, \"zaxis\": {\"backgroundcolor\": \"rgb(230, 230,230)\", \"gridcolor\": \"rgb(255, 255, 255)\", \"showbackground\": true, \"title\": {\"text\": \"z (mm)\"}, \"zerolinecolor\": \"rgb(255, 255, 255)\"}}, \"template\": {\"data\": {\"bar\": [{\"error_x\": {\"color\": \"#2a3f5f\"}, \"error_y\": {\"color\": \"#2a3f5f\"}, \"marker\": {\"line\": {\"color\": \"#E5ECF6\", \"width\": 0.5}}, \"type\": \"bar\"}], \"barpolar\": [{\"marker\": {\"line\": {\"color\": \"#E5ECF6\", \"width\": 0.5}}, \"type\": \"barpolar\"}], \"carpet\": [{\"aaxis\": {\"endlinecolor\": \"#2a3f5f\", \"gridcolor\": \"white\", \"linecolor\": \"white\", \"minorgridcolor\": \"white\", \"startlinecolor\": \"#2a3f5f\"}, \"baxis\": {\"endlinecolor\": \"#2a3f5f\", \"gridcolor\": \"white\", \"linecolor\": \"white\", \"minorgridcolor\": \"white\", \"startlinecolor\": \"#2a3f5f\"}, \"type\": \"carpet\"}], \"choropleth\": [{\"colorbar\": {\"outlinewidth\": 0, \"ticks\": \"\"}, \"type\": \"choropleth\"}], \"contour\": [{\"colorbar\": {\"outlinewidth\": 0, \"ticks\": \"\"}, \"colorscale\": [[0.0, \"#0d0887\"], [0.1111111111111111, \"#46039f\"], [0.2222222222222222, \"#7201a8\"], [0.3333333333333333, \"#9c179e\"], [0.4444444444444444, \"#bd3786\"], [0.5555555555555556, \"#d8576b\"], [0.6666666666666666, \"#ed7953\"], [0.7777777777777778, \"#fb9f3a\"], [0.8888888888888888, \"#fdca26\"], [1.0, \"#f0f921\"]], \"type\": \"contour\"}], \"contourcarpet\": [{\"colorbar\": {\"outlinewidth\": 0, \"ticks\": \"\"}, \"type\": \"contourcarpet\"}], \"heatmap\": [{\"colorbar\": {\"outlinewidth\": 0, \"ticks\": \"\"}, \"colorscale\": [[0.0, \"#0d0887\"], [0.1111111111111111, \"#46039f\"], [0.2222222222222222, \"#7201a8\"], [0.3333333333333333, \"#9c179e\"], [0.4444444444444444, \"#bd3786\"], [0.5555555555555556, \"#d8576b\"], [0.6666666666666666, \"#ed7953\"], [0.7777777777777778, \"#fb9f3a\"], [0.8888888888888888, \"#fdca26\"], [1.0, \"#f0f921\"]], \"type\": \"heatmap\"}], \"heatmapgl\": [{\"colorbar\": {\"outlinewidth\": 0, \"ticks\": \"\"}, \"colorscale\": [[0.0, \"#0d0887\"], [0.1111111111111111, \"#46039f\"], [0.2222222222222222, \"#7201a8\"], [0.3333333333333333, \"#9c179e\"], [0.4444444444444444, \"#bd3786\"], [0.5555555555555556, \"#d8576b\"], [0.6666666666666666, \"#ed7953\"], [0.7777777777777778, \"#fb9f3a\"], [0.8888888888888888, \"#fdca26\"], [1.0, \"#f0f921\"]], \"type\": \"heatmapgl\"}], \"histogram\": [{\"marker\": {\"colorbar\": {\"outlinewidth\": 0, \"ticks\": \"\"}}, \"type\": \"histogram\"}], \"histogram2d\": [{\"colorbar\": {\"outlinewidth\": 0, \"ticks\": \"\"}, \"colorscale\": [[0.0, \"#0d0887\"], [0.1111111111111111, \"#46039f\"], [0.2222222222222222, \"#7201a8\"], [0.3333333333333333, \"#9c179e\"], [0.4444444444444444, \"#bd3786\"], [0.5555555555555556, \"#d8576b\"], [0.6666666666666666, \"#ed7953\"], [0.7777777777777778, \"#fb9f3a\"], [0.8888888888888888, \"#fdca26\"], [1.0, \"#f0f921\"]], \"type\": \"histogram2d\"}], \"histogram2dcontour\": [{\"colorbar\": {\"outlinewidth\": 0, \"ticks\": \"\"}, \"colorscale\": [[0.0, \"#0d0887\"], [0.1111111111111111, \"#46039f\"], [0.2222222222222222, \"#7201a8\"], [0.3333333333333333, \"#9c179e\"], [0.4444444444444444, \"#bd3786\"], [0.5555555555555556, \"#d8576b\"], [0.6666666666666666, \"#ed7953\"], [0.7777777777777778, \"#fb9f3a\"], [0.8888888888888888, \"#fdca26\"], [1.0, \"#f0f921\"]], \"type\": \"histogram2dcontour\"}], \"mesh3d\": [{\"colorbar\": {\"outlinewidth\": 0, \"ticks\": \"\"}, \"type\": \"mesh3d\"}], \"parcoords\": [{\"line\": {\"colorbar\": {\"outlinewidth\": 0, \"ticks\": \"\"}}, \"type\": \"parcoords\"}], \"scatter\": [{\"marker\": {\"colorbar\": {\"outlinewidth\": 0, \"ticks\": \"\"}}, \"type\": \"scatter\"}], \"scatter3d\": [{\"line\": {\"colorbar\": {\"outlinewidth\": 0, \"ticks\": \"\"}}, \"marker\": {\"colorbar\": {\"outlinewidth\": 0, \"ticks\": \"\"}}, \"type\": \"scatter3d\"}], \"scattercarpet\": [{\"marker\": {\"colorbar\": {\"outlinewidth\": 0, \"ticks\": \"\"}}, \"type\": \"scattercarpet\"}], \"scattergeo\": [{\"marker\": {\"colorbar\": {\"outlinewidth\": 0, \"ticks\": \"\"}}, \"type\": \"scattergeo\"}], \"scattergl\": [{\"marker\": {\"colorbar\": {\"outlinewidth\": 0, \"ticks\": \"\"}}, \"type\": \"scattergl\"}], \"scattermapbox\": [{\"marker\": {\"colorbar\": {\"outlinewidth\": 0, \"ticks\": \"\"}}, \"type\": \"scattermapbox\"}], \"scatterpolar\": [{\"marker\": {\"colorbar\": {\"outlinewidth\": 0, \"ticks\": \"\"}}, \"type\": \"scatterpolar\"}], \"scatterpolargl\": [{\"marker\": {\"colorbar\": {\"outlinewidth\": 0, \"ticks\": \"\"}}, \"type\": \"scatterpolargl\"}], \"scatterternary\": [{\"marker\": {\"colorbar\": {\"outlinewidth\": 0, \"ticks\": \"\"}}, \"type\": \"scatterternary\"}], \"surface\": [{\"colorbar\": {\"outlinewidth\": 0, \"ticks\": \"\"}, \"colorscale\": [[0.0, \"#0d0887\"], [0.1111111111111111, \"#46039f\"], [0.2222222222222222, \"#7201a8\"], [0.3333333333333333, \"#9c179e\"], [0.4444444444444444, \"#bd3786\"], [0.5555555555555556, \"#d8576b\"], [0.6666666666666666, \"#ed7953\"], [0.7777777777777778, \"#fb9f3a\"], [0.8888888888888888, \"#fdca26\"], [1.0, \"#f0f921\"]], \"type\": \"surface\"}], \"table\": [{\"cells\": {\"fill\": {\"color\": \"#EBF0F8\"}, \"line\": {\"color\": \"white\"}}, \"header\": {\"fill\": {\"color\": \"#C8D4E3\"}, \"line\": {\"color\": \"white\"}}, \"type\": \"table\"}]}, \"layout\": {\"annotationdefaults\": {\"arrowcolor\": \"#2a3f5f\", \"arrowhead\": 0, \"arrowwidth\": 1}, \"colorscale\": {\"diverging\": [[0, \"#8e0152\"], [0.1, \"#c51b7d\"], [0.2, \"#de77ae\"], [0.3, \"#f1b6da\"], [0.4, \"#fde0ef\"], [0.5, \"#f7f7f7\"], [0.6, \"#e6f5d0\"], [0.7, \"#b8e186\"], [0.8, \"#7fbc41\"], [0.9, \"#4d9221\"], [1, \"#276419\"]], \"sequential\": [[0.0, \"#0d0887\"], [0.1111111111111111, \"#46039f\"], [0.2222222222222222, \"#7201a8\"], [0.3333333333333333, \"#9c179e\"], [0.4444444444444444, \"#bd3786\"], [0.5555555555555556, \"#d8576b\"], [0.6666666666666666, \"#ed7953\"], [0.7777777777777778, \"#fb9f3a\"], [0.8888888888888888, \"#fdca26\"], [1.0, \"#f0f921\"]], \"sequentialminus\": [[0.0, \"#0d0887\"], [0.1111111111111111, \"#46039f\"], [0.2222222222222222, \"#7201a8\"], [0.3333333333333333, \"#9c179e\"], [0.4444444444444444, \"#bd3786\"], [0.5555555555555556, \"#d8576b\"], [0.6666666666666666, \"#ed7953\"], [0.7777777777777778, \"#fb9f3a\"], [0.8888888888888888, \"#fdca26\"], [1.0, \"#f0f921\"]]}, \"colorway\": [\"#636efa\", \"#EF553B\", \"#00cc96\", \"#ab63fa\", \"#FFA15A\", \"#19d3f3\", \"#FF6692\", \"#B6E880\", \"#FF97FF\", \"#FECB52\"], \"font\": {\"color\": \"#2a3f5f\"}, \"geo\": {\"bgcolor\": \"white\", \"lakecolor\": \"white\", \"landcolor\": \"#E5ECF6\", \"showlakes\": true, \"showland\": true, \"subunitcolor\": \"white\"}, \"hoverlabel\": {\"align\": \"left\"}, \"hovermode\": \"closest\", \"mapbox\": {\"style\": \"light\"}, \"paper_bgcolor\": \"white\", \"plot_bgcolor\": \"#E5ECF6\", \"polar\": {\"angularaxis\": {\"gridcolor\": \"white\", \"linecolor\": \"white\", \"ticks\": \"\"}, \"bgcolor\": \"#E5ECF6\", \"radialaxis\": {\"gridcolor\": \"white\", \"linecolor\": \"white\", \"ticks\": \"\"}}, \"scene\": {\"xaxis\": {\"backgroundcolor\": \"#E5ECF6\", \"gridcolor\": \"white\", \"gridwidth\": 2, \"linecolor\": \"white\", \"showbackground\": true, \"ticks\": \"\", \"zerolinecolor\": \"white\"}, \"yaxis\": {\"backgroundcolor\": \"#E5ECF6\", \"gridcolor\": \"white\", \"gridwidth\": 2, \"linecolor\": \"white\", \"showbackground\": true, \"ticks\": \"\", \"zerolinecolor\": \"white\"}, \"zaxis\": {\"backgroundcolor\": \"#E5ECF6\", \"gridcolor\": \"white\", \"gridwidth\": 2, \"linecolor\": \"white\", \"showbackground\": true, \"ticks\": \"\", \"zerolinecolor\": \"white\"}}, \"shapedefaults\": {\"line\": {\"color\": \"#2a3f5f\"}}, \"ternary\": {\"aaxis\": {\"gridcolor\": \"white\", \"linecolor\": \"white\", \"ticks\": \"\"}, \"baxis\": {\"gridcolor\": \"white\", \"linecolor\": \"white\", \"ticks\": \"\"}, \"bgcolor\": \"#E5ECF6\", \"caxis\": {\"gridcolor\": \"white\", \"linecolor\": \"white\", \"ticks\": \"\"}}, \"title\": {\"x\": 0.05}, \"xaxis\": {\"automargin\": true, \"gridcolor\": \"white\", \"linecolor\": \"white\", \"ticks\": \"\", \"zerolinecolor\": \"white\", \"zerolinewidth\": 2}, \"yaxis\": {\"automargin\": true, \"gridcolor\": \"white\", \"linecolor\": \"white\", \"ticks\": \"\", \"zerolinecolor\": \"white\", \"zerolinewidth\": 2}}}, \"title\": {\"text\": \"Track plots\"}},\n",
       "                        {\"responsive\": true}\n",
       "                    ).then(function(){\n",
       "                            \n",
       "var gd = document.getElementById('7b7f5e5f-cc92-4c5f-b59e-3594d0b85887');\n",
       "var x = new MutationObserver(function (mutations, observer) {{\n",
       "        var display = window.getComputedStyle(gd).display;\n",
       "        if (!display || display === 'none') {{\n",
       "            console.log([gd, 'removed!']);\n",
       "            Plotly.purge(gd);\n",
       "            observer.disconnect();\n",
       "        }}\n",
       "}});\n",
       "\n",
       "// Listen for the removal of the full notebook cells\n",
       "var notebookContainer = gd.closest('#notebook-container');\n",
       "if (notebookContainer) {{\n",
       "    x.observe(notebookContainer, {childList: true});\n",
       "}}\n",
       "\n",
       "// Listen for the clearing of the current output cell\n",
       "var outputEl = gd.closest('.output');\n",
       "if (outputEl) {{\n",
       "    x.observe(outputEl, {childList: true});\n",
       "}}\n",
       "\n",
       "                        })\n",
       "                };\n",
       "                });\n",
       "            </script>\n",
       "        </div>"
      ]
     },
     "metadata": {},
     "output_type": "display_data"
    }
   ],
   "source": [
    "track_plot_list(tracks_l, n_tracks = 30, opacity = 0.4)"
   ]
  },
  {
   "cell_type": "code",
   "execution_count": null,
   "metadata": {},
   "outputs": [],
   "source": []
  }
 ],
 "metadata": {
  "kernelspec": {
   "display_name": "[Python3] Jeff ML Default",
   "language": "python",
   "name": "ml_default"
  },
  "language_info": {
   "codemirror_mode": {
    "name": "ipython",
    "version": 3
   },
   "file_extension": ".py",
   "mimetype": "text/x-python",
   "name": "python",
   "nbconvert_exporter": "python",
   "pygments_lexer": "ipython3",
   "version": "3.7.4"
  }
 },
 "nbformat": 4,
 "nbformat_minor": 2
}
