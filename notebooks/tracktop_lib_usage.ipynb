{
 "cells": [
  {
   "cell_type": "markdown",
   "metadata": {
    "slideshow": {
     "slide_type": "slide"
    }
   },
   "source": [
    "# tracktop lib Usage"
   ]
  },
  {
   "cell_type": "code",
   "execution_count": 2,
   "metadata": {
    "slideshow": {
     "slide_type": "skip"
    }
   },
   "outputs": [],
   "source": [
    "import sys\n",
    "import numpy as np\n",
    "import pandas as pd\n",
    "\n",
    "#sys.path.append('/home/jfialho/git/track-ml/utils')\n",
    "sys.path.append('../utils')\n",
    "from tracktop import *"
   ]
  },
  {
   "cell_type": "markdown",
   "metadata": {
    "slideshow": {
     "slide_type": "slide"
    }
   },
   "source": [
    "## Open dataframes from csv"
   ]
  },
  {
   "cell_type": "code",
   "execution_count": 5,
   "metadata": {
    "slideshow": {
     "slide_type": "fragment"
    }
   },
   "outputs": [
    {
     "name": "stdout",
     "output_type": "stream",
     "text": [
      "shape of tracks_real: (9367, 114)\n",
      "shape of tracks_fake: (10000, 114)\n"
     ]
    }
   ],
   "source": [
    "# Open the input file as a DF\n",
    "tracks      = pd.read_csv('/data/track-ml/output/test_real.csv',header = None)\n",
    "\n",
    "# removing 6 fisrt columns information and de last column (real or fake)\n",
    "tracks_real = tracks.iloc[:,7:-1]\n",
    "\n",
    "tracks      = pd.read_csv('/data/track-ml/output/trtomei_fake.csv',header = None)\n",
    "\n",
    "# removing 6 fisrt columns information and de last column (real or fake)\n",
    "tracks_fake = tracks.iloc[:,7:-1]\n",
    "\n",
    "# Replacing 0.0 -> infinite representation\n",
    "# to move the hits with zeroes to the bottom of the dataframe\n",
    "tracks_real_sort = tracks_real.replace(0.0, np.PINF).copy()\n",
    "tracks_fake_sort = tracks_fake.replace(0.0, np.PINF).copy()\n",
    "\n",
    "print('shape of tracks_real: ' + str(tracks_real.shape))\n",
    "print('shape of tracks_fake: ' + str(tracks_fake.shape))"
   ]
  },
  {
   "cell_type": "markdown",
   "metadata": {
    "slideshow": {
     "slide_type": "slide"
    }
   },
   "source": [
    "## Sorting the dataframe using xyz_bsort function"
   ]
  },
  {
   "cell_type": "markdown",
   "metadata": {
    "slideshow": {
     "slide_type": "-"
    }
   },
   "source": [
    "### REAL tracks"
   ]
  },
  {
   "cell_type": "code",
   "execution_count": null,
   "metadata": {
    "slideshow": {
     "slide_type": "-"
    }
   },
   "outputs": [],
   "source": [
    "#for i in range(int(tracks_real_sort.shape[0])):\n",
    "for i in range(10):\n",
    "    xyz_bsort(tracks_real_sort.iloc[i,:])\n",
    "\n",
    "# Replacing infinite representation -> 0.0    \n",
    "tracks_real_sort = tracks_real_sort.replace(np.PINF,0.0).copy()"
   ]
  },
  {
   "cell_type": "markdown",
   "metadata": {
    "slideshow": {
     "slide_type": "subslide"
    }
   },
   "source": [
    "### FAKE tracks"
   ]
  },
  {
   "cell_type": "code",
   "execution_count": null,
   "metadata": {
    "slideshow": {
     "slide_type": "-"
    }
   },
   "outputs": [],
   "source": [
    "#for i in range(int(tracks_fake_sort.shape[0])):\n",
    "for i in range(10):\n",
    "    xyz_bsort(tracks_fake_sort.iloc[i,:])\n",
    "\n",
    "    # Replacing infinite representation -> 0.0   \n",
    "tracks_fake_sort = tracks_fake_sort.replace(np.PINF,0.0).copy()"
   ]
  },
  {
   "cell_type": "markdown",
   "metadata": {
    "slideshow": {
     "slide_type": "slide"
    }
   },
   "source": [
    "### Ploting dataframe of tracks\n",
    "\n",
    "**Default data:** A dataframe with one track perline and just 6 hit information "
   ]
  },
  {
   "cell_type": "code",
   "execution_count": 12,
   "metadata": {
    "slideshow": {
     "slide_type": "fragment"
    }
   },
   "outputs": [
    {
     "data": {
      "text/html": [
       "<script type=\"text/javascript\">window.PlotlyConfig = {MathJaxConfig: 'local'};</script><script type=\"text/javascript\">if (window.MathJax) {MathJax.Hub.Config({SVG: {font: \"STIX-Web\"}});}</script><script>requirejs.config({paths: { 'plotly': ['https://cdn.plot.ly/plotly-latest.min']},});if(!window._Plotly) {require(['plotly'],function(plotly) {window._Plotly=plotly;});}</script>"
      ],
      "text/vnd.plotly.v1+html": [
       "<script type=\"text/javascript\">window.PlotlyConfig = {MathJaxConfig: 'local'};</script><script type=\"text/javascript\">if (window.MathJax) {MathJax.Hub.Config({SVG: {font: \"STIX-Web\"}});}</script><script>requirejs.config({paths: { 'plotly': ['https://cdn.plot.ly/plotly-latest.min']},});if(!window._Plotly) {require(['plotly'],function(plotly) {window._Plotly=plotly;});}</script>"
      ]
     },
     "metadata": {},
     "output_type": "display_data"
    },
    {
     "data": {
      "application/vnd.plotly.v1+json": {
       "config": {
        "linkText": "Export to plot.ly",
        "plotlyServerURL": "https://plot.ly",
        "showLink": false
       },
       "data": [
        {
         "line": {
          "color": "red",
          "width": 1
         },
         "marker": {
          "color": "red",
          "size": 1
         },
         "type": "scatter3d",
         "uid": "83f3dc99-381e-4618-885b-42d97f07fa24",
         "x": [
          0.7033889889717102,
          0.7448179721832275,
          0.2659049928188324,
          0.1867700070142746,
          -4.131080150604248,
          -19.28089904785156,
          -48.3838996887207,
          -108.83300018310548,
          -209.33999633789062,
          -343.64599609375,
          -561.2780151367189,
          -554.3989868164061,
          null,
          null,
          null,
          null,
          null,
          null,
          null
         ],
         "y": [
          -71.08080291748047,
          -72.93109893798828,
          -115.45700073242188,
          -117.4260025024414,
          -172.83200073242188,
          -260.98098754882807,
          -360.4020080566406,
          -488.3370056152344,
          -626.031005859375,
          -744.6729736328125,
          -853.3259887695312,
          -851.0800170898438,
          null,
          null,
          null,
          null,
          null,
          null,
          null
         ],
         "z": [
          61.57690048217773,
          62.69060134887695,
          88.14869689941406,
          89.32830047607422,
          122.43499755859376,
          175.6840057373047,
          237.94500732421875,
          322.77398681640625,
          425.7200012207031,
          534.3189697265625,
          682.8150024414062,
          678.3599853515625,
          null,
          null,
          null,
          null,
          null,
          null,
          null
         ]
        }
       ],
       "layout": {
        "autosize": false,
        "height": 750,
        "scene": {
         "aspectmode": "manual",
         "aspectratio": {
          "x": 1,
          "y": 1,
          "z": 0.7
         },
         "camera": {
          "eye": {
           "x": -1.7428,
           "y": 1.0707,
           "z": 0.71
          },
          "up": {
           "x": 0,
           "y": 0,
           "z": 1
          }
         },
         "xaxis": {
          "backgroundcolor": "rgb(230, 230,230)",
          "gridcolor": "rgb(255, 255, 255)",
          "showbackground": true,
          "title": {
           "text": "x (mm)"
          },
          "zerolinecolor": "rgb(255, 255, 255)"
         },
         "yaxis": {
          "backgroundcolor": "rgb(230, 230,230)",
          "gridcolor": "rgb(255, 255, 255)",
          "showbackground": true,
          "title": {
           "text": "y (mm)"
          },
          "zerolinecolor": "rgb(255, 255, 255)"
         },
         "zaxis": {
          "backgroundcolor": "rgb(230, 230,230)",
          "gridcolor": "rgb(255, 255, 255)",
          "showbackground": true,
          "title": {
           "text": "z (mm)"
          },
          "zerolinecolor": "rgb(255, 255, 255)"
         }
        },
        "title": {
         "text": "Track plots"
        },
        "width": 900
       }
      },
      "text/html": [
       "<div id=\"339f16ca-e394-436c-a173-f1acd94e5796\" style=\"height: 750px; width: 900px;\" class=\"plotly-graph-div\"></div><script type=\"text/javascript\">require([\"plotly\"], function(Plotly) { window.PLOTLYENV=window.PLOTLYENV || {};window.PLOTLYENV.BASE_URL=\"https://plot.ly\";\n",
       "if (document.getElementById(\"339f16ca-e394-436c-a173-f1acd94e5796\")) {\n",
       "    Plotly.newPlot(\"339f16ca-e394-436c-a173-f1acd94e5796\", [{\"line\": {\"color\": \"red\", \"width\": 1}, \"marker\": {\"color\": \"red\", \"size\": 1}, \"x\": [0.7033889889717102, 0.7448179721832275, 0.2659049928188324, 0.1867700070142746, -4.131080150604248, -19.28089904785156, -48.3838996887207, -108.83300018310548, -209.33999633789062, -343.64599609375, -561.2780151367189, -554.3989868164061, null, null, null, null, null, null, null], \"y\": [-71.08080291748047, -72.93109893798828, -115.45700073242188, -117.4260025024414, -172.83200073242188, -260.98098754882807, -360.4020080566406, -488.3370056152344, -626.031005859375, -744.6729736328125, -853.3259887695312, -851.0800170898438, null, null, null, null, null, null, null], \"z\": [61.57690048217773, 62.69060134887695, 88.14869689941406, 89.32830047607422, 122.43499755859376, 175.6840057373047, 237.94500732421875, 322.77398681640625, 425.7200012207031, 534.3189697265625, 682.8150024414062, 678.3599853515625, null, null, null, null, null, null, null], \"type\": \"scatter3d\", \"uid\": \"517ebf38-a6cd-411f-bf61-b9f5da238349\"}], {\"autosize\": false, \"height\": 750, \"scene\": {\"aspectmode\": \"manual\", \"aspectratio\": {\"x\": 1, \"y\": 1, \"z\": 0.7}, \"camera\": {\"eye\": {\"x\": -1.7428, \"y\": 1.0707, \"z\": 0.71}, \"up\": {\"x\": 0, \"y\": 0, \"z\": 1}}, \"xaxis\": {\"backgroundcolor\": \"rgb(230, 230,230)\", \"gridcolor\": \"rgb(255, 255, 255)\", \"showbackground\": true, \"title\": {\"text\": \"x (mm)\"}, \"zerolinecolor\": \"rgb(255, 255, 255)\"}, \"yaxis\": {\"backgroundcolor\": \"rgb(230, 230,230)\", \"gridcolor\": \"rgb(255, 255, 255)\", \"showbackground\": true, \"title\": {\"text\": \"y (mm)\"}, \"zerolinecolor\": \"rgb(255, 255, 255)\"}, \"zaxis\": {\"backgroundcolor\": \"rgb(230, 230,230)\", \"gridcolor\": \"rgb(255, 255, 255)\", \"showbackground\": true, \"title\": {\"text\": \"z (mm)\"}, \"zerolinecolor\": \"rgb(255, 255, 255)\"}}, \"title\": {\"text\": \"Track plots\"}, \"width\": 900}, {\"showLink\": false, \"linkText\": \"Export to plot.ly\", \"plotlyServerURL\": \"https://plot.ly\"}); \n",
       "}\n",
       "});</script>"
      ],
      "text/vnd.plotly.v1+html": [
       "<div id=\"339f16ca-e394-436c-a173-f1acd94e5796\" style=\"height: 750px; width: 900px;\" class=\"plotly-graph-div\"></div><script type=\"text/javascript\">require([\"plotly\"], function(Plotly) { window.PLOTLYENV=window.PLOTLYENV || {};window.PLOTLYENV.BASE_URL=\"https://plot.ly\";\n",
       "if (document.getElementById(\"339f16ca-e394-436c-a173-f1acd94e5796\")) {\n",
       "    Plotly.newPlot(\"339f16ca-e394-436c-a173-f1acd94e5796\", [{\"line\": {\"color\": \"red\", \"width\": 1}, \"marker\": {\"color\": \"red\", \"size\": 1}, \"x\": [0.7033889889717102, 0.7448179721832275, 0.2659049928188324, 0.1867700070142746, -4.131080150604248, -19.28089904785156, -48.3838996887207, -108.83300018310548, -209.33999633789062, -343.64599609375, -561.2780151367189, -554.3989868164061, null, null, null, null, null, null, null], \"y\": [-71.08080291748047, -72.93109893798828, -115.45700073242188, -117.4260025024414, -172.83200073242188, -260.98098754882807, -360.4020080566406, -488.3370056152344, -626.031005859375, -744.6729736328125, -853.3259887695312, -851.0800170898438, null, null, null, null, null, null, null], \"z\": [61.57690048217773, 62.69060134887695, 88.14869689941406, 89.32830047607422, 122.43499755859376, 175.6840057373047, 237.94500732421875, 322.77398681640625, 425.7200012207031, 534.3189697265625, 682.8150024414062, 678.3599853515625, null, null, null, null, null, null, null], \"type\": \"scatter3d\", \"uid\": \"517ebf38-a6cd-411f-bf61-b9f5da238349\"}], {\"autosize\": false, \"height\": 750, \"scene\": {\"aspectmode\": \"manual\", \"aspectratio\": {\"x\": 1, \"y\": 1, \"z\": 0.7}, \"camera\": {\"eye\": {\"x\": -1.7428, \"y\": 1.0707, \"z\": 0.71}, \"up\": {\"x\": 0, \"y\": 0, \"z\": 1}}, \"xaxis\": {\"backgroundcolor\": \"rgb(230, 230,230)\", \"gridcolor\": \"rgb(255, 255, 255)\", \"showbackground\": true, \"title\": {\"text\": \"x (mm)\"}, \"zerolinecolor\": \"rgb(255, 255, 255)\"}, \"yaxis\": {\"backgroundcolor\": \"rgb(230, 230,230)\", \"gridcolor\": \"rgb(255, 255, 255)\", \"showbackground\": true, \"title\": {\"text\": \"y (mm)\"}, \"zerolinecolor\": \"rgb(255, 255, 255)\"}, \"zaxis\": {\"backgroundcolor\": \"rgb(230, 230,230)\", \"gridcolor\": \"rgb(255, 255, 255)\", \"showbackground\": true, \"title\": {\"text\": \"z (mm)\"}, \"zerolinecolor\": \"rgb(255, 255, 255)\"}}, \"title\": {\"text\": \"Track plots\"}, \"width\": 900}, {\"showLink\": false, \"linkText\": \"Export to plot.ly\", \"plotlyServerURL\": \"https://plot.ly\"}); \n",
       "}\n",
       "});</script>"
      ]
     },
     "metadata": {},
     "output_type": "display_data"
    }
   ],
   "source": [
    "track_plot(tracks_real_sort)"
   ]
  },
  {
   "cell_type": "markdown",
   "metadata": {
    "slideshow": {
     "slide_type": "subslide"
    }
   },
   "source": [
    "### Ploting using parameters"
   ]
  },
  {
   "cell_type": "code",
   "execution_count": null,
   "metadata": {
    "slideshow": {
     "slide_type": "fragment"
    }
   },
   "outputs": [],
   "source": [
    "track_plot(tracks_fake_sort, track_color = 'blue', n_tracks = 10, title = 'Fake tracks sorted')"
   ]
  }
 ],
 "metadata": {
  "celltoolbar": "Slideshow",
  "kernelspec": {
   "display_name": "Python [conda env:jeff-default]",
   "language": "python",
   "name": "conda-env-jeff-default-py"
  },
  "language_info": {
   "codemirror_mode": {
    "name": "ipython",
    "version": 3
   },
   "file_extension": ".py",
   "mimetype": "text/x-python",
   "name": "python",
   "nbconvert_exporter": "python",
   "pygments_lexer": "ipython3",
   "version": "3.6.8"
  }
 },
 "nbformat": 4,
 "nbformat_minor": 2
}
