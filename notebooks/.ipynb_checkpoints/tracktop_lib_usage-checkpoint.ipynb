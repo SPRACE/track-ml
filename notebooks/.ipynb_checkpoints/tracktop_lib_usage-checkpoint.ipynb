{
 "cells": [
  {
   "cell_type": "markdown",
   "metadata": {
    "slideshow": {
     "slide_type": "slide"
    }
   },
   "source": [
    "# tracktop lib Usage"
   ]
  },
  {
   "cell_type": "code",
   "execution_count": 1,
   "metadata": {
    "slideshow": {
     "slide_type": "skip"
    }
   },
   "outputs": [],
   "source": [
    "import sys\n",
    "import numpy as np\n",
    "import pandas as pd\n",
    "\n",
    "#sys.path.append('/home/jfialho/git/track-ml/utils')\n",
    "sys.path.append('../utils')\n",
    "from tracktop import *"
   ]
  },
  {
   "cell_type": "code",
   "execution_count": 2,
   "metadata": {
    "slideshow": {
     "slide_type": "skip"
    }
   },
   "outputs": [],
   "source": [
    "#TEST PARAMETERS\n",
    "n_test = 10"
   ]
  },
  {
   "cell_type": "markdown",
   "metadata": {
    "slideshow": {
     "slide_type": "slide"
    }
   },
   "source": [
    "## Open dataframes from csv"
   ]
  },
  {
   "cell_type": "code",
   "execution_count": 3,
   "metadata": {
    "slideshow": {
     "slide_type": "fragment"
    }
   },
   "outputs": [],
   "source": [
    "# Open the input file as a DF\n",
    "tracks      = pd.read_csv('/data/track-ml/output/test_real.csv',header = None)\n",
    "\n",
    "# removing 6 fisrt columns information and de last column (real or fake)\n",
    "tracks_real = tracks.iloc[:,7:-1]\n",
    "\n",
    "tracks      = pd.read_csv('/data/track-ml/output/trtomei_fake.csv',header = None)\n",
    "\n",
    "# removing 6 fisrt columns information and de last column (real or fake)\n",
    "tracks_fake = tracks.iloc[:,7:-1]\n",
    "\n",
    "# Replacing 0.0 -> infinite representation\n",
    "# to move the hits with zeroes to the bottom of the dataframe\n",
    "tracks_real_sort = tracks_real.replace(0.0, np.PINF).copy()\n",
    "tracks_fake_sort = tracks_fake.replace(0.0, np.PINF).copy()"
   ]
  },
  {
   "cell_type": "markdown",
   "metadata": {
    "slideshow": {
     "slide_type": "slide"
    }
   },
   "source": [
    "## Sorting the dataframe using xyz_bsort function"
   ]
  },
  {
   "cell_type": "markdown",
   "metadata": {
    "slideshow": {
     "slide_type": "-"
    }
   },
   "source": [
    "### REAL tracks"
   ]
  },
  {
   "cell_type": "code",
   "execution_count": 4,
   "metadata": {
    "slideshow": {
     "slide_type": "-"
    }
   },
   "outputs": [],
   "source": [
    "#for i in range(int(tracks_real_sort.shape[0])):\n",
    "for i in range(10):\n",
    "    xyz_bsort(tracks_real_sort.iloc[i,:])\n",
    "\n",
    "# Replacing infinite representation -> 0.0    \n",
    "tracks_real_sort = tracks_real_sort.replace(np.PINF,0.0).copy()"
   ]
  },
  {
   "cell_type": "markdown",
   "metadata": {
    "slideshow": {
     "slide_type": "subslide"
    }
   },
   "source": [
    "### FAKE tracks"
   ]
  },
  {
   "cell_type": "code",
   "execution_count": 5,
   "metadata": {
    "slideshow": {
     "slide_type": "-"
    }
   },
   "outputs": [],
   "source": [
    "#for i in range(int(tracks_fake_sort.shape[0])):\n",
    "for i in range(10):\n",
    "    xyz_bsort(tracks_fake_sort.iloc[i,:])\n",
    "\n",
    "    # Replacing infinite representation -> 0.0   \n",
    "tracks_fake_sort = tracks_fake_sort.replace(np.PINF,0.0).copy()"
   ]
  },
  {
   "cell_type": "markdown",
   "metadata": {
    "slideshow": {
     "slide_type": "slide"
    }
   },
   "source": [
    "### Ploting dataframe of tracks\n",
    "\n",
    "**Default data:** A dataframe with one track perline and just 6 hit information "
   ]
  },
  {
   "cell_type": "code",
   "execution_count": 6,
   "metadata": {
    "slideshow": {
     "slide_type": "fragment"
    }
   },
   "outputs": [
    {
     "data": {
      "text/html": [
       "<script type=\"text/javascript\">window.PlotlyConfig = {MathJaxConfig: 'local'};</script><script type=\"text/javascript\">if (window.MathJax) {MathJax.Hub.Config({SVG: {font: \"STIX-Web\"}});}</script><script>requirejs.config({paths: { 'plotly': ['https://cdn.plot.ly/plotly-latest.min']},});if(!window._Plotly) {require(['plotly'],function(plotly) {window._Plotly=plotly;});}</script>"
      ],
      "text/vnd.plotly.v1+html": [
       "<script type=\"text/javascript\">window.PlotlyConfig = {MathJaxConfig: 'local'};</script><script type=\"text/javascript\">if (window.MathJax) {MathJax.Hub.Config({SVG: {font: \"STIX-Web\"}});}</script><script>requirejs.config({paths: { 'plotly': ['https://cdn.plot.ly/plotly-latest.min']},});if(!window._Plotly) {require(['plotly'],function(plotly) {window._Plotly=plotly;});}</script>"
      ]
     },
     "metadata": {},
     "output_type": "display_data"
    },
    {
     "data": {
      "application/vnd.plotly.v1+json": {
       "config": {
        "linkText": "Export to plot.ly",
        "plotlyServerURL": "https://plot.ly",
        "showLink": false
       },
       "data": [
        {
         "line": {
          "color": "red",
          "width": 1
         },
         "marker": {
          "color": "red",
          "size": 1
         },
         "type": "scatter3d",
         "uid": "07cc8a47-87d8-4cdb-8b4d-0aef7ca5e910",
         "x": [
          0.7033889889717102,
          0.7448179721832275,
          0.2659049928188324,
          0.1867700070142746,
          -4.131080150604248,
          -19.28089904785156,
          -48.3838996887207,
          -108.83300018310548,
          -209.33999633789062,
          -343.64599609375,
          -554.3989868164061,
          -561.2780151367189,
          null,
          null,
          null,
          null,
          null,
          null,
          null
         ],
         "y": [
          -71.08080291748047,
          -72.93109893798828,
          -115.45700073242188,
          -117.4260025024414,
          -172.83200073242188,
          -260.98098754882807,
          -360.4020080566406,
          -488.3370056152344,
          -626.031005859375,
          -744.6729736328125,
          -851.0800170898438,
          -853.3259887695312,
          null,
          null,
          null,
          null,
          null,
          null,
          null
         ],
         "z": [
          61.57690048217773,
          62.69060134887695,
          88.14869689941406,
          89.32830047607422,
          122.43499755859376,
          175.6840057373047,
          237.94500732421875,
          322.77398681640625,
          425.7200012207031,
          534.3189697265625,
          678.3599853515625,
          682.8150024414062,
          null,
          null,
          null,
          null,
          null,
          null,
          null
         ]
        }
       ],
       "layout": {
        "autosize": false,
        "height": 750,
        "scene": {
         "aspectmode": "manual",
         "aspectratio": {
          "x": 1,
          "y": 1,
          "z": 0.7
         },
         "camera": {
          "eye": {
           "x": -1.7428,
           "y": 1.0707,
           "z": 0.71
          },
          "up": {
           "x": 0,
           "y": 0,
           "z": 1
          }
         },
         "xaxis": {
          "backgroundcolor": "rgb(230, 230,230)",
          "gridcolor": "rgb(255, 255, 255)",
          "showbackground": true,
          "title": {
           "text": "x (mm)"
          },
          "zerolinecolor": "rgb(255, 255, 255)"
         },
         "yaxis": {
          "backgroundcolor": "rgb(230, 230,230)",
          "gridcolor": "rgb(255, 255, 255)",
          "showbackground": true,
          "title": {
           "text": "y (mm)"
          },
          "zerolinecolor": "rgb(255, 255, 255)"
         },
         "zaxis": {
          "backgroundcolor": "rgb(230, 230,230)",
          "gridcolor": "rgb(255, 255, 255)",
          "showbackground": true,
          "title": {
           "text": "z (mm)"
          },
          "zerolinecolor": "rgb(255, 255, 255)"
         }
        },
        "title": {
         "text": "Track plots"
        },
        "width": 900
       }
      },
      "text/html": [
       "<div id=\"9bece2f0-23e0-4a29-82ee-1c0aeba10a3c\" style=\"height: 750px; width: 900px;\" class=\"plotly-graph-div\"></div><script type=\"text/javascript\">require([\"plotly\"], function(Plotly) { window.PLOTLYENV=window.PLOTLYENV || {};window.PLOTLYENV.BASE_URL=\"https://plot.ly\";\n",
       "if (document.getElementById(\"9bece2f0-23e0-4a29-82ee-1c0aeba10a3c\")) {\n",
       "    Plotly.newPlot(\"9bece2f0-23e0-4a29-82ee-1c0aeba10a3c\", [{\"line\": {\"color\": \"red\", \"width\": 1}, \"marker\": {\"color\": \"red\", \"size\": 1}, \"x\": [0.7033889889717102, 0.7448179721832275, 0.2659049928188324, 0.1867700070142746, -4.131080150604248, -19.28089904785156, -48.3838996887207, -108.83300018310548, -209.33999633789062, -343.64599609375, -554.3989868164061, -561.2780151367189, null, null, null, null, null, null, null], \"y\": [-71.08080291748047, -72.93109893798828, -115.45700073242188, -117.4260025024414, -172.83200073242188, -260.98098754882807, -360.4020080566406, -488.3370056152344, -626.031005859375, -744.6729736328125, -851.0800170898438, -853.3259887695312, null, null, null, null, null, null, null], \"z\": [61.57690048217773, 62.69060134887695, 88.14869689941406, 89.32830047607422, 122.43499755859376, 175.6840057373047, 237.94500732421875, 322.77398681640625, 425.7200012207031, 534.3189697265625, 678.3599853515625, 682.8150024414062, null, null, null, null, null, null, null], \"type\": \"scatter3d\", \"uid\": \"879dbdb6-b315-49c6-8116-c3c2e1ded384\"}], {\"autosize\": false, \"height\": 750, \"scene\": {\"aspectmode\": \"manual\", \"aspectratio\": {\"x\": 1, \"y\": 1, \"z\": 0.7}, \"camera\": {\"eye\": {\"x\": -1.7428, \"y\": 1.0707, \"z\": 0.71}, \"up\": {\"x\": 0, \"y\": 0, \"z\": 1}}, \"xaxis\": {\"backgroundcolor\": \"rgb(230, 230,230)\", \"gridcolor\": \"rgb(255, 255, 255)\", \"showbackground\": true, \"title\": {\"text\": \"x (mm)\"}, \"zerolinecolor\": \"rgb(255, 255, 255)\"}, \"yaxis\": {\"backgroundcolor\": \"rgb(230, 230,230)\", \"gridcolor\": \"rgb(255, 255, 255)\", \"showbackground\": true, \"title\": {\"text\": \"y (mm)\"}, \"zerolinecolor\": \"rgb(255, 255, 255)\"}, \"zaxis\": {\"backgroundcolor\": \"rgb(230, 230,230)\", \"gridcolor\": \"rgb(255, 255, 255)\", \"showbackground\": true, \"title\": {\"text\": \"z (mm)\"}, \"zerolinecolor\": \"rgb(255, 255, 255)\"}}, \"title\": {\"text\": \"Track plots\"}, \"width\": 900}, {\"showLink\": false, \"linkText\": \"Export to plot.ly\", \"plotlyServerURL\": \"https://plot.ly\"}); \n",
       "}\n",
       "});</script>"
      ],
      "text/vnd.plotly.v1+html": [
       "<div id=\"9bece2f0-23e0-4a29-82ee-1c0aeba10a3c\" style=\"height: 750px; width: 900px;\" class=\"plotly-graph-div\"></div><script type=\"text/javascript\">require([\"plotly\"], function(Plotly) { window.PLOTLYENV=window.PLOTLYENV || {};window.PLOTLYENV.BASE_URL=\"https://plot.ly\";\n",
       "if (document.getElementById(\"9bece2f0-23e0-4a29-82ee-1c0aeba10a3c\")) {\n",
       "    Plotly.newPlot(\"9bece2f0-23e0-4a29-82ee-1c0aeba10a3c\", [{\"line\": {\"color\": \"red\", \"width\": 1}, \"marker\": {\"color\": \"red\", \"size\": 1}, \"x\": [0.7033889889717102, 0.7448179721832275, 0.2659049928188324, 0.1867700070142746, -4.131080150604248, -19.28089904785156, -48.3838996887207, -108.83300018310548, -209.33999633789062, -343.64599609375, -554.3989868164061, -561.2780151367189, null, null, null, null, null, null, null], \"y\": [-71.08080291748047, -72.93109893798828, -115.45700073242188, -117.4260025024414, -172.83200073242188, -260.98098754882807, -360.4020080566406, -488.3370056152344, -626.031005859375, -744.6729736328125, -851.0800170898438, -853.3259887695312, null, null, null, null, null, null, null], \"z\": [61.57690048217773, 62.69060134887695, 88.14869689941406, 89.32830047607422, 122.43499755859376, 175.6840057373047, 237.94500732421875, 322.77398681640625, 425.7200012207031, 534.3189697265625, 678.3599853515625, 682.8150024414062, null, null, null, null, null, null, null], \"type\": \"scatter3d\", \"uid\": \"879dbdb6-b315-49c6-8116-c3c2e1ded384\"}], {\"autosize\": false, \"height\": 750, \"scene\": {\"aspectmode\": \"manual\", \"aspectratio\": {\"x\": 1, \"y\": 1, \"z\": 0.7}, \"camera\": {\"eye\": {\"x\": -1.7428, \"y\": 1.0707, \"z\": 0.71}, \"up\": {\"x\": 0, \"y\": 0, \"z\": 1}}, \"xaxis\": {\"backgroundcolor\": \"rgb(230, 230,230)\", \"gridcolor\": \"rgb(255, 255, 255)\", \"showbackground\": true, \"title\": {\"text\": \"x (mm)\"}, \"zerolinecolor\": \"rgb(255, 255, 255)\"}, \"yaxis\": {\"backgroundcolor\": \"rgb(230, 230,230)\", \"gridcolor\": \"rgb(255, 255, 255)\", \"showbackground\": true, \"title\": {\"text\": \"y (mm)\"}, \"zerolinecolor\": \"rgb(255, 255, 255)\"}, \"zaxis\": {\"backgroundcolor\": \"rgb(230, 230,230)\", \"gridcolor\": \"rgb(255, 255, 255)\", \"showbackground\": true, \"title\": {\"text\": \"z (mm)\"}, \"zerolinecolor\": \"rgb(255, 255, 255)\"}}, \"title\": {\"text\": \"Track plots\"}, \"width\": 900}, {\"showLink\": false, \"linkText\": \"Export to plot.ly\", \"plotlyServerURL\": \"https://plot.ly\"}); \n",
       "}\n",
       "});</script>"
      ]
     },
     "metadata": {},
     "output_type": "display_data"
    }
   ],
   "source": [
    "track_plot(tracks_real_sort)"
   ]
  },
  {
   "cell_type": "markdown",
   "metadata": {
    "slideshow": {
     "slide_type": "subslide"
    }
   },
   "source": [
    "### Ploting using parameters"
   ]
  },
  {
   "cell_type": "code",
   "execution_count": 7,
   "metadata": {
    "slideshow": {
     "slide_type": "fragment"
    }
   },
   "outputs": [
    {
     "data": {
      "text/html": [
       "<script type=\"text/javascript\">window.PlotlyConfig = {MathJaxConfig: 'local'};</script><script type=\"text/javascript\">if (window.MathJax) {MathJax.Hub.Config({SVG: {font: \"STIX-Web\"}});}</script><script>requirejs.config({paths: { 'plotly': ['https://cdn.plot.ly/plotly-latest.min']},});if(!window._Plotly) {require(['plotly'],function(plotly) {window._Plotly=plotly;});}</script>"
      ],
      "text/vnd.plotly.v1+html": [
       "<script type=\"text/javascript\">window.PlotlyConfig = {MathJaxConfig: 'local'};</script><script type=\"text/javascript\">if (window.MathJax) {MathJax.Hub.Config({SVG: {font: \"STIX-Web\"}});}</script><script>requirejs.config({paths: { 'plotly': ['https://cdn.plot.ly/plotly-latest.min']},});if(!window._Plotly) {require(['plotly'],function(plotly) {window._Plotly=plotly;});}</script>"
      ]
     },
     "metadata": {},
     "output_type": "display_data"
    },
    {
     "data": {
      "application/vnd.plotly.v1+json": {
       "config": {
        "linkText": "Export to plot.ly",
        "plotlyServerURL": "https://plot.ly",
        "showLink": false
       },
       "data": [
        {
         "line": {
          "color": "blue",
          "width": 1
         },
         "marker": {
          "color": "blue",
          "size": 1
         },
         "type": "scatter3d",
         "uid": "f4837d81-361f-469d-951a-d21634784d60",
         "x": [
          31.40110016,
          31.53700066,
          79.92620087,
          147.1450043,
          110.0699997,
          131.23699950000002,
          257.52398680000005,
          351.58099369999996,
          384.07800289999994,
          360.3590088,
          407.2720032,
          376.5289917,
          null,
          null,
          null,
          null,
          null,
          null,
          null
         ],
         "y": [
          -10.35449982,
          -7.946420193,
          -41.4618988,
          -43.91540146,
          -73.30149841,
          -82.55840302,
          -159.1029968,
          -88.40329742,
          -127.6340027,
          -288.4259949,
          -260.41900630000004,
          -275.7640076,
          null,
          null,
          null,
          null,
          null,
          null,
          null
         ],
         "z": [
          -152.9170074,
          -194.0319977,
          -602.5,
          -702,
          -818,
          -962,
          -1798.5,
          -2148.5,
          -2151.5,
          -2551.5,
          -2944.5,
          -2954.5,
          null,
          null,
          null,
          null,
          null,
          null,
          null
         ]
        },
        {
         "line": {
          "color": "blue",
          "width": 1
         },
         "marker": {
          "color": "blue",
          "size": 1
         },
         "type": "scatter3d",
         "uid": "1f895f7a-bbce-447d-b0f1-cfe96f793c1c",
         "x": [
          -60.36780167,
          -64.76959991,
          -98.11660004,
          -104.9349976,
          -123.50700379999999,
          -95.55750275,
          -192.23699950000002,
          -214.9060059,
          -307.6570129,
          -541.7150268999999,
          -494.4490051,
          null,
          null,
          null,
          null,
          null,
          null,
          null,
          null
         ],
         "y": [
          -37.80659866,
          -78.30840302,
          -77.69300079,
          -66.25789642,
          -66.34089661,
          -137.83000180000002,
          -243.3919983,
          -266.4360046,
          -346.5119934,
          -316.84799189999995,
          -363.7640076,
          null,
          null,
          null,
          null,
          null,
          null,
          null,
          null
         ],
         "z": [
          -363.7409973,
          -598,
          -598,
          -620.7529907,
          -818,
          -962,
          -1795.5,
          -1795.5,
          -2551.5,
          -2945.5,
          -2948.5,
          null,
          null,
          null,
          null,
          null,
          null,
          null,
          null
         ]
        },
        {
         "line": {
          "color": "blue",
          "width": 1
         },
         "marker": {
          "color": "blue",
          "size": 1
         },
         "type": "scatter3d",
         "uid": "4c7f3b17-753a-41ef-b232-584d8aaf8644",
         "x": [
          31.43919945,
          71.3973999,
          61.86240005,
          115.53199769999999,
          105.8730011,
          128.7910004,
          127.9449997,
          115.9499969,
          153.18800349999998,
          150.1660004,
          275.8110046,
          255.326004,
          442.6000061000001,
          null,
          null,
          null,
          null,
          null,
          null
         ],
         "y": [
          6.838170052000001,
          9.160559654,
          -13.58189964,
          13.69200039,
          0.7500749826,
          -28.37249947,
          -27.14010048,
          -24.40620041,
          -3.2325000760000004,
          -33.88899994,
          13.03540039,
          -62.44079971,
          -39.27460098,
          null,
          null,
          null,
          null,
          null,
          null
         ],
         "z": [
          -194.8289948,
          -346.92099,
          -423.7630005,
          -598,
          -602,
          -598,
          -698,
          -702,
          -698,
          -698,
          -1495.5,
          -1498.5,
          -2551.5,
          null,
          null,
          null,
          null,
          null,
          null
         ]
        },
        {
         "line": {
          "color": "blue",
          "width": 1
         },
         "marker": {
          "color": "blue",
          "size": 1
         },
         "type": "scatter3d",
         "uid": "290d28d8-303f-4e67-bbbc-19379c4b2f9e",
         "x": [
          21.71229935,
          16.0571003,
          14.03849983,
          65.72160339,
          93.74710083,
          90.56269836,
          93.67790222,
          192.128006,
          257.55398560000003,
          163.97300719999998,
          349.85000610000003,
          488.11999510000004,
          291.4339905,
          295.7720032,
          null,
          null,
          null,
          null,
          null
         ],
         "y": [
          24.98609924,
          27.71120071,
          28.68390083,
          79.34429932,
          144.27999880000002,
          146.2599945,
          245.451004,
          180.621994,
          253.8029938,
          324.7579956,
          359.00399780000004,
          441.97399900000005,
          591.1270142000001,
          595.6550292999999,
          null,
          null,
          null,
          null,
          null
         ],
         "z": [
          -21.33480072,
          -33.2840004,
          -34.48849869,
          -112.4469986,
          -126.60099790000001,
          -145.32299799999998,
          -224.378006,
          -235.5890045,
          -276.24899289999996,
          -405.7569885,
          -558.0339966,
          -626.9349976,
          -658.8259887999999,
          -665.0599976,
          null,
          null,
          null,
          null,
          null
         ]
        },
        {
         "line": {
          "color": "blue",
          "width": 1
         },
         "marker": {
          "color": "blue",
          "size": 1
         },
         "type": "scatter3d",
         "uid": "d99f6163-9453-4dd1-982d-79392771a9fd",
         "x": [
          -41.31529999,
          -55.23379898,
          -54.54579926,
          -73.82910156,
          -72.12969971,
          -87.01010132,
          -89.36209869,
          -91.02079773,
          -97.97409821,
          null,
          null,
          null,
          null,
          null,
          null,
          null,
          null,
          null,
          null
         ],
         "y": [
          -18.01189995,
          -26.24130058,
          -11.70979977,
          -25.13080025,
          -0.6533300281000001,
          -27.54560089,
          -29.02930069,
          -36.62609863,
          -40.96080017,
          null,
          null,
          null,
          null,
          null,
          null,
          null,
          null,
          null,
          null
         ],
         "z": [
          597.5,
          702.5,
          818,
          822,
          962.5,
          962,
          1102,
          1224.5,
          1502,
          null,
          null,
          null,
          null,
          null,
          null,
          null,
          null,
          null,
          null
         ]
        },
        {
         "line": {
          "color": "blue",
          "width": 1
         },
         "marker": {
          "color": "blue",
          "size": 1
         },
         "type": "scatter3d",
         "uid": "3a7a2fa7-3411-4048-af5e-c33d8b73cecf",
         "x": [
          25.32329941,
          89.90789795,
          101.9749985,
          124.302002,
          115.6200027,
          255.0809937,
          306.6570129,
          285.875,
          null,
          null,
          null,
          null,
          null,
          null,
          null,
          null,
          null,
          null,
          null
         ],
         "y": [
          19.58709908,
          46.16690063,
          55.67969894,
          63.10620117,
          44.76639938,
          99.62059784,
          121.20099640000001,
          233.76300049999998,
          null,
          null,
          null,
          null,
          null,
          null,
          null,
          null,
          null,
          null,
          null
         ],
         "z": [
          244.746994,
          702,
          822,
          962,
          1098,
          2548.5,
          2548.5,
          2548.5,
          null,
          null,
          null,
          null,
          null,
          null,
          null,
          null,
          null,
          null,
          null
         ]
        },
        {
         "line": {
          "color": "blue",
          "width": 1
         },
         "marker": {
          "color": "blue",
          "size": 1
         },
         "type": "scatter3d",
         "uid": "91d42b56-5b73-420b-8792-f79fdc3875c2",
         "x": [
          -11.51019955,
          -22.35880089,
          -54.91469955,
          -45.51530075,
          -30.30690002,
          -31.30179977,
          -111.5009995,
          null,
          null,
          null,
          null,
          null,
          null,
          null,
          null,
          null,
          null,
          null,
          null
         ],
         "y": [
          24.79199982,
          67.94999695,
          165.9579926,
          159.32000730000001,
          156.5910034,
          231.0420074,
          300.0920105,
          null,
          null,
          null,
          null,
          null,
          null,
          null,
          null,
          null,
          null,
          null,
          null
         ],
         "z": [
          179.16999819999998,
          344.0960083,
          822.5,
          881.8209839,
          958,
          1302.5,
          1495.5,
          null,
          null,
          null,
          null,
          null,
          null,
          null,
          null,
          null,
          null,
          null,
          null
         ]
        },
        {
         "line": {
          "color": "blue",
          "width": 1
         },
         "marker": {
          "color": "blue",
          "size": 1
         },
         "type": "scatter3d",
         "uid": "2b535b18-b46f-4089-b090-57cb052d7f90",
         "x": [
          9.893939972,
          11.92039967,
          11.78040028,
          2.164710045,
          -1.500309944,
          16.33169937,
          2.636640072,
          4.805540085,
          19.0583992,
          null,
          null,
          null,
          null,
          null,
          null,
          null,
          null,
          null,
          null
         ],
         "y": [
          -29.67079926,
          -34.35900116,
          -34.50630188,
          -41.55970001,
          -37.13959885,
          -46.48749924,
          -60.89210129,
          -63.02590179,
          -53.80580139,
          null,
          null,
          null,
          null,
          null,
          null,
          null,
          null,
          null,
          null
         ],
         "z": [
          -822.5,
          -957.5,
          -958,
          -962,
          -962.5,
          -1297.5,
          -1502,
          -1502,
          -1502.5,
          null,
          null,
          null,
          null,
          null,
          null,
          null,
          null,
          null,
          null
         ]
        },
        {
         "line": {
          "color": "blue",
          "width": 1
         },
         "marker": {
          "color": "blue",
          "size": 1
         },
         "type": "scatter3d",
         "uid": "4f38f17c-83c1-416c-8337-545e83905571",
         "x": [
          38.94599915,
          39.28239822,
          44.03030014,
          46.17900085,
          45.00149918,
          58.62639999,
          57.1548996,
          63.50749969,
          100.7839966,
          189.78300480000001,
          225.1990051,
          null,
          null,
          null,
          null,
          null,
          null,
          null,
          null
         ],
         "y": [
          -27.54649925,
          -29.70739937,
          -17.36319923,
          -27.74069977,
          -25.0753994,
          -23.74939919,
          -45.23410034,
          -52.90430069,
          -60.30709839,
          -166.602005,
          -176.3430023,
          null,
          null,
          null,
          null,
          null,
          null,
          null,
          null
         ],
         "z": [
          597.5,
          597.5,
          602,
          602.5,
          641.9639892999999,
          818,
          822,
          957.5,
          1298,
          2948.5,
          2945.5,
          null,
          null,
          null,
          null,
          null,
          null,
          null,
          null
         ]
        },
        {
         "line": {
          "color": "blue",
          "width": 1
         },
         "marker": {
          "color": "blue",
          "size": 1
         },
         "type": "scatter3d",
         "uid": "ac873ff6-8e4b-4189-b8b9-465e71c2d448",
         "x": [
          -27.3022995,
          -29.96899986,
          -29.76989937,
          -43.97280121,
          -41.69850159,
          -39.15280151,
          -42.25090027,
          -35.47159958,
          -49.89659882,
          -52.03549957,
          -55.65299988,
          -57.75279999,
          -59.81240082,
          -62.26449966,
          -101.8430023,
          null,
          null,
          null,
          null
         ],
         "y": [
          12.72939968,
          8.626879692000001,
          10.64430046,
          15.04339981,
          7.605209827,
          15.17469978,
          4.0308098789999995,
          18.31990051,
          23.25749969,
          18.24740028,
          14.62080002,
          7.2456002239999995,
          9.208000183,
          8.82240963,
          44.92900085,
          null,
          null,
          null,
          null
         ],
         "z": [
          702,
          702.5,
          723.2399902000001,
          1098,
          1102,
          1102.5,
          1102.5,
          1298,
          1298,
          1298,
          1298,
          1497.5,
          1502,
          1502,
          2554.5,
          null,
          null,
          null,
          null
         ]
        }
       ],
       "layout": {
        "autosize": false,
        "height": 750,
        "scene": {
         "aspectmode": "manual",
         "aspectratio": {
          "x": 1,
          "y": 1,
          "z": 0.7
         },
         "camera": {
          "eye": {
           "x": -1.7428,
           "y": 1.0707,
           "z": 0.71
          },
          "up": {
           "x": 0,
           "y": 0,
           "z": 1
          }
         },
         "xaxis": {
          "backgroundcolor": "rgb(230, 230,230)",
          "gridcolor": "rgb(255, 255, 255)",
          "showbackground": true,
          "title": {
           "text": "x (mm)"
          },
          "zerolinecolor": "rgb(255, 255, 255)"
         },
         "yaxis": {
          "backgroundcolor": "rgb(230, 230,230)",
          "gridcolor": "rgb(255, 255, 255)",
          "showbackground": true,
          "title": {
           "text": "y (mm)"
          },
          "zerolinecolor": "rgb(255, 255, 255)"
         },
         "zaxis": {
          "backgroundcolor": "rgb(230, 230,230)",
          "gridcolor": "rgb(255, 255, 255)",
          "showbackground": true,
          "title": {
           "text": "z (mm)"
          },
          "zerolinecolor": "rgb(255, 255, 255)"
         }
        },
        "title": {
         "text": "Fake tracks sorted"
        },
        "width": 900
       }
      },
      "text/html": [
       "<div id=\"fe963e05-8404-4dd9-ba66-8a3552377745\" style=\"height: 750px; width: 900px;\" class=\"plotly-graph-div\"></div><script type=\"text/javascript\">require([\"plotly\"], function(Plotly) { window.PLOTLYENV=window.PLOTLYENV || {};window.PLOTLYENV.BASE_URL=\"https://plot.ly\";\n",
       "if (document.getElementById(\"fe963e05-8404-4dd9-ba66-8a3552377745\")) {\n",
       "    Plotly.newPlot(\"fe963e05-8404-4dd9-ba66-8a3552377745\", [{\"line\": {\"color\": \"blue\", \"width\": 1}, \"marker\": {\"color\": \"blue\", \"size\": 1}, \"x\": [31.40110016, 31.53700066, 79.92620087, 147.1450043, 110.0699997, 131.23699950000002, 257.52398680000005, 351.58099369999996, 384.07800289999994, 360.3590088, 407.2720032, 376.5289917, null, null, null, null, null, null, null], \"y\": [-10.35449982, -7.946420193, -41.4618988, -43.91540146, -73.30149841, -82.55840302, -159.1029968, -88.40329742, -127.6340027, -288.4259949, -260.41900630000004, -275.7640076, null, null, null, null, null, null, null], \"z\": [-152.9170074, -194.0319977, -602.5, -702.0, -818.0, -962.0, -1798.5, -2148.5, -2151.5, -2551.5, -2944.5, -2954.5, null, null, null, null, null, null, null], \"type\": \"scatter3d\", \"uid\": \"10337e23-d9c6-47d0-8b57-f336a23cd16a\"}, {\"line\": {\"color\": \"blue\", \"width\": 1}, \"marker\": {\"color\": \"blue\", \"size\": 1}, \"x\": [-60.36780167, -64.76959991, -98.11660004, -104.9349976, -123.50700379999999, -95.55750275, -192.23699950000002, -214.9060059, -307.6570129, -541.7150268999999, -494.4490051, null, null, null, null, null, null, null, null], \"y\": [-37.80659866, -78.30840302, -77.69300079, -66.25789642, -66.34089661, -137.83000180000002, -243.3919983, -266.4360046, -346.5119934, -316.84799189999995, -363.7640076, null, null, null, null, null, null, null, null], \"z\": [-363.7409973, -598.0, -598.0, -620.7529907, -818.0, -962.0, -1795.5, -1795.5, -2551.5, -2945.5, -2948.5, null, null, null, null, null, null, null, null], \"type\": \"scatter3d\", \"uid\": \"fa601d75-ca8f-47db-a4a2-76cf2accb050\"}, {\"line\": {\"color\": \"blue\", \"width\": 1}, \"marker\": {\"color\": \"blue\", \"size\": 1}, \"x\": [31.43919945, 71.3973999, 61.86240005, 115.53199769999999, 105.8730011, 128.7910004, 127.9449997, 115.9499969, 153.18800349999998, 150.1660004, 275.8110046, 255.326004, 442.6000061000001, null, null, null, null, null, null], \"y\": [6.838170052000001, 9.160559654, -13.58189964, 13.69200039, 0.7500749826, -28.37249947, -27.14010048, -24.40620041, -3.2325000760000004, -33.88899994, 13.03540039, -62.44079971, -39.27460098, null, null, null, null, null, null], \"z\": [-194.8289948, -346.92099, -423.7630005, -598.0, -602.0, -598.0, -698.0, -702.0, -698.0, -698.0, -1495.5, -1498.5, -2551.5, null, null, null, null, null, null], \"type\": \"scatter3d\", \"uid\": \"fd741191-12cf-4a74-8181-ecd20bd797b1\"}, {\"line\": {\"color\": \"blue\", \"width\": 1}, \"marker\": {\"color\": \"blue\", \"size\": 1}, \"x\": [21.71229935, 16.0571003, 14.03849983, 65.72160339, 93.74710083, 90.56269836, 93.67790222, 192.128006, 257.55398560000003, 163.97300719999998, 349.85000610000003, 488.11999510000004, 291.4339905, 295.7720032, null, null, null, null, null], \"y\": [24.98609924, 27.71120071, 28.68390083, 79.34429932, 144.27999880000002, 146.2599945, 245.451004, 180.621994, 253.8029938, 324.7579956, 359.00399780000004, 441.97399900000005, 591.1270142000001, 595.6550292999999, null, null, null, null, null], \"z\": [-21.33480072, -33.2840004, -34.48849869, -112.4469986, -126.60099790000001, -145.32299799999998, -224.378006, -235.5890045, -276.24899289999996, -405.7569885, -558.0339966, -626.9349976, -658.8259887999999, -665.0599976, null, null, null, null, null], \"type\": \"scatter3d\", \"uid\": \"60c328a5-8c60-4a02-a934-4020f85621fa\"}, {\"line\": {\"color\": \"blue\", \"width\": 1}, \"marker\": {\"color\": \"blue\", \"size\": 1}, \"x\": [-41.31529999, -55.23379898, -54.54579926, -73.82910156, -72.12969971, -87.01010132, -89.36209869, -91.02079773, -97.97409821, null, null, null, null, null, null, null, null, null, null], \"y\": [-18.01189995, -26.24130058, -11.70979977, -25.13080025, -0.6533300281000001, -27.54560089, -29.02930069, -36.62609863, -40.96080017, null, null, null, null, null, null, null, null, null, null], \"z\": [597.5, 702.5, 818.0, 822.0, 962.5, 962.0, 1102.0, 1224.5, 1502.0, null, null, null, null, null, null, null, null, null, null], \"type\": \"scatter3d\", \"uid\": \"b5f41f64-3153-4929-8428-dc8248e4f23f\"}, {\"line\": {\"color\": \"blue\", \"width\": 1}, \"marker\": {\"color\": \"blue\", \"size\": 1}, \"x\": [25.32329941, 89.90789795, 101.9749985, 124.302002, 115.6200027, 255.0809937, 306.6570129, 285.875, null, null, null, null, null, null, null, null, null, null, null], \"y\": [19.58709908, 46.16690063, 55.67969894, 63.10620117, 44.76639938, 99.62059784, 121.20099640000001, 233.76300049999998, null, null, null, null, null, null, null, null, null, null, null], \"z\": [244.746994, 702.0, 822.0, 962.0, 1098.0, 2548.5, 2548.5, 2548.5, null, null, null, null, null, null, null, null, null, null, null], \"type\": \"scatter3d\", \"uid\": \"08e26adb-fc23-4e7f-8d8d-47860db6b29d\"}, {\"line\": {\"color\": \"blue\", \"width\": 1}, \"marker\": {\"color\": \"blue\", \"size\": 1}, \"x\": [-11.51019955, -22.35880089, -54.91469955, -45.51530075, -30.30690002, -31.30179977, -111.5009995, null, null, null, null, null, null, null, null, null, null, null, null], \"y\": [24.79199982, 67.94999695, 165.9579926, 159.32000730000001, 156.5910034, 231.0420074, 300.0920105, null, null, null, null, null, null, null, null, null, null, null, null], \"z\": [179.16999819999998, 344.0960083, 822.5, 881.8209839, 958.0, 1302.5, 1495.5, null, null, null, null, null, null, null, null, null, null, null, null], \"type\": \"scatter3d\", \"uid\": \"fd27fc10-a045-40ab-9656-b396f5e7e4ff\"}, {\"line\": {\"color\": \"blue\", \"width\": 1}, \"marker\": {\"color\": \"blue\", \"size\": 1}, \"x\": [9.893939972, 11.92039967, 11.78040028, 2.164710045, -1.500309944, 16.33169937, 2.636640072, 4.805540085, 19.0583992, null, null, null, null, null, null, null, null, null, null], \"y\": [-29.67079926, -34.35900116, -34.50630188, -41.55970001, -37.13959885, -46.48749924, -60.89210129, -63.02590179, -53.80580139, null, null, null, null, null, null, null, null, null, null], \"z\": [-822.5, -957.5, -958.0, -962.0, -962.5, -1297.5, -1502.0, -1502.0, -1502.5, null, null, null, null, null, null, null, null, null, null], \"type\": \"scatter3d\", \"uid\": \"1d8c6e2d-390f-404a-8b22-10bb4e88a586\"}, {\"line\": {\"color\": \"blue\", \"width\": 1}, \"marker\": {\"color\": \"blue\", \"size\": 1}, \"x\": [38.94599915, 39.28239822, 44.03030014, 46.17900085, 45.00149918, 58.62639999, 57.1548996, 63.50749969, 100.7839966, 189.78300480000001, 225.1990051, null, null, null, null, null, null, null, null], \"y\": [-27.54649925, -29.70739937, -17.36319923, -27.74069977, -25.0753994, -23.74939919, -45.23410034, -52.90430069, -60.30709839, -166.602005, -176.3430023, null, null, null, null, null, null, null, null], \"z\": [597.5, 597.5, 602.0, 602.5, 641.9639892999999, 818.0, 822.0, 957.5, 1298.0, 2948.5, 2945.5, null, null, null, null, null, null, null, null], \"type\": \"scatter3d\", \"uid\": \"746a4155-3ebe-4f82-a518-cafe37a6d9b4\"}, {\"line\": {\"color\": \"blue\", \"width\": 1}, \"marker\": {\"color\": \"blue\", \"size\": 1}, \"x\": [-27.3022995, -29.96899986, -29.76989937, -43.97280121, -41.69850159, -39.15280151, -42.25090027, -35.47159958, -49.89659882, -52.03549957, -55.65299988, -57.75279999, -59.81240082, -62.26449966, -101.8430023, null, null, null, null], \"y\": [12.72939968, 8.626879692000001, 10.64430046, 15.04339981, 7.605209827, 15.17469978, 4.0308098789999995, 18.31990051, 23.25749969, 18.24740028, 14.62080002, 7.2456002239999995, 9.208000183, 8.82240963, 44.92900085, null, null, null, null], \"z\": [702.0, 702.5, 723.2399902000001, 1098.0, 1102.0, 1102.5, 1102.5, 1298.0, 1298.0, 1298.0, 1298.0, 1497.5, 1502.0, 1502.0, 2554.5, null, null, null, null], \"type\": \"scatter3d\", \"uid\": \"4dec7d2a-1962-4433-a947-843a2d3e1ca3\"}], {\"autosize\": false, \"height\": 750, \"scene\": {\"aspectmode\": \"manual\", \"aspectratio\": {\"x\": 1, \"y\": 1, \"z\": 0.7}, \"camera\": {\"eye\": {\"x\": -1.7428, \"y\": 1.0707, \"z\": 0.71}, \"up\": {\"x\": 0, \"y\": 0, \"z\": 1}}, \"xaxis\": {\"backgroundcolor\": \"rgb(230, 230,230)\", \"gridcolor\": \"rgb(255, 255, 255)\", \"showbackground\": true, \"title\": {\"text\": \"x (mm)\"}, \"zerolinecolor\": \"rgb(255, 255, 255)\"}, \"yaxis\": {\"backgroundcolor\": \"rgb(230, 230,230)\", \"gridcolor\": \"rgb(255, 255, 255)\", \"showbackground\": true, \"title\": {\"text\": \"y (mm)\"}, \"zerolinecolor\": \"rgb(255, 255, 255)\"}, \"zaxis\": {\"backgroundcolor\": \"rgb(230, 230,230)\", \"gridcolor\": \"rgb(255, 255, 255)\", \"showbackground\": true, \"title\": {\"text\": \"z (mm)\"}, \"zerolinecolor\": \"rgb(255, 255, 255)\"}}, \"title\": {\"text\": \"Fake tracks sorted\"}, \"width\": 900}, {\"showLink\": false, \"linkText\": \"Export to plot.ly\", \"plotlyServerURL\": \"https://plot.ly\"}); \n",
       "}\n",
       "});</script>"
      ],
      "text/vnd.plotly.v1+html": [
       "<div id=\"fe963e05-8404-4dd9-ba66-8a3552377745\" style=\"height: 750px; width: 900px;\" class=\"plotly-graph-div\"></div><script type=\"text/javascript\">require([\"plotly\"], function(Plotly) { window.PLOTLYENV=window.PLOTLYENV || {};window.PLOTLYENV.BASE_URL=\"https://plot.ly\";\n",
       "if (document.getElementById(\"fe963e05-8404-4dd9-ba66-8a3552377745\")) {\n",
       "    Plotly.newPlot(\"fe963e05-8404-4dd9-ba66-8a3552377745\", [{\"line\": {\"color\": \"blue\", \"width\": 1}, \"marker\": {\"color\": \"blue\", \"size\": 1}, \"x\": [31.40110016, 31.53700066, 79.92620087, 147.1450043, 110.0699997, 131.23699950000002, 257.52398680000005, 351.58099369999996, 384.07800289999994, 360.3590088, 407.2720032, 376.5289917, null, null, null, null, null, null, null], \"y\": [-10.35449982, -7.946420193, -41.4618988, -43.91540146, -73.30149841, -82.55840302, -159.1029968, -88.40329742, -127.6340027, -288.4259949, -260.41900630000004, -275.7640076, null, null, null, null, null, null, null], \"z\": [-152.9170074, -194.0319977, -602.5, -702.0, -818.0, -962.0, -1798.5, -2148.5, -2151.5, -2551.5, -2944.5, -2954.5, null, null, null, null, null, null, null], \"type\": \"scatter3d\", \"uid\": \"10337e23-d9c6-47d0-8b57-f336a23cd16a\"}, {\"line\": {\"color\": \"blue\", \"width\": 1}, \"marker\": {\"color\": \"blue\", \"size\": 1}, \"x\": [-60.36780167, -64.76959991, -98.11660004, -104.9349976, -123.50700379999999, -95.55750275, -192.23699950000002, -214.9060059, -307.6570129, -541.7150268999999, -494.4490051, null, null, null, null, null, null, null, null], \"y\": [-37.80659866, -78.30840302, -77.69300079, -66.25789642, -66.34089661, -137.83000180000002, -243.3919983, -266.4360046, -346.5119934, -316.84799189999995, -363.7640076, null, null, null, null, null, null, null, null], \"z\": [-363.7409973, -598.0, -598.0, -620.7529907, -818.0, -962.0, -1795.5, -1795.5, -2551.5, -2945.5, -2948.5, null, null, null, null, null, null, null, null], \"type\": \"scatter3d\", \"uid\": \"fa601d75-ca8f-47db-a4a2-76cf2accb050\"}, {\"line\": {\"color\": \"blue\", \"width\": 1}, \"marker\": {\"color\": \"blue\", \"size\": 1}, \"x\": [31.43919945, 71.3973999, 61.86240005, 115.53199769999999, 105.8730011, 128.7910004, 127.9449997, 115.9499969, 153.18800349999998, 150.1660004, 275.8110046, 255.326004, 442.6000061000001, null, null, null, null, null, null], \"y\": [6.838170052000001, 9.160559654, -13.58189964, 13.69200039, 0.7500749826, -28.37249947, -27.14010048, -24.40620041, -3.2325000760000004, -33.88899994, 13.03540039, -62.44079971, -39.27460098, null, null, null, null, null, null], \"z\": [-194.8289948, -346.92099, -423.7630005, -598.0, -602.0, -598.0, -698.0, -702.0, -698.0, -698.0, -1495.5, -1498.5, -2551.5, null, null, null, null, null, null], \"type\": \"scatter3d\", \"uid\": \"fd741191-12cf-4a74-8181-ecd20bd797b1\"}, {\"line\": {\"color\": \"blue\", \"width\": 1}, \"marker\": {\"color\": \"blue\", \"size\": 1}, \"x\": [21.71229935, 16.0571003, 14.03849983, 65.72160339, 93.74710083, 90.56269836, 93.67790222, 192.128006, 257.55398560000003, 163.97300719999998, 349.85000610000003, 488.11999510000004, 291.4339905, 295.7720032, null, null, null, null, null], \"y\": [24.98609924, 27.71120071, 28.68390083, 79.34429932, 144.27999880000002, 146.2599945, 245.451004, 180.621994, 253.8029938, 324.7579956, 359.00399780000004, 441.97399900000005, 591.1270142000001, 595.6550292999999, null, null, null, null, null], \"z\": [-21.33480072, -33.2840004, -34.48849869, -112.4469986, -126.60099790000001, -145.32299799999998, -224.378006, -235.5890045, -276.24899289999996, -405.7569885, -558.0339966, -626.9349976, -658.8259887999999, -665.0599976, null, null, null, null, null], \"type\": \"scatter3d\", \"uid\": \"60c328a5-8c60-4a02-a934-4020f85621fa\"}, {\"line\": {\"color\": \"blue\", \"width\": 1}, \"marker\": {\"color\": \"blue\", \"size\": 1}, \"x\": [-41.31529999, -55.23379898, -54.54579926, -73.82910156, -72.12969971, -87.01010132, -89.36209869, -91.02079773, -97.97409821, null, null, null, null, null, null, null, null, null, null], \"y\": [-18.01189995, -26.24130058, -11.70979977, -25.13080025, -0.6533300281000001, -27.54560089, -29.02930069, -36.62609863, -40.96080017, null, null, null, null, null, null, null, null, null, null], \"z\": [597.5, 702.5, 818.0, 822.0, 962.5, 962.0, 1102.0, 1224.5, 1502.0, null, null, null, null, null, null, null, null, null, null], \"type\": \"scatter3d\", \"uid\": \"b5f41f64-3153-4929-8428-dc8248e4f23f\"}, {\"line\": {\"color\": \"blue\", \"width\": 1}, \"marker\": {\"color\": \"blue\", \"size\": 1}, \"x\": [25.32329941, 89.90789795, 101.9749985, 124.302002, 115.6200027, 255.0809937, 306.6570129, 285.875, null, null, null, null, null, null, null, null, null, null, null], \"y\": [19.58709908, 46.16690063, 55.67969894, 63.10620117, 44.76639938, 99.62059784, 121.20099640000001, 233.76300049999998, null, null, null, null, null, null, null, null, null, null, null], \"z\": [244.746994, 702.0, 822.0, 962.0, 1098.0, 2548.5, 2548.5, 2548.5, null, null, null, null, null, null, null, null, null, null, null], \"type\": \"scatter3d\", \"uid\": \"08e26adb-fc23-4e7f-8d8d-47860db6b29d\"}, {\"line\": {\"color\": \"blue\", \"width\": 1}, \"marker\": {\"color\": \"blue\", \"size\": 1}, \"x\": [-11.51019955, -22.35880089, -54.91469955, -45.51530075, -30.30690002, -31.30179977, -111.5009995, null, null, null, null, null, null, null, null, null, null, null, null], \"y\": [24.79199982, 67.94999695, 165.9579926, 159.32000730000001, 156.5910034, 231.0420074, 300.0920105, null, null, null, null, null, null, null, null, null, null, null, null], \"z\": [179.16999819999998, 344.0960083, 822.5, 881.8209839, 958.0, 1302.5, 1495.5, null, null, null, null, null, null, null, null, null, null, null, null], \"type\": \"scatter3d\", \"uid\": \"fd27fc10-a045-40ab-9656-b396f5e7e4ff\"}, {\"line\": {\"color\": \"blue\", \"width\": 1}, \"marker\": {\"color\": \"blue\", \"size\": 1}, \"x\": [9.893939972, 11.92039967, 11.78040028, 2.164710045, -1.500309944, 16.33169937, 2.636640072, 4.805540085, 19.0583992, null, null, null, null, null, null, null, null, null, null], \"y\": [-29.67079926, -34.35900116, -34.50630188, -41.55970001, -37.13959885, -46.48749924, -60.89210129, -63.02590179, -53.80580139, null, null, null, null, null, null, null, null, null, null], \"z\": [-822.5, -957.5, -958.0, -962.0, -962.5, -1297.5, -1502.0, -1502.0, -1502.5, null, null, null, null, null, null, null, null, null, null], \"type\": \"scatter3d\", \"uid\": \"1d8c6e2d-390f-404a-8b22-10bb4e88a586\"}, {\"line\": {\"color\": \"blue\", \"width\": 1}, \"marker\": {\"color\": \"blue\", \"size\": 1}, \"x\": [38.94599915, 39.28239822, 44.03030014, 46.17900085, 45.00149918, 58.62639999, 57.1548996, 63.50749969, 100.7839966, 189.78300480000001, 225.1990051, null, null, null, null, null, null, null, null], \"y\": [-27.54649925, -29.70739937, -17.36319923, -27.74069977, -25.0753994, -23.74939919, -45.23410034, -52.90430069, -60.30709839, -166.602005, -176.3430023, null, null, null, null, null, null, null, null], \"z\": [597.5, 597.5, 602.0, 602.5, 641.9639892999999, 818.0, 822.0, 957.5, 1298.0, 2948.5, 2945.5, null, null, null, null, null, null, null, null], \"type\": \"scatter3d\", \"uid\": \"746a4155-3ebe-4f82-a518-cafe37a6d9b4\"}, {\"line\": {\"color\": \"blue\", \"width\": 1}, \"marker\": {\"color\": \"blue\", \"size\": 1}, \"x\": [-27.3022995, -29.96899986, -29.76989937, -43.97280121, -41.69850159, -39.15280151, -42.25090027, -35.47159958, -49.89659882, -52.03549957, -55.65299988, -57.75279999, -59.81240082, -62.26449966, -101.8430023, null, null, null, null], \"y\": [12.72939968, 8.626879692000001, 10.64430046, 15.04339981, 7.605209827, 15.17469978, 4.0308098789999995, 18.31990051, 23.25749969, 18.24740028, 14.62080002, 7.2456002239999995, 9.208000183, 8.82240963, 44.92900085, null, null, null, null], \"z\": [702.0, 702.5, 723.2399902000001, 1098.0, 1102.0, 1102.5, 1102.5, 1298.0, 1298.0, 1298.0, 1298.0, 1497.5, 1502.0, 1502.0, 2554.5, null, null, null, null], \"type\": \"scatter3d\", \"uid\": \"4dec7d2a-1962-4433-a947-843a2d3e1ca3\"}], {\"autosize\": false, \"height\": 750, \"scene\": {\"aspectmode\": \"manual\", \"aspectratio\": {\"x\": 1, \"y\": 1, \"z\": 0.7}, \"camera\": {\"eye\": {\"x\": -1.7428, \"y\": 1.0707, \"z\": 0.71}, \"up\": {\"x\": 0, \"y\": 0, \"z\": 1}}, \"xaxis\": {\"backgroundcolor\": \"rgb(230, 230,230)\", \"gridcolor\": \"rgb(255, 255, 255)\", \"showbackground\": true, \"title\": {\"text\": \"x (mm)\"}, \"zerolinecolor\": \"rgb(255, 255, 255)\"}, \"yaxis\": {\"backgroundcolor\": \"rgb(230, 230,230)\", \"gridcolor\": \"rgb(255, 255, 255)\", \"showbackground\": true, \"title\": {\"text\": \"y (mm)\"}, \"zerolinecolor\": \"rgb(255, 255, 255)\"}, \"zaxis\": {\"backgroundcolor\": \"rgb(230, 230,230)\", \"gridcolor\": \"rgb(255, 255, 255)\", \"showbackground\": true, \"title\": {\"text\": \"z (mm)\"}, \"zerolinecolor\": \"rgb(255, 255, 255)\"}}, \"title\": {\"text\": \"Fake tracks sorted\"}, \"width\": 900}, {\"showLink\": false, \"linkText\": \"Export to plot.ly\", \"plotlyServerURL\": \"https://plot.ly\"}); \n",
       "}\n",
       "});</script>"
      ]
     },
     "metadata": {},
     "output_type": "display_data"
    }
   ],
   "source": [
    "track_plot(tracks_fake_sort, track_color = 'blue', n_tracks = 10, title = 'Fake tracks sorted')"
   ]
  }
 ],
 "metadata": {
  "celltoolbar": "Slideshow",
  "kernelspec": {
   "display_name": "Python [conda env:jeff-default]",
   "language": "python",
   "name": "conda-env-jeff-default-py"
  },
  "language_info": {
   "codemirror_mode": {
    "name": "ipython",
    "version": 3
   },
   "file_extension": ".py",
   "mimetype": "text/x-python",
   "name": "python",
   "nbconvert_exporter": "python",
   "pygments_lexer": "ipython3",
   "version": "3.6.8"
  }
 },
 "nbformat": 4,
 "nbformat_minor": 2
}
