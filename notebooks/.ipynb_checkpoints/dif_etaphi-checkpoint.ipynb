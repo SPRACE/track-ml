{
 "cells": [
  {
   "cell_type": "markdown",
   "metadata": {
    "slideshow": {
     "slide_type": "slide"
    }
   },
   "source": [
    "# tracktop lib Usage"
   ]
  },
  {
   "cell_type": "code",
   "execution_count": 75,
   "metadata": {
    "slideshow": {
     "slide_type": "skip"
    }
   },
   "outputs": [],
   "source": [
    "import sys\n",
    "import numpy as np\n",
    "import pandas as pd\n",
    "\n",
    "sys.path.append('../utils')\n",
    "from tracktop import *\n",
    "\n",
    "pivot = 6"
   ]
  },
  {
   "cell_type": "markdown",
   "metadata": {
    "slideshow": {
     "slide_type": "slide"
    }
   },
   "source": [
    "## Open dataframes from csv"
   ]
  },
  {
   "cell_type": "code",
   "execution_count": 65,
   "metadata": {
    "slideshow": {
     "slide_type": "fragment"
    }
   },
   "outputs": [
    {
     "name": "stdout",
     "output_type": "stream",
     "text": [
      "shape of tracks: (10000, 122)\n",
      "shape of tracks_real: (11872, 114)\n",
      "shape of tracks_fake: (10000, 114)\n"
     ]
    }
   ],
   "source": [
    "# Open the input file as a DF\n",
    "tracks      = pd.read_csv('/home/jfialho/git/track-ml/output/tracks_real_event000001937.csv',\n",
    "                          header = None, sep = ' ')\n",
    "\n",
    "# removing 6 fisrt columns information and de last column (real or fake)\n",
    "tracks_real = tracks.iloc[:,6:]\n",
    "\n",
    "tracks      = pd.read_csv('/data/track-ml/output/trtomei_fake.csv',header = None)\n",
    "\n",
    "# removing 6 fisrt columns information and de last column (real or fake)\n",
    "tracks_fake = tracks.iloc[:,7:-1]\n",
    "\n",
    "# Replacing 0.0 -> infinite representation\n",
    "# to move the hits with zeroes to the bottom of the dataframe\n",
    "tracks_real_sort = tracks_real.replace(0.0, np.PINF).copy()\n",
    "tracks_fake_sort = tracks_fake.replace(0.0, np.PINF).copy()\n",
    "\n",
    "print('shape of tracks: ' + str(tracks.shape))\n",
    "print('shape of tracks_real: ' + str(tracks_real.shape))\n",
    "print('shape of tracks_fake: ' + str(tracks_fake.shape))"
   ]
  },
  {
   "cell_type": "code",
   "execution_count": 66,
   "metadata": {},
   "outputs": [],
   "source": [
    "def rho_from_xy(x, y):\n",
    "    return np.sqrt(x * x + y * y)\n",
    "\n",
    "\n",
    "def eta_from_theta(theta):\n",
    "    return -np.log(np.tan(theta / 2.0))\n",
    "\n",
    "\n",
    "def eta_from_xyz(x, y, z):\n",
    "    theta = np.arctan2(np.sqrt(x * x + y * y), z)\n",
    "    return eta_from_theta(theta)\n",
    "\n",
    "\n",
    "def phi_from_xy(x, y):\n",
    "    return np.arctan2(y, x)\n",
    "\n",
    "\n",
    "def convert_xyz_to_rhoetaphi(x, y, z):\n",
    "    return rho_from_xy(x, y), eta_from_xyz(x, y, z), phi_from_xy(x, y)\n",
    "\n",
    "\n",
    "def convert_rhoetaphi_to_xyz(rho, eta, phi):\n",
    "    x = rho * np.cos(phi)\n",
    "    y = rho * np.sin(phi)\n",
    "    z = rho * np.sinh(eta)\n",
    "    return x, y, z\n"
   ]
  },
  {
   "cell_type": "code",
   "execution_count": 87,
   "metadata": {},
   "outputs": [
    {
     "data": {
      "text/plain": [
       "(1.0000000000000002, 2.0, 3.000000000000001)"
      ]
     },
     "execution_count": 87,
     "metadata": {},
     "output_type": "execute_result"
    }
   ],
   "source": [
    "x = 1\n",
    "y = 2\n",
    "z = 3\n",
    "\n",
    "rho, eta, phi = convert_xyz_to_rhoetaphi(x, y, z)\n",
    "\n",
    "convert_rhoetaphi_to_xyz(rho, eta, phi)\n"
   ]
  },
  {
   "cell_type": "markdown",
   "metadata": {
    "slideshow": {
     "slide_type": "slide"
    }
   },
   "source": [
    "## Sorting the dataframe using xyz_bsort function"
   ]
  },
  {
   "cell_type": "markdown",
   "metadata": {
    "slideshow": {
     "slide_type": "-"
    }
   },
   "source": [
    "### REAL tracks"
   ]
  },
  {
   "cell_type": "code",
   "execution_count": 68,
   "metadata": {
    "slideshow": {
     "slide_type": "-"
    }
   },
   "outputs": [],
   "source": [
    "#for i in range(int(tracks_real_sort.shape[0])):\n",
    "for i in range(100):\n",
    "    xyz_bsort(tracks_real_sort.iloc[i,:])\n",
    "\n",
    "# Replacing infinite representation -> 0.0    \n",
    "tracks_real_sort = tracks_real_sort.replace(np.PINF,0.0).copy()\n",
    "\n"
   ]
  },
  {
   "cell_type": "code",
   "execution_count": 107,
   "metadata": {},
   "outputs": [],
   "source": [
    "#tracks_real_sort.to_csv('../output/tracks_real_sort_19142129052019.csv', \n",
    "#                        encoding='utf-8', index = False, header = False)"
   ]
  },
  {
   "cell_type": "code",
   "execution_count": 108,
   "metadata": {},
   "outputs": [],
   "source": [
    "'''\n",
    "def convert_track_xyz_to_rhoetaphi(df_in):\n",
    "\n",
    "    len_xyz = df_in.shape[0] // pivot\n",
    "\n",
    "    for i in range(len_xyz):\n",
    "        pivot_tmp = i * pivot\n",
    "        x = df_in.iloc[pivot_tmp] \n",
    "        y = df_in.iloc[pivot_tmp + 1] \n",
    "        z = df_in.iloc[pivot_tmp + 2]\n",
    "        if (x != 0 and y != 0 and z != 0):\n",
    "            rho, eta, phi = convert_xyz_to_rhoetaphi(x, y, z)\n",
    "            df_in.iloc[pivot_tmp] = rho \n",
    "            df_in.iloc[pivot_tmp + 1] = eta\n",
    "            df_in.iloc[pivot_tmp + 2] = phi\n",
    "'''"
   ]
  },
  {
   "cell_type": "code",
   "execution_count": 109,
   "metadata": {},
   "outputs": [],
   "source": [
    "'''\n",
    "def convert_track_rhoetaphi_to_xyz(df_in, df_out):\n",
    "\n",
    "    len_xyz = df_in.shape[0] // pivot\n",
    "\n",
    "    for i in range(len_xyz):\n",
    "        pivot_tmp = i * pivot\n",
    "        rho = df_in.iloc[pivot_tmp] \n",
    "        eta = df_in.iloc[pivot_tmp + 1] \n",
    "        phi = df_in.iloc[pivot_tmp + 2]\n",
    "        if (rho != 0 and eta != 0 and phi != 0):\n",
    "            x, y, z = convert_rhoetaphi_to_xyz(rho, eta, phi)\n",
    "            df_out.iloc[pivot_tmp] = x \n",
    "            df_out.iloc[pivot_tmp + 1] = y\n",
    "            df_out.iloc[pivot_tmp + 2] = z\n",
    "'''"
   ]
  },
  {
   "cell_type": "code",
   "execution_count": 192,
   "metadata": {},
   "outputs": [],
   "source": [
    "'''\n",
    "default_err = 0.03\n",
    "\n",
    "def convert_track_etaphi_err(df_in, err_func = err_normal, **kwargs):\n",
    "    err = default_err\n",
    "    \n",
    "    if kwargs.get('err'):\n",
    "        err = kwargs.get('err')\n",
    "\n",
    "    len_xyz = df_in.shape[0] // pivot\n",
    "        \n",
    "    for i in range(len_xyz):\n",
    "        pivot_tmp = i * pivot\n",
    "        x = df_in.iloc[pivot_tmp] \n",
    "        y = df_in.iloc[pivot_tmp + 1] \n",
    "        z = df_in.iloc[pivot_tmp + 2]\n",
    "        if (x != 0 and y != 0 and z != 0):\n",
    "            rho, eta, phi = convert_xyz_to_rhoetaphi(x, y, z)       \n",
    "            eta = err_func(eta, err) \n",
    "            phi = err_func(phi, err)\n",
    "\n",
    "            x, y, z = convert_rhoetaphi_to_xyz(rho, eta, phi)\n",
    "            \n",
    "            df_in.iloc[pivot_tmp] = x \n",
    "            df_in.iloc[pivot_tmp + 1] = y\n",
    "            df_in.iloc[pivot_tmp + 2] = z\n",
    "'''"
   ]
  },
  {
   "cell_type": "code",
   "execution_count": 205,
   "metadata": {},
   "outputs": [],
   "source": [
    "test = tracks_real_sort.copy()"
   ]
  },
  {
   "cell_type": "code",
   "execution_count": 194,
   "metadata": {},
   "outputs": [
    {
     "data": {
      "text/plain": [
       "6        4.498790\n",
       "7       31.731501\n",
       "8      249.738998\n",
       "9      203.063830\n",
       "10     724.063830\n",
       "11       0.052112\n",
       "12      13.547300\n",
       "13      73.732201\n",
       "14     598.000000\n",
       "15     322.000000\n",
       "16     791.500000\n",
       "17       0.159356\n",
       "18      13.687900\n",
       "19      74.269203\n",
       "20     602.500000\n",
       "21      87.000000\n",
       "22     807.000000\n",
       "23       0.279681\n",
       "24      16.966700\n",
       "25      86.177696\n",
       "26     702.500000\n",
       "27      95.000000\n",
       "28    1026.500000\n",
       "29       0.155446\n",
       "30      26.888700\n",
       "31     116.885002\n",
       "32     962.000000\n",
       "33     156.000000\n",
       "34     282.500000\n",
       "35       0.104867\n",
       "36      32.855801\n",
       "37     133.259003\n",
       "38    1102.000000\n",
       "39     197.000000\n",
       "40     590.500000\n",
       "Name: 0, dtype: float64"
      ]
     },
     "execution_count": 194,
     "metadata": {},
     "output_type": "execute_result"
    }
   ],
   "source": [
    "tracks_real_sort.iloc[0,:35]"
   ]
  },
  {
   "cell_type": "markdown",
   "metadata": {
    "slideshow": {
     "slide_type": "subslide"
    }
   },
   "source": [
    "### FAKE tracks"
   ]
  },
  {
   "cell_type": "code",
   "execution_count": 186,
   "metadata": {},
   "outputs": [
    {
     "data": {
      "text/plain": [
       "9.810436919804959"
      ]
     },
     "execution_count": 186,
     "metadata": {},
     "output_type": "execute_result"
    }
   ],
   "source": [
    "x = 10\n",
    "x = err_normal(x)\n",
    "\n",
    "x"
   ]
  },
  {
   "cell_type": "code",
   "execution_count": 229,
   "metadata": {},
   "outputs": [],
   "source": [
    "test = tracks_real_sort.copy()\n",
    "#for i in range(int(tracks_real_sort.shape[0])):\n",
    "for i in range(1):\n",
    "    convert_track_etaphi_err(test.iloc[i,:], err = 0.03)\n",
    "#convert_track_etaphi_err(df_in, err_func = err_normal, **kwargs)"
   ]
  },
  {
   "cell_type": "code",
   "execution_count": 230,
   "metadata": {},
   "outputs": [
    {
     "data": {
      "text/plain": [
       "6        3.410650\n",
       "7       31.866828\n",
       "8      287.061747\n",
       "9      203.063830\n",
       "10     724.063830\n",
       "11       0.052112\n",
       "12      17.879985\n",
       "13      72.802973\n",
       "14     622.065032\n",
       "15     322.000000\n",
       "16     791.500000\n",
       "17       0.159356\n",
       "18      18.671076\n",
       "19      73.175570\n",
       "20     625.185912\n",
       "21      87.000000\n",
       "22     807.000000\n",
       "23       0.279681\n",
       "24      13.911226\n",
       "25      86.723365\n",
       "26     665.670375\n",
       "27      95.000000\n",
       "28    1026.500000\n",
       "29       0.155446\n",
       "30      21.344344\n",
       "31     118.023408\n",
       "32     875.892272\n",
       "33     156.000000\n",
       "34     282.500000\n",
       "35       0.104867\n",
       "36      30.801330\n",
       "37     133.748808\n",
       "38    1009.375775\n",
       "39     197.000000\n",
       "40     590.500000\n",
       "Name: 0, dtype: float64"
      ]
     },
     "execution_count": 230,
     "metadata": {},
     "output_type": "execute_result"
    }
   ],
   "source": [
    "test.iloc[0,:35]"
   ]
  },
  {
   "cell_type": "code",
   "execution_count": 202,
   "metadata": {
    "slideshow": {
     "slide_type": "-"
    }
   },
   "outputs": [],
   "source": [
    "#for i in range(int(tracks_fake_sort.shape[0])):\n",
    "for i in range(10):\n",
    "    xyz_bsort(tracks_fake_sort.iloc[i,:])\n",
    "\n",
    "    # Replacing infinite representation -> 0.0   \n",
    "tracks_fake_sort = tracks_fake_sort.replace(np.PINF,0.0).copy()"
   ]
  },
  {
   "cell_type": "markdown",
   "metadata": {
    "slideshow": {
     "slide_type": "slide"
    }
   },
   "source": [
    "### Ploting dataframe of tracks\n",
    "\n",
    "**Default data:** A dataframe with one track perline and just 6 hit information "
   ]
  },
  {
   "cell_type": "code",
   "execution_count": 106,
   "metadata": {
    "slideshow": {
     "slide_type": "fragment"
    }
   },
   "outputs": [
    {
     "data": {
      "text/html": [
       "<script type=\"text/javascript\">window.PlotlyConfig = {MathJaxConfig: 'local'};</script><script type=\"text/javascript\">if (window.MathJax) {MathJax.Hub.Config({SVG: {font: \"STIX-Web\"}});}</script><script>requirejs.config({paths: { 'plotly': ['https://cdn.plot.ly/plotly-latest.min']},});if(!window._Plotly) {require(['plotly'],function(plotly) {window._Plotly=plotly;});}</script>"
      ],
      "text/vnd.plotly.v1+html": [
       "<script type=\"text/javascript\">window.PlotlyConfig = {MathJaxConfig: 'local'};</script><script type=\"text/javascript\">if (window.MathJax) {MathJax.Hub.Config({SVG: {font: \"STIX-Web\"}});}</script><script>requirejs.config({paths: { 'plotly': ['https://cdn.plot.ly/plotly-latest.min']},});if(!window._Plotly) {require(['plotly'],function(plotly) {window._Plotly=plotly;});}</script>"
      ]
     },
     "metadata": {},
     "output_type": "display_data"
    },
    {
     "data": {
      "application/vnd.plotly.v1+json": {
       "config": {
        "linkText": "Export to plot.ly",
        "plotlyServerURL": "https://plot.ly",
        "showLink": false
       },
       "data": [
        {
         "line": {
          "color": "red",
          "width": 1
         },
         "marker": {
          "color": "red",
          "size": 1
         },
         "type": "scatter3d",
         "uid": "45e4aff9-2558-4425-ab45-2db56bab9fc4",
         "x": [
          32.04882589898353,
          74.96643752449087,
          75.52001812143496,
          87.83202276216946,
          119.93792535378869,
          137.24964638095423,
          161.87977211264874,
          265.8628134164483,
          316.0342663775935,
          367.5309311670113,
          null,
          null,
          null,
          null,
          null,
          null,
          null,
          null,
          null
         ],
         "y": [
          2.750394902836828,
          2.7736033702042016,
          2.7737419490010935,
          2.776251699157751,
          2.7790508543184727,
          2.780083225289919,
          2.7817924670476373,
          2.785111553789929,
          2.783210382496996,
          2.77824336000418,
          null,
          null,
          null,
          null,
          null,
          null,
          null,
          null,
          null
         ],
         "z": [
          1.4299581936111299,
          1.3890864732381827,
          1.3885403678801216,
          1.3764021706316607,
          1.3446860925438802,
          1.3290617355807506,
          1.308428146864398,
          1.2359727532269174,
          1.2175993462925212,
          1.2101092161595188,
          null,
          null,
          null,
          null,
          null,
          null,
          null,
          null,
          null
         ]
        },
        {
         "line": {
          "color": "red",
          "width": 1
         },
         "marker": {
          "color": "red",
          "size": 1
         },
         "type": "scatter3d",
         "uid": "3cbacdaa-623f-463b-b2dd-9b5a2df02351",
         "x": [
          null,
          null,
          null,
          null,
          null,
          null,
          null,
          null,
          null,
          null,
          null,
          null,
          null,
          null,
          null,
          null,
          null,
          null,
          null
         ],
         "y": [
          null,
          null,
          null,
          null,
          null,
          null,
          null,
          null,
          null,
          null,
          null,
          null,
          null,
          null,
          null,
          null,
          null,
          null,
          null
         ],
         "z": [
          null,
          null,
          null,
          null,
          null,
          null,
          null,
          null,
          null,
          null,
          null,
          null,
          null,
          null,
          null,
          null,
          null,
          null,
          null
         ]
        },
        {
         "line": {
          "color": "red",
          "width": 1
         },
         "marker": {
          "color": "red",
          "size": 1
         },
         "type": "scatter3d",
         "uid": "9a7e927d-9a8d-473a-9a80-3dde95571c49",
         "x": [
          null,
          null,
          null,
          null,
          null,
          null,
          null,
          null,
          null,
          null,
          null,
          null,
          null,
          null,
          null,
          null,
          null,
          null,
          null
         ],
         "y": [
          null,
          null,
          null,
          null,
          null,
          null,
          null,
          null,
          null,
          null,
          null,
          null,
          null,
          null,
          null,
          null,
          null,
          null,
          null
         ],
         "z": [
          null,
          null,
          null,
          null,
          null,
          null,
          null,
          null,
          null,
          null,
          null,
          null,
          null,
          null,
          null,
          null,
          null,
          null,
          null
         ]
        },
        {
         "line": {
          "color": "red",
          "width": 1
         },
         "marker": {
          "color": "red",
          "size": 1
         },
         "type": "scatter3d",
         "uid": "809cc082-43a5-46df-b6ac-7766e49c8109",
         "x": [
          32.34555696569714,
          71.7953952321953,
          116.80357886548713,
          null,
          null,
          null,
          null,
          null,
          null,
          null,
          null,
          null,
          null,
          null,
          null,
          null,
          null,
          null,
          null
         ],
         "y": [
          -0.521061396742888,
          -0.15893909803158612,
          -0.03639829482220069,
          null,
          null,
          null,
          null,
          null,
          null,
          null,
          null,
          null,
          null,
          null,
          null,
          null,
          null,
          null,
          null
         ],
         "z": [
          -2.179449735357427,
          -2.2018795867285292,
          -2.1448962842600006,
          null,
          null,
          null,
          null,
          null,
          null,
          null,
          null,
          null,
          null,
          null,
          null,
          null,
          null,
          null,
          null
         ]
        },
        {
         "line": {
          "color": "red",
          "width": 1
         },
         "marker": {
          "color": "red",
          "size": 1
         },
         "type": "scatter3d",
         "uid": "f334b56e-e6c4-4770-8690-2881c3f05439",
         "x": [
          116.80357886548713,
          258.6647124262125,
          362.30806822204704,
          499.79093683989004,
          null,
          null,
          null,
          null,
          null,
          null,
          null,
          null,
          null,
          null,
          null,
          null,
          null,
          null,
          null
         ],
         "y": [
          -0.03639829482220069,
          -1.381873369890819,
          -1.3571665379749898,
          -1.6262383514048953,
          null,
          null,
          null,
          null,
          null,
          null,
          null,
          null,
          null,
          null,
          null,
          null,
          null,
          null,
          null
         ],
         "z": [
          -2.1448962842600006,
          0.8680960144641642,
          0.5189930886558457,
          -0.45730162597415047,
          null,
          null,
          null,
          null,
          null,
          null,
          null,
          null,
          null,
          null,
          null,
          null,
          null,
          null,
          null
         ]
        },
        {
         "line": {
          "color": "red",
          "width": 1
         },
         "marker": {
          "color": "red",
          "size": 1
         },
         "type": "scatter3d",
         "uid": "2ee75e01-7443-48dd-9eeb-52d900c45963",
         "x": [
          116.80357886548713,
          256.07645350271883,
          261.43895710288234,
          264.2817676980884,
          358.69319680250493,
          498.4521395647003,
          655.7297895847961,
          null,
          null,
          null,
          null,
          null,
          null,
          null,
          null,
          null,
          null,
          null,
          null
         ],
         "y": [
          -0.03639829482220069,
          -0.19307608537268062,
          -0.19189539592037533,
          -0.1912720305593687,
          -0.1777429069197864,
          -0.1705064325247195,
          -0.17990581506173237,
          null,
          null,
          null,
          null,
          null,
          null,
          null,
          null,
          null,
          null,
          null,
          null
         ],
         "z": [
          -2.1448962842600006,
          0.30386324422837463,
          0.2974157901526301,
          0.29401407622298287,
          0.17182829427986324,
          -0.04091403786178378,
          -0.3699738151663768,
          null,
          null,
          null,
          null,
          null,
          null,
          null,
          null,
          null,
          null,
          null,
          null
         ]
        },
        {
         "line": {
          "color": "red",
          "width": 1
         },
         "marker": {
          "color": "red",
          "size": 1
         },
         "type": "scatter3d",
         "uid": "ea540f87-1bce-41f9-b365-511dca55090d",
         "x": [
          32.2765251717539,
          72.49918974109553,
          122.05297529704185,
          122.91773031447738,
          144.46995800209683,
          170.3161783524226,
          254.8236750332472,
          314.5855050127392,
          377.9415568605426,
          451.95844732338946,
          531.092472408803,
          604.8962513890467,
          null,
          null,
          null,
          null,
          null,
          null,
          null
         ],
         "y": [
          -2.4475494296346807,
          -2.330063034528665,
          -2.2925381388679096,
          -2.292152681891813,
          -2.2844328571183703,
          -2.2777948960738446,
          -2.2662971121656805,
          -2.262990246402845,
          -2.262343684350596,
          -2.265694964296134,
          -2.274457836383047,
          -2.287501807178339,
          null,
          null,
          null,
          null,
          null,
          null,
          null
         ],
         "z": [
          2.1541295302536647,
          2.197599095802922,
          2.2389518343846477,
          2.2396095890502745,
          2.255985449573709,
          2.276763128881919,
          2.344159501242888,
          2.388911689505615,
          2.4366062759519016,
          2.4892534828222743,
          2.539536478036373,
          2.5773480871682146,
          null,
          null,
          null,
          null,
          null,
          null,
          null
         ]
        },
        {
         "line": {
          "color": "red",
          "width": 1
         },
         "marker": {
          "color": "red",
          "size": 1
         },
         "type": "scatter3d",
         "uid": "a7376db8-1482-4b27-9d96-fbd8951ac728",
         "x": [
          32.48832413060005,
          71.44106603381965,
          115.46976824123733,
          171.29247594904,
          173.17462514562718,
          null,
          null,
          null,
          null,
          null,
          null,
          null,
          null,
          null,
          null,
          null,
          null,
          null,
          null
         ],
         "y": [
          -1.062461791440346,
          -0.957180748856539,
          -0.9217671508839845,
          -0.9031999305173158,
          -0.9027829408062753,
          null,
          null,
          null,
          null,
          null,
          null,
          null,
          null,
          null,
          null,
          null,
          null,
          null,
          null
         ],
         "z": [
          -0.24127122777947071,
          -0.2594784600508352,
          -0.28363863760001357,
          -0.3147222832173277,
          -0.31575956452755355,
          null,
          null,
          null,
          null,
          null,
          null,
          null,
          null,
          null,
          null,
          null,
          null,
          null,
          null
         ]
        },
        {
         "line": {
          "color": "red",
          "width": 1
         },
         "marker": {
          "color": "red",
          "size": 1
         },
         "type": "scatter3d",
         "uid": "7a5e3f52-1b10-4617-af9f-6b4ea16960ef",
         "x": [
          32.04385349393907,
          33.526554095973495,
          72.39914235003553,
          116.19583999717022,
          172.72211953014093,
          257.6563185683158,
          356.52171504305085,
          359.56310945246435,
          497.02074024200203,
          658.7148387594362,
          662.0462195459036,
          820.6762470870998,
          1018.2561855921876,
          1025.2020470409382,
          null,
          null,
          null,
          null,
          null
         ],
         "y": [
          -1.072530913397506,
          -1.0641505839061498,
          -0.9617503184109358,
          -0.9275063664164904,
          -0.9089996614017137,
          -0.8966336397780413,
          -0.8910454686605223,
          -0.8909455523034778,
          -0.8889974676460105,
          -0.890504013779152,
          -0.8905777571073773,
          -0.8956365343057381,
          -0.9056647071416869,
          -0.9060872278620593,
          null,
          null,
          null,
          null,
          null
         ],
         "z": [
          -0.36641585452433406,
          -0.36576391046661877,
          -0.348020007002012,
          -0.3270708395395043,
          -0.30015166403370197,
          -0.2591152254410217,
          -0.211077065914756,
          -0.2095837346908811,
          -0.14200264710005753,
          -0.062005383584211586,
          -0.06034888022189692,
          0.01939022488572287,
          0.12190074418375604,
          0.12557041915281986,
          null,
          null,
          null,
          null,
          null
         ]
        },
        {
         "line": {
          "color": "red",
          "width": 1
         },
         "marker": {
          "color": "red",
          "size": 1
         },
         "type": "scatter3d",
         "uid": "d7ffd8ef-11fa-4c11-8b61-ccc6f86fa59a",
         "x": [
          null,
          null,
          null,
          null,
          null,
          null,
          null,
          null,
          null,
          null,
          null,
          null,
          null,
          null,
          null,
          null,
          null,
          null,
          null
         ],
         "y": [
          null,
          null,
          null,
          null,
          null,
          null,
          null,
          null,
          null,
          null,
          null,
          null,
          null,
          null,
          null,
          null,
          null,
          null,
          null
         ],
         "z": [
          null,
          null,
          null,
          null,
          null,
          null,
          null,
          null,
          null,
          null,
          null,
          null,
          null,
          null,
          null,
          null,
          null,
          null,
          null
         ]
        }
       ],
       "layout": {
        "autosize": false,
        "height": 750,
        "scene": {
         "aspectmode": "manual",
         "aspectratio": {
          "x": 1,
          "y": 1,
          "z": 0.7
         },
         "camera": {
          "eye": {
           "x": -1.7428,
           "y": 1.0707,
           "z": 0.71
          },
          "up": {
           "x": 0,
           "y": 0,
           "z": 1
          }
         },
         "xaxis": {
          "backgroundcolor": "rgb(230, 230,230)",
          "gridcolor": "rgb(255, 255, 255)",
          "showbackground": true,
          "title": {
           "text": "x (mm)"
          },
          "zerolinecolor": "rgb(255, 255, 255)"
         },
         "yaxis": {
          "backgroundcolor": "rgb(230, 230,230)",
          "gridcolor": "rgb(255, 255, 255)",
          "showbackground": true,
          "title": {
           "text": "y (mm)"
          },
          "zerolinecolor": "rgb(255, 255, 255)"
         },
         "zaxis": {
          "backgroundcolor": "rgb(230, 230,230)",
          "gridcolor": "rgb(255, 255, 255)",
          "showbackground": true,
          "title": {
           "text": "z (mm)"
          },
          "zerolinecolor": "rgb(255, 255, 255)"
         }
        },
        "title": {
         "text": "Track plots"
        },
        "width": 900
       }
      },
      "text/html": [
       "<div id=\"dd8c3cf8-2a73-433a-a58f-14eecba5a5fb\" style=\"height: 750px; width: 900px;\" class=\"plotly-graph-div\"></div><script type=\"text/javascript\">require([\"plotly\"], function(Plotly) { window.PLOTLYENV=window.PLOTLYENV || {};window.PLOTLYENV.BASE_URL=\"https://plot.ly\";\n",
       "if (document.getElementById(\"dd8c3cf8-2a73-433a-a58f-14eecba5a5fb\")) {\n",
       "    Plotly.newPlot(\"dd8c3cf8-2a73-433a-a58f-14eecba5a5fb\", [{\"line\": {\"color\": \"red\", \"width\": 1}, \"marker\": {\"color\": \"red\", \"size\": 1}, \"x\": [32.04882589898353, 74.96643752449087, 75.52001812143496, 87.83202276216946, 119.93792535378869, 137.24964638095423, 161.87977211264874, 265.8628134164483, 316.0342663775935, 367.5309311670113, null, null, null, null, null, null, null, null, null], \"y\": [2.750394902836828, 2.7736033702042016, 2.7737419490010935, 2.776251699157751, 2.7790508543184727, 2.780083225289919, 2.7817924670476373, 2.785111553789929, 2.783210382496996, 2.77824336000418, null, null, null, null, null, null, null, null, null], \"z\": [1.4299581936111299, 1.3890864732381827, 1.3885403678801216, 1.3764021706316607, 1.3446860925438802, 1.3290617355807506, 1.308428146864398, 1.2359727532269174, 1.2175993462925212, 1.2101092161595188, null, null, null, null, null, null, null, null, null], \"type\": \"scatter3d\", \"uid\": \"b98218ca-0466-4bb4-9430-6a6c24d6e9db\"}, {\"line\": {\"color\": \"red\", \"width\": 1}, \"marker\": {\"color\": \"red\", \"size\": 1}, \"x\": [null, null, null, null, null, null, null, null, null, null, null, null, null, null, null, null, null, null, null], \"y\": [null, null, null, null, null, null, null, null, null, null, null, null, null, null, null, null, null, null, null], \"z\": [null, null, null, null, null, null, null, null, null, null, null, null, null, null, null, null, null, null, null], \"type\": \"scatter3d\", \"uid\": \"43d4a00f-4162-40a2-b3d5-6c8922c46f0b\"}, {\"line\": {\"color\": \"red\", \"width\": 1}, \"marker\": {\"color\": \"red\", \"size\": 1}, \"x\": [null, null, null, null, null, null, null, null, null, null, null, null, null, null, null, null, null, null, null], \"y\": [null, null, null, null, null, null, null, null, null, null, null, null, null, null, null, null, null, null, null], \"z\": [null, null, null, null, null, null, null, null, null, null, null, null, null, null, null, null, null, null, null], \"type\": \"scatter3d\", \"uid\": \"ea85ec4f-b32d-4b90-bc19-73ff04136040\"}, {\"line\": {\"color\": \"red\", \"width\": 1}, \"marker\": {\"color\": \"red\", \"size\": 1}, \"x\": [32.34555696569714, 71.7953952321953, 116.80357886548713, null, null, null, null, null, null, null, null, null, null, null, null, null, null, null, null], \"y\": [-0.521061396742888, -0.15893909803158612, -0.03639829482220069, null, null, null, null, null, null, null, null, null, null, null, null, null, null, null, null], \"z\": [-2.179449735357427, -2.2018795867285292, -2.1448962842600006, null, null, null, null, null, null, null, null, null, null, null, null, null, null, null, null], \"type\": \"scatter3d\", \"uid\": \"f6e79b00-e44e-44e9-87cf-4313ac4eb5ac\"}, {\"line\": {\"color\": \"red\", \"width\": 1}, \"marker\": {\"color\": \"red\", \"size\": 1}, \"x\": [116.80357886548713, 258.6647124262125, 362.30806822204704, 499.79093683989004, null, null, null, null, null, null, null, null, null, null, null, null, null, null, null], \"y\": [-0.03639829482220069, -1.381873369890819, -1.3571665379749898, -1.6262383514048953, null, null, null, null, null, null, null, null, null, null, null, null, null, null, null], \"z\": [-2.1448962842600006, 0.8680960144641642, 0.5189930886558457, -0.45730162597415047, null, null, null, null, null, null, null, null, null, null, null, null, null, null, null], \"type\": \"scatter3d\", \"uid\": \"10bbd20c-001f-47a9-a6a1-42d603511b70\"}, {\"line\": {\"color\": \"red\", \"width\": 1}, \"marker\": {\"color\": \"red\", \"size\": 1}, \"x\": [116.80357886548713, 256.07645350271883, 261.43895710288234, 264.2817676980884, 358.69319680250493, 498.4521395647003, 655.7297895847961, null, null, null, null, null, null, null, null, null, null, null, null], \"y\": [-0.03639829482220069, -0.19307608537268062, -0.19189539592037533, -0.1912720305593687, -0.1777429069197864, -0.1705064325247195, -0.17990581506173237, null, null, null, null, null, null, null, null, null, null, null, null], \"z\": [-2.1448962842600006, 0.30386324422837463, 0.2974157901526301, 0.29401407622298287, 0.17182829427986324, -0.04091403786178378, -0.3699738151663768, null, null, null, null, null, null, null, null, null, null, null, null], \"type\": \"scatter3d\", \"uid\": \"4cdc6ff3-def6-48ff-aa6a-5108c31e069f\"}, {\"line\": {\"color\": \"red\", \"width\": 1}, \"marker\": {\"color\": \"red\", \"size\": 1}, \"x\": [32.2765251717539, 72.49918974109553, 122.05297529704185, 122.91773031447738, 144.46995800209683, 170.3161783524226, 254.8236750332472, 314.5855050127392, 377.9415568605426, 451.95844732338946, 531.092472408803, 604.8962513890467, null, null, null, null, null, null, null], \"y\": [-2.4475494296346807, -2.330063034528665, -2.2925381388679096, -2.292152681891813, -2.2844328571183703, -2.2777948960738446, -2.2662971121656805, -2.262990246402845, -2.262343684350596, -2.265694964296134, -2.274457836383047, -2.287501807178339, null, null, null, null, null, null, null], \"z\": [2.1541295302536647, 2.197599095802922, 2.2389518343846477, 2.2396095890502745, 2.255985449573709, 2.276763128881919, 2.344159501242888, 2.388911689505615, 2.4366062759519016, 2.4892534828222743, 2.539536478036373, 2.5773480871682146, null, null, null, null, null, null, null], \"type\": \"scatter3d\", \"uid\": \"aa34da5f-9715-4dc1-94a2-b7aa688a6af5\"}, {\"line\": {\"color\": \"red\", \"width\": 1}, \"marker\": {\"color\": \"red\", \"size\": 1}, \"x\": [32.48832413060005, 71.44106603381965, 115.46976824123733, 171.29247594904, 173.17462514562718, null, null, null, null, null, null, null, null, null, null, null, null, null, null], \"y\": [-1.062461791440346, -0.957180748856539, -0.9217671508839845, -0.9031999305173158, -0.9027829408062753, null, null, null, null, null, null, null, null, null, null, null, null, null, null], \"z\": [-0.24127122777947071, -0.2594784600508352, -0.28363863760001357, -0.3147222832173277, -0.31575956452755355, null, null, null, null, null, null, null, null, null, null, null, null, null, null], \"type\": \"scatter3d\", \"uid\": \"9e3f9050-eb95-43e7-a7b7-ceacbbe321e6\"}, {\"line\": {\"color\": \"red\", \"width\": 1}, \"marker\": {\"color\": \"red\", \"size\": 1}, \"x\": [32.04385349393907, 33.526554095973495, 72.39914235003553, 116.19583999717022, 172.72211953014093, 257.6563185683158, 356.52171504305085, 359.56310945246435, 497.02074024200203, 658.7148387594362, 662.0462195459036, 820.6762470870998, 1018.2561855921876, 1025.2020470409382, null, null, null, null, null], \"y\": [-1.072530913397506, -1.0641505839061498, -0.9617503184109358, -0.9275063664164904, -0.9089996614017137, -0.8966336397780413, -0.8910454686605223, -0.8909455523034778, -0.8889974676460105, -0.890504013779152, -0.8905777571073773, -0.8956365343057381, -0.9056647071416869, -0.9060872278620593, null, null, null, null, null], \"z\": [-0.36641585452433406, -0.36576391046661877, -0.348020007002012, -0.3270708395395043, -0.30015166403370197, -0.2591152254410217, -0.211077065914756, -0.2095837346908811, -0.14200264710005753, -0.062005383584211586, -0.06034888022189692, 0.01939022488572287, 0.12190074418375604, 0.12557041915281986, null, null, null, null, null], \"type\": \"scatter3d\", \"uid\": \"03e0a12b-22eb-4eb8-bae8-ce8a19f028cd\"}, {\"line\": {\"color\": \"red\", \"width\": 1}, \"marker\": {\"color\": \"red\", \"size\": 1}, \"x\": [null, null, null, null, null, null, null, null, null, null, null, null, null, null, null, null, null, null, null], \"y\": [null, null, null, null, null, null, null, null, null, null, null, null, null, null, null, null, null, null, null], \"z\": [null, null, null, null, null, null, null, null, null, null, null, null, null, null, null, null, null, null, null], \"type\": \"scatter3d\", \"uid\": \"d7d682d7-4fde-4da0-8186-3d5fd6a50f34\"}], {\"autosize\": false, \"height\": 750, \"scene\": {\"aspectmode\": \"manual\", \"aspectratio\": {\"x\": 1, \"y\": 1, \"z\": 0.7}, \"camera\": {\"eye\": {\"x\": -1.7428, \"y\": 1.0707, \"z\": 0.71}, \"up\": {\"x\": 0, \"y\": 0, \"z\": 1}}, \"xaxis\": {\"backgroundcolor\": \"rgb(230, 230,230)\", \"gridcolor\": \"rgb(255, 255, 255)\", \"showbackground\": true, \"title\": {\"text\": \"x (mm)\"}, \"zerolinecolor\": \"rgb(255, 255, 255)\"}, \"yaxis\": {\"backgroundcolor\": \"rgb(230, 230,230)\", \"gridcolor\": \"rgb(255, 255, 255)\", \"showbackground\": true, \"title\": {\"text\": \"y (mm)\"}, \"zerolinecolor\": \"rgb(255, 255, 255)\"}, \"zaxis\": {\"backgroundcolor\": \"rgb(230, 230,230)\", \"gridcolor\": \"rgb(255, 255, 255)\", \"showbackground\": true, \"title\": {\"text\": \"z (mm)\"}, \"zerolinecolor\": \"rgb(255, 255, 255)\"}}, \"title\": {\"text\": \"Track plots\"}, \"width\": 900}, {\"showLink\": false, \"linkText\": \"Export to plot.ly\", \"plotlyServerURL\": \"https://plot.ly\"}); \n",
       "}\n",
       "});</script>"
      ],
      "text/vnd.plotly.v1+html": [
       "<div id=\"dd8c3cf8-2a73-433a-a58f-14eecba5a5fb\" style=\"height: 750px; width: 900px;\" class=\"plotly-graph-div\"></div><script type=\"text/javascript\">require([\"plotly\"], function(Plotly) { window.PLOTLYENV=window.PLOTLYENV || {};window.PLOTLYENV.BASE_URL=\"https://plot.ly\";\n",
       "if (document.getElementById(\"dd8c3cf8-2a73-433a-a58f-14eecba5a5fb\")) {\n",
       "    Plotly.newPlot(\"dd8c3cf8-2a73-433a-a58f-14eecba5a5fb\", [{\"line\": {\"color\": \"red\", \"width\": 1}, \"marker\": {\"color\": \"red\", \"size\": 1}, \"x\": [32.04882589898353, 74.96643752449087, 75.52001812143496, 87.83202276216946, 119.93792535378869, 137.24964638095423, 161.87977211264874, 265.8628134164483, 316.0342663775935, 367.5309311670113, null, null, null, null, null, null, null, null, null], \"y\": [2.750394902836828, 2.7736033702042016, 2.7737419490010935, 2.776251699157751, 2.7790508543184727, 2.780083225289919, 2.7817924670476373, 2.785111553789929, 2.783210382496996, 2.77824336000418, null, null, null, null, null, null, null, null, null], \"z\": [1.4299581936111299, 1.3890864732381827, 1.3885403678801216, 1.3764021706316607, 1.3446860925438802, 1.3290617355807506, 1.308428146864398, 1.2359727532269174, 1.2175993462925212, 1.2101092161595188, null, null, null, null, null, null, null, null, null], \"type\": \"scatter3d\", \"uid\": \"b98218ca-0466-4bb4-9430-6a6c24d6e9db\"}, {\"line\": {\"color\": \"red\", \"width\": 1}, \"marker\": {\"color\": \"red\", \"size\": 1}, \"x\": [null, null, null, null, null, null, null, null, null, null, null, null, null, null, null, null, null, null, null], \"y\": [null, null, null, null, null, null, null, null, null, null, null, null, null, null, null, null, null, null, null], \"z\": [null, null, null, null, null, null, null, null, null, null, null, null, null, null, null, null, null, null, null], \"type\": \"scatter3d\", \"uid\": \"43d4a00f-4162-40a2-b3d5-6c8922c46f0b\"}, {\"line\": {\"color\": \"red\", \"width\": 1}, \"marker\": {\"color\": \"red\", \"size\": 1}, \"x\": [null, null, null, null, null, null, null, null, null, null, null, null, null, null, null, null, null, null, null], \"y\": [null, null, null, null, null, null, null, null, null, null, null, null, null, null, null, null, null, null, null], \"z\": [null, null, null, null, null, null, null, null, null, null, null, null, null, null, null, null, null, null, null], \"type\": \"scatter3d\", \"uid\": \"ea85ec4f-b32d-4b90-bc19-73ff04136040\"}, {\"line\": {\"color\": \"red\", \"width\": 1}, \"marker\": {\"color\": \"red\", \"size\": 1}, \"x\": [32.34555696569714, 71.7953952321953, 116.80357886548713, null, null, null, null, null, null, null, null, null, null, null, null, null, null, null, null], \"y\": [-0.521061396742888, -0.15893909803158612, -0.03639829482220069, null, null, null, null, null, null, null, null, null, null, null, null, null, null, null, null], \"z\": [-2.179449735357427, -2.2018795867285292, -2.1448962842600006, null, null, null, null, null, null, null, null, null, null, null, null, null, null, null, null], \"type\": \"scatter3d\", \"uid\": \"f6e79b00-e44e-44e9-87cf-4313ac4eb5ac\"}, {\"line\": {\"color\": \"red\", \"width\": 1}, \"marker\": {\"color\": \"red\", \"size\": 1}, \"x\": [116.80357886548713, 258.6647124262125, 362.30806822204704, 499.79093683989004, null, null, null, null, null, null, null, null, null, null, null, null, null, null, null], \"y\": [-0.03639829482220069, -1.381873369890819, -1.3571665379749898, -1.6262383514048953, null, null, null, null, null, null, null, null, null, null, null, null, null, null, null], \"z\": [-2.1448962842600006, 0.8680960144641642, 0.5189930886558457, -0.45730162597415047, null, null, null, null, null, null, null, null, null, null, null, null, null, null, null], \"type\": \"scatter3d\", \"uid\": \"10bbd20c-001f-47a9-a6a1-42d603511b70\"}, {\"line\": {\"color\": \"red\", \"width\": 1}, \"marker\": {\"color\": \"red\", \"size\": 1}, \"x\": [116.80357886548713, 256.07645350271883, 261.43895710288234, 264.2817676980884, 358.69319680250493, 498.4521395647003, 655.7297895847961, null, null, null, null, null, null, null, null, null, null, null, null], \"y\": [-0.03639829482220069, -0.19307608537268062, -0.19189539592037533, -0.1912720305593687, -0.1777429069197864, -0.1705064325247195, -0.17990581506173237, null, null, null, null, null, null, null, null, null, null, null, null], \"z\": [-2.1448962842600006, 0.30386324422837463, 0.2974157901526301, 0.29401407622298287, 0.17182829427986324, -0.04091403786178378, -0.3699738151663768, null, null, null, null, null, null, null, null, null, null, null, null], \"type\": \"scatter3d\", \"uid\": \"4cdc6ff3-def6-48ff-aa6a-5108c31e069f\"}, {\"line\": {\"color\": \"red\", \"width\": 1}, \"marker\": {\"color\": \"red\", \"size\": 1}, \"x\": [32.2765251717539, 72.49918974109553, 122.05297529704185, 122.91773031447738, 144.46995800209683, 170.3161783524226, 254.8236750332472, 314.5855050127392, 377.9415568605426, 451.95844732338946, 531.092472408803, 604.8962513890467, null, null, null, null, null, null, null], \"y\": [-2.4475494296346807, -2.330063034528665, -2.2925381388679096, -2.292152681891813, -2.2844328571183703, -2.2777948960738446, -2.2662971121656805, -2.262990246402845, -2.262343684350596, -2.265694964296134, -2.274457836383047, -2.287501807178339, null, null, null, null, null, null, null], \"z\": [2.1541295302536647, 2.197599095802922, 2.2389518343846477, 2.2396095890502745, 2.255985449573709, 2.276763128881919, 2.344159501242888, 2.388911689505615, 2.4366062759519016, 2.4892534828222743, 2.539536478036373, 2.5773480871682146, null, null, null, null, null, null, null], \"type\": \"scatter3d\", \"uid\": \"aa34da5f-9715-4dc1-94a2-b7aa688a6af5\"}, {\"line\": {\"color\": \"red\", \"width\": 1}, \"marker\": {\"color\": \"red\", \"size\": 1}, \"x\": [32.48832413060005, 71.44106603381965, 115.46976824123733, 171.29247594904, 173.17462514562718, null, null, null, null, null, null, null, null, null, null, null, null, null, null], \"y\": [-1.062461791440346, -0.957180748856539, -0.9217671508839845, -0.9031999305173158, -0.9027829408062753, null, null, null, null, null, null, null, null, null, null, null, null, null, null], \"z\": [-0.24127122777947071, -0.2594784600508352, -0.28363863760001357, -0.3147222832173277, -0.31575956452755355, null, null, null, null, null, null, null, null, null, null, null, null, null, null], \"type\": \"scatter3d\", \"uid\": \"9e3f9050-eb95-43e7-a7b7-ceacbbe321e6\"}, {\"line\": {\"color\": \"red\", \"width\": 1}, \"marker\": {\"color\": \"red\", \"size\": 1}, \"x\": [32.04385349393907, 33.526554095973495, 72.39914235003553, 116.19583999717022, 172.72211953014093, 257.6563185683158, 356.52171504305085, 359.56310945246435, 497.02074024200203, 658.7148387594362, 662.0462195459036, 820.6762470870998, 1018.2561855921876, 1025.2020470409382, null, null, null, null, null], \"y\": [-1.072530913397506, -1.0641505839061498, -0.9617503184109358, -0.9275063664164904, -0.9089996614017137, -0.8966336397780413, -0.8910454686605223, -0.8909455523034778, -0.8889974676460105, -0.890504013779152, -0.8905777571073773, -0.8956365343057381, -0.9056647071416869, -0.9060872278620593, null, null, null, null, null], \"z\": [-0.36641585452433406, -0.36576391046661877, -0.348020007002012, -0.3270708395395043, -0.30015166403370197, -0.2591152254410217, -0.211077065914756, -0.2095837346908811, -0.14200264710005753, -0.062005383584211586, -0.06034888022189692, 0.01939022488572287, 0.12190074418375604, 0.12557041915281986, null, null, null, null, null], \"type\": \"scatter3d\", \"uid\": \"03e0a12b-22eb-4eb8-bae8-ce8a19f028cd\"}, {\"line\": {\"color\": \"red\", \"width\": 1}, \"marker\": {\"color\": \"red\", \"size\": 1}, \"x\": [null, null, null, null, null, null, null, null, null, null, null, null, null, null, null, null, null, null, null], \"y\": [null, null, null, null, null, null, null, null, null, null, null, null, null, null, null, null, null, null, null], \"z\": [null, null, null, null, null, null, null, null, null, null, null, null, null, null, null, null, null, null, null], \"type\": \"scatter3d\", \"uid\": \"d7d682d7-4fde-4da0-8186-3d5fd6a50f34\"}], {\"autosize\": false, \"height\": 750, \"scene\": {\"aspectmode\": \"manual\", \"aspectratio\": {\"x\": 1, \"y\": 1, \"z\": 0.7}, \"camera\": {\"eye\": {\"x\": -1.7428, \"y\": 1.0707, \"z\": 0.71}, \"up\": {\"x\": 0, \"y\": 0, \"z\": 1}}, \"xaxis\": {\"backgroundcolor\": \"rgb(230, 230,230)\", \"gridcolor\": \"rgb(255, 255, 255)\", \"showbackground\": true, \"title\": {\"text\": \"x (mm)\"}, \"zerolinecolor\": \"rgb(255, 255, 255)\"}, \"yaxis\": {\"backgroundcolor\": \"rgb(230, 230,230)\", \"gridcolor\": \"rgb(255, 255, 255)\", \"showbackground\": true, \"title\": {\"text\": \"y (mm)\"}, \"zerolinecolor\": \"rgb(255, 255, 255)\"}, \"zaxis\": {\"backgroundcolor\": \"rgb(230, 230,230)\", \"gridcolor\": \"rgb(255, 255, 255)\", \"showbackground\": true, \"title\": {\"text\": \"z (mm)\"}, \"zerolinecolor\": \"rgb(255, 255, 255)\"}}, \"title\": {\"text\": \"Track plots\"}, \"width\": 900}, {\"showLink\": false, \"linkText\": \"Export to plot.ly\", \"plotlyServerURL\": \"https://plot.ly\"}); \n",
       "}\n",
       "});</script>"
      ]
     },
     "metadata": {},
     "output_type": "display_data"
    }
   ],
   "source": [
    "track_plot(tracks_real_rhoetaphi, n_tracks = 10)"
   ]
  },
  {
   "cell_type": "markdown",
   "metadata": {
    "slideshow": {
     "slide_type": "subslide"
    }
   },
   "source": [
    "### Ploting using parameters"
   ]
  },
  {
   "cell_type": "code",
   "execution_count": null,
   "metadata": {
    "slideshow": {
     "slide_type": "fragment"
    }
   },
   "outputs": [],
   "source": [
    "track_plot(tracks_fake_sort, track_color = 'blue', n_tracks = 10, title = 'Fake tracks sorted')"
   ]
  }
 ],
 "metadata": {
  "kernelspec": {
   "display_name": "Python [conda env:jeff-default]",
   "language": "python",
   "name": "conda-env-jeff-default-py"
  },
  "language_info": {
   "codemirror_mode": {
    "name": "ipython",
    "version": 3
   },
   "file_extension": ".py",
   "mimetype": "text/x-python",
   "name": "python",
   "nbconvert_exporter": "python",
   "pygments_lexer": "ipython3",
   "version": "3.6.8"
  }
 },
 "nbformat": 4,
 "nbformat_minor": 2
}
