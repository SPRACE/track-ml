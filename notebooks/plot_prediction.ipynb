{
 "cells": [
  {
   "cell_type": "code",
   "execution_count": null,
   "metadata": {},
   "outputs": [],
   "source": [
    "import sys\n",
    "import os\n",
    "import json\n",
    "import time"
   ]
  },
  {
   "cell_type": "code",
   "execution_count": null,
   "metadata": {},
   "outputs": [],
   "source": [
    "# include path to our library\n",
    "cwd = os.getcwd()\n",
    "dir_path = os.path.dirname(os.path.realpath(cwd))\n",
    "sys.path.append(dir_path)\n",
    "time.sleep(2)"
   ]
  },
  {
   "cell_type": "code",
   "execution_count": null,
   "metadata": {},
   "outputs": [],
   "source": [
    "dir_path\n",
    "%cd $dir_path\n",
    "!ls"
   ]
  },
  {
   "cell_type": "code",
   "execution_count": null,
   "metadata": {},
   "outputs": [],
   "source": [
    "import pandas as pd\n",
    "from core.utils.utils import *"
   ]
  },
  {
   "cell_type": "markdown",
   "metadata": {},
   "source": [
    "## Reading the data ##"
   ]
  },
  {
   "cell_type": "code",
   "execution_count": null,
   "metadata": {},
   "outputs": [],
   "source": [
    "#configs = json.load(open('config_test_cnn.json', 'r'))\n",
    "#configs = json.load(open('config-mlp.json', 'r'))\n",
    "#configs = json.load(open('config_cnn.json', 'r'))\n",
    "configs = json.load(open('config_lstm.json', 'r'))\n",
    "\n",
    "\n",
    "output_path = configs['paths']['save_dir']\n",
    "cylindrical = configs['data']['cylindrical']  # set to polar or cartesian coordenates\n",
    "normalise = configs['data']['normalise'] \n",
    "name = configs['model']['name']\n",
    "type_pred = configs['testing']['type_prediction']\n",
    "data_file = configs['data']['filename']\n",
    "\n",
    "#create a encryp name for dataset\n",
    "path_to, filename = os.path.split(data_file)\n",
    "\n",
    "orig_ds_name = filename\n",
    "\n",
    "encryp_ds_name = get_unique_name(orig_ds_name)\n",
    "decryp_ds_name = get_decryp_name(encryp_ds_name)\n",
    "\n",
    "output_encry = os.path.join(output_path, encryp_ds_name)  \n",
    "\n",
    "if cylindrical:\n",
    "    coord = 'cylin'\n",
    "else:\n",
    "    coord = 'xyz'\n",
    "\n",
    "print('source file for testing:\\n\\t ', data_file)\n",
    "print('predicted points: ')\n",
    "path1 = os.path.join(output_encry, 'x_true_%s_%s_%s.csv' % (name, coord, type_pred))\n",
    "path2 = os.path.join(output_encry, 'y_true_%s_%s_%s.csv' % (name, coord, type_pred))\n",
    "path3 = os.path.join(output_encry, 'y_pred_%s_%s_%s.csv' % (name, coord, type_pred))\n",
    "\n",
    "print('\\tloading from .. %s' % path1)\n",
    "print('\\tloading from .. %s' % path2)\n",
    "print('\\tloading from .. %s' % path3)\n",
    "\n",
    "df_test = pd.read_csv(path1, header=None)\n",
    "df_true = pd.read_csv(path2, header=None)\n",
    "df_pred = pd.read_csv(path3, header=None)\n",
    "\n",
    "print('shape df_test ', df_test.shape)\n",
    "print('shape df_true ', df_true.shape)\n",
    "print('shape df_pred ', df_pred.shape)\n",
    "# concat\n",
    "#y_true = pd.concat([df_test, df_true], axis = 1, ignore_index = True)\n",
    "#y_pred = pd.concat([df_test, df_pred], axis = 1, ignore_index = True)\n",
    "\n",
    "y_true = np.concatenate([df_test, df_true], axis = 1)\n",
    "y_pred = np.concatenate([df_test, df_pred], axis = 1)\n",
    "y_true = pd.DataFrame(y_true)\n",
    "y_pred = pd.DataFrame(y_pred)\n",
    "y_true.name = 'real'\n",
    "y_pred.name = 'pred'\n",
    "\n",
    "print('size y_true ', y_true.shape)\n",
    "print('size y_pred ', y_pred.shape)\n"
   ]
  },
  {
   "cell_type": "markdown",
   "metadata": {},
   "source": [
    "## Ploting Tracks Predictions ##"
   ]
  },
  {
   "cell_type": "code",
   "execution_count": null,
   "metadata": {},
   "outputs": [],
   "source": [
    "# Dados originais\n",
    "N_tracks = 30\n",
    "path_html = ''\n",
    "output_path = 'results'\n",
    "if cylindrical:\n",
    "    path_html=os.path.join(output_encry, 'track-original_cylin.html')\n",
    "else:\n",
    "    path_html=os.path.join(output_encry, 'track-original_xyz.html')\n",
    "    \n",
    "fig = track_plot_xyz([y_true], n_hits = 10, cylindrical = cylindrical, n_tracks = N_tracks, \n",
    "               path=path_html, title='Track Originals - Coordenates %s' % coord.upper() , auto_open=True)\n",
    "\n",
    "fig.show()\n"
   ]
  },
  {
   "cell_type": "code",
   "execution_count": null,
   "metadata": {},
   "outputs": [],
   "source": [
    "# predicted data\n",
    "path_html = ''\n",
    "N_tracks = 30\n",
    "output_path = 'results'\n",
    "\n",
    "if cylindrical:\n",
    "    path_html=os.path.join(output_encry, 'track-predicted-%s_cylin_%s.html' % (name, type_pred))\n",
    "else:\n",
    "    path_html=os.path.join(output_encry, 'track-predicted-%s_xyz_%s.html' % (name, type_pred))\n",
    "    \n",
    "fig = track_plot_xyz([y_true, y_pred], n_hits = 10, cylindrical = cylindrical, n_tracks = N_tracks, \n",
    "               path=path_html, title='Track Predictions - Coordenates %s (%s-%s)' % \n",
    "                     (coord, name.upper(), type_pred.upper()), auto_open=True)\n",
    "\n",
    "fig.show()"
   ]
  },
  {
   "cell_type": "code",
   "execution_count": null,
   "metadata": {},
   "outputs": [],
   "source": []
  }
 ],
 "metadata": {
  "kernelspec": {
   "display_name": "Python 3",
   "language": "python",
   "name": "python3"
  },
  "language_info": {
   "codemirror_mode": {
    "name": "ipython",
    "version": 3
   },
   "file_extension": ".py",
   "mimetype": "text/x-python",
   "name": "python",
   "nbconvert_exporter": "python",
   "pygments_lexer": "ipython3",
   "version": "3.7.4"
  }
 },
 "nbformat": 4,
 "nbformat_minor": 2
}
