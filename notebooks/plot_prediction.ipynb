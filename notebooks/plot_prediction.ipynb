{
 "cells": [
  {
   "cell_type": "code",
   "execution_count": null,
   "metadata": {},
   "outputs": [],
   "source": [
    "import sys\n",
    "import os\n",
    "import json\n",
    "import time"
   ]
  },
  {
   "cell_type": "code",
   "execution_count": null,
   "metadata": {},
   "outputs": [],
   "source": [
    "# include path to our library\n",
    "cwd = os.getcwd()\n",
    "dir_path = os.path.dirname(os.path.realpath(cwd))\n",
    "sys.path.append(dir_path)\n",
    "time.sleep(2)"
   ]
  },
  {
   "cell_type": "code",
   "execution_count": null,
   "metadata": {},
   "outputs": [],
   "source": [
    "dir_path\n",
    "%cd $dir_path\n",
    "!ls"
   ]
  },
  {
   "cell_type": "code",
   "execution_count": null,
   "metadata": {},
   "outputs": [],
   "source": [
    "import pandas as pd\n",
    "from core.utils.utils import *"
   ]
  },
  {
   "cell_type": "markdown",
   "metadata": {},
   "source": [
    "## Reading the data ##"
   ]
  },
  {
   "cell_type": "code",
   "execution_count": null,
   "metadata": {},
   "outputs": [],
   "source": [
    "#configs = json.load(open('config_test_cnn.json', 'r'))\n",
    "#configs = json.load(open('config-mlp.json', 'r'))\n",
    "#configs = json.load(open('config_cnn.json', 'r'))\n",
    "configs = json.load(open('config_lstm.json', 'r'))\n",
    "\n",
    "\n",
    "cylindrical = configs['data']['cylindrical']  # set to polar or cartesian coordenates\n",
    "normalise = configs['data']['normalise'] \n",
    "name = configs['model']['name']\n",
    "\n",
    "if cylindrical:\n",
    "    coord = 'cylin'\n",
    "else:\n",
    "    coord = 'xyz'\n",
    "\n",
    "#os.path.join(output_path, 'track-original-%s_cylin.html' % configs['model']['name'])\n",
    "path1 = 'results/x_true_%s_%s.csv' % (name, coord)\n",
    "path2 = 'results/y_true_%s_%s.csv' % (name, coord)\n",
    "path3 = 'results/y_pred_%s_%s.csv' % (name, coord)\n",
    "\n",
    "print('loading from .. %s' % path1)\n",
    "print('loading from .. %s' % path2)\n",
    "print('loading from .. %s' % path3)\n",
    "\n",
    "df_test = pd.read_csv(path1, header=None)\n",
    "df_true = pd.read_csv(path2, header=None)\n",
    "df_pred = pd.read_csv(path3, header=None)\n",
    "\n",
    "print('shape df_test ', df_test.shape)\n",
    "print('shape df_true ', df_true.shape)\n",
    "print('shape df_pred ', df_pred.shape)\n",
    "# concat\n",
    "#y_true = pd.concat([df_test, df_true], axis = 1, ignore_index = True)\n",
    "#y_pred = pd.concat([df_test, df_pred], axis = 1, ignore_index = True)\n",
    "\n",
    "y_true = np.concatenate([df_test, df_true], axis = 1)\n",
    "y_pred = np.concatenate([df_test, df_pred], axis = 1)\n",
    "y_true = pd.DataFrame(y_true)\n",
    "y_pred = pd.DataFrame(y_pred)\n",
    "y_true.name = 'real'\n",
    "y_pred.name = 'pred'\n",
    "\n",
    "print('size y_true ', y_true.shape)\n",
    "print('size y_pred ', y_pred.shape)\n"
   ]
  },
  {
   "cell_type": "markdown",
   "metadata": {},
   "source": [
    "## Ploting Hit ##"
   ]
  },
  {
   "cell_type": "code",
   "execution_count": null,
   "metadata": {},
   "outputs": [],
   "source": [
    "# Dados originais\n",
    "N_tracks = 30\n",
    "path_html = ''\n",
    "output_path = 'results'\n",
    "if cylindrical:\n",
    "    path_html=os.path.join(output_path, 'track-original-%s_cylin.html' % name)\n",
    "else:\n",
    "    path_html=os.path.join(output_path, 'track-original-%s_xyz.html' % name)\n",
    "    \n",
    "fig = track_plot_xyz([y_true], n_hits = 10, cylindrical = cylindrical, n_tracks = 50, \n",
    "               path=path_html, title='Track Original #10 Hit')\n",
    "\n",
    "fig.show()"
   ]
  },
  {
   "cell_type": "code",
   "execution_count": null,
   "metadata": {},
   "outputs": [],
   "source": [
    "# predicted data\n",
    "path_html = ''\n",
    "N_tracks = 30\n",
    "output_path = 'results'\n",
    "\n",
    "if cylindrical:\n",
    "    path_html=os.path.join(output_path, 'track-predicted-%s_cylin.html' % name)\n",
    "else:\n",
    "    path_html=os.path.join(output_path, 'track-predicted-%s_xyz.html' % name)\n",
    "    \n",
    "fig = track_plot_xyz([y_true, y_pred], n_hits = 10, cylindrical = cylindrical, n_tracks = N_tracks, \n",
    "               path=path_html, title='Track Prediction #10 Hit - Model %s' % name.upper())\n",
    "\n",
    "fig.show()"
   ]
  },
  {
   "cell_type": "code",
   "execution_count": null,
   "metadata": {},
   "outputs": [],
   "source": []
  }
 ],
 "metadata": {
  "kernelspec": {
   "display_name": "Python 3",
   "language": "python",
   "name": "python3"
  },
  "language_info": {
   "codemirror_mode": {
    "name": "ipython",
    "version": 3
   },
   "file_extension": ".py",
   "mimetype": "text/x-python",
   "name": "python",
   "nbconvert_exporter": "python",
   "pygments_lexer": "ipython3",
   "version": "3.7.4"
  }
 },
 "nbformat": 4,
 "nbformat_minor": 2
}
