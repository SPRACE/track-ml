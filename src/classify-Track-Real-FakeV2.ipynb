{
 "cells": [
  {
   "cell_type": "code",
   "execution_count": 2,
   "metadata": {},
   "outputs": [
    {
     "name": "stderr",
     "output_type": "stream",
     "text": [
      "Using TensorFlow backend.\n"
     ]
    }
   ],
   "source": [
    "import sys\n",
    "import os\n",
    "\n",
    "import numpy as np\n",
    "import pandas as pd\n",
    "\n",
    "from trackml.dataset import load_event\n",
    "from trackml.dataset import load_dataset\n",
    "from trackml.randomize import shuffle_hits\n",
    "from trackml.score import score_event\n",
    "import matplotlib.pyplot as plt\n",
    "from mpl_toolkits.mplot3d import Axes3D\n",
    "import seaborn as sns\n",
    "\n",
    "import numpy\n",
    "\n",
    "#Particles transversing detector\n",
    "import sys\n",
    "\n",
    "import pandas as pd \n",
    "from mpl_toolkits.mplot3d import Axes3D\n",
    "import matplotlib.pyplot as plt\n",
    "import numpy as np\n",
    "import plotly\n",
    "\n",
    "from keras.models import Sequential\n",
    "from keras.layers import Dense\n",
    "\n",
    "import random\n",
    "\n",
    "import matplotlib.pyplot as plt\n",
    "\n",
    "import multiprocessing\n",
    "from multiprocessing import Process, Value, Lock\n",
    "\n",
    "from sklearn.model_selection import train_test_split\n",
    "from sklearn.metrics import confusion_matrix\n",
    "from sklearn.preprocessing import StandardScaler"
   ]
  },
  {
   "cell_type": "code",
   "execution_count": 3,
   "metadata": {},
   "outputs": [],
   "source": [
    "#using trackml to read the challenge input data\n",
    "\n",
    "#event_prefix = 'event000002290'\n",
    "event_prefix = 'event000002878'\n",
    "hits, cells, particles, truth = load_event(os.path.join('/data', event_prefix))\n",
    "#type(cells)"
   ]
  },
  {
   "cell_type": "code",
   "execution_count": 4,
   "metadata": {},
   "outputs": [],
   "source": [
    "#obtain amount of columns\n",
    "def amount_of_columns(cell):\n",
    "    indt=0\n",
    "    test=0\n",
    "    indret=0\n",
    "    \n",
    "    for z in cell:\n",
    "        indt=indt+1\n",
    "        #print(\"z\")\n",
    "        if ((z == 0) and (test==0)) : \n",
    "            test=1\n",
    "            indret=indt\n",
    "    return(indret) # ind is the  amount of columns =! 0"
   ]
  },
  {
   "cell_type": "code",
   "execution_count": 5,
   "metadata": {},
   "outputs": [],
   "source": [
    "#select Random columns\n",
    "def select_random_columns(cols_num):\n",
    "    cols  = np.zeros((cols_num)) # cols is the  that will be switched\n",
    "    aux=0\n",
    "    rand=0\n",
    "    for y in cols: # for total amount of columns that will be switched\n",
    "        rand=random.randrange(1, cols_num)    \n",
    "        cols[aux]=rand # define which column will be switched\n",
    "        aux=aux+1\n",
    "    return(cols)"
   ]
  },
  {
   "cell_type": "code",
   "execution_count": 6,
   "metadata": {},
   "outputs": [],
   "source": [
    "#switch random columns\n",
    "def switch_random_columns( randomrow , currentrow, cols ):\n",
    "    auxx = 0\n",
    "    for column_to_switch in cols:\n",
    "        auxx = X[int(currentrow)][int(column_to_switch)]\n",
    "        X[int(currentrow)][int(column_to_switch)] = X[int(randomrow)][int(column_to_switch)]\n",
    "        X[int(randomrow)][int(column_to_switch)] = auxx"
   ]
  },
  {
   "cell_type": "code",
   "execution_count": 7,
   "metadata": {},
   "outputs": [
    {
     "name": "stdout",
     "output_type": "stream",
     "text": [
      "0\n",
      "19\n",
      "84303\n"
     ]
    }
   ],
   "source": [
    "#Minimum amount of hits\n",
    "print(particles['nhits'].min())\n",
    "#Maximum amount of hits\n",
    "print(particles['nhits'].max())\n",
    "print(particles.size)\n",
    "#print(particles.head(5))\n",
    "\n",
    "#load correct tracks\n",
    "\n",
    "#particles 6 fields\n",
    "#hit id 6 fields x 19 -> maximum amount of hits = 114\n",
    "#1 - output => 0 real 1 fake\n",
    "# total 121\n",
    "\n",
    "perc=40\n",
    "\n",
    "tot_columns=121\n",
    "#tot_rows=particles.size\n",
    "tot_rows=10\n",
    "ttt = np.zeros((0))"
   ]
  },
  {
   "cell_type": "code",
   "execution_count": 8,
   "metadata": {},
   "outputs": [],
   "source": [
    "#function to put particle informatio and all the hits of each track in a single line\n",
    "def create_tracks(be,e,pid):\n",
    "    #global ttt\n",
    "    #print(be)    \n",
    "    c = np.zeros((0))\n",
    "    \n",
    "    #for index, row in particles.head(tot_rows).iterrows():\n",
    "    for index, row in particles.iloc[be:e,:].iterrows():\n",
    "    \n",
    "        b = np.zeros((0))\n",
    "\n",
    "        truth_0 = truth[truth.particle_id == row['particle_id']]\n",
    "        par=particles[['vx','vy','vz','px','py','pz']].loc[particles['particle_id'] == row['particle_id']]\n",
    "\n",
    "        p = [par['vx'].values[0],par['vy'].values[0],par['vz'].values[0],par['px'].values[0],par['py'].values[0],par['pz'].values[0]]\n",
    "\n",
    "        b= np.concatenate((b, p))\n",
    "\n",
    "        for index, row in truth_0.iterrows():\n",
    "            ch=cells[['ch0']].loc[cells['hit_id'] == row['hit_id']].mean()\n",
    "            ch1=cells[['ch1']].loc[cells['hit_id'] == row['hit_id']].mean()\n",
    "            vl=cells[['value']].loc[cells['hit_id'] == row['hit_id']].mean()\n",
    "    \n",
    "            h = [row['tx'],row['ty'],row['tz'],ch[0], ch1[0], vl[0]]\n",
    "            b= np.concatenate((b, h))\n",
    "\n",
    "        toti=tot_columns-b.size\n",
    "        cc = np.zeros((toti))\n",
    "        tot=np.concatenate((b, cc))\n",
    "            #if (len(tot) != 121) :\n",
    "            #    print(\"len(b) \" , len(b) , \" len(cc) \" , len(cc) , \"len(tot) \" , len(tot))\n",
    "\n",
    "        c = np.concatenate((c, tot))    \n",
    "    #print(e)\n",
    "    #print(be)\n",
    "    rw=((e-be))\n",
    "    print(rw)\n",
    "    print(tot_columns)\n",
    "    print(c)\n",
    "    c = c.reshape((rw, tot_columns))\n",
    "    print(pid)\n",
    "    np.savetxt(\"//tmp//res//arr\"+str(pid), c, fmt=\"%s\")\n",
    "    \n",
    "    #print(\"ttt.shape 1\")\n",
    "    #print(ttt.shape)\n",
    "    #print(ttt)\n",
    "    #print(c.shape)\n",
    "    #with Lock:\n",
    "    #if ((be==0) and (e ==10)):\n",
    "    #    print(\"be 0 e 1\")\n",
    "    #    ttt = c\n",
    "    #else :\n",
    "    \n",
    "    #ttt=np.concatenate((ttt, c), axis=0)\n",
    "\n",
    "    #print(\"ttt.shape 2\")\n",
    "    #print(ttt.shape)\n",
    "    #print(ttt)\n",
    "\n",
    "    #return(c)"
   ]
  },
  {
   "cell_type": "code",
   "execution_count": null,
   "metadata": {},
   "outputs": [
    {
     "name": "stdout",
     "output_type": "stream",
     "text": [
      "100\n",
      "121\n",
      "[ 0.0110954  -0.0147183  -6.09131002 ...  0.          0.\n",
      "  0.        ]\n",
      "24\n"
     ]
    },
    {
     "name": "stderr",
     "output_type": "stream",
     "text": [
      "Process Process-25:\n",
      "Traceback (most recent call last):\n",
      "  File \"/home/fialhocoelho/miniconda3/envs/ml/lib/python3.6/multiprocessing/process.py\", line 258, in _bootstrap\n",
      "    self.run()\n",
      "  File \"/home/fialhocoelho/miniconda3/envs/ml/lib/python3.6/multiprocessing/process.py\", line 93, in run\n",
      "    self._target(*self._args, **self._kwargs)\n",
      "  File \"<ipython-input-8-7592b7d8220b>\", line 42, in create_tracks\n",
      "    np.savetxt(\"//tmp//res//arr\"+str(pid), c, fmt=\"%s\")\n",
      "  File \"/home/fialhocoelho/miniconda3/envs/ml/lib/python3.6/site-packages/numpy/lib/npyio.py\", line 1352, in savetxt\n",
      "    open(fname, 'wt').close()\n",
      "FileNotFoundError: [Errno 2] No such file or directory: '//tmp//res//arr24'\n"
     ]
    },
    {
     "name": "stdout",
     "output_type": "stream",
     "text": [
      "100\n",
      "121\n",
      "[-0.0388741   0.00323401 -0.184627   ...  0.          0.\n",
      "  0.        ]\n",
      "14\n"
     ]
    },
    {
     "name": "stderr",
     "output_type": "stream",
     "text": [
      "Process Process-15:\n",
      "Traceback (most recent call last):\n",
      "  File \"/home/fialhocoelho/miniconda3/envs/ml/lib/python3.6/multiprocessing/process.py\", line 258, in _bootstrap\n",
      "    self.run()\n",
      "  File \"/home/fialhocoelho/miniconda3/envs/ml/lib/python3.6/multiprocessing/process.py\", line 93, in run\n",
      "    self._target(*self._args, **self._kwargs)\n",
      "  File \"<ipython-input-8-7592b7d8220b>\", line 42, in create_tracks\n",
      "    np.savetxt(\"//tmp//res//arr\"+str(pid), c, fmt=\"%s\")\n",
      "  File \"/home/fialhocoelho/miniconda3/envs/ml/lib/python3.6/site-packages/numpy/lib/npyio.py\", line 1352, in savetxt\n",
      "    open(fname, 'wt').close()\n",
      "FileNotFoundError: [Errno 2] No such file or directory: '//tmp//res//arr14'\n"
     ]
    },
    {
     "name": "stdout",
     "output_type": "stream",
     "text": [
      "100\n",
      "121\n",
      "[-0.0159367  -0.0134163  -3.36804008 ...  0.          0.\n",
      "  0.        ]\n",
      "17\n"
     ]
    },
    {
     "name": "stderr",
     "output_type": "stream",
     "text": [
      "Process Process-18:\n",
      "Traceback (most recent call last):\n",
      "  File \"/home/fialhocoelho/miniconda3/envs/ml/lib/python3.6/multiprocessing/process.py\", line 258, in _bootstrap\n",
      "    self.run()\n",
      "  File \"/home/fialhocoelho/miniconda3/envs/ml/lib/python3.6/multiprocessing/process.py\", line 93, in run\n",
      "    self._target(*self._args, **self._kwargs)\n",
      "  File \"<ipython-input-8-7592b7d8220b>\", line 42, in create_tracks\n",
      "    np.savetxt(\"//tmp//res//arr\"+str(pid), c, fmt=\"%s\")\n",
      "  File \"/home/fialhocoelho/miniconda3/envs/ml/lib/python3.6/site-packages/numpy/lib/npyio.py\", line 1352, in savetxt\n",
      "    open(fname, 'wt').close()\n",
      "FileNotFoundError: [Errno 2] No such file or directory: '//tmp//res//arr17'\n"
     ]
    },
    {
     "name": "stdout",
     "output_type": "stream",
     "text": [
      "100\n",
      "121\n",
      "[ 1.24894001e-03 -7.12933997e-03 -2.26201010e+00 ...  0.00000000e+00\n",
      "  0.00000000e+00  0.00000000e+00]\n",
      "21\n"
     ]
    },
    {
     "name": "stderr",
     "output_type": "stream",
     "text": [
      "Process Process-22:\n",
      "Traceback (most recent call last):\n",
      "  File \"/home/fialhocoelho/miniconda3/envs/ml/lib/python3.6/multiprocessing/process.py\", line 258, in _bootstrap\n",
      "    self.run()\n",
      "  File \"/home/fialhocoelho/miniconda3/envs/ml/lib/python3.6/multiprocessing/process.py\", line 93, in run\n",
      "    self._target(*self._args, **self._kwargs)\n",
      "  File \"<ipython-input-8-7592b7d8220b>\", line 42, in create_tracks\n",
      "    np.savetxt(\"//tmp//res//arr\"+str(pid), c, fmt=\"%s\")\n",
      "  File \"/home/fialhocoelho/miniconda3/envs/ml/lib/python3.6/site-packages/numpy/lib/npyio.py\", line 1352, in savetxt\n",
      "    open(fname, 'wt').close()\n",
      "FileNotFoundError: [Errno 2] No such file or directory: '//tmp//res//arr21'\n"
     ]
    },
    {
     "name": "stdout",
     "output_type": "stream",
     "text": [
      "100\n",
      "121\n",
      "[ 0.0261822  -0.0022759  -1.88485003 ...  0.          0.\n",
      "  0.        ]\n",
      "11\n"
     ]
    },
    {
     "name": "stderr",
     "output_type": "stream",
     "text": [
      "Process Process-12:\n",
      "Traceback (most recent call last):\n",
      "  File \"/home/fialhocoelho/miniconda3/envs/ml/lib/python3.6/multiprocessing/process.py\", line 258, in _bootstrap\n",
      "    self.run()\n",
      "  File \"/home/fialhocoelho/miniconda3/envs/ml/lib/python3.6/multiprocessing/process.py\", line 93, in run\n",
      "    self._target(*self._args, **self._kwargs)\n",
      "  File \"<ipython-input-8-7592b7d8220b>\", line 42, in create_tracks\n",
      "    np.savetxt(\"//tmp//res//arr\"+str(pid), c, fmt=\"%s\")\n",
      "  File \"/home/fialhocoelho/miniconda3/envs/ml/lib/python3.6/site-packages/numpy/lib/npyio.py\", line 1352, in savetxt\n",
      "    open(fname, 'wt').close()\n"
     ]
    },
    {
     "name": "stdout",
     "output_type": "stream",
     "text": [
      "100\n"
     ]
    },
    {
     "name": "stderr",
     "output_type": "stream",
     "text": [
      "FileNotFoundError: [Errno 2] No such file or directory: '//tmp//res//arr11'\n"
     ]
    },
    {
     "name": "stdout",
     "output_type": "stream",
     "text": [
      "121\n",
      "[ 0.0110954  -0.0147183  -6.09131002 ...  0.          0.\n",
      "  0.        ]\n",
      "25\n"
     ]
    },
    {
     "name": "stderr",
     "output_type": "stream",
     "text": [
      "Process Process-26:\n",
      "Traceback (most recent call last):\n",
      "  File \"/home/fialhocoelho/miniconda3/envs/ml/lib/python3.6/multiprocessing/process.py\", line 258, in _bootstrap\n",
      "    self.run()\n",
      "  File \"/home/fialhocoelho/miniconda3/envs/ml/lib/python3.6/multiprocessing/process.py\", line 93, in run\n",
      "    self._target(*self._args, **self._kwargs)\n",
      "  File \"<ipython-input-8-7592b7d8220b>\", line 42, in create_tracks\n",
      "    np.savetxt(\"//tmp//res//arr\"+str(pid), c, fmt=\"%s\")\n",
      "  File \"/home/fialhocoelho/miniconda3/envs/ml/lib/python3.6/site-packages/numpy/lib/npyio.py\", line 1352, in savetxt\n",
      "    open(fname, 'wt').close()\n",
      "FileNotFoundError: [Errno 2] No such file or directory: '//tmp//res//arr25'\n"
     ]
    },
    {
     "name": "stdout",
     "output_type": "stream",
     "text": [
      "100\n",
      "121\n",
      "[-0.0149721  -0.0243482  -2.65044999 ...  0.          0.\n",
      "  0.        ]\n",
      "1\n"
     ]
    },
    {
     "name": "stderr",
     "output_type": "stream",
     "text": [
      "Process Process-2:\n",
      "Traceback (most recent call last):\n",
      "  File \"/home/fialhocoelho/miniconda3/envs/ml/lib/python3.6/multiprocessing/process.py\", line 258, in _bootstrap\n",
      "    self.run()\n",
      "  File \"/home/fialhocoelho/miniconda3/envs/ml/lib/python3.6/multiprocessing/process.py\", line 93, in run\n",
      "    self._target(*self._args, **self._kwargs)\n",
      "  File \"<ipython-input-8-7592b7d8220b>\", line 42, in create_tracks\n",
      "    np.savetxt(\"//tmp//res//arr\"+str(pid), c, fmt=\"%s\")\n",
      "  File \"/home/fialhocoelho/miniconda3/envs/ml/lib/python3.6/site-packages/numpy/lib/npyio.py\", line 1352, in savetxt\n",
      "    open(fname, 'wt').close()\n",
      "FileNotFoundError: [Errno 2] No such file or directory: '//tmp//res//arr1'\n"
     ]
    },
    {
     "name": "stdout",
     "output_type": "stream",
     "text": [
      "100\n",
      "121\n",
      "[-2.48198006e-02  6.20672991e-03 -7.57766008e+00 ...  0.00000000e+00\n",
      "  0.00000000e+00  0.00000000e+00]\n",
      "32\n"
     ]
    },
    {
     "name": "stderr",
     "output_type": "stream",
     "text": [
      "Process Process-33:\n",
      "Traceback (most recent call last):\n",
      "  File \"/home/fialhocoelho/miniconda3/envs/ml/lib/python3.6/multiprocessing/process.py\", line 258, in _bootstrap\n",
      "    self.run()\n",
      "  File \"/home/fialhocoelho/miniconda3/envs/ml/lib/python3.6/multiprocessing/process.py\", line 93, in run\n",
      "    self._target(*self._args, **self._kwargs)\n",
      "  File \"<ipython-input-8-7592b7d8220b>\", line 42, in create_tracks\n",
      "    np.savetxt(\"//tmp//res//arr\"+str(pid), c, fmt=\"%s\")\n",
      "  File \"/home/fialhocoelho/miniconda3/envs/ml/lib/python3.6/site-packages/numpy/lib/npyio.py\", line 1352, in savetxt\n",
      "    open(fname, 'wt').close()\n",
      "FileNotFoundError: [Errno 2] No such file or directory: '//tmp//res//arr32'\n"
     ]
    },
    {
     "name": "stdout",
     "output_type": "stream",
     "text": [
      "100\n",
      "121\n",
      "[-0.00469856  0.0152463   1.22634995 ...  0.          0.\n",
      "  0.        ]\n",
      "8\n"
     ]
    },
    {
     "name": "stderr",
     "output_type": "stream",
     "text": [
      "Process Process-9:\n",
      "Traceback (most recent call last):\n",
      "  File \"/home/fialhocoelho/miniconda3/envs/ml/lib/python3.6/multiprocessing/process.py\", line 258, in _bootstrap\n",
      "    self.run()\n",
      "  File \"/home/fialhocoelho/miniconda3/envs/ml/lib/python3.6/multiprocessing/process.py\", line 93, in run\n",
      "    self._target(*self._args, **self._kwargs)\n",
      "  File \"<ipython-input-8-7592b7d8220b>\", line 42, in create_tracks\n",
      "    np.savetxt(\"//tmp//res//arr\"+str(pid), c, fmt=\"%s\")\n",
      "  File \"/home/fialhocoelho/miniconda3/envs/ml/lib/python3.6/site-packages/numpy/lib/npyio.py\", line 1352, in savetxt\n",
      "    open(fname, 'wt').close()\n",
      "FileNotFoundError: [Errno 2] No such file or directory: '//tmp//res//arr8'\n"
     ]
    },
    {
     "name": "stdout",
     "output_type": "stream",
     "text": [
      "100\n",
      "121\n",
      "[-0.0235397  -0.0172433   2.66111994 ...  0.          0.\n",
      "  0.        ]\n",
      "7\n"
     ]
    },
    {
     "name": "stderr",
     "output_type": "stream",
     "text": [
      "Process Process-8:\n",
      "Traceback (most recent call last):\n",
      "  File \"/home/fialhocoelho/miniconda3/envs/ml/lib/python3.6/multiprocessing/process.py\", line 258, in _bootstrap\n",
      "    self.run()\n",
      "  File \"/home/fialhocoelho/miniconda3/envs/ml/lib/python3.6/multiprocessing/process.py\", line 93, in run\n",
      "    self._target(*self._args, **self._kwargs)\n",
      "  File \"<ipython-input-8-7592b7d8220b>\", line 42, in create_tracks\n",
      "    np.savetxt(\"//tmp//res//arr\"+str(pid), c, fmt=\"%s\")\n",
      "  File \"/home/fialhocoelho/miniconda3/envs/ml/lib/python3.6/site-packages/numpy/lib/npyio.py\", line 1352, in savetxt\n",
      "    open(fname, 'wt').close()\n",
      "FileNotFoundError: [Errno 2] No such file or directory: '//tmp//res//arr7'\n"
     ]
    },
    {
     "name": "stdout",
     "output_type": "stream",
     "text": [
      "100\n",
      "121\n",
      "[-489.36300659  651.20898438  688.03302002 ...    0.            0.\n",
      "    0.        ]\n",
      "18\n"
     ]
    },
    {
     "name": "stderr",
     "output_type": "stream",
     "text": [
      "Process Process-19:\n",
      "Traceback (most recent call last):\n",
      "  File \"/home/fialhocoelho/miniconda3/envs/ml/lib/python3.6/multiprocessing/process.py\", line 258, in _bootstrap\n",
      "    self.run()\n",
      "  File \"/home/fialhocoelho/miniconda3/envs/ml/lib/python3.6/multiprocessing/process.py\", line 93, in run\n",
      "    self._target(*self._args, **self._kwargs)\n",
      "  File \"<ipython-input-8-7592b7d8220b>\", line 42, in create_tracks\n",
      "    np.savetxt(\"//tmp//res//arr\"+str(pid), c, fmt=\"%s\")\n",
      "  File \"/home/fialhocoelho/miniconda3/envs/ml/lib/python3.6/site-packages/numpy/lib/npyio.py\", line 1352, in savetxt\n",
      "    open(fname, 'wt').close()\n",
      "FileNotFoundError: [Errno 2] No such file or directory: '//tmp//res//arr18'\n"
     ]
    },
    {
     "name": "stdout",
     "output_type": "stream",
     "text": [
      "100\n",
      "121\n",
      "[-0.00909686  0.00810654 -3.68511009 ...  0.          0.\n",
      "  0.        ]\n",
      "10\n"
     ]
    },
    {
     "name": "stderr",
     "output_type": "stream",
     "text": [
      "Process Process-11:\n",
      "Traceback (most recent call last):\n",
      "  File \"/home/fialhocoelho/miniconda3/envs/ml/lib/python3.6/multiprocessing/process.py\", line 258, in _bootstrap\n",
      "    self.run()\n",
      "  File \"/home/fialhocoelho/miniconda3/envs/ml/lib/python3.6/multiprocessing/process.py\", line 93, in run\n",
      "    self._target(*self._args, **self._kwargs)\n",
      "  File \"<ipython-input-8-7592b7d8220b>\", line 42, in create_tracks\n",
      "    np.savetxt(\"//tmp//res//arr\"+str(pid), c, fmt=\"%s\")\n",
      "  File \"/home/fialhocoelho/miniconda3/envs/ml/lib/python3.6/site-packages/numpy/lib/npyio.py\", line 1352, in savetxt\n",
      "    open(fname, 'wt').close()\n"
     ]
    },
    {
     "name": "stdout",
     "output_type": "stream",
     "text": [
      "100\n"
     ]
    },
    {
     "name": "stderr",
     "output_type": "stream",
     "text": [
      "FileNotFoundError: [Errno 2] No such file or directory: '//tmp//res//arr10'\n"
     ]
    },
    {
     "name": "stdout",
     "output_type": "stream",
     "text": [
      "121\n",
      "[ 0.00879904  0.0157194  -2.92529011 ...  0.          0.\n",
      "  0.        ]\n",
      "4\n"
     ]
    },
    {
     "name": "stderr",
     "output_type": "stream",
     "text": [
      "Process Process-5:\n",
      "Traceback (most recent call last):\n",
      "  File \"/home/fialhocoelho/miniconda3/envs/ml/lib/python3.6/multiprocessing/process.py\", line 258, in _bootstrap\n",
      "    self.run()\n",
      "  File \"/home/fialhocoelho/miniconda3/envs/ml/lib/python3.6/multiprocessing/process.py\", line 93, in run\n",
      "    self._target(*self._args, **self._kwargs)\n",
      "  File \"<ipython-input-8-7592b7d8220b>\", line 42, in create_tracks\n",
      "    np.savetxt(\"//tmp//res//arr\"+str(pid), c, fmt=\"%s\")\n"
     ]
    },
    {
     "name": "stdout",
     "output_type": "stream",
     "text": [
      "100\n",
      "121\n"
     ]
    },
    {
     "name": "stderr",
     "output_type": "stream",
     "text": [
      "  File \"/home/fialhocoelho/miniconda3/envs/ml/lib/python3.6/site-packages/numpy/lib/npyio.py\", line 1352, in savetxt\n",
      "    open(fname, 'wt').close()\n"
     ]
    },
    {
     "name": "stdout",
     "output_type": "stream",
     "text": [
      "[ -771.82397461   366.98199463 -1181.86999512 ...     0.\n",
      "     0.             0.        ]\n"
     ]
    },
    {
     "name": "stderr",
     "output_type": "stream",
     "text": [
      "FileNotFoundError: [Errno 2] No such file or directory: '//tmp//res//arr4'\n"
     ]
    },
    {
     "name": "stdout",
     "output_type": "stream",
     "text": [
      "33\n"
     ]
    },
    {
     "name": "stderr",
     "output_type": "stream",
     "text": [
      "Process Process-34:\n",
      "Traceback (most recent call last):\n",
      "  File \"/home/fialhocoelho/miniconda3/envs/ml/lib/python3.6/multiprocessing/process.py\", line 258, in _bootstrap\n",
      "    self.run()\n",
      "  File \"/home/fialhocoelho/miniconda3/envs/ml/lib/python3.6/multiprocessing/process.py\", line 93, in run\n",
      "    self._target(*self._args, **self._kwargs)\n",
      "  File \"<ipython-input-8-7592b7d8220b>\", line 42, in create_tracks\n",
      "    np.savetxt(\"//tmp//res//arr\"+str(pid), c, fmt=\"%s\")\n",
      "  File \"/home/fialhocoelho/miniconda3/envs/ml/lib/python3.6/site-packages/numpy/lib/npyio.py\", line 1352, in savetxt\n",
      "    open(fname, 'wt').close()\n",
      "FileNotFoundError: [Errno 2] No such file or directory: '//tmp//res//arr33'\n"
     ]
    },
    {
     "name": "stdout",
     "output_type": "stream",
     "text": [
      "100\n",
      "121\n",
      "[0.0134054  0.0269582  5.33806992 ... 0.         0.         0.        ]\n",
      "26\n"
     ]
    },
    {
     "name": "stderr",
     "output_type": "stream",
     "text": [
      "Process Process-27:\n",
      "Traceback (most recent call last):\n",
      "  File \"/home/fialhocoelho/miniconda3/envs/ml/lib/python3.6/multiprocessing/process.py\", line 258, in _bootstrap\n",
      "    self.run()\n",
      "  File \"/home/fialhocoelho/miniconda3/envs/ml/lib/python3.6/multiprocessing/process.py\", line 93, in run\n",
      "    self._target(*self._args, **self._kwargs)\n",
      "  File \"<ipython-input-8-7592b7d8220b>\", line 42, in create_tracks\n",
      "    np.savetxt(\"//tmp//res//arr\"+str(pid), c, fmt=\"%s\")\n",
      "  File \"/home/fialhocoelho/miniconda3/envs/ml/lib/python3.6/site-packages/numpy/lib/npyio.py\", line 1352, in savetxt\n",
      "    open(fname, 'wt').close()\n",
      "FileNotFoundError: [Errno 2] No such file or directory: '//tmp//res//arr26'\n"
     ]
    },
    {
     "name": "stdout",
     "output_type": "stream",
     "text": [
      "100\n",
      "121\n",
      "[-16.69939995  -9.06260967 467.86099243 ...   0.           0.\n",
      "   0.        ]100\n",
      "\n",
      "121\n",
      "9\n",
      "[ 18.16130066  26.14760017 295.39001465 ...   0.           0.\n",
      "   0.        ]"
     ]
    },
    {
     "name": "stderr",
     "output_type": "stream",
     "text": [
      "Process Process-10:\n"
     ]
    },
    {
     "name": "stdout",
     "output_type": "stream",
     "text": [
      "\n"
     ]
    },
    {
     "name": "stderr",
     "output_type": "stream",
     "text": [
      "Traceback (most recent call last):\n"
     ]
    },
    {
     "name": "stdout",
     "output_type": "stream",
     "text": [
      "19\n"
     ]
    },
    {
     "name": "stderr",
     "output_type": "stream",
     "text": [
      "Process Process-20:\n",
      "  File \"/home/fialhocoelho/miniconda3/envs/ml/lib/python3.6/multiprocessing/process.py\", line 258, in _bootstrap\n",
      "    self.run()\n",
      "  File \"/home/fialhocoelho/miniconda3/envs/ml/lib/python3.6/multiprocessing/process.py\", line 93, in run\n",
      "    self._target(*self._args, **self._kwargs)\n",
      "Traceback (most recent call last):\n",
      "  File \"<ipython-input-8-7592b7d8220b>\", line 42, in create_tracks\n",
      "    np.savetxt(\"//tmp//res//arr\"+str(pid), c, fmt=\"%s\")\n",
      "  File \"/home/fialhocoelho/miniconda3/envs/ml/lib/python3.6/multiprocessing/process.py\", line 258, in _bootstrap\n",
      "    self.run()\n",
      "  File \"/home/fialhocoelho/miniconda3/envs/ml/lib/python3.6/multiprocessing/process.py\", line 93, in run\n",
      "    self._target(*self._args, **self._kwargs)\n",
      "  File \"/home/fialhocoelho/miniconda3/envs/ml/lib/python3.6/site-packages/numpy/lib/npyio.py\", line 1352, in savetxt\n",
      "    open(fname, 'wt').close()\n",
      "  File \"<ipython-input-8-7592b7d8220b>\", line 42, in create_tracks\n",
      "    np.savetxt(\"//tmp//res//arr\"+str(pid), c, fmt=\"%s\")\n",
      "FileNotFoundError: [Errno 2] No such file or directory: '//tmp//res//arr9'\n",
      "  File \"/home/fialhocoelho/miniconda3/envs/ml/lib/python3.6/site-packages/numpy/lib/npyio.py\", line 1352, in savetxt\n",
      "    open(fname, 'wt').close()\n",
      "FileNotFoundError: [Errno 2] No such file or directory: '//tmp//res//arr19'\n"
     ]
    },
    {
     "name": "stdout",
     "output_type": "stream",
     "text": [
      "100\n",
      "121\n",
      "[-0.0149721  -0.0243482  -2.65044999 ...  0.          0.\n",
      "  0.        ]\n",
      "2\n"
     ]
    },
    {
     "name": "stderr",
     "output_type": "stream",
     "text": [
      "Process Process-3:\n",
      "Traceback (most recent call last):\n",
      "  File \"/home/fialhocoelho/miniconda3/envs/ml/lib/python3.6/multiprocessing/process.py\", line 258, in _bootstrap\n",
      "    self.run()\n",
      "  File \"/home/fialhocoelho/miniconda3/envs/ml/lib/python3.6/multiprocessing/process.py\", line 93, in run\n",
      "    self._target(*self._args, **self._kwargs)\n",
      "  File \"<ipython-input-8-7592b7d8220b>\", line 42, in create_tracks\n",
      "    np.savetxt(\"//tmp//res//arr\"+str(pid), c, fmt=\"%s\")\n",
      "  File \"/home/fialhocoelho/miniconda3/envs/ml/lib/python3.6/site-packages/numpy/lib/npyio.py\", line 1352, in savetxt\n",
      "    open(fname, 'wt').close()\n",
      "FileNotFoundError: [Errno 2] No such file or directory: '//tmp//res//arr2'\n"
     ]
    },
    {
     "name": "stdout",
     "output_type": "stream",
     "text": [
      "100\n",
      "121\n",
      "[-0.0112161   0.00999541 -6.13740015 ...  0.          0.\n",
      "  0.        ]\n",
      "28\n"
     ]
    },
    {
     "name": "stderr",
     "output_type": "stream",
     "text": [
      "Process Process-29:\n",
      "Traceback (most recent call last):\n",
      "  File \"/home/fialhocoelho/miniconda3/envs/ml/lib/python3.6/multiprocessing/process.py\", line 258, in _bootstrap\n",
      "    self.run()\n",
      "  File \"/home/fialhocoelho/miniconda3/envs/ml/lib/python3.6/multiprocessing/process.py\", line 93, in run\n",
      "    self._target(*self._args, **self._kwargs)\n",
      "  File \"<ipython-input-8-7592b7d8220b>\", line 42, in create_tracks\n",
      "    np.savetxt(\"//tmp//res//arr\"+str(pid), c, fmt=\"%s\")\n"
     ]
    },
    {
     "name": "stdout",
     "output_type": "stream",
     "text": [
      "100\n"
     ]
    },
    {
     "name": "stderr",
     "output_type": "stream",
     "text": [
      "  File \"/home/fialhocoelho/miniconda3/envs/ml/lib/python3.6/site-packages/numpy/lib/npyio.py\", line 1352, in savetxt\n",
      "    open(fname, 'wt').close()\n"
     ]
    },
    {
     "name": "stdout",
     "output_type": "stream",
     "text": [
      "121\n",
      "[-2.13951990e-03 -1.63384993e-02  2.63271999e+00 ...  0.00000000e+00\n",
      "  0.00000000e+00  0.00000000e+00]"
     ]
    },
    {
     "name": "stderr",
     "output_type": "stream",
     "text": [
      "FileNotFoundError: [Errno 2] No such file or directory: '//tmp//res//arr28'\n"
     ]
    },
    {
     "name": "stdout",
     "output_type": "stream",
     "text": [
      "\n",
      "30\n"
     ]
    },
    {
     "name": "stderr",
     "output_type": "stream",
     "text": [
      "Process Process-31:\n",
      "Traceback (most recent call last):\n",
      "  File \"/home/fialhocoelho/miniconda3/envs/ml/lib/python3.6/multiprocessing/process.py\", line 258, in _bootstrap\n",
      "    self.run()\n",
      "  File \"/home/fialhocoelho/miniconda3/envs/ml/lib/python3.6/multiprocessing/process.py\", line 93, in run\n",
      "    self._target(*self._args, **self._kwargs)\n",
      "  File \"<ipython-input-8-7592b7d8220b>\", line 42, in create_tracks\n",
      "    np.savetxt(\"//tmp//res//arr\"+str(pid), c, fmt=\"%s\")\n",
      "  File \"/home/fialhocoelho/miniconda3/envs/ml/lib/python3.6/site-packages/numpy/lib/npyio.py\", line 1352, in savetxt\n",
      "    open(fname, 'wt').close()\n",
      "FileNotFoundError: [Errno 2] No such file or directory: '//tmp//res//arr30'\n"
     ]
    },
    {
     "name": "stdout",
     "output_type": "stream",
     "text": [
      "100\n",
      "121\n",
      "[-4.72812011e-04  3.41884010e-02 -7.26295996e+00 ...  0.00000000e+00\n",
      "  0.00000000e+00  0.00000000e+00]\n",
      "6\n"
     ]
    },
    {
     "name": "stderr",
     "output_type": "stream",
     "text": [
      "Process Process-7:\n",
      "Traceback (most recent call last):\n",
      "  File \"/home/fialhocoelho/miniconda3/envs/ml/lib/python3.6/multiprocessing/process.py\", line 258, in _bootstrap\n",
      "    self.run()\n",
      "  File \"/home/fialhocoelho/miniconda3/envs/ml/lib/python3.6/multiprocessing/process.py\", line 93, in run\n",
      "    self._target(*self._args, **self._kwargs)\n",
      "  File \"<ipython-input-8-7592b7d8220b>\", line 42, in create_tracks\n",
      "    np.savetxt(\"//tmp//res//arr\"+str(pid), c, fmt=\"%s\")\n",
      "  File \"/home/fialhocoelho/miniconda3/envs/ml/lib/python3.6/site-packages/numpy/lib/npyio.py\", line 1352, in savetxt\n",
      "    open(fname, 'wt').close()\n",
      "FileNotFoundError: [Errno 2] No such file or directory: '//tmp//res//arr6'\n"
     ]
    },
    {
     "name": "stdout",
     "output_type": "stream",
     "text": [
      "100\n",
      "121\n",
      "[ 0.00879904  0.0157194  -2.92529011 ...  0.          0.\n",
      "  0.        ]\n",
      "5\n"
     ]
    },
    {
     "name": "stderr",
     "output_type": "stream",
     "text": [
      "Process Process-6:\n"
     ]
    },
    {
     "name": "stdout",
     "output_type": "stream",
     "text": [
      "100\n",
      "121\n",
      "[ 35.60979843 -57.52859879 570.56896973 ...   0.           0.\n",
      "   0.        ]"
     ]
    },
    {
     "name": "stderr",
     "output_type": "stream",
     "text": [
      "Traceback (most recent call last):\n",
      "  File \"/home/fialhocoelho/miniconda3/envs/ml/lib/python3.6/multiprocessing/process.py\", line 258, in _bootstrap\n",
      "    self.run()\n"
     ]
    },
    {
     "name": "stdout",
     "output_type": "stream",
     "text": [
      "\n"
     ]
    },
    {
     "name": "stderr",
     "output_type": "stream",
     "text": [
      "  File \"/home/fialhocoelho/miniconda3/envs/ml/lib/python3.6/multiprocessing/process.py\", line 93, in run\n",
      "    self._target(*self._args, **self._kwargs)\n"
     ]
    },
    {
     "name": "stdout",
     "output_type": "stream",
     "text": [
      "12\n"
     ]
    },
    {
     "name": "stderr",
     "output_type": "stream",
     "text": [
      "Process Process-13:\n",
      "  File \"<ipython-input-8-7592b7d8220b>\", line 42, in create_tracks\n",
      "    np.savetxt(\"//tmp//res//arr\"+str(pid), c, fmt=\"%s\")\n",
      "Traceback (most recent call last):\n",
      "  File \"/home/fialhocoelho/miniconda3/envs/ml/lib/python3.6/site-packages/numpy/lib/npyio.py\", line 1352, in savetxt\n",
      "    open(fname, 'wt').close()\n",
      "  File \"/home/fialhocoelho/miniconda3/envs/ml/lib/python3.6/multiprocessing/process.py\", line 258, in _bootstrap\n",
      "    self.run()\n",
      "FileNotFoundError: [Errno 2] No such file or directory: '//tmp//res//arr5'\n",
      "  File \"/home/fialhocoelho/miniconda3/envs/ml/lib/python3.6/multiprocessing/process.py\", line 93, in run\n",
      "    self._target(*self._args, **self._kwargs)\n",
      "  File \"<ipython-input-8-7592b7d8220b>\", line 42, in create_tracks\n",
      "    np.savetxt(\"//tmp//res//arr\"+str(pid), c, fmt=\"%s\")\n",
      "  File \"/home/fialhocoelho/miniconda3/envs/ml/lib/python3.6/site-packages/numpy/lib/npyio.py\", line 1352, in savetxt\n",
      "    open(fname, 'wt').close()\n",
      "FileNotFoundError: [Errno 2] No such file or directory: '//tmp//res//arr12'\n"
     ]
    },
    {
     "name": "stdout",
     "output_type": "stream",
     "text": [
      "100\n",
      "121\n",
      "[ -44.59500122 -106.91400146  254.34899902 ...    0.            0.\n",
      "    0.        ]\n",
      "29\n"
     ]
    },
    {
     "name": "stderr",
     "output_type": "stream",
     "text": [
      "Process Process-30:\n",
      "Traceback (most recent call last):\n",
      "  File \"/home/fialhocoelho/miniconda3/envs/ml/lib/python3.6/multiprocessing/process.py\", line 258, in _bootstrap\n",
      "    self.run()\n",
      "  File \"/home/fialhocoelho/miniconda3/envs/ml/lib/python3.6/multiprocessing/process.py\", line 93, in run\n",
      "    self._target(*self._args, **self._kwargs)\n",
      "  File \"<ipython-input-8-7592b7d8220b>\", line 42, in create_tracks\n",
      "    np.savetxt(\"//tmp//res//arr\"+str(pid), c, fmt=\"%s\")\n",
      "  File \"/home/fialhocoelho/miniconda3/envs/ml/lib/python3.6/site-packages/numpy/lib/npyio.py\", line 1352, in savetxt\n",
      "    open(fname, 'wt').close()\n",
      "FileNotFoundError: [Errno 2] No such file or directory: '//tmp//res//arr29'\n"
     ]
    },
    {
     "name": "stdout",
     "output_type": "stream",
     "text": [
      "100\n",
      "121\n",
      "[-0.152183   -0.138715    1.57758999 ...  0.          0.\n",
      "  0.        ]\n",
      "100\n",
      "15\n",
      "121\n"
     ]
    },
    {
     "name": "stderr",
     "output_type": "stream",
     "text": [
      "Process Process-16:\n"
     ]
    },
    {
     "name": "stdout",
     "output_type": "stream",
     "text": [
      "[121.48100281 224.647995   703.86798096 ...   0.           0.\n",
      "   0.        ]\n"
     ]
    },
    {
     "name": "stderr",
     "output_type": "stream",
     "text": [
      "Traceback (most recent call last):\n"
     ]
    },
    {
     "name": "stdout",
     "output_type": "stream",
     "text": [
      "20\n"
     ]
    },
    {
     "name": "stderr",
     "output_type": "stream",
     "text": [
      "  File \"/home/fialhocoelho/miniconda3/envs/ml/lib/python3.6/multiprocessing/process.py\", line 258, in _bootstrap\n",
      "    self.run()\n",
      "Process Process-21:\n",
      "  File \"/home/fialhocoelho/miniconda3/envs/ml/lib/python3.6/multiprocessing/process.py\", line 93, in run\n",
      "    self._target(*self._args, **self._kwargs)\n",
      "Traceback (most recent call last):\n",
      "  File \"<ipython-input-8-7592b7d8220b>\", line 42, in create_tracks\n",
      "    np.savetxt(\"//tmp//res//arr\"+str(pid), c, fmt=\"%s\")\n",
      "  File \"/home/fialhocoelho/miniconda3/envs/ml/lib/python3.6/multiprocessing/process.py\", line 258, in _bootstrap\n",
      "    self.run()\n",
      "  File \"/home/fialhocoelho/miniconda3/envs/ml/lib/python3.6/site-packages/numpy/lib/npyio.py\", line 1352, in savetxt\n",
      "    open(fname, 'wt').close()\n",
      "  File \"/home/fialhocoelho/miniconda3/envs/ml/lib/python3.6/multiprocessing/process.py\", line 93, in run\n",
      "    self._target(*self._args, **self._kwargs)\n",
      "FileNotFoundError: [Errno 2] No such file or directory: '//tmp//res//arr15'\n",
      "  File \"<ipython-input-8-7592b7d8220b>\", line 42, in create_tracks\n",
      "    np.savetxt(\"//tmp//res//arr\"+str(pid), c, fmt=\"%s\")\n",
      "  File \"/home/fialhocoelho/miniconda3/envs/ml/lib/python3.6/site-packages/numpy/lib/npyio.py\", line 1352, in savetxt\n",
      "    open(fname, 'wt').close()\n",
      "FileNotFoundError: [Errno 2] No such file or directory: '//tmp//res//arr20'\n"
     ]
    },
    {
     "name": "stdout",
     "output_type": "stream",
     "text": [
      "100\n",
      "121\n",
      "[ 71.70600128 -27.32430077 447.42098999 ...   0.           0.\n",
      "   0.        ]\n",
      "22\n"
     ]
    },
    {
     "name": "stderr",
     "output_type": "stream",
     "text": [
      "Process Process-23:\n"
     ]
    },
    {
     "name": "stdout",
     "output_type": "stream",
     "text": [
      "100\n",
      "121\n"
     ]
    },
    {
     "name": "stderr",
     "output_type": "stream",
     "text": [
      "Traceback (most recent call last):\n"
     ]
    },
    {
     "name": "stdout",
     "output_type": "stream",
     "text": [
      "[  9.34564018 -18.84129906 111.59899902 ...   0.           0.\n",
      "   0.        ]\n"
     ]
    },
    {
     "name": "stderr",
     "output_type": "stream",
     "text": [
      "  File \"/home/fialhocoelho/miniconda3/envs/ml/lib/python3.6/multiprocessing/process.py\", line 258, in _bootstrap\n",
      "    self.run()\n",
      "  File \"/home/fialhocoelho/miniconda3/envs/ml/lib/python3.6/multiprocessing/process.py\", line 93, in run\n",
      "    self._target(*self._args, **self._kwargs)\n",
      "  File \"<ipython-input-8-7592b7d8220b>\", line 42, in create_tracks\n",
      "    np.savetxt(\"//tmp//res//arr\"+str(pid), c, fmt=\"%s\")\n",
      "  File \"/home/fialhocoelho/miniconda3/envs/ml/lib/python3.6/site-packages/numpy/lib/npyio.py\", line 1352, in savetxt\n",
      "    open(fname, 'wt').close()\n"
     ]
    },
    {
     "name": "stdout",
     "output_type": "stream",
     "text": [
      "34\n"
     ]
    },
    {
     "name": "stderr",
     "output_type": "stream",
     "text": [
      "FileNotFoundError: [Errno 2] No such file or directory: '//tmp//res//arr22'\n",
      "Process Process-35:\n",
      "Traceback (most recent call last):\n",
      "  File \"/home/fialhocoelho/miniconda3/envs/ml/lib/python3.6/multiprocessing/process.py\", line 258, in _bootstrap\n",
      "    self.run()\n",
      "  File \"/home/fialhocoelho/miniconda3/envs/ml/lib/python3.6/multiprocessing/process.py\", line 93, in run\n",
      "    self._target(*self._args, **self._kwargs)\n",
      "  File \"<ipython-input-8-7592b7d8220b>\", line 42, in create_tracks\n",
      "    np.savetxt(\"//tmp//res//arr\"+str(pid), c, fmt=\"%s\")\n",
      "  File \"/home/fialhocoelho/miniconda3/envs/ml/lib/python3.6/site-packages/numpy/lib/npyio.py\", line 1352, in savetxt\n",
      "    open(fname, 'wt').close()\n",
      "FileNotFoundError: [Errno 2] No such file or directory: '//tmp//res//arr34'\n"
     ]
    },
    {
     "name": "stdout",
     "output_type": "stream",
     "text": [
      "100\n",
      "121\n",
      "[-0.0388741   0.00323401 -0.184627   ...  0.          0.\n",
      "  0.        ]\n",
      "13\n"
     ]
    },
    {
     "name": "stderr",
     "output_type": "stream",
     "text": [
      "Process Process-14:\n",
      "Traceback (most recent call last):\n",
      "  File \"/home/fialhocoelho/miniconda3/envs/ml/lib/python3.6/multiprocessing/process.py\", line 258, in _bootstrap\n",
      "    self.run()\n",
      "  File \"/home/fialhocoelho/miniconda3/envs/ml/lib/python3.6/multiprocessing/process.py\", line 93, in run\n",
      "    self._target(*self._args, **self._kwargs)\n",
      "  File \"<ipython-input-8-7592b7d8220b>\", line 42, in create_tracks\n",
      "    np.savetxt(\"//tmp//res//arr\"+str(pid), c, fmt=\"%s\")\n",
      "  File \"/home/fialhocoelho/miniconda3/envs/ml/lib/python3.6/site-packages/numpy/lib/npyio.py\", line 1352, in savetxt\n",
      "    open(fname, 'wt').close()\n",
      "FileNotFoundError: [Errno 2] No such file or directory: '//tmp//res//arr13'\n"
     ]
    },
    {
     "name": "stdout",
     "output_type": "stream",
     "text": [
      "100\n",
      "121\n",
      "[  -13.36439991  -199.55299377 -1824.10998535 ...     0.\n",
      "     0.             0.        ]\n",
      "31\n"
     ]
    },
    {
     "name": "stderr",
     "output_type": "stream",
     "text": [
      "Process Process-32:\n",
      "Traceback (most recent call last):\n",
      "  File \"/home/fialhocoelho/miniconda3/envs/ml/lib/python3.6/multiprocessing/process.py\", line 258, in _bootstrap\n",
      "    self.run()\n",
      "  File \"/home/fialhocoelho/miniconda3/envs/ml/lib/python3.6/multiprocessing/process.py\", line 93, in run\n",
      "    self._target(*self._args, **self._kwargs)\n",
      "  File \"<ipython-input-8-7592b7d8220b>\", line 42, in create_tracks\n",
      "    np.savetxt(\"//tmp//res//arr\"+str(pid), c, fmt=\"%s\")\n",
      "  File \"/home/fialhocoelho/miniconda3/envs/ml/lib/python3.6/site-packages/numpy/lib/npyio.py\", line 1352, in savetxt\n",
      "    open(fname, 'wt').close()\n",
      "FileNotFoundError: [Errno 2] No such file or directory: '//tmp//res//arr31'\n"
     ]
    },
    {
     "name": "stdout",
     "output_type": "stream",
     "text": [
      "100\n",
      "121\n",
      "[-2.51205005e-02  9.03102010e-03  1.27757998e+01 ...  0.00000000e+00\n",
      "  0.00000000e+00  0.00000000e+00]\n",
      "3\n"
     ]
    },
    {
     "name": "stderr",
     "output_type": "stream",
     "text": [
      "Process Process-4:\n"
     ]
    },
    {
     "name": "stdout",
     "output_type": "stream",
     "text": [
      "100\n"
     ]
    },
    {
     "name": "stderr",
     "output_type": "stream",
     "text": [
      "Traceback (most recent call last):\n",
      "  File \"/home/fialhocoelho/miniconda3/envs/ml/lib/python3.6/multiprocessing/process.py\", line 258, in _bootstrap\n",
      "    self.run()\n",
      "  File \"/home/fialhocoelho/miniconda3/envs/ml/lib/python3.6/multiprocessing/process.py\", line 93, in run\n",
      "    self._target(*self._args, **self._kwargs)\n",
      "  File \"<ipython-input-8-7592b7d8220b>\", line 42, in create_tracks\n",
      "    np.savetxt(\"//tmp//res//arr\"+str(pid), c, fmt=\"%s\")\n"
     ]
    },
    {
     "name": "stdout",
     "output_type": "stream",
     "text": [
      "121\n"
     ]
    },
    {
     "name": "stderr",
     "output_type": "stream",
     "text": [
      "  File \"/home/fialhocoelho/miniconda3/envs/ml/lib/python3.6/site-packages/numpy/lib/npyio.py\", line 1352, in savetxt\n",
      "    open(fname, 'wt').close()\n"
     ]
    },
    {
     "name": "stdout",
     "output_type": "stream",
     "text": [
      "[-0.0159367  -0.0134163  -3.36804008 ...  0.          0.\n",
      "  0.        ]\n"
     ]
    },
    {
     "name": "stderr",
     "output_type": "stream",
     "text": [
      "FileNotFoundError: [Errno 2] No such file or directory: '//tmp//res//arr3'\n"
     ]
    },
    {
     "name": "stdout",
     "output_type": "stream",
     "text": [
      "16\n"
     ]
    },
    {
     "name": "stderr",
     "output_type": "stream",
     "text": [
      "Process Process-17:\n",
      "Traceback (most recent call last):\n",
      "  File \"/home/fialhocoelho/miniconda3/envs/ml/lib/python3.6/multiprocessing/process.py\", line 258, in _bootstrap\n",
      "    self.run()\n"
     ]
    },
    {
     "name": "stdout",
     "output_type": "stream",
     "text": [
      "100\n"
     ]
    },
    {
     "name": "stderr",
     "output_type": "stream",
     "text": [
      "  File \"/home/fialhocoelho/miniconda3/envs/ml/lib/python3.6/multiprocessing/process.py\", line 93, in run\n",
      "    self._target(*self._args, **self._kwargs)\n"
     ]
    },
    {
     "name": "stdout",
     "output_type": "stream",
     "text": [
      "121\n"
     ]
    },
    {
     "name": "stderr",
     "output_type": "stream",
     "text": [
      "  File \"<ipython-input-8-7592b7d8220b>\", line 42, in create_tracks\n",
      "    np.savetxt(\"//tmp//res//arr\"+str(pid), c, fmt=\"%s\")\n",
      "  File \"/home/fialhocoelho/miniconda3/envs/ml/lib/python3.6/site-packages/numpy/lib/npyio.py\", line 1352, in savetxt\n",
      "    open(fname, 'wt').close()\n"
     ]
    },
    {
     "name": "stdout",
     "output_type": "stream",
     "text": [
      "[-2.45328005e-02  3.61823989e-03  7.58457994e+00 ...  0.00000000e+00\n",
      "  0.00000000e+00  0.00000000e+00]"
     ]
    },
    {
     "name": "stderr",
     "output_type": "stream",
     "text": [
      "FileNotFoundError: [Errno 2] No such file or directory: '//tmp//res//arr16'\n"
     ]
    },
    {
     "name": "stdout",
     "output_type": "stream",
     "text": [
      "\n",
      "27\n"
     ]
    },
    {
     "name": "stderr",
     "output_type": "stream",
     "text": [
      "Process Process-28:\n",
      "Traceback (most recent call last):\n",
      "  File \"/home/fialhocoelho/miniconda3/envs/ml/lib/python3.6/multiprocessing/process.py\", line 258, in _bootstrap\n",
      "    self.run()\n",
      "  File \"/home/fialhocoelho/miniconda3/envs/ml/lib/python3.6/multiprocessing/process.py\", line 93, in run\n",
      "    self._target(*self._args, **self._kwargs)\n",
      "  File \"<ipython-input-8-7592b7d8220b>\", line 42, in create_tracks\n",
      "    np.savetxt(\"//tmp//res//arr\"+str(pid), c, fmt=\"%s\")\n",
      "  File \"/home/fialhocoelho/miniconda3/envs/ml/lib/python3.6/site-packages/numpy/lib/npyio.py\", line 1352, in savetxt\n",
      "    open(fname, 'wt').close()\n",
      "FileNotFoundError: [Errno 2] No such file or directory: '//tmp//res//arr27'\n"
     ]
    },
    {
     "name": "stdout",
     "output_type": "stream",
     "text": [
      "100\n",
      "121\n",
      "[-0.0149721  -0.0243482  -2.65044999 ...  0.          0.\n",
      "  0.        ]\n",
      "0\n"
     ]
    },
    {
     "name": "stderr",
     "output_type": "stream",
     "text": [
      "Process Process-1:\n",
      "Traceback (most recent call last):\n",
      "  File \"/home/fialhocoelho/miniconda3/envs/ml/lib/python3.6/multiprocessing/process.py\", line 258, in _bootstrap\n",
      "    self.run()\n",
      "  File \"/home/fialhocoelho/miniconda3/envs/ml/lib/python3.6/multiprocessing/process.py\", line 93, in run\n",
      "    self._target(*self._args, **self._kwargs)\n",
      "  File \"<ipython-input-8-7592b7d8220b>\", line 42, in create_tracks\n",
      "    np.savetxt(\"//tmp//res//arr\"+str(pid), c, fmt=\"%s\")\n",
      "  File \"/home/fialhocoelho/miniconda3/envs/ml/lib/python3.6/site-packages/numpy/lib/npyio.py\", line 1352, in savetxt\n",
      "    open(fname, 'wt').close()\n",
      "FileNotFoundError: [Errno 2] No such file or directory: '//tmp//res//arr0'\n"
     ]
    },
    {
     "name": "stdout",
     "output_type": "stream",
     "text": [
      "100\n",
      "121\n",
      "[ 0.0110954  -0.0147183  -6.09131002 ...  0.          0.\n",
      "  0.        ]\n",
      "23\n"
     ]
    },
    {
     "name": "stderr",
     "output_type": "stream",
     "text": [
      "Process Process-24:\n",
      "Traceback (most recent call last):\n",
      "  File \"/home/fialhocoelho/miniconda3/envs/ml/lib/python3.6/multiprocessing/process.py\", line 258, in _bootstrap\n",
      "    self.run()\n",
      "  File \"/home/fialhocoelho/miniconda3/envs/ml/lib/python3.6/multiprocessing/process.py\", line 93, in run\n",
      "    self._target(*self._args, **self._kwargs)\n",
      "  File \"<ipython-input-8-7592b7d8220b>\", line 42, in create_tracks\n",
      "    np.savetxt(\"//tmp//res//arr\"+str(pid), c, fmt=\"%s\")\n",
      "  File \"/home/fialhocoelho/miniconda3/envs/ml/lib/python3.6/site-packages/numpy/lib/npyio.py\", line 1352, in savetxt\n",
      "    open(fname, 'wt').close()\n",
      "FileNotFoundError: [Errno 2] No such file or directory: '//tmp//res//arr23'\n"
     ]
    },
    {
     "name": "stdout",
     "output_type": "stream",
     "text": [
      "100\n",
      "121\n",
      "[ 466.25601196 -165.80000305  871.9329834  ...    0.            0.\n",
      "    0.        ]\n",
      "66\n"
     ]
    },
    {
     "name": "stderr",
     "output_type": "stream",
     "text": [
      "Process Process-67:\n",
      "Traceback (most recent call last):\n",
      "  File \"/home/fialhocoelho/miniconda3/envs/ml/lib/python3.6/multiprocessing/process.py\", line 258, in _bootstrap\n",
      "    self.run()\n",
      "  File \"/home/fialhocoelho/miniconda3/envs/ml/lib/python3.6/multiprocessing/process.py\", line 93, in run\n",
      "    self._target(*self._args, **self._kwargs)\n",
      "  File \"<ipython-input-8-7592b7d8220b>\", line 42, in create_tracks\n",
      "    np.savetxt(\"//tmp//res//arr\"+str(pid), c, fmt=\"%s\")\n",
      "  File \"/home/fialhocoelho/miniconda3/envs/ml/lib/python3.6/site-packages/numpy/lib/npyio.py\", line 1352, in savetxt\n",
      "    open(fname, 'wt').close()\n",
      "FileNotFoundError: [Errno 2] No such file or directory: '//tmp//res//arr66'\n"
     ]
    },
    {
     "name": "stdout",
     "output_type": "stream",
     "text": [
      "100\n",
      "121\n",
      "[0.0220109  0.00924312 3.78871012 ... 0.         0.         0.        ]\n",
      "55\n"
     ]
    },
    {
     "name": "stderr",
     "output_type": "stream",
     "text": [
      "Process Process-56:\n",
      "Traceback (most recent call last):\n",
      "  File \"/home/fialhocoelho/miniconda3/envs/ml/lib/python3.6/multiprocessing/process.py\", line 258, in _bootstrap\n",
      "    self.run()\n",
      "  File \"/home/fialhocoelho/miniconda3/envs/ml/lib/python3.6/multiprocessing/process.py\", line 93, in run\n",
      "    self._target(*self._args, **self._kwargs)\n",
      "  File \"<ipython-input-8-7592b7d8220b>\", line 42, in create_tracks\n",
      "    np.savetxt(\"//tmp//res//arr\"+str(pid), c, fmt=\"%s\")\n",
      "  File \"/home/fialhocoelho/miniconda3/envs/ml/lib/python3.6/site-packages/numpy/lib/npyio.py\", line 1352, in savetxt\n",
      "    open(fname, 'wt').close()\n",
      "FileNotFoundError: [Errno 2] No such file or directory: '//tmp//res//arr55'\n"
     ]
    },
    {
     "name": "stdout",
     "output_type": "stream",
     "text": [
      "100\n",
      "121\n",
      "[ 0.0153224   0.00439106 -0.97915697 ...  0.          0.\n",
      "  0.        ]\n",
      "61\n"
     ]
    },
    {
     "name": "stderr",
     "output_type": "stream",
     "text": [
      "Process Process-62:\n",
      "Traceback (most recent call last):\n",
      "  File \"/home/fialhocoelho/miniconda3/envs/ml/lib/python3.6/multiprocessing/process.py\", line 258, in _bootstrap\n",
      "    self.run()\n",
      "  File \"/home/fialhocoelho/miniconda3/envs/ml/lib/python3.6/multiprocessing/process.py\", line 93, in run\n",
      "    self._target(*self._args, **self._kwargs)\n",
      "  File \"<ipython-input-8-7592b7d8220b>\", line 42, in create_tracks\n",
      "    np.savetxt(\"//tmp//res//arr\"+str(pid), c, fmt=\"%s\")\n",
      "  File \"/home/fialhocoelho/miniconda3/envs/ml/lib/python3.6/site-packages/numpy/lib/npyio.py\", line 1352, in savetxt\n",
      "    open(fname, 'wt').close()\n",
      "FileNotFoundError: [Errno 2] No such file or directory: '//tmp//res//arr61'\n"
     ]
    },
    {
     "name": "stdout",
     "output_type": "stream",
     "text": [
      "100\n",
      "121\n",
      "[ 0.0239626  -0.0077686   7.03420019 ...  0.          0.\n",
      "  0.        ]\n",
      "37\n"
     ]
    },
    {
     "name": "stderr",
     "output_type": "stream",
     "text": [
      "Process Process-38:\n",
      "Traceback (most recent call last):\n",
      "  File \"/home/fialhocoelho/miniconda3/envs/ml/lib/python3.6/multiprocessing/process.py\", line 258, in _bootstrap\n",
      "    self.run()\n",
      "  File \"/home/fialhocoelho/miniconda3/envs/ml/lib/python3.6/multiprocessing/process.py\", line 93, in run\n",
      "    self._target(*self._args, **self._kwargs)\n",
      "  File \"<ipython-input-8-7592b7d8220b>\", line 42, in create_tracks\n",
      "    np.savetxt(\"//tmp//res//arr\"+str(pid), c, fmt=\"%s\")\n",
      "  File \"/home/fialhocoelho/miniconda3/envs/ml/lib/python3.6/site-packages/numpy/lib/npyio.py\", line 1352, in savetxt\n",
      "    open(fname, 'wt').close()\n",
      "FileNotFoundError: [Errno 2] No such file or directory: '//tmp//res//arr37'\n"
     ]
    },
    {
     "name": "stdout",
     "output_type": "stream",
     "text": [
      "100\n",
      "121\n",
      "[ 3.76076996e-03 -1.26261003e-02 -5.65514994e+00 ...  0.00000000e+00\n",
      "  0.00000000e+00  0.00000000e+00]\n",
      "43\n"
     ]
    },
    {
     "name": "stderr",
     "output_type": "stream",
     "text": [
      "Process Process-44:\n",
      "Traceback (most recent call last):\n",
      "  File \"/home/fialhocoelho/miniconda3/envs/ml/lib/python3.6/multiprocessing/process.py\", line 258, in _bootstrap\n",
      "    self.run()\n",
      "  File \"/home/fialhocoelho/miniconda3/envs/ml/lib/python3.6/multiprocessing/process.py\", line 93, in run\n",
      "    self._target(*self._args, **self._kwargs)\n",
      "  File \"<ipython-input-8-7592b7d8220b>\", line 42, in create_tracks\n",
      "    np.savetxt(\"//tmp//res//arr\"+str(pid), c, fmt=\"%s\")\n",
      "  File \"/home/fialhocoelho/miniconda3/envs/ml/lib/python3.6/site-packages/numpy/lib/npyio.py\", line 1352, in savetxt\n",
      "    open(fname, 'wt').close()\n",
      "FileNotFoundError: [Errno 2] No such file or directory: '//tmp//res//arr43'\n"
     ]
    },
    {
     "name": "stdout",
     "output_type": "stream",
     "text": [
      "100\n",
      "121\n",
      "[ 0.00631535 -0.0131525  -4.17508984 ...  0.          0.\n",
      "  0.        ]\n",
      "53\n"
     ]
    },
    {
     "name": "stderr",
     "output_type": "stream",
     "text": [
      "Process Process-54:\n"
     ]
    },
    {
     "name": "stdout",
     "output_type": "stream",
     "text": [
      "100\n"
     ]
    },
    {
     "name": "stderr",
     "output_type": "stream",
     "text": [
      "Traceback (most recent call last):\n"
     ]
    },
    {
     "name": "stdout",
     "output_type": "stream",
     "text": [
      "121\n"
     ]
    },
    {
     "name": "stderr",
     "output_type": "stream",
     "text": [
      "  File \"/home/fialhocoelho/miniconda3/envs/ml/lib/python3.6/multiprocessing/process.py\", line 258, in _bootstrap\n",
      "    self.run()\n"
     ]
    },
    {
     "name": "stdout",
     "output_type": "stream",
     "text": [
      "[  -7.0802598   -17.63150024 -145.32899475 ...    0.            0.\n",
      "    0.        ]"
     ]
    },
    {
     "name": "stderr",
     "output_type": "stream",
     "text": [
      "  File \"/home/fialhocoelho/miniconda3/envs/ml/lib/python3.6/multiprocessing/process.py\", line 93, in run\n",
      "    self._target(*self._args, **self._kwargs)\n",
      "  File \"<ipython-input-8-7592b7d8220b>\", line 42, in create_tracks\n",
      "    np.savetxt(\"//tmp//res//arr\"+str(pid), c, fmt=\"%s\")\n"
     ]
    },
    {
     "name": "stdout",
     "output_type": "stream",
     "text": [
      "\n"
     ]
    },
    {
     "name": "stderr",
     "output_type": "stream",
     "text": [
      "  File \"/home/fialhocoelho/miniconda3/envs/ml/lib/python3.6/site-packages/numpy/lib/npyio.py\", line 1352, in savetxt\n",
      "    open(fname, 'wt').close()\n"
     ]
    },
    {
     "name": "stdout",
     "output_type": "stream",
     "text": [
      "38\n"
     ]
    },
    {
     "name": "stderr",
     "output_type": "stream",
     "text": [
      "FileNotFoundError: [Errno 2] No such file or directory: '//tmp//res//arr53'\n",
      "Process Process-39:\n",
      "Traceback (most recent call last):\n",
      "  File \"/home/fialhocoelho/miniconda3/envs/ml/lib/python3.6/multiprocessing/process.py\", line 258, in _bootstrap\n",
      "    self.run()\n",
      "  File \"/home/fialhocoelho/miniconda3/envs/ml/lib/python3.6/multiprocessing/process.py\", line 93, in run\n",
      "    self._target(*self._args, **self._kwargs)\n",
      "  File \"<ipython-input-8-7592b7d8220b>\", line 42, in create_tracks\n",
      "    np.savetxt(\"//tmp//res//arr\"+str(pid), c, fmt=\"%s\")\n",
      "  File \"/home/fialhocoelho/miniconda3/envs/ml/lib/python3.6/site-packages/numpy/lib/npyio.py\", line 1352, in savetxt\n",
      "    open(fname, 'wt').close()\n",
      "FileNotFoundError: [Errno 2] No such file or directory: '//tmp//res//arr38'\n"
     ]
    },
    {
     "name": "stdout",
     "output_type": "stream",
     "text": [
      "100\n",
      "121\n",
      "[  77.16000366 -184.51600647 1474.68994141 ...    0.            0.\n",
      "    0.        ]\n",
      "69\n"
     ]
    },
    {
     "name": "stderr",
     "output_type": "stream",
     "text": [
      "Process Process-70:\n",
      "Traceback (most recent call last):\n",
      "  File \"/home/fialhocoelho/miniconda3/envs/ml/lib/python3.6/multiprocessing/process.py\", line 258, in _bootstrap\n",
      "    self.run()\n",
      "  File \"/home/fialhocoelho/miniconda3/envs/ml/lib/python3.6/multiprocessing/process.py\", line 93, in run\n",
      "    self._target(*self._args, **self._kwargs)\n",
      "  File \"<ipython-input-8-7592b7d8220b>\", line 42, in create_tracks\n",
      "    np.savetxt(\"//tmp//res//arr\"+str(pid), c, fmt=\"%s\")\n",
      "  File \"/home/fialhocoelho/miniconda3/envs/ml/lib/python3.6/site-packages/numpy/lib/npyio.py\", line 1352, in savetxt\n",
      "    open(fname, 'wt').close()\n",
      "FileNotFoundError: [Errno 2] No such file or directory: '//tmp//res//arr69'\n"
     ]
    },
    {
     "name": "stdout",
     "output_type": "stream",
     "text": [
      "100\n",
      "121\n",
      "[-6.16948964e-05 -5.32619003e-03 -2.49868011e+00 ...  0.00000000e+00\n",
      "  0.00000000e+00  0.00000000e+00]\n",
      "59\n"
     ]
    },
    {
     "name": "stderr",
     "output_type": "stream",
     "text": [
      "Process Process-60:\n",
      "Traceback (most recent call last):\n",
      "  File \"/home/fialhocoelho/miniconda3/envs/ml/lib/python3.6/multiprocessing/process.py\", line 258, in _bootstrap\n",
      "    self.run()\n",
      "  File \"/home/fialhocoelho/miniconda3/envs/ml/lib/python3.6/multiprocessing/process.py\", line 93, in run\n",
      "    self._target(*self._args, **self._kwargs)\n",
      "  File \"<ipython-input-8-7592b7d8220b>\", line 42, in create_tracks\n",
      "    np.savetxt(\"//tmp//res//arr\"+str(pid), c, fmt=\"%s\")\n",
      "  File \"/home/fialhocoelho/miniconda3/envs/ml/lib/python3.6/site-packages/numpy/lib/npyio.py\", line 1352, in savetxt\n",
      "    open(fname, 'wt').close()\n",
      "FileNotFoundError: [Errno 2] No such file or directory: '//tmp//res//arr59'\n"
     ]
    },
    {
     "name": "stdout",
     "output_type": "stream",
     "text": [
      "100\n",
      "121\n",
      "[-0.0116193  -0.0257268  -9.09539032 ...  0.          0.\n",
      "  0.        ]\n",
      "39\n"
     ]
    },
    {
     "name": "stderr",
     "output_type": "stream",
     "text": [
      "Process Process-40:\n",
      "Traceback (most recent call last):\n",
      "  File \"/home/fialhocoelho/miniconda3/envs/ml/lib/python3.6/multiprocessing/process.py\", line 258, in _bootstrap\n",
      "    self.run()\n",
      "  File \"/home/fialhocoelho/miniconda3/envs/ml/lib/python3.6/multiprocessing/process.py\", line 93, in run\n",
      "    self._target(*self._args, **self._kwargs)\n",
      "  File \"<ipython-input-8-7592b7d8220b>\", line 42, in create_tracks\n",
      "    np.savetxt(\"//tmp//res//arr\"+str(pid), c, fmt=\"%s\")\n",
      "  File \"/home/fialhocoelho/miniconda3/envs/ml/lib/python3.6/site-packages/numpy/lib/npyio.py\", line 1352, in savetxt\n",
      "    open(fname, 'wt').close()\n",
      "FileNotFoundError: [Errno 2] No such file or directory: '//tmp//res//arr39'\n"
     ]
    },
    {
     "name": "stdout",
     "output_type": "stream",
     "text": [
      "100\n",
      "121\n",
      "[-0.00934597 -0.0127835   1.66056001 ...  0.          0.\n",
      "  0.        ]\n",
      "44\n"
     ]
    },
    {
     "name": "stderr",
     "output_type": "stream",
     "text": [
      "Process Process-45:\n",
      "Traceback (most recent call last):\n",
      "  File \"/home/fialhocoelho/miniconda3/envs/ml/lib/python3.6/multiprocessing/process.py\", line 258, in _bootstrap\n",
      "    self.run()\n",
      "  File \"/home/fialhocoelho/miniconda3/envs/ml/lib/python3.6/multiprocessing/process.py\", line 93, in run\n",
      "    self._target(*self._args, **self._kwargs)\n",
      "  File \"<ipython-input-8-7592b7d8220b>\", line 42, in create_tracks\n",
      "    np.savetxt(\"//tmp//res//arr\"+str(pid), c, fmt=\"%s\")\n",
      "  File \"/home/fialhocoelho/miniconda3/envs/ml/lib/python3.6/site-packages/numpy/lib/npyio.py\", line 1352, in savetxt\n",
      "    open(fname, 'wt').close()\n",
      "FileNotFoundError: [Errno 2] No such file or directory: '//tmp//res//arr44'\n"
     ]
    },
    {
     "name": "stdout",
     "output_type": "stream",
     "text": [
      "100\n",
      "121\n",
      "[ 0.0287065  -0.00982422 -5.2486701  ...  0.          0.\n",
      "  0.        ]\n",
      "49\n"
     ]
    },
    {
     "name": "stderr",
     "output_type": "stream",
     "text": [
      "Process Process-50:\n",
      "Traceback (most recent call last):\n",
      "  File \"/home/fialhocoelho/miniconda3/envs/ml/lib/python3.6/multiprocessing/process.py\", line 258, in _bootstrap\n",
      "    self.run()\n",
      "  File \"/home/fialhocoelho/miniconda3/envs/ml/lib/python3.6/multiprocessing/process.py\", line 93, in run\n",
      "    self._target(*self._args, **self._kwargs)\n",
      "  File \"<ipython-input-8-7592b7d8220b>\", line 42, in create_tracks\n",
      "    np.savetxt(\"//tmp//res//arr\"+str(pid), c, fmt=\"%s\")\n",
      "  File \"/home/fialhocoelho/miniconda3/envs/ml/lib/python3.6/site-packages/numpy/lib/npyio.py\", line 1352, in savetxt\n",
      "    open(fname, 'wt').close()\n",
      "FileNotFoundError: [Errno 2] No such file or directory: '//tmp//res//arr49'\n"
     ]
    },
    {
     "name": "stdout",
     "output_type": "stream",
     "text": [
      "100\n",
      "121\n",
      "[-0.00645559  0.00444751 -1.02765    ...  0.          0.\n",
      "  0.        ]\n",
      "45\n"
     ]
    },
    {
     "name": "stderr",
     "output_type": "stream",
     "text": [
      "Process Process-46:\n",
      "Traceback (most recent call last):\n",
      "  File \"/home/fialhocoelho/miniconda3/envs/ml/lib/python3.6/multiprocessing/process.py\", line 258, in _bootstrap\n",
      "    self.run()\n",
      "  File \"/home/fialhocoelho/miniconda3/envs/ml/lib/python3.6/multiprocessing/process.py\", line 93, in run\n",
      "    self._target(*self._args, **self._kwargs)\n",
      "  File \"<ipython-input-8-7592b7d8220b>\", line 42, in create_tracks\n",
      "    np.savetxt(\"//tmp//res//arr\"+str(pid), c, fmt=\"%s\")\n",
      "  File \"/home/fialhocoelho/miniconda3/envs/ml/lib/python3.6/site-packages/numpy/lib/npyio.py\", line 1352, in savetxt\n",
      "    open(fname, 'wt').close()\n",
      "FileNotFoundError: [Errno 2] No such file or directory: '//tmp//res//arr45'\n"
     ]
    },
    {
     "name": "stdout",
     "output_type": "stream",
     "text": [
      "100\n",
      "121\n",
      "[-0.64222699  0.16603    -1.03031003 ...  0.          0.\n",
      "  0.        ]\n",
      "56\n"
     ]
    },
    {
     "name": "stderr",
     "output_type": "stream",
     "text": [
      "Process Process-57:\n",
      "Traceback (most recent call last):\n",
      "  File \"/home/fialhocoelho/miniconda3/envs/ml/lib/python3.6/multiprocessing/process.py\", line 258, in _bootstrap\n",
      "    self.run()\n",
      "  File \"/home/fialhocoelho/miniconda3/envs/ml/lib/python3.6/multiprocessing/process.py\", line 93, in run\n",
      "    self._target(*self._args, **self._kwargs)\n",
      "  File \"<ipython-input-8-7592b7d8220b>\", line 42, in create_tracks\n",
      "    np.savetxt(\"//tmp//res//arr\"+str(pid), c, fmt=\"%s\")\n",
      "  File \"/home/fialhocoelho/miniconda3/envs/ml/lib/python3.6/site-packages/numpy/lib/npyio.py\", line 1352, in savetxt\n",
      "    open(fname, 'wt').close()\n",
      "FileNotFoundError: [Errno 2] No such file or directory: '//tmp//res//arr56'\n"
     ]
    },
    {
     "name": "stdout",
     "output_type": "stream",
     "text": [
      "100\n",
      "121\n",
      "[-1.23765999e-02  3.28640011e-03  4.07972002e+00 ...  0.00000000e+00\n",
      "  0.00000000e+00  0.00000000e+00]\n",
      "47\n"
     ]
    },
    {
     "name": "stderr",
     "output_type": "stream",
     "text": [
      "Process Process-48:\n",
      "Traceback (most recent call last):\n",
      "  File \"/home/fialhocoelho/miniconda3/envs/ml/lib/python3.6/multiprocessing/process.py\", line 258, in _bootstrap\n",
      "    self.run()\n",
      "  File \"/home/fialhocoelho/miniconda3/envs/ml/lib/python3.6/multiprocessing/process.py\", line 93, in run\n",
      "    self._target(*self._args, **self._kwargs)\n",
      "  File \"<ipython-input-8-7592b7d8220b>\", line 42, in create_tracks\n",
      "    np.savetxt(\"//tmp//res//arr\"+str(pid), c, fmt=\"%s\")\n",
      "  File \"/home/fialhocoelho/miniconda3/envs/ml/lib/python3.6/site-packages/numpy/lib/npyio.py\", line 1352, in savetxt\n",
      "    open(fname, 'wt').close()\n",
      "FileNotFoundError: [Errno 2] No such file or directory: '//tmp//res//arr47'\n"
     ]
    },
    {
     "name": "stdout",
     "output_type": "stream",
     "text": [
      "100\n",
      "121\n",
      "[ 0.0359712 -0.0133251  2.32233   ...  0.         0.         0.       ]\n",
      "42\n"
     ]
    },
    {
     "name": "stderr",
     "output_type": "stream",
     "text": [
      "Process Process-43:\n",
      "Traceback (most recent call last):\n",
      "  File \"/home/fialhocoelho/miniconda3/envs/ml/lib/python3.6/multiprocessing/process.py\", line 258, in _bootstrap\n",
      "    self.run()\n",
      "  File \"/home/fialhocoelho/miniconda3/envs/ml/lib/python3.6/multiprocessing/process.py\", line 93, in run\n",
      "    self._target(*self._args, **self._kwargs)\n",
      "  File \"<ipython-input-8-7592b7d8220b>\", line 42, in create_tracks\n",
      "    np.savetxt(\"//tmp//res//arr\"+str(pid), c, fmt=\"%s\")\n",
      "  File \"/home/fialhocoelho/miniconda3/envs/ml/lib/python3.6/site-packages/numpy/lib/npyio.py\", line 1352, in savetxt\n",
      "    open(fname, 'wt').close()\n",
      "FileNotFoundError: [Errno 2] No such file or directory: '//tmp//res//arr42'\n"
     ]
    },
    {
     "name": "stdout",
     "output_type": "stream",
     "text": [
      "100\n",
      "121\n",
      "[  27.09519958   39.04399872 -112.93000031 ...    0.            0.\n",
      "    0.        ]"
     ]
    }
   ],
   "source": [
    "import glob, os\n",
    "test = \"/tmp/res/*\"\n",
    "r = glob.glob(test)\n",
    "for i in r:\n",
    "   os.remove(i)\n",
    "\n",
    "step=100\n",
    "pid=0\n",
    "\n",
    "\n",
    "for ii in range(3):\n",
    "\n",
    "    bi=ii*35\n",
    "    ei=bi+35\n",
    "    \n",
    "    jobs = []\n",
    "\n",
    "    for i in range(bi,ei):\n",
    "        b=i*step\n",
    "        e=b+step\n",
    "\n",
    "        #print(\"b-e\")\n",
    "        #print(b)\n",
    "        #print(e)\n",
    "        #Process(target=print_func, args=(name,))\n",
    "    \n",
    "        p = multiprocessing.Process(target=create_tracks, args=(b,e,pid))\n",
    "        pid=pid+1\n",
    "        jobs.append(p)\n",
    "        p.start()\n",
    "    \n",
    "    for proc in jobs:\n",
    "        proc.join()\n",
    "\n",
    "\n",
    "    del jobs[:]\n",
    "\n",
    "#print(ttt.shape)\n",
    "#print(ttt)\n"
   ]
  },
  {
   "cell_type": "code",
   "execution_count": null,
   "metadata": {},
   "outputs": [],
   "source": [
    "path = '/tmp/res/'\n",
    "\n",
    "files = []\n",
    "# r=root, d=directories, f = files\n",
    "for r, d, f in os.walk(path):\n",
    "    for file in f:\n",
    "        #if '.txt' in file:\n",
    "        files.append(os.path.join(r, file))\n",
    "\n",
    "#for f in files:\n",
    "#    print(f)\n",
    "\n",
    "with open('/tmp/res2/merged_1', 'w') as outfile:\n",
    "    for fname in files:\n",
    "        with open(fname) as infile:\n",
    "            outfile.write(infile.read())"
   ]
  },
  {
   "cell_type": "code",
   "execution_count": null,
   "metadata": {},
   "outputs": [],
   "source": [
    "c=np.loadtxt(open(\"/tmp/res2/merged_1\"))\n",
    "print(c.shape)"
   ]
  },
  {
   "cell_type": "code",
   "execution_count": null,
   "metadata": {},
   "outputs": [],
   "source": [
    "#create fake tracks\n",
    "\n",
    "AmountOfFakeRows=int(tot_rows*perc/100)\n",
    "X=c[:AmountOfFakeRows,]\n",
    "\n",
    "\n",
    "currentrow=0\n",
    "\n",
    "for cell in X: # for each row in fake dataset\n",
    "    indd=amount_of_columns(cell)\n",
    "    cols_num = random.randrange(2, indd) #cols_num is the  amount of columns that will be switched\n",
    "    cols = select_random_columns(cols_num)\n",
    "    \n",
    "    randomrow=random.randrange(1, AmountOfFakeRows)\n",
    "    switch_random_columns( randomrow , currentrow, cols )\n",
    "    currentrow=currentrow+1\n",
    "\n",
    "    X[:, tot_columns-1:]=1"
   ]
  },
  {
   "cell_type": "code",
   "execution_count": null,
   "metadata": {},
   "outputs": [],
   "source": [
    "#concatenate Real and Fake tracks\n",
    "ds=np.concatenate((c, X), axis=0)\n",
    "np.random.shuffle(ds)\n",
    "dtpd = pd.DataFrame(data=ds[0:,0:])#,    # values"
   ]
  },
  {
   "cell_type": "code",
   "execution_count": null,
   "metadata": {},
   "outputs": [],
   "source": [
    "#Separate predictors X and target y\n",
    "X= dtpd.iloc[:,0:119]\n",
    "#print(X)\n",
    "y= dtpd.iloc[:,120]\n",
    "#print(y)"
   ]
  },
  {
   "cell_type": "code",
   "execution_count": null,
   "metadata": {},
   "outputs": [],
   "source": [
    "#Scale data\n",
    "sc = StandardScaler()\n",
    "X = sc.fit_transform(X)\n",
    "X"
   ]
  },
  {
   "cell_type": "code",
   "execution_count": null,
   "metadata": {},
   "outputs": [],
   "source": [
    "#Train and Test\n",
    "X_train, X_test, y_train, y_test = train_test_split(X, y, test_size=0.2)"
   ]
  },
  {
   "cell_type": "code",
   "execution_count": null,
   "metadata": {},
   "outputs": [],
   "source": [
    "#create NN\n",
    "classifier = Sequential()\n",
    "#First Hidden Layer\n",
    "classifier.add(Dense(119, activation='relu', kernel_initializer='random_normal', input_dim=119))\n",
    "#Second  Hidden Layer\n",
    "classifier.add(Dense(32, activation='relu', kernel_initializer='random_normal'))\n",
    "#Output Layer\n",
    "classifier.add(Dense(1, activation='sigmoid', kernel_initializer='random_normal'))"
   ]
  },
  {
   "cell_type": "code",
   "execution_count": null,
   "metadata": {},
   "outputs": [],
   "source": [
    "#Compiling the neural network\n",
    "classifier.compile(optimizer ='adam',loss='binary_crossentropy', metrics =['accuracy'])"
   ]
  },
  {
   "cell_type": "code",
   "execution_count": null,
   "metadata": {},
   "outputs": [],
   "source": [
    "#Fitting the data to the training dataset batch_size=10, \n",
    "history=classifier.fit(X_train,y_train, epochs=10)"
   ]
  },
  {
   "cell_type": "code",
   "execution_count": null,
   "metadata": {},
   "outputs": [],
   "source": [
    "eval_model=classifier.evaluate(X_train, y_train)\n",
    "eval_model\n",
    "\n",
    "print('Final test set loss: {:4f}'.format(eval_model[0]))\n",
    "print('Final test set accuracy: {:4f}'.format(eval_model[1]))"
   ]
  },
  {
   "cell_type": "code",
   "execution_count": null,
   "metadata": {},
   "outputs": [],
   "source": [
    "# summarize history for loss\n",
    "plt.plot(history.history['loss'])\n",
    "#plt.plot(history.history['val_loss'])\n",
    "plt.title('model loss')\n",
    "plt.ylabel('loss')\n",
    "plt.xlabel('epoch')\n",
    "plt.legend(['train', 'test'], loc='upper right')\n",
    "plt.show()"
   ]
  },
  {
   "cell_type": "code",
   "execution_count": null,
   "metadata": {},
   "outputs": [],
   "source": [
    "#Compare Predicted an Original\n",
    "ynew = classifier.predict_classes(X_test)\n",
    "correct = 0\n",
    "\n",
    "tot=len(ynew)\n",
    "aa=[x for x in range(tot)]\n",
    "\n",
    "plt.plot(aa, y_test, marker='.', label=\"actual\")\n",
    "plt.plot(aa, ynew, 'r', label=\"prediction\")\n",
    "plt.show()\n",
    "\n",
    "#print(y_test.data)\n",
    "#print(y_test[0:1].data)    "
   ]
  },
  {
   "cell_type": "code",
   "execution_count": null,
   "metadata": {},
   "outputs": [],
   "source": [
    "ynew = classifier.predict_classes(X_test)\n",
    "\n",
    "tot=len(ynew)\n",
    "\n",
    "aa=[x for x in range(tot)]\n",
    "\n",
    "plt.plot(aa, X_test[:tot], marker='.', label=\"actual\")\n",
    "plt.plot(aa, ynew[:tot], 'r', label=\"prediction\")\n",
    "plt.ylabel('Birds', size=20)\n",
    "plt.xlabel('Time step', size=20)\n",
    "plt.legend(fontsize=10)\n",
    "plt.show()"
   ]
  },
  {
   "cell_type": "code",
   "execution_count": null,
   "metadata": {},
   "outputs": [],
   "source": [
    "#j=i+1000\n",
    "    #print(i)\n",
    "    #print(j)\n",
    "        \n",
    "        \n",
    "#for i in range(3):\n",
    "#    p = multiprocessing.Process(target=create_tracks(0,1000))\n",
    "#    jobs.append(p)\n",
    "#    p.start()\n",
    "    \n",
    "#p = multiprocessing.Process(target=create_tracks(0,1000))\n",
    "#jobs.append(p)\n",
    "#p.start()\n",
    "\n",
    "#p = multiprocessing.Process(target=create_tracks(1000,2000))\n",
    "#jobs.append(p)\n",
    "#p.start()\n",
    "\n",
    "#p = multiprocessing.Process(target=create_tracks(2000,3000))\n",
    "#jobs.append(p)\n",
    "#p.start()\n",
    "\n",
    "#print(ttt.shape)\n",
    "#print(d.shape)\n",
    "#print(e.shape)\n",
    "#print(ttt)\n",
    "#len(c)\n",
    "\n",
    "#print(\"c\")\n",
    "#print(c)\n",
    "#tot=121-b.size\n",
    "#c = np.zeros((tot))\n",
    "#print(c)\n",
    "#print(c.size)\n",
    "#print(b.size)\n",
    "#t=c.size+b.size\n",
    "#print(t)\n",
    "#tot=np.concatenate((b, c))\n",
    "#print(tot.size)\n",
    "#print(tot)\n",
    "\n",
    "#for cell in b:\n",
    "#    print(cell, end=' ')\n",
    "#print(X.shape)\n",
    "#print(X)\n",
    "#print(cols)"
   ]
  },
  {
   "cell_type": "code",
   "execution_count": null,
   "metadata": {},
   "outputs": [],
   "source": []
  },
  {
   "cell_type": "code",
   "execution_count": null,
   "metadata": {},
   "outputs": [],
   "source": []
  },
  {
   "cell_type": "code",
   "execution_count": null,
   "metadata": {},
   "outputs": [],
   "source": []
  },
  {
   "cell_type": "code",
   "execution_count": null,
   "metadata": {},
   "outputs": [],
   "source": []
  }
 ],
 "metadata": {
  "kernelspec": {
   "display_name": "Python 3",
   "language": "python",
   "name": "python3"
  },
  "language_info": {
   "codemirror_mode": {
    "name": "ipython",
    "version": 3
   },
   "file_extension": ".py",
   "mimetype": "text/x-python",
   "name": "python",
   "nbconvert_exporter": "python",
   "pygments_lexer": "ipython3",
   "version": "3.6.8"
  }
 },
 "nbformat": 4,
 "nbformat_minor": 2
}
